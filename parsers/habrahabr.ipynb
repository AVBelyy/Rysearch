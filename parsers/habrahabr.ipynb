{
 "cells": [
  {
   "cell_type": "markdown",
   "metadata": {},
   "source": [
    "### Парсер Постнауки"
   ]
  },
  {
   "cell_type": "code",
   "execution_count": 1,
   "metadata": {
    "collapsed": true
   },
   "outputs": [],
   "source": [
    "%reload_ext autoreload\n",
    "%autoreload 2"
   ]
  },
  {
   "cell_type": "code",
   "execution_count": 2,
   "metadata": {
    "collapsed": true
   },
   "outputs": [],
   "source": [
    "import bson"
   ]
  },
  {
   "cell_type": "code",
   "execution_count": 3,
   "metadata": {
    "collapsed": true
   },
   "outputs": [],
   "source": [
    "from text_utils import BaseSource, BaseProcessor, BaseSink\n",
    "from text_utils import DefaultTextProcessor, DefaultDocumentProcessor, DefaultCollectionProcessor\n",
    "from text_utils import UciBowSink, MongoDbSink"
   ]
  },
  {
   "cell_type": "code",
   "execution_count": 4,
   "metadata": {
    "collapsed": true
   },
   "outputs": [],
   "source": [
    "from sklearn.pipeline import Pipeline\n",
    "from ipywidgets import FloatProgress\n",
    "from IPython.display import display\n",
    "from pathlib import Path"
   ]
  },
  {
   "cell_type": "markdown",
   "metadata": {},
   "source": [
    "Определим пайплайн всей коллекции Хабрахабра из BSON-дампа (`HabrahabrCollectionSource`, `HabrahabrCollectionProcessor`)."
   ]
  },
  {
   "cell_type": "code",
   "execution_count": 5,
   "metadata": {
    "collapsed": false
   },
   "outputs": [],
   "source": [
    "class HabrahabrCollectionSource(BaseSource):\n",
    "    def fit(self, root_path, *args):\n",
    "        stop_words = (root_path / \"stopwords.txt\").open().read().split()\n",
    "        self.root_path = root_path\n",
    "        self.bson_file = (root_path / \"habrahabr.bson\").open(\"rb\")\n",
    "        self.doc_pipeline = Pipeline([\n",
    "            (\"text-processor\",     DefaultTextProcessor()),\n",
    "            (\"document-processor\", DefaultDocumentProcessor(stop_lemmas=stop_words)),\n",
    "        ])\n",
    "        # Save source state\n",
    "        self.vocab_file = (root_path / \"vocab.pn.txt\").open(\"w\")\n",
    "        self.docword_file = (root_path / \"docword.pn.txt\").open(\"w\")\n",
    "        return self"
   ]
  },
  {
   "cell_type": "code",
   "execution_count": 10,
   "metadata": {
    "collapsed": false
   },
   "outputs": [],
   "source": [
    "class HabrahabrCollectionProcessor(BaseProcessor):\n",
    "    def transform(self, src, *args):\n",
    "        docs = []\n",
    "        for doc_id, bson_doc in enumerate(bson.decode_file_iter(src.bson_file)):\n",
    "            if bson_doc[\"company_blog\"] is None:\n",
    "                doc = {}\n",
    "                doc[\"title\"] = bson_doc[\"title\"]\n",
    "                doc[\"url\"] = bson_doc[\"url\"]\n",
    "                doc[\"modalities\"] = src.doc_pipeline.fit_transform(bson_doc[\"content_html\"])\n",
    "                doc[\"modalities\"][\"flat_tag\"] = bson_doc[\"tags\"]\n",
    "                doc[\"modalities\"][\"authors\"] = [bson_doc[\"author_user\"]]\n",
    "                doc[\"modalities\"][\"hubs\"] = bson_doc[\"hubs\"]\n",
    "                doc[\"markdown\"] = bson_doc[\"content_html\"]\n",
    "                doc[\"doc_id\"] = doc_id + 1\n",
    "                docs.append(doc)\n",
    "        docs = DefaultCollectionProcessor(min_len=1, min_df=2).fit_transform(docs)\n",
    "        # Save Markdown texts in MongoDB\n",
    "        MongoDbSink(\"habrahabr\", id_func=lambda doc: \"habr_%d\" % doc[\"doc_id\"]).fit_transform(docs)\n",
    "        # Save collection UCI BOW format\n",
    "        UciBowSink(src.vocab_file, src.docword_file).fit_transform(docs)"
   ]
  },
  {
   "cell_type": "markdown",
   "metadata": {},
   "source": [
    "Построим парсер Хабрахабра из пайплайна, определенного выше."
   ]
  },
  {
   "cell_type": "code",
   "execution_count": 11,
   "metadata": {
    "collapsed": true
   },
   "outputs": [],
   "source": [
    "habrahabr_parser = Pipeline([\n",
    "    (\"take-root-path\",         HabrahabrCollectionSource()),\n",
    "    (\"process-the-collection\", HabrahabrCollectionProcessor()),\n",
    "])"
   ]
  },
  {
   "cell_type": "markdown",
   "metadata": {},
   "source": [
    "Запустим парсер."
   ]
  },
  {
   "cell_type": "code",
   "execution_count": 12,
   "metadata": {
    "collapsed": true
   },
   "outputs": [],
   "source": [
    "root_path = Path(\"../datasets/habrahabr\")"
   ]
  },
  {
   "cell_type": "code",
   "execution_count": null,
   "metadata": {
    "collapsed": false
   },
   "outputs": [],
   "source": [
    "%%time\n",
    "\n",
    "habrahabr_parser.fit_transform(root_path)"
   ]
  },
  {
   "cell_type": "markdown",
   "metadata": {},
   "source": [
    "---"
   ]
  }
 ],
 "metadata": {
  "kernelspec": {
   "display_name": "Python 3",
   "language": "python",
   "name": "python3"
  },
  "language_info": {
   "codemirror_mode": {
    "name": "ipython",
    "version": 3
   },
   "file_extension": ".py",
   "mimetype": "text/x-python",
   "name": "python",
   "nbconvert_exporter": "python",
   "pygments_lexer": "ipython3",
   "version": "3.5.2"
  },
  "latex_envs": {
   "bibliofile": "biblio.bib",
   "cite_by": "apalike",
   "current_citInitial": 1,
   "eqLabelWithNumbers": true,
   "eqNumInitial": 0
  }
 },
 "nbformat": 4,
 "nbformat_minor": 0
}
