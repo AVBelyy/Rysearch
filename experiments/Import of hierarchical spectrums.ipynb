{
 "cells": [
  {
   "cell_type": "code",
   "execution_count": 14,
   "metadata": {
    "collapsed": true
   },
   "outputs": [],
   "source": [
    "import warnings\n",
    "warnings.filterwarnings(\"ignore\", category=DeprecationWarning)"
   ]
  },
  {
   "cell_type": "code",
   "execution_count": 15,
   "metadata": {
    "collapsed": false,
    "deletable": true,
    "editable": true
   },
   "outputs": [],
   "source": [
    "import pickle\n",
    "import hierarchy_utils"
   ]
  },
  {
   "cell_type": "code",
   "execution_count": 44,
   "metadata": {
    "collapsed": true
   },
   "outputs": [],
   "source": [
    "MODEL_PATH = \"hartm\"\n",
    "artm_extra_info = pickle.load(open(MODEL_PATH + \"/extra_info.dump\", \"rb\"))"
   ]
  },
  {
   "cell_type": "code",
   "execution_count": 38,
   "metadata": {
    "collapsed": false
   },
   "outputs": [],
   "source": [
    "artm_extra_info[\"spectrums\"] = [dump]"
   ]
  },
  {
   "cell_type": "code",
   "execution_count": 43,
   "metadata": {
    "collapsed": false
   },
   "outputs": [],
   "source": [
    "pickle.dump(artm_extra_info, open(MODEL_PATH + \"/extra_info.dump\", \"wb\"))"
   ]
  },
  {
   "cell_type": "code",
   "execution_count": 12,
   "metadata": {
    "collapsed": false
   },
   "outputs": [
    {
     "name": "stderr",
     "output_type": "stream",
     "text": [
      "/nix/store/r7qpc32yr09l9a0d5y3b8i84kw5phx4p-python3-3.5.3/lib/python3.5/json/encoder.py:198: DeprecationWarning: Interpreting naive datetime as local 2017-07-21 13:38:03.234389. Please add timezone info to timestamps.\n",
      "  chunks = self.iterencode(o, _one_shot=True)\n"
     ]
    }
   ],
   "source": [
    "artm_model = hierarchy_utils.hARTM(theta_columns_naming=\"title\",\n",
    "                                   cache_theta=True,\n",
    "                                   class_ids=artm_extra_info[\"class_ids\"])\n",
    "artm_model.load(MODEL_PATH)"
   ]
  },
  {
   "cell_type": "code",
   "execution_count": 16,
   "metadata": {
    "collapsed": false,
    "deletable": true,
    "editable": true
   },
   "outputs": [],
   "source": [
    "dump = pickle.load(open(\"flat_spectrum.dump\", \"rb\"))"
   ]
  },
  {
   "cell_type": "code",
   "execution_count": 18,
   "metadata": {
    "collapsed": true
   },
   "outputs": [],
   "source": [
    "phi0 = artm_model._levels[0].get_phi()"
   ]
  },
  {
   "cell_type": "code",
   "execution_count": 29,
   "metadata": {
    "collapsed": false
   },
   "outputs": [],
   "source": [
    "topics_names = {}\n",
    "for t in phi0.columns:\n",
    "    topics_names[\"level_0_\" + t] = list(phi0[t].sort_values(ascending=False)[:3].index)"
   ]
  },
  {
   "cell_type": "code",
   "execution_count": 33,
   "metadata": {
    "collapsed": false,
    "deletable": true,
    "editable": true
   },
   "outputs": [
    {
     "name": "stdout",
     "output_type": "stream",
     "text": [
      "level_0_topic_13 \t химия, нанотехнологии, материаловедение\n",
      "level_0_topic_5 \t астрономия, астрофизика, вселенная\n",
      "level_0_topic_11 \t физика, физика_элементарных_частиц, квантовая_физика\n",
      "level_0_topic_15 \t математика, информационные_технологии, технологии\n",
      "level_0_topic_10 \t палеонтология, биохимия, стволовые_клетки\n",
      "level_0_topic_2 \t информационная_безопасность, копирайт, будущее\n",
      "level_0_topic_16 \t средневековье, мифология, биоинформатика\n",
      "level_0_topic_4 \t история, история_россии, ссср\n",
      "level_0_topic_8 \t общество, экономика, россия\n",
      "level_0_topic_0 \t философия, россия, география\n",
      "level_0_topic_3 \t культура, литература, культурология\n",
      "level_0_topic_6 \t лингвистика, язык, право\n",
      "level_0_topic_7 \t социология, социология_повседневности, дюркгейм_эмиль\n",
      "level_0_topic_12 \t наука, управление_проектами, работа\n",
      "level_0_topic_14 \t образование, университет, школа\n",
      "level_0_topic_9 \t психология, люди_науки, история_науки\n",
      "level_0_topic_18 \t мозг, нейробиология, искусственный_интеллект\n",
      "level_0_topic_17 \t экология, зоология, этология\n",
      "level_0_topic_1 \t медицина, эволюция, антропология\n"
     ]
    }
   ],
   "source": [
    "for topic_id in dump:\n",
    "    print(topic_id, \"\\t\", \", \".join(topics_names[topic_id]))"
   ]
  },
  {
   "cell_type": "markdown",
   "metadata": {
    "deletable": true,
    "editable": true
   },
   "source": [
    "---"
   ]
  }
 ],
 "metadata": {
  "kernelspec": {
   "display_name": "Python 3",
   "language": "python",
   "name": "python3"
  },
  "language_info": {
   "codemirror_mode": {
    "name": "ipython",
    "version": 3
   },
   "file_extension": ".py",
   "mimetype": "text/x-python",
   "name": "python",
   "nbconvert_exporter": "python",
   "pygments_lexer": "ipython3",
   "version": "3.5.3"
  },
  "latex_envs": {
   "bibliofile": "biblio.bib",
   "cite_by": "apalike",
   "current_citInitial": 1,
   "eqLabelWithNumbers": true,
   "eqNumInitial": 0
  }
 },
 "nbformat": 4,
 "nbformat_minor": 2
}
