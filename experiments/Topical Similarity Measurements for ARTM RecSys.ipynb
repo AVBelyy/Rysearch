{
 "cells": [
  {
   "cell_type": "markdown",
   "metadata": {},
   "source": [
    "# Анализ разных метрик тематической близости документов"
   ]
  },
  {
   "cell_type": "code",
   "execution_count": 1,
   "metadata": {
    "collapsed": false
   },
   "outputs": [],
   "source": [
    "import pickle\n",
    "import numpy as np\n",
    "import pandas as pd"
   ]
  },
  {
   "cell_type": "code",
   "execution_count": 2,
   "metadata": {
    "collapsed": true
   },
   "outputs": [],
   "source": [
    "from scipy.linalg import norm\n",
    "from scipy.stats import entropy\n",
    "from pymongo import MongoClient\n",
    "from sklearn.metrics.pairwise import pairwise_distances, cosine_similarity"
   ]
  },
  {
   "cell_type": "code",
   "execution_count": 3,
   "metadata": {
    "collapsed": true
   },
   "outputs": [],
   "source": [
    "client = MongoClient()\n",
    "collection = client[\"datasets\"][\"postnauka\"]"
   ]
  },
  {
   "cell_type": "code",
   "execution_count": 4,
   "metadata": {
    "collapsed": false
   },
   "outputs": [],
   "source": [
    "def t(doc_id):\n",
    "    return collection.find_one(\"pn_%d\" % doc_id)[\"title\"]"
   ]
  },
  {
   "cell_type": "code",
   "execution_count": 5,
   "metadata": {
    "collapsed": false
   },
   "outputs": [],
   "source": [
    "artm_model = pickle.load(open(\"../server/hartm.mdl\", \"rb\"))"
   ]
  },
  {
   "cell_type": "code",
   "execution_count": 6,
   "metadata": {
    "collapsed": false
   },
   "outputs": [
    {
     "data": {
      "text/plain": [
       "(110, 3446)"
      ]
     },
     "execution_count": 6,
     "metadata": {},
     "output_type": "execute_result"
    }
   ],
   "source": [
    "artm_model[\"theta\"].shape"
   ]
  },
  {
   "cell_type": "code",
   "execution_count": 7,
   "metadata": {
    "collapsed": true
   },
   "outputs": [],
   "source": [
    "theta_lvl0 = artm_model[\"theta\"][:10].T"
   ]
  },
  {
   "cell_type": "code",
   "execution_count": 8,
   "metadata": {
    "collapsed": true
   },
   "outputs": [],
   "source": [
    "theta_lvl1 = artm_model[\"theta\"][10:-70].T"
   ]
  },
  {
   "cell_type": "code",
   "execution_count": 9,
   "metadata": {
    "collapsed": false
   },
   "outputs": [],
   "source": [
    "theta_lvl2 = artm_model[\"theta\"][-70:].T"
   ]
  },
  {
   "cell_type": "markdown",
   "metadata": {},
   "source": [
    "## Близость тематических профилей (косинусная мера)"
   ]
  },
  {
   "cell_type": "code",
   "execution_count": 10,
   "metadata": {
    "collapsed": true
   },
   "outputs": [],
   "source": [
    "doc_id = 3123"
   ]
  },
  {
   "cell_type": "code",
   "execution_count": 11,
   "metadata": {
    "collapsed": true
   },
   "outputs": [],
   "source": [
    "# Первый уровень"
   ]
  },
  {
   "cell_type": "code",
   "execution_count": 12,
   "metadata": {
    "collapsed": false,
    "scrolled": false
   },
   "outputs": [
    {
     "name": "stdout",
     "output_type": "stream",
     "text": [
      "> Математические методы прогнозирования объемов продаж (doc_id=3123)\n",
      "\n",
      "Top-5 similar (p(t|d) cosine similarity) documents:\n",
      "1. Главы | Закономерности простых чисел. Гипотеза Римана (doc_id=2109, p=0.9985)\n",
      "2. По шагам | Теория принятия решений (doc_id=3423, p=0.9976)\n",
      "3. 5 книг о поведенческой экономике (doc_id=3344, p=0.9965)\n",
      "4. Психология создания трудностей и проблем (doc_id=2988, p=0.9949)\n",
      "5. Что такое «робот»? (doc_id=2296, p=0.9943)\n",
      "6. Курс «Теория принятия решений: математические модели выбора» (doc_id=3181, p=0.9939)\n",
      "7. Задачи и проблемы в мышлении (doc_id=1665, p=0.9936)\n",
      "8. Эмоциональные вычисления (doc_id=2295, p=0.9933)\n",
      "9. Марвин Мински и эмоциональные машины (doc_id=3069, p=0.9928)\n",
      "10. Дэвид Вернон: «То, что мы называем искусственным интеллектом, им не является» (doc_id=2256, p=0.9927)\n"
     ]
    }
   ],
   "source": [
    "theta_lvl = theta_lvl0.sort_index()\n",
    "print(\"> %s (doc_id=%d)\\n\" % (t(doc_id), doc_id))\n",
    "sim_matrix = cosine_similarity([theta_lvl.loc[doc_id]], theta_lvl)\n",
    "print(\"Top-5 similar (p(t|d) cosine similarity) documents:\")\n",
    "for rid, (prob, sim_doc_id) in enumerate(zip(np.sort(sim_matrix)[0, -11:-1][::-1], np.argsort(sim_matrix)[0, -11:-1][::-1])):\n",
    "    print(\"%d. %s (doc_id=%d, p=%.4f)\" % (rid + 1, t(sim_doc_id + 1), sim_doc_id + 1, prob))"
   ]
  },
  {
   "cell_type": "markdown",
   "metadata": {},
   "source": [
    "## Близость тематических профилей (KL-дивергенция)"
   ]
  },
  {
   "cell_type": "code",
   "execution_count": 13,
   "metadata": {
    "collapsed": true
   },
   "outputs": [],
   "source": [
    "doc_id = 3123"
   ]
  },
  {
   "cell_type": "code",
   "execution_count": 14,
   "metadata": {
    "collapsed": true
   },
   "outputs": [],
   "source": [
    "def sym_kl(p, q):\n",
    "    return entropy(p, q) + entropy(q, p)"
   ]
  },
  {
   "cell_type": "code",
   "execution_count": 15,
   "metadata": {
    "collapsed": true
   },
   "outputs": [],
   "source": [
    "# Первый уровень"
   ]
  },
  {
   "cell_type": "code",
   "execution_count": 16,
   "metadata": {
    "collapsed": false
   },
   "outputs": [
    {
     "name": "stdout",
     "output_type": "stream",
     "text": [
      "> Математические методы прогнозирования объемов продаж (doc_id=3123)\n",
      "\n",
      "Top-10 similar (p(t|d) symmetric KL-divergence) documents:\n",
      "1. Главы | Закономерности простых чисел. Гипотеза Римана (doc_id=2109, p=0.0967)\n",
      "2. Главы | Методы измерения данных (doc_id=1051, p=0.1277)\n",
      "3. Марвин Мински и эмоциональные машины (doc_id=3069, p=0.1452)\n",
      "4. Построение сложных вероятностных моделей (doc_id=2892, p=0.1529)\n",
      "5. Эмоциональные вычисления (doc_id=2295, p=0.1542)\n",
      "6. Психология создания трудностей и проблем (doc_id=2988, p=0.1583)\n",
      "7. FAQ: Компьютерные доказательства (doc_id=1121, p=0.1693)\n",
      "8. 5 книг о поведенческой экономике (doc_id=3344, p=0.2286)\n",
      "9. По шагам | Теория принятия решений (doc_id=3423, p=0.2335)\n",
      "10. Исследования мышления в когнитивной психологии (doc_id=2947, p=0.2378)\n",
      "CPU times: user 64 ms, sys: 28 ms, total: 92 ms\n",
      "Wall time: 290 ms\n"
     ]
    }
   ],
   "source": [
    "%%time\n",
    "\n",
    "theta_lvl = theta_lvl0.sort_index()\n",
    "print(\"> %s (doc_id=%d)\\n\" % (t(doc_id), doc_id))\n",
    "sim_matrix = pairwise_distances([theta_lvl.loc[doc_id]], theta_lvl, sym_kl, n_jobs=-1)\n",
    "print(\"Top-10 similar (p(t|d) symmetric KL-divergence) documents:\")\n",
    "for rid, (prob, sim_doc_id) in enumerate(zip(np.sort(sim_matrix)[0, 1:11], np.argsort(sim_matrix)[0, 1:11])):\n",
    "    print(\"%d. %s (doc_id=%d, p=%.4f)\" % (rid + 1, t(sim_doc_id + 1), sim_doc_id + 1, prob))"
   ]
  },
  {
   "cell_type": "markdown",
   "metadata": {},
   "source": [
    "## Близость тематических профилей (расстояние Хеллингера)"
   ]
  },
  {
   "cell_type": "code",
   "execution_count": 17,
   "metadata": {
    "collapsed": true
   },
   "outputs": [],
   "source": [
    "doc_id = 3123"
   ]
  },
  {
   "cell_type": "code",
   "execution_count": 18,
   "metadata": {
    "collapsed": true
   },
   "outputs": [],
   "source": [
    "def hellinger_dist(p, q):\n",
    "    return norm(np.sqrt(p) - np.sqrt(q))"
   ]
  },
  {
   "cell_type": "code",
   "execution_count": 19,
   "metadata": {
    "collapsed": true
   },
   "outputs": [],
   "source": [
    "# Первый уровень"
   ]
  },
  {
   "cell_type": "code",
   "execution_count": 20,
   "metadata": {
    "collapsed": false
   },
   "outputs": [
    {
     "name": "stdout",
     "output_type": "stream",
     "text": [
      "> Математические методы прогнозирования объемов продаж (doc_id=3123)\n",
      "\n",
      "Top-10 similar (p(t|d) hellinger distance) documents:\n",
      "1. Главы | Закономерности простых чисел. Гипотеза Римана (doc_id=2109, p=0.1408)\n",
      "2. Главы | Методы измерения данных (doc_id=1051, p=0.1643)\n",
      "3. Психология создания трудностей и проблем (doc_id=2988, p=0.1798)\n",
      "4. Построение сложных вероятностных моделей (doc_id=2892, p=0.1827)\n",
      "5. Марвин Мински и эмоциональные машины (doc_id=3069, p=0.1861)\n",
      "6. Эмоциональные вычисления (doc_id=2295, p=0.1918)\n",
      "7. FAQ: Компьютерные доказательства (doc_id=1121, p=0.1927)\n",
      "8. По шагам | Теория принятия решений (doc_id=3423, p=0.2098)\n",
      "9. 5 книг о поведенческой экономике (doc_id=3344, p=0.2142)\n",
      "10. «Разработка операционной системы рыночного уровня должна укладываться в 1 млрд долларов» (doc_id=1734, p=0.2190)\n"
     ]
    }
   ],
   "source": [
    "theta_lvl = theta_lvl0.sort_index()\n",
    "print(\"> %s (doc_id=%d)\\n\" % (t(doc_id), doc_id))\n",
    "sim_matrix = pairwise_distances([theta_lvl.loc[doc_id]], theta_lvl, hellinger_dist)\n",
    "print(\"Top-10 similar (p(t|d) hellinger distance) documents:\")\n",
    "for rid, (prob, sim_doc_id) in enumerate(zip(np.sort(sim_matrix)[0, 1:11], np.argsort(sim_matrix)[0, 1:11])):\n",
    "    print(\"%d. %s (doc_id=%d, p=%.4f)\" % (rid + 1, t(sim_doc_id + 1), sim_doc_id + 1, prob))"
   ]
  },
  {
   "cell_type": "markdown",
   "metadata": {},
   "source": [
    "## Анализ тематических профилей"
   ]
  },
  {
   "cell_type": "code",
   "execution_count": 21,
   "metadata": {
    "collapsed": false
   },
   "outputs": [],
   "source": [
    "theta_lvl = theta_lvl1.sort_index()"
   ]
  },
  {
   "cell_type": "code",
   "execution_count": 22,
   "metadata": {
    "collapsed": false
   },
   "outputs": [
    {
     "data": {
      "text/plain": [
       "level1_topic_0     0.006610\n",
       "level1_topic_1     0.000028\n",
       "level1_topic_2     0.000386\n",
       "level1_topic_3     0.000023\n",
       "level1_topic_4     0.009620\n",
       "level1_topic_5     0.001744\n",
       "level1_topic_6     0.026533\n",
       "level1_topic_7     0.000150\n",
       "level1_topic_8     0.048912\n",
       "level1_topic_9     0.000553\n",
       "level1_topic_10    0.000025\n",
       "level1_topic_11    0.000033\n",
       "level1_topic_12    0.001444\n",
       "level1_topic_13    0.000027\n",
       "level1_topic_14    0.000031\n",
       "level1_topic_15    0.033075\n",
       "level1_topic_16    0.280329\n",
       "level1_topic_17    0.051039\n",
       "level1_topic_18    0.302440\n",
       "level1_topic_19    0.153228\n",
       "level1_topic_20    0.000022\n",
       "level1_topic_21    0.000023\n",
       "level1_topic_22    0.027129\n",
       "level1_topic_23    0.027075\n",
       "level1_topic_24    0.006719\n",
       "level1_topic_25    0.000036\n",
       "level1_topic_26    0.009875\n",
       "level1_topic_27    0.000219\n",
       "level1_topic_28    0.004038\n",
       "level1_topic_29    0.008635\n",
       "Name: 3123, dtype: float32"
      ]
     },
     "execution_count": 22,
     "metadata": {},
     "output_type": "execute_result"
    }
   ],
   "source": [
    "theta_lvl.loc[3123]"
   ]
  },
  {
   "cell_type": "code",
   "execution_count": 23,
   "metadata": {
    "collapsed": false
   },
   "outputs": [
    {
     "data": {
      "text/plain": [
       "level1_topic_0     0.009424\n",
       "level1_topic_1     0.000032\n",
       "level1_topic_2     0.001288\n",
       "level1_topic_3     0.000033\n",
       "level1_topic_4     0.017803\n",
       "level1_topic_5     0.002538\n",
       "level1_topic_6     0.008913\n",
       "level1_topic_7     0.000083\n",
       "level1_topic_8     0.053283\n",
       "level1_topic_9     0.001030\n",
       "level1_topic_10    0.003718\n",
       "level1_topic_11    0.000185\n",
       "level1_topic_12    0.000032\n",
       "level1_topic_13    0.000021\n",
       "level1_topic_14    0.001256\n",
       "level1_topic_15    0.027246\n",
       "level1_topic_16    0.258919\n",
       "level1_topic_17    0.028847\n",
       "level1_topic_18    0.353488\n",
       "level1_topic_19    0.153007\n",
       "level1_topic_20    0.000026\n",
       "level1_topic_21    0.000025\n",
       "level1_topic_22    0.005661\n",
       "level1_topic_23    0.032550\n",
       "level1_topic_24    0.013211\n",
       "level1_topic_25    0.000029\n",
       "level1_topic_26    0.012926\n",
       "level1_topic_27    0.002171\n",
       "level1_topic_28    0.006999\n",
       "level1_topic_29    0.005257\n",
       "Name: 2257, dtype: float32"
      ]
     },
     "execution_count": 23,
     "metadata": {},
     "output_type": "execute_result"
    }
   ],
   "source": [
    "theta_lvl.loc[2257]"
   ]
  },
  {
   "cell_type": "code",
   "execution_count": 24,
   "metadata": {
    "collapsed": false
   },
   "outputs": [
    {
     "data": {
      "text/plain": [
       "level1_topic_0     0.010725\n",
       "level1_topic_1     0.000212\n",
       "level1_topic_2     0.000017\n",
       "level1_topic_3     0.000021\n",
       "level1_topic_4     0.019576\n",
       "level1_topic_5     0.007783\n",
       "level1_topic_6     0.001676\n",
       "level1_topic_7     0.002375\n",
       "level1_topic_8     0.013219\n",
       "level1_topic_9     0.000790\n",
       "level1_topic_10    0.000021\n",
       "level1_topic_11    0.000479\n",
       "level1_topic_12    0.001415\n",
       "level1_topic_13    0.000022\n",
       "level1_topic_14    0.000086\n",
       "level1_topic_15    0.124689\n",
       "level1_topic_16    0.253682\n",
       "level1_topic_17    0.022450\n",
       "level1_topic_18    0.295885\n",
       "level1_topic_19    0.126896\n",
       "level1_topic_20    0.000022\n",
       "level1_topic_21    0.000712\n",
       "level1_topic_22    0.000017\n",
       "level1_topic_23    0.039969\n",
       "level1_topic_24    0.023700\n",
       "level1_topic_25    0.001273\n",
       "level1_topic_26    0.008254\n",
       "level1_topic_27    0.005643\n",
       "level1_topic_28    0.017148\n",
       "level1_topic_29    0.021242\n",
       "Name: 1734, dtype: float32"
      ]
     },
     "execution_count": 24,
     "metadata": {},
     "output_type": "execute_result"
    }
   ],
   "source": [
    "theta_lvl.loc[1734]"
   ]
  },
  {
   "cell_type": "markdown",
   "metadata": {},
   "source": [
    "---"
   ]
  }
 ],
 "metadata": {
  "kernelspec": {
   "display_name": "Python 3",
   "language": "python",
   "name": "python3"
  },
  "language_info": {
   "codemirror_mode": {
    "name": "ipython",
    "version": 3
   },
   "file_extension": ".py",
   "mimetype": "text/x-python",
   "name": "python",
   "nbconvert_exporter": "python",
   "pygments_lexer": "ipython3",
   "version": "3.5.2"
  },
  "latex_envs": {
   "bibliofile": "biblio.bib",
   "cite_by": "apalike",
   "current_citInitial": 1,
   "eqLabelWithNumbers": true,
   "eqNumInitial": 0
  }
 },
 "nbformat": 4,
 "nbformat_minor": 0
}
