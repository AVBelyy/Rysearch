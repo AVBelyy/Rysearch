{
 "cells": [
  {
   "cell_type": "markdown",
   "metadata": {
    "deletable": true,
    "editable": true
   },
   "source": [
    "# Эксперимент по вливанию коллекции в тематическую модель"
   ]
  },
  {
   "cell_type": "markdown",
   "metadata": {
    "deletable": true,
    "editable": true
   },
   "source": [
    "## TL;DR:\n",
    "* Реализован алгоритм итеративного доливания 20000 документов Habrahabr в ТМ Постнауки;\n",
    "* Как и в базовом, так и в предлагаемом алгоритме построена плоская ARTM-модель, состоящая из 19 предметных и 1 фоновой темы;\n",
    "* Модель предлагаемого алгоритма имеет более высокую среднюю когерентность, чем модель базового алгоритма (0.95 против 0.8);\n",
    "    - Кроме того, количество «подпорченных» Habrahabr'ом тем в первом случае почти в 3 раза меньше, чем во втором (4 против 11);\n",
    "* Дополнительно, предлагаемый алгоритм был опробован с использованием ранжирования документов по «релевантности» и без него.\n",
    "    - Эксперимент показал, что ранжирование улучшает качество модели в терминах когерентности (0.95 против 0.92) и количества «подпорченных» тем (4 против 6)."
   ]
  },
  {
   "cell_type": "markdown",
   "metadata": {
    "deletable": true,
    "editable": true
   },
   "source": [
    "## Исходный код"
   ]
  },
  {
   "cell_type": "code",
   "execution_count": 1,
   "metadata": {
    "collapsed": false,
    "deletable": true,
    "editable": true
   },
   "outputs": [],
   "source": [
    "%matplotlib inline\n",
    "import os\n",
    "import sys\n",
    "import glob\n",
    "import json\n",
    "import urllib\n",
    "import pymongo\n",
    "import itertools\n",
    "import numpy as np\n",
    "import pandas as pd\n",
    "import matplotlib.pyplot as plt"
   ]
  },
  {
   "cell_type": "code",
   "execution_count": 4,
   "metadata": {
    "collapsed": true,
    "deletable": true,
    "editable": true
   },
   "outputs": [],
   "source": [
    "import warnings\n",
    "warnings.filterwarnings(\"ignore\", category=DeprecationWarning)"
   ]
  },
  {
   "cell_type": "code",
   "execution_count": 5,
   "metadata": {
    "collapsed": false,
    "deletable": true,
    "editable": true
   },
   "outputs": [],
   "source": [
    "import artm\n",
    "import hierarchy_utils"
   ]
  },
  {
   "cell_type": "code",
   "execution_count": 6,
   "metadata": {
    "collapsed": false,
    "deletable": true,
    "editable": true
   },
   "outputs": [],
   "source": [
    "db = pymongo.MongoClient()[\"datasets\"]"
   ]
  },
  {
   "cell_type": "code",
   "execution_count": 7,
   "metadata": {
    "collapsed": true,
    "deletable": true,
    "editable": true
   },
   "outputs": [],
   "source": [
    "prefix_to_col_map = {\"pn\": \"postnauka\", \"habr\": \"habrahabr\"}\n",
    "\n",
    "def get_document(doc_id, with_markdown=False):\n",
    "    fields = {\"_id\": 1, \"title\": 1, \"modalities\": 1}\n",
    "    if with_markdown:\n",
    "        fields[\"markdown\"] = 1\n",
    "    prefix, _ = doc_id.split(\"_\", 1)\n",
    "    col_name = prefix_to_col_map[prefix]\n",
    "    return db[col_name].find_one({\"_id\": doc_id}, fields)"
   ]
  },
  {
   "cell_type": "code",
   "execution_count": 8,
   "metadata": {
    "collapsed": false,
    "deletable": true,
    "editable": true
   },
   "outputs": [],
   "source": [
    "# Шаг 1 -- получение ранжированного списка документов для доливания\n",
    "\n",
    "reduced_dataset = True\n",
    "shuffled_dataset = False\n",
    "\n",
    "docs_ids = list(map(lambda r: r[\"_id\"], db[\"postnauka\"].find({}, {\"_id\": 1})))\n",
    "\n",
    "D_a = len(docs_ids)\n",
    "\n",
    "clf_output = pd.read_csv(\"classifier_output.csv\")\n",
    "clf_output.columns = [\"id\", \"proba\"]\n",
    "clf_output = clf_output.set_index(\"id\")[\"proba\"]\n",
    "clf_output = clf_output[clf_output > 0.5]\n",
    "\n",
    "if reduced_dataset:\n",
    "    reduced_docs_ids = list(map(str.strip, open(\"reduced_habr_docs_ids.txt\")))\n",
    "    clf_output = clf_output.loc[reduced_docs_ids].dropna().sort_values(ascending=False)\n",
    "if shuffled_dataset:\n",
    "    np.random.seed(42)\n",
    "    clf_output = clf_output.sample(frac=1)\n",
    "\n",
    "docs_ids += list(clf_output.index)\n",
    "\n",
    "D_b = len(docs_ids) - D_a"
   ]
  },
  {
   "cell_type": "code",
   "execution_count": 9,
   "metadata": {
    "collapsed": false,
    "deletable": true,
    "editable": true
   },
   "outputs": [
    {
     "data": {
      "text/plain": [
       "(2976, 4852)"
      ]
     },
     "execution_count": 9,
     "metadata": {},
     "output_type": "execute_result"
    }
   ],
   "source": [
    "D_a, D_b"
   ]
  },
  {
   "cell_type": "code",
   "execution_count": 10,
   "metadata": {
    "collapsed": false,
    "deletable": true,
    "editable": true
   },
   "outputs": [],
   "source": [
    "# Шаг 2а -- разбиение списка на батчи для итеративного доливания\n",
    "\n",
    "# Будем пользоваться законом сложного процента: размер i-ого батча будет считаться как размер (i-1)-ого батча + p%.\n",
    "# Тогда количество итераций n, необходимых для вливания коллекции размера D_b в коллекцию размера D_a, удовлетворяет:\n",
    "# D_a * (1 + p)^n = D_a + D_b\n",
    "# n = ln((D_a + D_b) / D_a) / ln(1 + p)\n",
    "\n",
    "p = 0.1\n",
    "batches = [docs_ids[:D_a]]\n",
    "batch_pos = D_a\n",
    "\n",
    "while batch_pos < len(docs_ids):\n",
    "    new_batch_pos = int((1 + p) * batch_pos)\n",
    "    batch = docs_ids[batch_pos:new_batch_pos]\n",
    "    batches.append(batch)\n",
    "    batch_pos = new_batch_pos"
   ]
  },
  {
   "cell_type": "code",
   "execution_count": 11,
   "metadata": {
    "collapsed": true,
    "deletable": true,
    "editable": true
   },
   "outputs": [],
   "source": [
    "# Шаг 2б -- склеивание всей коллекции в один батч\n",
    "\n",
    "batches = [docs_ids]"
   ]
  },
  {
   "cell_type": "code",
   "execution_count": 11,
   "metadata": {
    "collapsed": false,
    "deletable": true,
    "editable": true
   },
   "outputs": [
    {
     "data": {
      "text/plain": [
       "(12, 7828)"
      ]
     },
     "execution_count": 11,
     "metadata": {},
     "output_type": "execute_result"
    }
   ],
   "source": [
    "len(batches), sum(map(len, batches))"
   ]
  },
  {
   "cell_type": "code",
   "execution_count": 12,
   "metadata": {
    "collapsed": true,
    "deletable": true,
    "editable": true
   },
   "outputs": [],
   "source": [
    "# Параметры ARTM модели\n",
    "\n",
    "# Общий random seed\n",
    "artm_seed = 42\n",
    "\n",
    "# Веса всех модальностей\n",
    "class_ids0 = {\"text\": 1.0, \"flat_tag\": 100.0, \"text_habr\": 1.0, \"flat_tag_habr\": 1.0}"
   ]
  },
  {
   "cell_type": "code",
   "execution_count": 13,
   "metadata": {
    "collapsed": true,
    "deletable": true,
    "editable": true
   },
   "outputs": [],
   "source": [
    "# Параметры алгоритма CollectionMerge\n",
    "\n",
    "modalities_to_use = {\"text\", \"text_habr\", \"flat_tag\", \"flat_tag_habr\"}\n",
    "vw_path = \"batch_vw.txt\"\n",
    "artm_cooc_path = \"merged_cooc.txt\"\n",
    "artm_vocab_path = \"merged_vocab.txt\"\n",
    "artm_batch_path = \"merged_batches/\"\n",
    "tmp_artm_batch_path = \"./\"\n",
    "\n",
    "cooc_window_size = 10\n",
    "ppmi_func = lambda n_uv, n_u, n_v, n: max(0, np.log(n_uv * n / n_u / n_v))"
   ]
  },
  {
   "cell_type": "code",
   "execution_count": 15,
   "metadata": {
    "collapsed": false,
    "deletable": true,
    "editable": true
   },
   "outputs": [
    {
     "name": "stdout",
     "output_type": "stream",
     "text": [
      "(44995, 20) (53897, 20)\n",
      "CPU times: user 1min 1s, sys: 1.89 s, total: 1min 3s\n",
      "Wall time: 59.6 s\n"
     ]
    }
   ],
   "source": [
    "%%time\n",
    "\n",
    "max_batch_size = max(map(len, batches))\n",
    "\n",
    "vocab_set = set()\n",
    "prev_phi = None\n",
    "docs_lengths = {}\n",
    "\n",
    "all_chars = list(map(chr, range(ord('a'), ord('z') + 1)))\n",
    "artm_batch_names_iter = itertools.product(*([all_chars] * 6))\n",
    "batch_names = [\"\".join(next(artm_batch_names_iter)) for i in range(len(batches))]\n",
    "\n",
    "phis = []\n",
    "\n",
    "# Удалим содержимое директории с ARTM батчами\n",
    "for fname in glob.glob(artm_batch_path + \"/*\"):\n",
    "    os.remove(fname)\n",
    "\n",
    "# Создадим файлы с ARTM vocabulary\n",
    "open(artm_vocab_path, \"w\").close()\n",
    "\n",
    "for batch_name, batch in zip(batch_names, batches[:2]):\n",
    "    batch_vocab = []\n",
    "\n",
    "    # Запишем документы, словарь и cooc-словарь из батча в файлы\n",
    "    with open(vw_path, \"w\") as vw_f, open(artm_vocab_path, \"a\") as vocab_f:\n",
    "        for doc in map(get_document, batch):\n",
    "            doc_id = doc[\"_id\"]\n",
    "            modalities_str = []\n",
    "            docs_lengths[doc_id] = len(doc[\"modalities\"][\"text\"])\n",
    "            for mod_name, mod in doc[\"modalities\"].items():\n",
    "                if mod_name in modalities_to_use:\n",
    "                    modalities_str.append(\"|%s %s\" % (mod_name, \" \".join(mod)))\n",
    "                    for token in mod:\n",
    "                        token = token.replace(\" \", \"_\")\n",
    "                        vocab_entry = (token, mod_name)\n",
    "                        if vocab_entry not in vocab_set:\n",
    "                            vocab_set.add(vocab_entry)\n",
    "                            batch_vocab.append(vocab_entry)\n",
    "            vw_f.write(\"%s %s\\n\" % (doc_id, \" \".join(modalities_str)))\n",
    "        for vocab_entry in batch_vocab:\n",
    "            vocab_f.write(\"%s %s\\n\" % vocab_entry)\n",
    "\n",
    "    # Создадим ARTM батч по нашему батчу\n",
    "    tmp_batch_vectorizer = artm.BatchVectorizer(data_format=\"vowpal_wabbit\", data_path=vw_path,\n",
    "                                                batch_size=max_batch_size, target_folder=tmp_artm_batch_path,\n",
    "                                                gather_dictionary=False)\n",
    "    # Хак: переименуем ARTM батч во временное имя,\n",
    "    # чтобы не мешать созданию других ARTM батчей\n",
    "    os.rename(\"%s/aaaaaa.batch\" % tmp_artm_batch_path,\n",
    "              \"%s/%s.batch\"     % (artm_batch_path, batch_name))\n",
    "\n",
    "    # Создадим ARTM dictionary\n",
    "    dictionary = artm.Dictionary(\"dictionary\")\n",
    "    dictionary.gather(artm_batch_path, vocab_file_path=artm_vocab_path) #,\n",
    "                      # cooc_file_path=artm_cooc_path, symmetric_cooc_values=True)\n",
    "\n",
    "    # Загрузим созданные на данный момент ARTM батчи\n",
    "    batch_vectorizer = artm.BatchVectorizer(data_format=\"batches\", data_path=artm_batch_path,\n",
    "                                            gather_dictionary=False)\n",
    "\n",
    "    # Метрики качества\n",
    "    scores_list = []\n",
    "    scores_list.append(artm.PerplexityScore(name=\"PerplexityScore\", class_ids=[\"text\"]))\n",
    "    scores_list.append(artm.TopTokensScore(name=\"Top10Tokens\", class_id=\"text\", num_tokens=10,\n",
    "                                           dictionary=dictionary))\n",
    "    scores_list.append(artm.TopTokensScore(name=\"Top10TokensTag\", class_id=\"tag\", num_tokens=10,\n",
    "                                           dictionary=dictionary))\n",
    "\n",
    "    t = 19\n",
    "    # Названия тем\n",
    "    norm_topic_names = [\"topic_%d\" % i for i in range(0, t)]\n",
    "    background_names = [\"background_%d\" % i for i in range(0, 1)]\n",
    "    topic_names0 = norm_topic_names + background_names\n",
    "\n",
    "    # Регуляризаторы\n",
    "    regularizers_list0 = []\n",
    "    regularizers_list0.append(artm.DecorrelatorPhiRegularizer(name=\"DecorrPhiReg\",\n",
    "                                                              topic_names=norm_topic_names,\n",
    "                                                              tau=100000))\n",
    "    regularizers_list0.append(artm.SmoothSparseThetaRegularizer(name=\"SPPhiTagRegBackground\",\n",
    "                                                               topic_names=background_names,\n",
    "                                                               tau=100))\n",
    "\n",
    "    level0 = artm.ARTM(topic_names=topic_names0, class_ids=class_ids0,\n",
    "                       regularizers=regularizers_list0, scores=scores_list,\n",
    "                       cache_theta=True, theta_columns_naming=\"title\",\n",
    "                       seed=artm_seed)\n",
    "    level0.initialize(dictionary=dictionary)\n",
    "    \n",
    "    # Инициализиуем матрицу Фи значениями с предыдущей итерации\n",
    "    if prev_phi is not None:\n",
    "        meta_info, phi_ref = level0.master.attach_model(level0.model_pwt)\n",
    "        print(prev_phi.shape, phi_ref.shape)\n",
    "        for i, j in itertools.product(*map(range, prev_phi.shape)):\n",
    "            phi_ref[i, j] = prev_phi[i, j]\n",
    "\n",
    "    # Обучим модель первого уровня\n",
    "    # TODO: подобрать количество итераций\n",
    "    level0.fit_offline(batch_vectorizer, num_collection_passes=5)\n",
    "    #coherence = level0.score_tracker[\"Top10Tokens\"].average_coherence[-1]\n",
    "    #print(\"Level 0 coherence: %.6f, t=%d\" % (coherence, t))\n",
    "    phi = level0.get_phi()\n",
    "    phis.append(phi)\n",
    "\n",
    "    # Сохраним матрицу Фи с текущей итерации\n",
    "    prev_phi = phi.values"
   ]
  },
  {
   "cell_type": "code",
   "execution_count": 16,
   "metadata": {
    "collapsed": false,
    "deletable": true,
    "editable": true
   },
   "outputs": [
    {
     "data": {
      "text/plain": [
       "2"
      ]
     },
     "execution_count": 16,
     "metadata": {},
     "output_type": "execute_result"
    }
   ],
   "source": [
    "len(phis)"
   ]
  },
  {
   "cell_type": "code",
   "execution_count": 52,
   "metadata": {
    "collapsed": false,
    "deletable": true,
    "editable": true
   },
   "outputs": [
    {
     "data": {
      "text/plain": [
       "(array([ 639114.,   20130.,   13601.,    9944.,    8694.,    7401.,\n",
       "           6990.,    6934.,    6194.,    6603.]),\n",
       " array([  0.00000000e+00,   1.00000000e-06,   2.00000000e-06,\n",
       "          3.00000000e-06,   4.00000000e-06,   5.00000000e-06,\n",
       "          6.00000000e-06,   7.00000000e-06,   8.00000000e-06,\n",
       "          9.00000000e-06,   1.00000000e-05]),\n",
       " <a list of 10 Patch objects>)"
      ]
     },
     "execution_count": 52,
     "metadata": {},
     "output_type": "execute_result"
    },
    {
     "data": {
      "image/png": "[encoded data removed]",
      "text/plain": [
       "<matplotlib.figure.Figure at 0x7fecdb0a1b38>"
      ]
     },
     "metadata": {},
     "output_type": "display_data"
    }
   ],
   "source": [
    "plt.hist(phis[0].values.flatten(), range=(0, 0.00001))"
   ]
  },
  {
   "cell_type": "code",
   "execution_count": 40,
   "metadata": {
    "collapsed": false,
    "deletable": true,
    "editable": true
   },
   "outputs": [
    {
     "data": {
      "text/plain": [
       "<matplotlib.axes._subplots.AxesSubplot at 0x7fecdbd21cc0>"
      ]
     },
     "execution_count": 40,
     "metadata": {},
     "output_type": "execute_result"
    },
    {
     "data": {
      "image/png": "[encoded data removed]",
      "text/plain": [
       "<matplotlib.figure.Figure at 0x7fecdbd0e710>"
      ]
     },
     "metadata": {},
     "output_type": "display_data"
    }
   ],
   "source": [
    "phis[1].sum(axis=1).hist(range=(0, 0.025))"
   ]
  },
  {
   "cell_type": "code",
   "execution_count": 20,
   "metadata": {
    "collapsed": false,
    "deletable": true,
    "editable": true
   },
   "outputs": [
    {
     "data": {
      "text/plain": [
       "<matplotlib.axes._subplots.AxesSubplot at 0x7fecdc468550>"
      ]
     },
     "execution_count": 20,
     "metadata": {},
     "output_type": "execute_result"
    },
    {
     "data": {
      "image/png": "[encoded data removed]",
      "text/plain": [
       "<matplotlib.figure.Figure at 0x7fecdc444e10>"
      ]
     },
     "metadata": {},
     "output_type": "display_data"
    }
   ],
   "source": [
    "old_words = list(set(phis[0].index))\n",
    "phis[1].loc[old_words].sum(axis=1).hist(range=(0, 0.005))"
   ]
  },
  {
   "cell_type": "code",
   "execution_count": 21,
   "metadata": {
    "collapsed": false,
    "deletable": true,
    "editable": true
   },
   "outputs": [
    {
     "data": {
      "text/plain": [
       "<matplotlib.axes._subplots.AxesSubplot at 0x7fecdc32f710>"
      ]
     },
     "execution_count": 21,
     "metadata": {},
     "output_type": "execute_result"
    },
    {
     "data": {
      "image/png": "[encoded data removed]",
      "text/plain": [
       "<matplotlib.figure.Figure at 0x7fecd8b940b8>"
      ]
     },
     "metadata": {},
     "output_type": "display_data"
    }
   ],
   "source": [
    "new_words = list(set(phis[1].index) - set(phis[0].index))\n",
    "phis[1].loc[new_words].sum(axis=1).hist(range=(0, 0.005))"
   ]
  },
  {
   "cell_type": "code",
   "execution_count": 23,
   "metadata": {
    "collapsed": false,
    "deletable": true,
    "editable": true
   },
   "outputs": [],
   "source": [
    "#phis[1][len(phis[0]):].hist(range=(0, 0.025))"
   ]
  },
  {
   "cell_type": "markdown",
   "metadata": {
    "deletable": true,
    "editable": true
   },
   "source": [
    "## Результаты"
   ]
  },
  {
   "cell_type": "markdown",
   "metadata": {
    "deletable": true,
    "editable": true
   },
   "source": [
    "### Базовый алгоритм"
   ]
  },
  {
   "cell_type": "markdown",
   "metadata": {
    "deletable": true,
    "editable": true
   },
   "source": [
    "<p style=\"color: blue\"><b>Без подсчёта когерентности:</b></p>"
   ]
  },
  {
   "cell_type": "markdown",
   "metadata": {
    "deletable": true,
    "editable": true
   },
   "source": [
    "```\n",
    "CPU times: user 26min, sys: 58.3 s, total: 26min 58s\n",
    "Wall time: 25min 44s\n",
    "```"
   ]
  },
  {
   "cell_type": "markdown",
   "metadata": {
    "deletable": true,
    "editable": true
   },
   "source": [
    "С подсчётом когерентности:"
   ]
  },
  {
   "cell_type": "markdown",
   "metadata": {
    "deletable": true,
    "editable": true
   },
   "source": [
    "```\n",
    "CPU times: user 25min 4s, sys: 40.7 s, total: 25min 45s\n",
    "Wall time: 26min 29s\n",
    "```"
   ]
  },
  {
   "cell_type": "code",
   "execution_count": 36,
   "metadata": {
    "collapsed": false,
    "deletable": true,
    "editable": true
   },
   "outputs": [
    {
     "data": {
      "text/plain": [
       "[2987.5328278389584,\n",
       " 2987.1423131676415,\n",
       " 2986.762812480146,\n",
       " 2986.4074495146488,\n",
       " 2986.0881822950705]"
      ]
     },
     "execution_count": 36,
     "metadata": {},
     "output_type": "execute_result"
    }
   ],
   "source": [
    "level0.score_tracker[\"PerplexityScore\"].value[-5:]"
   ]
  },
  {
   "cell_type": "code",
   "execution_count": 49,
   "metadata": {
    "collapsed": false,
    "deletable": true,
    "editable": true
   },
   "outputs": [
    {
     "name": "stdout",
     "output_type": "stream",
     "text": [
      "topic_8: данные запрос сервер таблица файл база использовать модуль приложение пользователь\n",
      "topic_13: компания интернет бизнес рынок деньги услуга право клиент реклама товар\n",
      "topic_2: текст русский словарь буква речь английский символ шрифт предложение языковой\n",
      "topic_4: безопасность пароль атака защита вирус уязвимость пациент заболевание болезнь метод\n",
      "topic_11: function return br type data class end code array source\n",
      "topic_7: значение int функция число код строка алгоритм память байт массив\n",
      "topic_18: университет научный студент школа образование культура ученый курс знание обучение\n",
      "topic_15: объект функция класс метод код тип использовать значение int return\n",
      "topic_6: игра игрок игровой страна рынок уровень экономический экономика играть ход\n",
      "topic_0: война власть политический страна исторический русский государство историк революция россия\n",
      "topic_14: клетка ген организм днк вид белок животное растение эволюция молекула\n",
      "topic_9: изображение элемент кнопка страница файл цвет использовать браузер width картинка\n",
      "background_0: работать проект пользователь использовать возможность программа данный приложение статья решение\n",
      "topic_5: звезда плата земля питание планета устройство камера датчик космический корпус\n",
      "topic_1: частица энергия квантовый точка физика поле вселенная свет пространство материал\n",
      "topic_3: задача алгоритм решение модель дерево оценка результат мозг узел нейрон\n",
      "topic_10: public приложение android model класс метод java system class int\n",
      "topic_17: хороший хотеть думать программист давать деньги рука работать час ничто\n",
      "topic_12: социальный политический общество фильм отношение пространство философия право город государство\n",
      "topic_16: файл сервер настройка ip пакет скрипт установка адрес папка устанавливать\n"
     ]
    }
   ],
   "source": [
    "print(\"\\n\".join([k + \": \" + \" \".join(v) for k, v in level0.score_tracker[\"Top10Tokens\"].last_tokens.items()]))"
   ]
  },
  {
   "cell_type": "markdown",
   "metadata": {
    "deletable": true,
    "editable": true
   },
   "source": [
    "<p style=\"color: blue\"><b>Количество тем, явно связанных с Habrahabr:</b></p>"
   ]
  },
  {
   "cell_type": "markdown",
   "metadata": {
    "deletable": true,
    "editable": true
   },
   "source": [
    "topic_8, topic_13, topic_4, topic_11, topic_7, topic_15, topic_9, topic_3, topic_10, topic_17, topic_16 — **11 из 19 тем **."
   ]
  },
  {
   "cell_type": "code",
   "execution_count": 17,
   "metadata": {
    "collapsed": false,
    "deletable": true,
    "editable": true
   },
   "outputs": [
    {
     "data": {
      "text/plain": [
       "{'topic_0': [0.7033647298812866,\n",
       "  1.101226806640625,\n",
       "  0.8233437538146973,\n",
       "  0.609866201877594,\n",
       "  0.4848090708255768,\n",
       "  0.8609563112258911,\n",
       "  0.9289266467094421,\n",
       "  0.7955272197723389,\n",
       "  0.7201809287071228,\n",
       "  0.5704154968261719],\n",
       " 'topic_1': [0.9796126484870911,\n",
       "  1.266061544418335,\n",
       "  0.18929800391197205,\n",
       "  0.8204822540283203,\n",
       "  0.8220633864402771,\n",
       "  0.7119395732879639,\n",
       "  1.1802186965942383,\n",
       "  0.550513744354248,\n",
       "  0.7388700246810913,\n",
       "  1.2392897605895996]}"
      ]
     },
     "execution_count": 17,
     "metadata": {},
     "output_type": "execute_result"
    }
   ],
   "source": [
    "level0.score_tracker[\"Top10Tokens\"].last_coherence"
   ]
  },
  {
   "cell_type": "markdown",
   "metadata": {
    "deletable": true,
    "editable": true
   },
   "source": [
    "<p style=\"color: blue\"><b>Средняя когерентность:</b></p>"
   ]
  },
  {
   "cell_type": "code",
   "execution_count": 18,
   "metadata": {
    "collapsed": false,
    "deletable": true,
    "editable": true
   },
   "outputs": [
    {
     "data": {
      "text/plain": [
       "0.804848313331604"
      ]
     },
     "execution_count": 18,
     "metadata": {},
     "output_type": "execute_result"
    }
   ],
   "source": [
    "level0.score_tracker[\"Top10Tokens\"].last_average_coherence"
   ]
  },
  {
   "cell_type": "markdown",
   "metadata": {
    "deletable": true,
    "editable": true
   },
   "source": [
    "### Предлагаемый алгоритм (без ранжирования документов)"
   ]
  },
  {
   "cell_type": "markdown",
   "metadata": {
    "deletable": true,
    "editable": true
   },
   "source": [
    "С подсчётом когерентности:"
   ]
  },
  {
   "cell_type": "markdown",
   "metadata": {
    "deletable": true,
    "editable": true
   },
   "source": [
    "```\n",
    "CPU times: user 39min 1s, sys: 34.8 s, total: 39min 36s\n",
    "Wall time: 31min 34s\n",
    "```"
   ]
  },
  {
   "cell_type": "code",
   "execution_count": 16,
   "metadata": {
    "collapsed": false,
    "deletable": true,
    "editable": true
   },
   "outputs": [
    {
     "data": {
      "text/plain": [
       "[3162.9743869953554, 3159.362220512887, 3157.0215313658773]"
      ]
     },
     "execution_count": 16,
     "metadata": {},
     "output_type": "execute_result"
    }
   ],
   "source": [
    "level0.score_tracker[\"PerplexityScore\"].value[-5:]"
   ]
  },
  {
   "cell_type": "code",
   "execution_count": 17,
   "metadata": {
    "collapsed": false,
    "deletable": true,
    "editable": true
   },
   "outputs": [
    {
     "name": "stdout",
     "output_type": "stream",
     "text": [
      "topic_13: право закон суд власть политический россия российский авторский отношение лицо\n",
      "topic_10: устройство плата камера питание экран процессор датчик сигнал корпус частота\n",
      "topic_0: страна китай китайский война сон япония военный город сша японский\n",
      "topic_4: клетка ген днк белок cd организм заболевание вирус болезнь make\n",
      "topic_14: вид растение эволюция ген организм вода животное жить группа земля\n",
      "background_0: использовать работать пользователь проект приложение данные возможность данный файл создавать\n",
      "topic_6: компания рынок деньги бизнес цена услуга продажа россия товар проект\n",
      "topic_12: социальный фильм философия политический пространство отношение общество социология понятие смысл\n",
      "topic_17: игра игрок играть персонаж герой ход рука голова выходить писать\n",
      "topic_11: музыка город музыкальный страна германия песня трек государство политический немецкий\n",
      "topic_15: алгоритм память мозг робот значение нейрон узел задача модель число\n",
      "topic_2: текст символ перевод русский словарь буква произношение речь выражение английский\n",
      "topic_8: социальный реклама сеть интернет контент аудитория рекламный facebook блог дизайн\n",
      "topic_9: функция код return int метод класс public объект function файл\n",
      "topic_5: планета земля космический полет двигатель солнечный спутник корабль аппарат орбита\n",
      "topic_18: студент университет школа образование научный знание курс хороший конференция тема\n",
      "topic_16: анимация вершина координата сцена текстура width position культура традиция пиксел\n",
      "topic_3: задача ребенок поведение решение цель часто ситуация мотивация внимание психология\n",
      "topic_7: звезда изображение вселенная галактика черный объект дыра пиксел излучение волна\n",
      "topic_1: частица число энергия квантовый поле точка физика структура свойство атом\n"
     ]
    }
   ],
   "source": [
    "print(\"\\n\".join([k + \": \" + \" \".join(v) for k, v in level0.score_tracker[\"Top10Tokens\"].last_tokens.items()]))"
   ]
  },
  {
   "cell_type": "markdown",
   "metadata": {
    "deletable": true,
    "editable": true
   },
   "source": [
    "<p style=\"color: blue\"><b>Количество тем, явно связанных с Habrahabr:</b></p>"
   ]
  },
  {
   "cell_type": "markdown",
   "metadata": {
    "deletable": true,
    "editable": true
   },
   "source": [
    "topic_10, topic_6, topic_15, topic_8, topic_9, topic_16 — **6 из 19 тем**."
   ]
  },
  {
   "cell_type": "markdown",
   "metadata": {
    "deletable": true,
    "editable": true
   },
   "source": [
    "<p style=\"color: blue\"><b>Доля тем, связанных с Постнаукой:</b></p>"
   ]
  },
  {
   "cell_type": "code",
   "execution_count": 16,
   "metadata": {
    "collapsed": false,
    "deletable": true,
    "editable": true
   },
   "outputs": [
    {
     "data": {
      "image/png": "[encoded data removed]",
      "text/plain": [
       "<matplotlib.figure.Figure at 0x7f9b0c675470>"
      ]
     },
     "metadata": {},
     "output_type": "display_data"
    }
   ],
   "source": [
    "theta0 = level0.get_theta()\n",
    "\n",
    "docs_lengths_series = pd.Series(docs_lengths)\n",
    "pn_docs_ids = list(filter(lambda doc_id: doc_id.startswith(\"pn_\"), docs_ids))\n",
    "n_pn_topics = theta0[pn_docs_ids].dot(docs_lengths_series.loc[pn_docs_ids])\n",
    "n_topics = theta0.dot(docs_lengths_series)\n",
    "n_topics /= n_topics.sum()\n",
    "\n",
    "plt.figure(figsize=(12, 8))\n",
    "plt.scatter(n_topics[:-1], n_pn_topics[:-1])\n",
    "plt.xlabel(\"$p(t)$\")\n",
    "plt.ylabel(\"$n_t^{ПН}$\")\n",
    "plt.xlim([0, 0.02])\n",
    "plt.ylim([0, 25000])\n",
    "plt.show()"
   ]
  },
  {
   "cell_type": "code",
   "execution_count": 18,
   "metadata": {
    "collapsed": false,
    "deletable": true,
    "editable": true
   },
   "outputs": [
    {
     "data": {
      "text/plain": [
       "{'topic_0': [0.7265726327896118,\n",
       "  0.9666939973831177,\n",
       "  0.860042154788971,\n",
       "  0.9615440368652344,\n",
       "  0.7932206392288208,\n",
       "  0.8468619585037231,\n",
       "  1.1678951978683472,\n",
       "  0.8162124156951904,\n",
       "  0.5890388488769531,\n",
       "  0.9197608232498169],\n",
       " 'topic_1': [0.7087255120277405,\n",
       "  0.8550468683242798,\n",
       "  1.63397216796875,\n",
       "  0.8533975481987,\n",
       "  0.6587098836898804,\n",
       "  1.1358709335327148,\n",
       "  0.9871459603309631,\n",
       "  0.8189512491226196,\n",
       "  0.9011694192886353,\n",
       "  1.1591038703918457]}"
      ]
     },
     "execution_count": 18,
     "metadata": {},
     "output_type": "execute_result"
    }
   ],
   "source": [
    "level0.score_tracker[\"Top10Tokens\"].last_coherence"
   ]
  },
  {
   "cell_type": "markdown",
   "metadata": {
    "deletable": true,
    "editable": true
   },
   "source": [
    "<p style=\"color: blue\"><b>Средняя когерентность:</b></p>"
   ]
  },
  {
   "cell_type": "code",
   "execution_count": 19,
   "metadata": {
    "collapsed": false,
    "deletable": true,
    "editable": true
   },
   "outputs": [
    {
     "data": {
      "text/plain": [
       "0.9179967641830444"
      ]
     },
     "execution_count": 19,
     "metadata": {},
     "output_type": "execute_result"
    }
   ],
   "source": [
    "level0.score_tracker[\"Top10Tokens\"].last_average_coherence"
   ]
  },
  {
   "cell_type": "markdown",
   "metadata": {
    "deletable": true,
    "editable": true
   },
   "source": [
    "### Предлагаемый алгоритм (с ранжированием документов)"
   ]
  },
  {
   "cell_type": "markdown",
   "metadata": {
    "deletable": true,
    "editable": true
   },
   "source": [
    "<p style=\"color: blue\"><b>Без подсчёта когерентности:</b></p>"
   ]
  },
  {
   "cell_type": "markdown",
   "metadata": {
    "deletable": true,
    "editable": true
   },
   "source": [
    "```\n",
    "CPU times: user 22min 6s, sys: 24.8 s, total: 22min 30s\n",
    "Wall time: 14min 45s\n",
    "```"
   ]
  },
  {
   "cell_type": "markdown",
   "metadata": {
    "deletable": true,
    "editable": true
   },
   "source": [
    "С подсчётом когерентности:"
   ]
  },
  {
   "cell_type": "markdown",
   "metadata": {
    "deletable": true,
    "editable": true
   },
   "source": [
    "```\n",
    "CPU times: user 45min 15s, sys: 50.7 s, total: 46min 6s\n",
    "Wall time: 37min 27s\n",
    "```"
   ]
  },
  {
   "cell_type": "code",
   "execution_count": 58,
   "metadata": {
    "collapsed": false,
    "deletable": true,
    "editable": true
   },
   "outputs": [
    {
     "data": {
      "text/plain": [
       "[3148.8859735363003, 3145.2123687869903, 3143.075477042168]"
      ]
     },
     "execution_count": 58,
     "metadata": {},
     "output_type": "execute_result"
    }
   ],
   "source": [
    "level0.score_tracker[\"PerplexityScore\"].value[-5:]"
   ]
  },
  {
   "cell_type": "code",
   "execution_count": 59,
   "metadata": {
    "collapsed": false,
    "deletable": true,
    "editable": true
   },
   "outputs": [
    {
     "name": "stdout",
     "output_type": "stream",
     "text": [
      "topic_8: игра игрок реклама социальный хороший блог игровой аудитория дизайн идея\n",
      "topic_13: право закон суд власть политический авторский россия отношение российский государство\n",
      "topic_2: перевод текст русский символ словарь буква выражение произношение речь английский\n",
      "topic_4: клетка ген днк белок организм болезнь заболевание вирус пациент молекула\n",
      "topic_11: музыка музыкальный германия страна песня альбом государство трек политический общество\n",
      "topic_7: звезда вселенная галактика черный дыра объект излучение волна масса телескоп\n",
      "topic_18: университет студент школа образование научный знание курс обучение хороший доклад\n",
      "topic_15: значение алгоритм число функция память результат операция байт точка элемент\n",
      "topic_6: компания рынок бизнес деньги цена услуга товар россия продажа интернет\n",
      "topic_0: страна город китай китайский война советский россия япония сша военный\n",
      "topic_14: вид растение эволюция вода ген организм животное жить земля группа\n",
      "topic_9: return int класс код метод public объект function функция файл\n",
      "background_0: использовать работать пользователь проект данные приложение возможность данный файл статья\n",
      "topic_5: планета земля космический полет корабль двигатель спутник аппарат солнечный орбита\n",
      "topic_1: частица энергия квантовый поле физика атом свойство точка взаимодействие модель\n",
      "topic_3: задача поведение ребенок решение мозг группа цель способность эмоция внимание\n",
      "topic_10: устройство плата камера питание процессор сигнал экран датчик корпус частота\n",
      "topic_17: рука голова герой персонаж глаз жить спрашивать ничто комната час\n",
      "topic_12: социальный фильм политический философия общество отношение пространство понятие социология смысл\n",
      "topic_16: культура традиция миф текст древний бог греческий христианский восток кавказ\n"
     ]
    }
   ],
   "source": [
    "print(\"\\n\".join([k + \": \" + \" \".join(v) for k, v in level0.score_tracker[\"Top10Tokens\"].last_tokens.items()]))"
   ]
  },
  {
   "cell_type": "markdown",
   "metadata": {
    "deletable": true,
    "editable": true
   },
   "source": [
    "<p style=\"color: blue\"><b>Количество тем, явно связанных с Habrahabr:</b></p>"
   ]
  },
  {
   "cell_type": "markdown",
   "metadata": {
    "deletable": true,
    "editable": true
   },
   "source": [
    "topic_15, topic_6, topic_9, topic_10 — **4 из 19 тем**."
   ]
  },
  {
   "cell_type": "markdown",
   "metadata": {
    "deletable": true,
    "editable": true
   },
   "source": [
    "<p style=\"color: blue\"><b>Доля тем, связанных с Постнаукой:</b></p>"
   ]
  },
  {
   "cell_type": "code",
   "execution_count": 64,
   "metadata": {
    "collapsed": false,
    "deletable": true,
    "editable": true
   },
   "outputs": [
    {
     "data": {
      "image/png": "[encoded data removed]",
      "text/plain": [
       "<matplotlib.figure.Figure at 0x7fc5bc1deb70>"
      ]
     },
     "metadata": {},
     "output_type": "display_data"
    }
   ],
   "source": [
    "theta0 = level0.get_theta()\n",
    "\n",
    "docs_lengths_series = pd.Series(docs_lengths)\n",
    "pn_docs_ids = list(filter(lambda doc_id: doc_id.startswith(\"pn_\"), docs_ids))\n",
    "n_pn_topics = theta0[pn_docs_ids].dot(docs_lengths_series.loc[pn_docs_ids])\n",
    "n_topics = theta0.dot(docs_lengths_series)\n",
    "n_topics /= n_topics.sum()\n",
    "\n",
    "plt.figure(figsize=(12, 8))\n",
    "plt.scatter(n_topics[:-1], n_pn_topics[:-1])\n",
    "plt.xlabel(\"$p(t)$\")\n",
    "plt.ylabel(\"$n_t^{ПН}$\")\n",
    "plt.xlim([0, 0.02])\n",
    "plt.ylim([0, 25000])\n",
    "plt.show()"
   ]
  },
  {
   "cell_type": "code",
   "execution_count": 76,
   "metadata": {
    "collapsed": false,
    "deletable": true,
    "editable": true
   },
   "outputs": [
    {
     "data": {
      "text/plain": [
       "{'topic_0': [0.7587596774101257,\n",
       "  1.223907709121704,\n",
       "  0.8600420951843262,\n",
       "  1.0523507595062256,\n",
       "  0.8620681762695312,\n",
       "  0.8468619585037231,\n",
       "  1.0884321928024292,\n",
       "  0.7912501096725464,\n",
       "  1.2722722291946411,\n",
       "  0.9197608232498169],\n",
       " 'topic_1': [0.7087255120277405,\n",
       "  0.9577943086624146,\n",
       "  1.63397216796875,\n",
       "  0.9011796712875366,\n",
       "  0.7159020304679871,\n",
       "  0.7263554930686951,\n",
       "  0.8448827862739563,\n",
       "  0.823114812374115,\n",
       "  0.918533205986023,\n",
       "  1.0836633443832397]}"
      ]
     },
     "execution_count": 76,
     "metadata": {},
     "output_type": "execute_result"
    }
   ],
   "source": [
    "level0.score_tracker[\"Top10Tokens\"].last_coherence"
   ]
  },
  {
   "cell_type": "markdown",
   "metadata": {
    "deletable": true,
    "editable": true
   },
   "source": [
    "<p style=\"color: blue\"><b>Средняя когерентность:</b></p>"
   ]
  },
  {
   "cell_type": "code",
   "execution_count": 77,
   "metadata": {
    "collapsed": false,
    "deletable": true,
    "editable": true
   },
   "outputs": [
    {
     "data": {
      "text/plain": [
       "0.9494915008544922"
      ]
     },
     "execution_count": 77,
     "metadata": {},
     "output_type": "execute_result"
    }
   ],
   "source": [
    "level0.score_tracker[\"Top10Tokens\"].last_average_coherence"
   ]
  },
  {
   "cell_type": "markdown",
   "metadata": {
    "deletable": true,
    "editable": true
   },
   "source": [
    "---"
   ]
  }
 ],
 "metadata": {
  "kernelspec": {
   "display_name": "Python 3",
   "language": "python",
   "name": "python3"
  },
  "language_info": {
   "codemirror_mode": {
    "name": "ipython",
    "version": 3
   },
   "file_extension": ".py",
   "mimetype": "text/x-python",
   "name": "python",
   "nbconvert_exporter": "python",
   "pygments_lexer": "ipython3",
   "version": "3.5.3"
  },
  "latex_envs": {
   "bibliofile": "biblio.bib",
   "cite_by": "apalike",
   "current_citInitial": 1,
   "eqLabelWithNumbers": true,
   "eqNumInitial": 0
  }
 },
 "nbformat": 4,
 "nbformat_minor": 2
}
