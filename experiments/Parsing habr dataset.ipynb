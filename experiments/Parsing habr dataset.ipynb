{
 "cells": [
  {
   "cell_type": "markdown",
   "metadata": {},
   "source": [
    "# Хабрахабр"
   ]
  },
  {
   "cell_type": "code",
   "execution_count": 6,
   "metadata": {
    "collapsed": true
   },
   "outputs": [],
   "source": [
    "from pymongo import MongoClient"
   ]
  },
  {
   "cell_type": "code",
   "execution_count": 25,
   "metadata": {
    "collapsed": false
   },
   "outputs": [],
   "source": [
    "from parsers.text_utils import DefaultTextProcessor, DefaultDocumentProcessor"
   ]
  },
  {
   "cell_type": "markdown",
   "metadata": {},
   "source": [
    "Перегоняем данные из базы `test.habrahabr` в базу `datasets.habrahabr` с изменением формата и сохраняем на диске в формате Vowpal Wabbit."
   ]
  },
  {
   "cell_type": "code",
   "execution_count": 26,
   "metadata": {
    "collapsed": true
   },
   "outputs": [],
   "source": [
    "client = MongoClient()\n",
    "in_collection = client[\"test\"][\"habrahabr\"]\n",
    "out_collection = client[\"datasets\"][\"habrahabr\"]"
   ]
  },
  {
   "cell_type": "code",
   "execution_count": 27,
   "metadata": {
    "collapsed": false
   },
   "outputs": [],
   "source": [
    "stop_words = open(\"../datasets/habrahabr/stopwords.txt\").read().split()\n",
    "doc_pipeline = Pipeline([\n",
    "    (\"text-processor\",     DefaultTextProcessor()),\n",
    "    (\"document-processor\", DefaultDocumentProcessor(stop_lemmas=stop_words)),\n",
    "])"
   ]
  },
  {
   "cell_type": "code",
   "execution_count": null,
   "metadata": {
    "collapsed": false
   },
   "outputs": [],
   "source": [
    "%%time\n",
    "\n",
    "with open(\"../datasets/habrahabr/habrahabr.txt\", \"w\") as vw_file:\n",
    "    for doc_id, mongo_doc in enumerate(in_collection.find({ \"company_blog\": None }), 1):\n",
    "        doc = {}\n",
    "        doc[\"_id\"] = \"habr_%d\" % doc_id\n",
    "        doc[\"title\"] = mongo_doc[\"title\"]\n",
    "        doc[\"url\"] = mongo_doc[\"url\"]\n",
    "        doc[\"modalities\"] = doc_pipeline.fit_transform(mongo_doc[\"content_html\"])\n",
    "        doc[\"modalities\"][\"flat_tag\"] = mongo_doc[\"tags\"]\n",
    "        doc[\"modalities\"][\"authors\"] = [mongo_doc[\"author_user\"]]\n",
    "        doc[\"modalities\"][\"hubs\"] = mongo_doc[\"hubs\"]\n",
    "        doc[\"markdown\"] = mongo_doc[\"content_html\"]\n",
    "        # Записать в Vowpal Wabbit\n",
    "        modalities_str = \" \".join(map(lambda p: \"|%s %s\" % (p[0], \" \".join(p[1])), doc[\"modalities\"].items()))\n",
    "        vw_file.write(\"%s %s\\n\" % (doc[\"_id\"], modalities_str))\n",
    "        # Записать в MongoDB\n",
    "        out_collection.insert_one(doc)"
   ]
  },
  {
   "cell_type": "markdown",
   "metadata": {},
   "source": [
    "---"
   ]
  }
 ],
 "metadata": {
  "kernelspec": {
   "display_name": "Python 3",
   "language": "python",
   "name": "python3"
  },
  "language_info": {
   "codemirror_mode": {
    "name": "ipython",
    "version": 3
   },
   "file_extension": ".py",
   "mimetype": "text/x-python",
   "name": "python",
   "nbconvert_exporter": "python",
   "pygments_lexer": "ipython3",
   "version": "3.5.2"
  },
  "latex_envs": {
   "bibliofile": "biblio.bib",
   "cite_by": "apalike",
   "current_citInitial": 1,
   "eqLabelWithNumbers": true,
   "eqNumInitial": 0
  }
 },
 "nbformat": 4,
 "nbformat_minor": 0
}
