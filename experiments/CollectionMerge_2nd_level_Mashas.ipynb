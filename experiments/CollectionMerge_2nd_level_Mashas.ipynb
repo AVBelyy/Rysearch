{
 "cells": [
  {
   "cell_type": "markdown",
   "metadata": {
    "deletable": true,
    "editable": true
   },
   "source": [
    "## Эксперимент по вливанию коллекции в тематическую модель"
   ]
  },
  {
   "cell_type": "code",
   "execution_count": 4,
   "metadata": {
    "collapsed": true,
    "deletable": true,
    "editable": true
   },
   "outputs": [],
   "source": [
    "import warnings\n",
    "warnings.filterwarnings(\"ignore\", category=DeprecationWarning)"
   ]
  },
  {
   "cell_type": "code",
   "execution_count": 5,
   "metadata": {
    "collapsed": false,
    "deletable": true,
    "editable": true
   },
   "outputs": [],
   "source": [
    "%matplotlib inline\n",
    "import os\n",
    "import sys\n",
    "import glob\n",
    "import json\n",
    "import shutil\n",
    "import urllib\n",
    "import pickle\n",
    "import pymongo\n",
    "import itertools\n",
    "import collections\n",
    "import numpy as np\n",
    "import pandas as pd\n",
    "import scipy.sparse\n",
    "import matplotlib.pyplot as plt"
   ]
  },
  {
   "cell_type": "code",
   "execution_count": 6,
   "metadata": {
    "collapsed": false,
    "deletable": true,
    "editable": true
   },
   "outputs": [],
   "source": [
    "import artm\n",
    "import hierarchy_utils"
   ]
  },
  {
   "cell_type": "code",
   "execution_count": 7,
   "metadata": {
    "collapsed": false,
    "deletable": true,
    "editable": true
   },
   "outputs": [],
   "source": [
    "db = pymongo.MongoClient()[\"datasets\"]"
   ]
  },
  {
   "cell_type": "code",
   "execution_count": 8,
   "metadata": {
    "collapsed": true,
    "deletable": true,
    "editable": true
   },
   "outputs": [],
   "source": [
    "prefix_to_col_map = {\"pn\": \"postnauka\", \"habr\": \"habrahabr\", \"elem\": \"elementy\"}\n",
    "\n",
    "def get_document(doc_id, with_markdown=False):\n",
    "    fields = {\"_id\": 1, \"title\": 1, \"modalities\": 1}\n",
    "    if with_markdown:\n",
    "        fields[\"markdown\"] = 1\n",
    "    prefix, _ = doc_id.split(\"_\", 1)\n",
    "    col_name = prefix_to_col_map[prefix]\n",
    "    return db[col_name].find_one({\"_id\": doc_id}, fields)"
   ]
  },
  {
   "cell_type": "code",
   "execution_count": 9,
   "metadata": {
    "collapsed": false,
    "deletable": true,
    "editable": true
   },
   "outputs": [
    {
     "name": "stdout",
     "output_type": "stream",
     "text": [
      "2976\n",
      "1603\n",
      "609\n"
     ]
    }
   ],
   "source": [
    "# Шаг 1 -- получение ранжированного списка документов для доливания\n",
    "\n",
    "reduced_dataset = False\n",
    "shuffled_dataset = False\n",
    "source_size = []\n",
    "\n",
    "docs_ids = list(map(lambda r: r[\"_id\"], db[\"postnauka\"].find({}, {\"_id\": 1})))\n",
    "\n",
    "D_a = len(docs_ids)\n",
    "print(D_a)\n",
    "source_size.append(D_a)\n",
    "\n",
    "for csv_name, thresh in ((\"classifier_output_habr.csv\", 0.95),\n",
    "                         (\"classifier_output_elem.csv\", 0.8)):\n",
    "    clf_output = pd.read_csv(csv_name)\n",
    "    clf_output.columns = [\"id\", \"proba\"]\n",
    "    clf_output = clf_output.set_index(\"id\")[\"proba\"]\n",
    "    clf_output = clf_output[clf_output >= thresh]\n",
    "\n",
    "    clf_output = clf_output.sort_values(ascending=False)\n",
    "\n",
    "    if reduced_dataset:\n",
    "        clf_output = clf_output[:5000]\n",
    "\n",
    "    if shuffled_dataset:\n",
    "        np.random.seed(42)\n",
    "        clf_output = clf_output.sample(frac=1)\n",
    "\n",
    "    docs_ids += list(clf_output.index)\n",
    "\n",
    "    D_b = len(clf_output)\n",
    "    source_size.append(D_b)\n",
    "    print(D_b)"
   ]
  },
  {
   "cell_type": "markdown",
   "metadata": {
    "deletable": true,
    "editable": true
   },
   "source": [
    "**В `docs_ids` лежит ранжированный список документов, который потом разбивается на батчи (`batches`)**"
   ]
  },
  {
   "cell_type": "code",
   "execution_count": 10,
   "metadata": {
    "collapsed": false,
    "deletable": true,
    "editable": true
   },
   "outputs": [
    {
     "data": {
      "text/plain": [
       "['pn_2',\n",
       " 'pn_3',\n",
       " 'pn_4',\n",
       " 'pn_5',\n",
       " 'pn_6',\n",
       " 'pn_7',\n",
       " 'pn_8',\n",
       " 'pn_9',\n",
       " 'pn_13',\n",
       " 'pn_14']"
      ]
     },
     "execution_count": 10,
     "metadata": {},
     "output_type": "execute_result"
    }
   ],
   "source": [
    "docs_ids[:10]"
   ]
  },
  {
   "cell_type": "markdown",
   "metadata": {
    "deletable": true,
    "editable": true
   },
   "source": [
    "**Дальше разбиваем на батчи. Можно по закону сложного процента:**"
   ]
  },
  {
   "cell_type": "code",
   "execution_count": 11,
   "metadata": {
    "collapsed": false,
    "deletable": true,
    "editable": true
   },
   "outputs": [],
   "source": [
    "# Шаг 2а -- разбиение списка на батчи для итеративного доливания\n",
    "\n",
    "D_a0 = D_a // 10\n",
    "\n",
    "# Будем пользоваться законом сложного процента: размер i-ого батча будет считаться как размер (i-1)-ого батча + p%.\n",
    "# Тогда количество итераций n, необходимых для вливания коллекции размера D_b в коллекцию размера D_a, удовлетворяет:\n",
    "# D_a * (1 + p)^n = D_a + D_b\n",
    "# n = ln((D_a + D_b) / D_a) / ln(1 + p)\n",
    "\n",
    "p = 0.1\n",
    "batches = [docs_ids[:D_a], docs_ids[D_a:D_a + D_a0]]\n",
    "batch_pos = D_a + D_a0\n",
    "\n",
    "while batch_pos < len(docs_ids):\n",
    "    new_batch_size = int((1 + p) * len(batches[-1]))\n",
    "    batch = docs_ids[batch_pos:batch_pos + new_batch_size]\n",
    "    batches.append(batch)\n",
    "    batch_pos += new_batch_size"
   ]
  },
  {
   "cell_type": "markdown",
   "metadata": {
    "deletable": true,
    "editable": true
   },
   "source": [
    "**А можно просто слить всё в один батч:**"
   ]
  },
  {
   "cell_type": "code",
   "execution_count": 12,
   "metadata": {
    "collapsed": true,
    "deletable": true,
    "editable": true
   },
   "outputs": [],
   "source": [
    "# Шаг 2б -- склеивание всей коллекции в один батч\n",
    "\n",
    "batches = [docs_ids]"
   ]
  },
  {
   "cell_type": "markdown",
   "metadata": {
    "deletable": true,
    "editable": true
   },
   "source": [
    "**А можно порезать все батчи, начиная со второго, на куски по 1000 штук:**"
   ]
  },
  {
   "cell_type": "code",
   "execution_count": 13,
   "metadata": {
    "collapsed": true,
    "deletable": true,
    "editable": true
   },
   "outputs": [],
   "source": [
    "batches = [docs_ids[:D_a], docs_ids[D_a:D_a + 1000], docs_ids[D_a + 1000:D_a + 2000],\n",
    "           docs_ids[D_a + 2000:D_a + 3000], docs_ids[D_a + 3000:D_a + 4000], docs_ids[D_a + 4000:D_a + 5000]]"
   ]
  },
  {
   "cell_type": "markdown",
   "metadata": {
    "deletable": true,
    "editable": true
   },
   "source": [
    "**А можно сначала Постнауку, а потом -- всё остальное:**"
   ]
  },
  {
   "cell_type": "code",
   "execution_count": 14,
   "metadata": {
    "collapsed": true,
    "deletable": true,
    "editable": true
   },
   "outputs": [],
   "source": [
    "batches = [docs_ids[:D_a], docs_ids[D_a:]]"
   ]
  },
  {
   "cell_type": "code",
   "execution_count": 15,
   "metadata": {
    "collapsed": true,
    "deletable": true,
    "editable": true
   },
   "outputs": [],
   "source": [
    "batches = [docs_ids[:source_size[0]], docs_ids[source_size[0]:sum(source_size[:2])], docs_ids[sum(source_size[:2]):sum(source_size[:3])]]"
   ]
  },
  {
   "cell_type": "markdown",
   "metadata": {
    "deletable": true,
    "editable": true
   },
   "source": [
    "**А может быть, можно ещё как-то -- тут надо думать.**"
   ]
  },
  {
   "cell_type": "markdown",
   "metadata": {
    "deletable": true,
    "editable": true
   },
   "source": [
    "Размеры батчей:"
   ]
  },
  {
   "cell_type": "code",
   "execution_count": 16,
   "metadata": {
    "collapsed": false,
    "deletable": true,
    "editable": true
   },
   "outputs": [
    {
     "data": {
      "text/plain": [
       "[2976, 1603, 609]"
      ]
     },
     "execution_count": 16,
     "metadata": {},
     "output_type": "execute_result"
    }
   ],
   "source": [
    "list(map(len, batches))"
   ]
  },
  {
   "cell_type": "markdown",
   "metadata": {
    "deletable": true,
    "editable": true
   },
   "source": [
    "Количество и суммарная длина батчей:"
   ]
  },
  {
   "cell_type": "code",
   "execution_count": 17,
   "metadata": {
    "collapsed": false,
    "deletable": true,
    "editable": true
   },
   "outputs": [
    {
     "data": {
      "text/plain": [
       "(3, 5188)"
      ]
     },
     "execution_count": 17,
     "metadata": {},
     "output_type": "execute_result"
    }
   ],
   "source": [
    "len(batches), sum(map(len, batches))"
   ]
  },
  {
   "cell_type": "code",
   "execution_count": 140,
   "metadata": {
    "collapsed": false,
    "deletable": true,
    "editable": true
   },
   "outputs": [
    {
     "name": "stdout",
     "output_type": "stream",
     "text": [
      "CPU times: user 1min 25s, sys: 21.5 s, total: 1min 47s\n",
      "Wall time: 1min 40s\n"
     ]
    }
   ],
   "source": [
    "%%time\n",
    "\n",
    "# Шаг 3 -- подгрузка словаря совстречаемостей (PPMI), подсчитываемого отдельного\n",
    "\n",
    "artm_cooc_path = \"merged_cooc_df_gt20.txt\"\n",
    "\n",
    "word_count = []\n",
    "row, col, data = [], [], []\n",
    "with open(artm_cooc_path) as cooc_f:\n",
    "    for line in cooc_f:\n",
    "        tokens = list(map(int, line.split()))\n",
    "        if len(tokens) == 1:\n",
    "            word_count.append(tokens[0])\n",
    "        elif len(tokens) == 3:\n",
    "            u, v, n_uv = tokens\n",
    "            p_uv = n_uv / word_count[v]\n",
    "            p_vu = n_uv / word_count[u]\n",
    "            row.append(u); col.append(v); data.append(p_uv)\n",
    "            row.append(v); col.append(u); data.append(p_vu)\n",
    "\n",
    "w = h = len(word_count)\n",
    "cooc_matrix = scipy.sparse.csr_matrix((data, (row, col)), shape=(w, h), dtype=np.float32)\n",
    "\n",
    "del row, col, data"
   ]
  },
  {
   "cell_type": "code",
   "execution_count": 141,
   "metadata": {
    "collapsed": false,
    "deletable": true,
    "editable": true
   },
   "outputs": [
    {
     "data": {
      "text/plain": [
       "<231640x231640 sparse matrix of type '<class 'numpy.float32'>'\n",
       "\twith 38931218 stored elements in Compressed Sparse Row format>"
      ]
     },
     "execution_count": 141,
     "metadata": {},
     "output_type": "execute_result"
    }
   ],
   "source": [
    "cooc_matrix"
   ]
  },
  {
   "cell_type": "code",
   "execution_count": 21,
   "metadata": {
    "collapsed": true,
    "deletable": true,
    "editable": true
   },
   "outputs": [],
   "source": [
    "# Параметры ARTM модели\n",
    "\n",
    "# Общий random seed\n",
    "artm_seed = 37\n",
    "\n",
    "# Названия тем\n",
    "# TODO: скрытые константы\n",
    "norm_topic_names = [\"topic_%d\" % i for i in range(0, 20)]\n",
    "background_names = [\"background_%d\" % i for i in range(0, 1)]\n",
    "topic_names0 = norm_topic_names + background_names\n",
    "\n",
    "# Регуляризаторы\n",
    "regularizers_list0 = []\n",
    "regularizers_list0.append(artm.DecorrelatorPhiRegularizer(name=\"DecorrPhiReg\",\n",
    "                                                          topic_names=norm_topic_names,\n",
    "                                                          tau=100000))\n",
    "regularizers_list0.append(artm.SmoothSparseThetaRegularizer(name=\"SPPhiTagRegBackground\",\n",
    "                                                           topic_names=background_names,\n",
    "                                                           tau=10))\n",
    "\n",
    "# Веса всех модальностей\n",
    "class_ids0 = {\"text\": 1.0, \"flat_tag\": 300.0, \"text_habr\": 1.0, \"flat_tag_habr\": 1.0}\n",
    "class_ids1 = {\"text\": 1.0, \"flat_tag\": 1.0,   \"text_habr\": 1.0, \"flat_tag_habr\": 1.0}"
   ]
  },
  {
   "cell_type": "code",
   "execution_count": 22,
   "metadata": {
    "collapsed": true,
    "deletable": true,
    "editable": true
   },
   "outputs": [],
   "source": [
    "# Параметры алгоритма CollectionMerge\n",
    "\n",
    "modalities_to_use = [\"flat_tag\", \"text\"]\n",
    "vw_path = \"batch_vw.txt\"\n",
    "artm_ppmi_path = \"merged_ppmi.txt\"\n",
    "artm_vocab_path = \"merged_vocab.txt\"\n",
    "artm_batch_path = \"merged_batches/\"\n",
    "tmp_artm_batch_path = \"./\""
   ]
  },
  {
   "cell_type": "code",
   "execution_count": 23,
   "metadata": {
    "collapsed": false,
    "deletable": true,
    "editable": true
   },
   "outputs": [],
   "source": [
    "def build_level1(topics_cnt, level0, prev_phi, dictionary, batch_vectorizer, scores_list):\n",
    "    # Названия тем\n",
    "    background_names = [\"background_%d\" % i for i in range(0, 1)]\n",
    "    norm_topic_names = [\"topic_%d\" % i for i in range(topics_cnt)]\n",
    "    topic_names1 = norm_topic_names + background_names\n",
    "\n",
    "    # Список регуляризаторов\n",
    "    regularizers_list1 = []\n",
    "    regularizers_list1.append(artm.DecorrelatorPhiRegularizer(name=\"DecorrPhiReg1\",\n",
    "                              topic_names=norm_topic_names, tau=50000))\n",
    "    regularizers_list1.append(artm.SmoothSparseThetaRegularizer(name=\"SPPhiTagRegBackground\",\n",
    "                                                           topic_names=background_names,\n",
    "                                                           tau=10))\n",
    "\n",
    "    # Создадим ARTM модель (второй уровень)\n",
    "    level1 = hierarchy_utils.ARTM_Level(level0, phi_batch_weight=10.0**3, \n",
    "                                        topic_names=topic_names1,\n",
    "                                        class_ids=class_ids1,\n",
    "                                        regularizers=regularizers_list1,\n",
    "                                        scores=scores_list,\n",
    "                                        num_document_passes=1,\n",
    "                                        cache_theta=True, theta_columns_naming=\"title\",\n",
    "                                        seed=artm_seed)\n",
    "    level1.initialize(dictionary=dictionary)\n",
    "\n",
    "    # Инициализиуем матрицу Фи значениями с предыдущей итерации\n",
    "    if prev_phi is not None:\n",
    "        _, phi_ref = level1.master.attach_model(level1.model_pwt)\n",
    "        print(prev_phi.shape, phi_ref.shape)\n",
    "        for i, j in itertools.product(*map(range, prev_phi.shape)):\n",
    "            phi_ref[i, j] = prev_phi[i, j]\n",
    "\n",
    "    # Обучим модель второго уровня\n",
    "    # TODO: подобрать количество итераций\n",
    "    level1.fit_offline(batch_vectorizer, num_collection_passes=5)\n",
    "\n",
    "    # Итеративное разреживание детей тем 0 уровня\n",
    "    threshold = 0.05\n",
    "    psi1 = level1.get_psi()\n",
    "    for tau in np.arange(0.1, 0.6, 0.1):\n",
    "        child_topics = []\n",
    "        for t in range(len(level0.topic_names)):\n",
    "            child_topics.append([])\n",
    "            for s, topic_name1 in enumerate(level1.topic_names):\n",
    "                if psi1.values[s, t] > threshold:\n",
    "                    child_topics[t].append(topic_name1)\n",
    "        # Разреживание детей каждой темы 0 уровня между собой\n",
    "        for i in range(len(level0.topic_names)):\n",
    "            topics_list = child_topics[i]\n",
    "            level1.regularizers.add(artm.SmoothSparseThetaRegularizer(\n",
    "                                    name=\"SPThetaReg_%d\" % i,\n",
    "                                    topic_names=topics_list, \n",
    "                                    tau=-tau * len(topics_list) ** 3), overwrite=True)\n",
    "        # Дообучим модель второго уровня\n",
    "        # TODO: подобрать количество итераций\n",
    "        level1.fit_offline(batch_vectorizer, num_collection_passes=1)\n",
    "\n",
    "    return level1"
   ]
  },
  {
   "cell_type": "markdown",
   "metadata": {
    "deletable": true,
    "editable": true
   },
   "source": [
    "**Собственно, алгоритм итеративного обучения CollectionMerge:**"
   ]
  },
  {
   "cell_type": "code",
   "execution_count": 24,
   "metadata": {
    "collapsed": false,
    "deletable": true,
    "editable": true,
    "scrolled": false
   },
   "outputs": [
    {
     "name": "stdout",
     "output_type": "stream",
     "text": [
      "New vocab size: 44995\n",
      "Level 0 perplexity: 867.523369\n",
      "Iteration 0, level 0 built\n",
      "Level 1 perplexity: 546.795337\n",
      "Iteration 0, level 1 built\n",
      "New vocab size: 0\n",
      "(44995, 21) (44995, 21)\n",
      "Level 0 perplexity: 961.666048\n",
      "Iteration 1, level 0 built\n",
      "(44995, 61) (44995, 61)\n",
      "Level 1 perplexity: 1611.299861\n",
      "Iteration 1, level 1 built\n",
      "New vocab size: 0\n",
      "(44995, 21) (44995, 21)\n",
      "Level 0 perplexity: 1084.252316\n",
      "Iteration 2, level 0 built\n",
      "(44995, 61) (44995, 61)\n",
      "Level 1 perplexity: 2114.074653\n",
      "Iteration 2, level 1 built\n",
      "CPU times: user 14min 59s, sys: 30.1 s, total: 15min 29s\n",
      "Wall time: 12min 33s\n"
     ]
    }
   ],
   "source": [
    "%%time\n",
    "\n",
    "max_batch_size = max(map(len, batches))\n",
    "\n",
    "vocab_map = {}\n",
    "prev_phi0 = None\n",
    "prev_phi1 = None\n",
    "\n",
    "docs_length = 0\n",
    "word_count = {}\n",
    "pair_count = {}\n",
    "\n",
    "all_chars = list(map(chr, range(ord('a'), ord('z') + 1)))\n",
    "artm_batch_names_iter = itertools.product(*([all_chars] * 6))\n",
    "batch_names = [\"\".join(next(artm_batch_names_iter)) for i in range(len(batches))]\n",
    "\n",
    "t2 = 60\n",
    "\n",
    "psis = []\n",
    "levels = []\n",
    "hiers = []\n",
    "\n",
    "# Удалим содержимое директории с ARTM батчами\n",
    "for fname in glob.glob(artm_batch_path + \"/*\"):\n",
    "    os.remove(fname)\n",
    "\n",
    "# Создадим файлы с ARTM vocabulary\n",
    "open(artm_vocab_path, \"w\").close()\n",
    "\n",
    "for iter_no, (batch_name, batch) in enumerate(zip(batch_names, batches)):\n",
    "    prev_vocab_size = len(vocab_map)\n",
    "    batch_vocab = []\n",
    "    batch_n_d = collections.defaultdict(int)\n",
    "    batch_n_wd = collections.defaultdict(int)\n",
    "\n",
    "    # Запишем документы и словарь из батча в файлы\n",
    "    with open(vw_path, \"w\") as vw_f, open(artm_vocab_path, \"a\") as vocab_f:\n",
    "        for i_d, doc in enumerate(map(get_document, batch)):\n",
    "            doc_id = doc[\"_id\"]\n",
    "            modalities_str = []\n",
    "            for mod_name in modalities_to_use:\n",
    "                mod = doc[\"modalities\"].get(mod_name, [])\n",
    "                mods = []\n",
    "                for token in mod:\n",
    "                    token = token.replace(\" \", \"_\")\n",
    "                    vocab_entry = (token, mod_name)\n",
    "                    if iter_no == 0 or (iter_no > 0 and vocab_entry in vocab_map):\n",
    "                        mods.append(token)\n",
    "                    if iter_no == 0 and vocab_entry not in vocab_map:\n",
    "                        vocab_map[vocab_entry] = len(vocab_map)\n",
    "                        batch_vocab.append(vocab_entry)\n",
    "                    #i_w = vocab_map[vocab_entry]\n",
    "                    #batch_n_wd[i_w, i_d] += 1\n",
    "                modalities_str.append(\"|%s %s\" % (mod_name, \" \".join(mods)))\n",
    "                #for token in set(mod):\n",
    "                #    token = token.replace(\" \", \"_\")\n",
    "                #    i_w = vocab_map[token, mod_name]\n",
    "                #    batch_n_d[i_w] += 1\n",
    "            vw_f.write(\"%s %s\\n\" % (doc_id, \" \".join(modalities_str)))\n",
    "        for vocab_entry in batch_vocab:\n",
    "            vocab_f.write(\"%s %s\\n\" % vocab_entry)\n",
    "    \n",
    "    print(\"New vocab size:\", len(batch_vocab))\n",
    "    \n",
    "    # Создадим матрицу P(w_old|d_new)\n",
    "    \"\"\"\n",
    "    row, col, data = [], [], []\n",
    "    for (i_w, i_d), n_wd in batch_n_wd.items():\n",
    "        if i_w < prev_vocab_size:\n",
    "            p_wd = n_wd / batch_n_d[i_w]\n",
    "            row.append(i_w)\n",
    "            col.append(i_d)\n",
    "            data.append(p_wd)\n",
    "    w = prev_vocab_size\n",
    "    h = len(batch)\n",
    "    batch_p_wd_old = scipy.sparse.csr_matrix((data, (row, col)), shape=(w, h), dtype=np.float32)\n",
    "    \n",
    "    # Создадим матрицу P(w_new|d_new)\n",
    "    row, col, data = [], [], []\n",
    "    for (i_w, i_d), n_wd in batch_n_wd.items():\n",
    "        if i_w >= prev_vocab_size:\n",
    "            p_wd = n_wd / batch_n_d[i_w]\n",
    "            row.append(i_w - prev_vocab_size)\n",
    "            col.append(i_d)\n",
    "            data.append(p_wd)\n",
    "    w = len(batch_vocab)\n",
    "    h = len(batch)\n",
    "    batch_p_wd_new = scipy.sparse.csr_matrix((data, (row, col)), shape=(w, h), dtype=np.float32)\n",
    "    \"\"\"\n",
    "\n",
    "    # Создадим ARTM батч по нашему батчу\n",
    "    tmp_batch_vectorizer = artm.BatchVectorizer(data_format=\"vowpal_wabbit\", data_path=vw_path,\n",
    "                                                batch_size=max_batch_size, target_folder=tmp_artm_batch_path,\n",
    "                                                gather_dictionary=False)\n",
    "    # Хак: переименуем ARTM батч во временное имя,\n",
    "    # чтобы не мешать созданию других ARTM батчей\n",
    "    os.rename(\"%s/aaaaaa.batch\" % tmp_artm_batch_path,\n",
    "              \"%s/%s.batch\"     % (artm_batch_path, batch_name))\n",
    "\n",
    "    # Создадим ARTM модель (первый уровень)\n",
    "    dictionary = artm.Dictionary(\"dictionary\")\n",
    "    dictionary.gather(artm_batch_path, vocab_file_path=artm_vocab_path,\n",
    "                      cooc_file_path=artm_ppmi_path, symmetric_cooc_values=True)\n",
    "\n",
    "    # Метрики качества\n",
    "    scores_list = []\n",
    "    scores_list.append(artm.PerplexityScore(name=\"PerplexityScore\", class_ids=[\"text\"]))\n",
    "    scores_list.append(artm.TopTokensScore(name=\"Top50Tokens\", class_id=\"text\", num_tokens=50,\n",
    "                                           dictionary=dictionary))\n",
    "    scores_list.append(artm.TopTokensScore(name=\"Top10Tags\", class_id=\"flat_tag\", num_tokens=10,\n",
    "                                           dictionary=dictionary))\n",
    "\n",
    "    level0 = artm.ARTM(topic_names=topic_names0, class_ids=class_ids0,\n",
    "                       regularizers=regularizers_list0, scores=scores_list,\n",
    "                       cache_theta=True, theta_columns_naming=\"title\",\n",
    "                       seed=artm_seed)\n",
    "    level0.initialize(dictionary=dictionary)\n",
    "    \n",
    "    # Загрузим созданные на данный момент ARTM батчи\n",
    "    #data_paths = list(map(lambda i: \"%s/%d\" % (artm_batch_path, i), range(iter_no + 1)))\n",
    "    #data_weights = list((1 - p) ** np.arange(iter_no + 1))\n",
    "    batch_vectorizer = artm.BatchVectorizer(data_format=\"batches\", data_path=artm_batch_path,\n",
    "                                            gather_dictionary=False)\n",
    "    \n",
    "    _, phi_ref = level0.master.attach_model(level0.model_pwt)\n",
    "    # Инициализиуем матрицу Фи значениями с предыдущей итерации\n",
    "    if prev_phi0 is not None:\n",
    "        # Инициализируем верхнюю часть Фи матрицей Фи с предыдущей итерации\n",
    "        print(prev_phi0.shape, phi_ref.shape)\n",
    "        for i, j in itertools.product(*map(range, prev_phi0.shape)):\n",
    "            phi_ref[i, j] = prev_phi0[i, j]\n",
    "\n",
    "        # Инициализируем нижнюю часть Фи различными оценками\n",
    "        ff_score = 0.0\n",
    "        if False:\n",
    "            start_token_id = prev_phi0.shape[0]\n",
    "            end_token_id = phi_ref.shape[0]\n",
    "\n",
    "            for token_id in range(start_token_id, end_token_id):\n",
    "                token_cooc_row = cooc_matrix[token_id]\n",
    "                data, col = token_cooc_row.data, token_cooc_row.nonzero()[1]\n",
    "\n",
    "                if len(data) > 0:\n",
    "                    length = np.argmin(col < start_token_id)\n",
    "\n",
    "                    pvt = prev_phi0[col[:length]]\n",
    "                    pwv = data[:length]\n",
    "                    pwt = pwv.dot(pvt)\n",
    "\n",
    "                    # Посчитаем метрику качества инициализции\n",
    "                    pvd_new = batch_p_wd_new[token_id - start_token_id]\n",
    "                    pvd_old = batch_p_wd_old[col[:length]]\n",
    "                    cf_score = pvd_new.toarray() - pvd_old.T.dot(pwv)\n",
    "                    ff_score += np.linalg.norm(cf_score)\n",
    "\n",
    "                    for j in range(prev_phi0.shape[1]):\n",
    "                        phi_ref[token_id, j] = pwt[j]\n",
    "                else:\n",
    "                    pvd_new = batch_p_wd_new[token_id - start_token_id]\n",
    "                    cf_score = pvd_new.toarray()\n",
    "                    ff_score += np.linalg.norm(cf_score)\n",
    "        #print(\"Level 0 FF score: %.6f\" % ff_score)\n",
    "    else:\n",
    "        with open(\"phi_level0.dump\", \"rb\") as fin:\n",
    "            phi_level0 = pickle.load(fin)\n",
    "            phi_ref[:] = phi_level0\n",
    "\n",
    "    # Обучим модель первого уровня\n",
    "    # TODO: подобрать количество итераций\n",
    "    level0.fit_offline(batch_vectorizer, num_collection_passes=10)\n",
    "    print(\"Level 0 perplexity: %.6f\" % level0.score_tracker[\"PerplexityScore\"].last_value)\n",
    "    #print(\"Level 0 coherence: %.6f\" % level0.score_tracker[\"Top50Tokens\"].last_average_coherence)\n",
    "    print(\"Iteration %d, level 0 built\" % iter_no)\n",
    "\n",
    "    # Построим модель второго уровня\n",
    "    #max_coherence = 0\n",
    "    #max_t2 = cur_t2\n",
    "    #for t2 in range(cur_t2 - 4, cur_t2 + 12, 2):\n",
    "    level1 = build_level1(t2, level0, prev_phi1, dictionary, batch_vectorizer, scores_list)\n",
    "    print(\"Level 1 perplexity: %.6f\" % level1.score_tracker[\"PerplexityScore\"].last_value)\n",
    "    #print(\"Level 1 coherence: %.6f\" % level1.score_tracker[\"Top50Tokens\"].last_average_coherence)\n",
    "    print(\"Iteration %d, level 1 built\" % iter_no)\n",
    "    #if t2 == 19 * 3:\n",
    "    #    t2 += 10\n",
    "\n",
    "    # Сохраним матрицы Фи первого и второго уровня с текущей итерации\n",
    "    prev_phi0 = level0.get_phi().values\n",
    "    prev_phi1 = level1.get_phi().values\n",
    "\n",
    "    # Сохраним уровни для истории\n",
    "    #levels.append((level0, level1))\n",
    "    \n",
    "    # Сохраним иерархию\n",
    "    hier = hierarchy_utils.hARTM(class_ids=class_ids0, regularizers=regularizers_list0,\n",
    "                                 scores=scores_list, cache_theta=True, seed=artm_seed)\n",
    "\n",
    "    hier._levels.append(level0)\n",
    "    hier._levels.append(level1)\n",
    "    hiers.append(hier)"
   ]
  },
  {
   "cell_type": "code",
   "execution_count": 26,
   "metadata": {
    "collapsed": false,
    "deletable": true,
    "editable": true
   },
   "outputs": [],
   "source": [
    "hiers[-1].save(\"hartm2\")\n",
    "\n",
    "extra_info = {\n",
    "    \"class_ids\": class_ids0,\n",
    "    \"theta\": hiers[-1].get_theta(),\n",
    "    \"spectrums\": []\n",
    "}\n",
    "\n",
    "pickle.dump(extra_info, open(\"hartm2/extra_info.dump\", \"wb\"))"
   ]
  },
  {
   "cell_type": "markdown",
   "metadata": {
    "deletable": true,
    "editable": true
   },
   "source": [
    "**Получившиеся темы первого уровня:**"
   ]
  },
  {
   "cell_type": "code",
   "execution_count": 33,
   "metadata": {
    "collapsed": false,
    "deletable": true,
    "editable": true
   },
   "outputs": [
    {
     "data": {
      "text/plain": [
       "[('background_0', 'общество антропология человек'),\n",
       " ('topic_0', 'математика логика кибернетика'),\n",
       " ('topic_1', 'технологии искусственный_интеллект информационные_технологии'),\n",
       " ('topic_10', 'история история_россии европа'),\n",
       " ('topic_11', 'политика государство политология'),\n",
       " ('topic_12', 'социология город урбанистика'),\n",
       " ('topic_13', 'культура массовая_культура культурология'),\n",
       " ('topic_14', 'образование наука история_науки'),\n",
       " ('topic_15', 'язык лингвистика филология'),\n",
       " ('topic_16', 'философия политическая_философия древняя_греция'),\n",
       " ('topic_17', 'христианство средневековье религия'),\n",
       " ('topic_18', 'россия украина география'),\n",
       " ('topic_19', 'право юриспруденция римское_право'),\n",
       " ('topic_2', 'физика физика_элементарных_частиц квантовая_физика'),\n",
       " ('topic_3', 'химия нанотехнологии материаловедение'),\n",
       " ('topic_4', 'земля экология солнечная_система'),\n",
       " ('topic_5', 'астрономия астрофизика вселенная'),\n",
       " ('topic_6', 'биология генетика эволюция'),\n",
       " ('topic_7', 'медицина онкология биомедицина'),\n",
       " ('topic_8', 'мозг психология нейробиология'),\n",
       " ('topic_9', 'экономика сша авторское_право')]"
      ]
     },
     "execution_count": 33,
     "metadata": {},
     "output_type": "execute_result"
    }
   ],
   "source": [
    "sorted([(k, \" \".join(v[:3])) for k, v in hiers[-1]._levels[0].score_tracker[\"Top10Tags\"].last_tokens.items()])"
   ]
  },
  {
   "cell_type": "code",
   "execution_count": 36,
   "metadata": {
    "collapsed": false,
    "deletable": true,
    "editable": true
   },
   "outputs": [
    {
     "data": {
      "text/plain": [
       "[]"
      ]
     },
     "execution_count": 36,
     "metadata": {},
     "output_type": "execute_result"
    }
   ],
   "source": [
    "sorted([(k, \" \".join(v[:10])) for k, v in hiers[-1]._levels[0].score_tracker[\"Top50Tokens\"].last_tokens.items()])"
   ]
  },
  {
   "cell_type": "markdown",
   "metadata": {
    "deletable": true,
    "editable": true
   },
   "source": [
    "**Получившиеся темы второго уровня:**"
   ]
  },
  {
   "cell_type": "code",
   "execution_count": 37,
   "metadata": {
    "collapsed": false,
    "deletable": true,
    "editable": true
   },
   "outputs": [
    {
     "data": {
      "text/plain": [
       "[('background_0', 'технологии искусственный_интеллект биотехнологии'),\n",
       " ('topic_0', 'онкология старение генетическое_заболевание'),\n",
       " ('topic_1', 'биология ген молекулярная_биология'),\n",
       " ('topic_10', 'онкология стволовые_клетки вирусология'),\n",
       " ('topic_11', 'физика атом нейтрино'),\n",
       " ('topic_12', 'ньютон_исаак суперкомпьютеры научная_фантастика'),\n",
       " ('topic_13', 'астрономия звезды вселенная'),\n",
       " ('topic_14', 'нейробиология когнитивная_психология нейрофизиология'),\n",
       " ('topic_15', 'физика физика_элементарных_частиц бозон_хиггса'),\n",
       " ('topic_16', 'востоковедение католицизм кавказ'),\n",
       " ('topic_17', 'массовая_культура культурология театроведение'),\n",
       " ('topic_18', 'биология геном ген'),\n",
       " ('topic_19', 'лингвистика язык филология'),\n",
       " ('topic_2', 'физика элементарная_частица бозон_хиггса'),\n",
       " ('topic_20', 'нейробиология нейронные_сети эмоции'),\n",
       " ('topic_21', 'фольклористика культурология фольклор'),\n",
       " ('topic_22', 'биология ген геном'),\n",
       " ('topic_23', 'авторское_право теория_принятия_решений финансовый_кризис'),\n",
       " ('topic_24', 'идентичность миграция сталин_иосиф'),\n",
       " ('topic_25', 'биология ген микробиология'),\n",
       " ('topic_26', 'юриспруденция социология_права римское_право'),\n",
       " ('topic_27', 'наука история_науки академическая_среда'),\n",
       " ('topic_28', 'политическая_философия древняя_греция история_философии'),\n",
       " ('topic_29', 'физика элементарная_частица квантовая_механика'),\n",
       " ('topic_3', 'физика квантовая_физика физика_элементарных_частиц'),\n",
       " ('topic_30', 'антропология антропогенез человек'),\n",
       " ('topic_31', 'социология социология_повседневности урбанистика'),\n",
       " ('topic_32', 'физика физика_элементарных_частиц большой_адронный_коллайдер'),\n",
       " ('topic_33', 'технологии информационные_технологии искусственный_интеллект'),\n",
       " ('topic_34', 'биология микробиология генетика'),\n",
       " ('topic_35', 'европейский_союз интеллигенция хмельницкий_богдан'),\n",
       " ('topic_36', 'кант_иммануил история_философии маркс_карл'),\n",
       " ('topic_37', 'социология социология_повседневности социология_науки'),\n",
       " ('topic_38', 'история история_россии первая_мировая_война'),\n",
       " ('topic_39', 'язык лингвистика филология'),\n",
       " ('topic_4', 'биология микробиология генетика'),\n",
       " ('topic_40', 'химия нанотехнологии наноматериалы'),\n",
       " ('topic_41', 'наука история_науки академическая_среда'),\n",
       " ('topic_42', 'земля солнечная_система космонавтика'),\n",
       " ('topic_43', 'история история_россии первая_мировая_война'),\n",
       " ('topic_44', 'химия нанотехнологии молекула'),\n",
       " ('topic_45', 'нейробиология когнитивная_психология нейрофизиология'),\n",
       " ('topic_46', 'массовая_культура культурология фольклор'),\n",
       " ('topic_47', 'астрономия вселенная звезды'),\n",
       " ('topic_48', 'когнитивная_психология эмоции нейрофизиология'),\n",
       " ('topic_49', 'история вторая_мировая_война историческая_память'),\n",
       " ('topic_5', 'физика физика_элементарных_частиц квантовая_физика'),\n",
       " ('topic_50', 'язык лингвистика русский_язык'),\n",
       " ('topic_51', 'генетика клеточная_биология crispr/cas9'),\n",
       " ('topic_52', 'человек антропология гендер'),\n",
       " ('topic_53', 'вселенная астрономия звезды'),\n",
       " ('topic_54', 'человек антропология литературоведение'),\n",
       " ('topic_55', 'история история_россии новое_время'),\n",
       " ('topic_56', 'топология компьютерное_моделирование суперкомпьютеры'),\n",
       " ('topic_57', 'астрономия вселенная звезды'),\n",
       " ('topic_58', 'лингвистика язык русский_язык'),\n",
       " ('topic_59', 'лингвистика язык филология'),\n",
       " ('topic_6', 'юриспруденция римское_право история_права'),\n",
       " ('topic_7', 'биология геном ген'),\n",
       " ('topic_8', 'социология урбанистика городское_пространство'),\n",
       " ('topic_9', 'социология урбанистика городское_пространство')]"
      ]
     },
     "execution_count": 37,
     "metadata": {},
     "output_type": "execute_result"
    }
   ],
   "source": [
    "sorted([(k, \" \".join(v[:3])) for k, v in hiers[-1]._levels[1].score_tracker[\"Top10Tags\"].last_tokens.items()])"
   ]
  },
  {
   "cell_type": "code",
   "execution_count": 84,
   "metadata": {
    "collapsed": false,
    "deletable": true,
    "editable": true
   },
   "outputs": [],
   "source": [
    "#for level_id, level in enumerate(levels):\n",
    "#    level.save(\"article_models/new_random_small_batches_%d.model\" % level_id)"
   ]
  },
  {
   "cell_type": "markdown",
   "metadata": {
    "deletable": true,
    "editable": true
   },
   "source": [
    "---"
   ]
  },
  {
   "cell_type": "markdown",
   "metadata": {
    "deletable": true,
    "editable": true
   },
   "source": [
    "---"
   ]
  },
  {
   "cell_type": "markdown",
   "metadata": {
    "deletable": true,
    "editable": true
   },
   "source": [
    "**Какие-то статистики (в том числе и из старой Машиной тетрадки), которые можно позапускать без гарантии успеха:**"
   ]
  },
  {
   "cell_type": "markdown",
   "metadata": {
    "deletable": true,
    "editable": true
   },
   "source": [
    "### Proposed algorithm"
   ]
  },
  {
   "cell_type": "markdown",
   "metadata": {
    "deletable": true,
    "editable": true
   },
   "source": [
    "### Baseline"
   ]
  },
  {
   "cell_type": "code",
   "execution_count": null,
   "metadata": {
    "collapsed": false,
    "deletable": true,
    "editable": true
   },
   "outputs": [],
   "source": [
    "phi0 = levels[0].get_phi()"
   ]
  },
  {
   "cell_type": "code",
   "execution_count": null,
   "metadata": {
    "collapsed": false,
    "deletable": true,
    "editable": true
   },
   "outputs": [],
   "source": [
    "np.mean((phi0 > 0).sum(axis=1))"
   ]
  },
  {
   "cell_type": "code",
   "execution_count": null,
   "metadata": {
    "collapsed": false,
    "deletable": true,
    "editable": true
   },
   "outputs": [],
   "source": [
    "np.median((phi0 > 0).sum(axis=1))"
   ]
  },
  {
   "cell_type": "code",
   "execution_count": null,
   "metadata": {
    "collapsed": false,
    "deletable": true,
    "editable": true
   },
   "outputs": [],
   "source": [
    "sorted([(k, \" \".join(v[:3])) for k, v in levels[0].score_tracker[\"Top50Tokens\"].last_tokens.items()])"
   ]
  },
  {
   "cell_type": "code",
   "execution_count": null,
   "metadata": {
    "collapsed": false,
    "deletable": true,
    "editable": true
   },
   "outputs": [],
   "source": [
    "sorted([(k, \" \".join(v[:3])) for k, v in levels[-1].score_tracker[\"Top10Tags\"].last_tokens.items()])"
   ]
  },
  {
   "cell_type": "markdown",
   "metadata": {
    "deletable": true,
    "editable": true
   },
   "source": [
    "---"
   ]
  },
  {
   "cell_type": "code",
   "execution_count": 150,
   "metadata": {
    "collapsed": false,
    "deletable": true,
    "editable": true
   },
   "outputs": [],
   "source": [
    "level0, level1 = levels[-1]\n",
    "psi1 = level1.get_psi()\n",
    "\n",
    "tokens0 = level0.score_tracker[\"Top10Tags\"].last_tokens\n",
    "tokens1 = level1.score_tracker[\"Top10Tags\"].last_tokens\n",
    "threshold = 0.03"
   ]
  },
  {
   "cell_type": "code",
   "execution_count": 151,
   "metadata": {
    "collapsed": false,
    "deletable": true,
    "editable": true,
    "scrolled": false
   },
   "outputs": [
    {
     "name": "stdout",
     "output_type": "stream",
     "text": [
      "\u001b[1;31m PARENT:  topic_0: философия политическая_философия история_философии русь античность археология платон аристотель история_россии архитектура  \u001b[0m\n",
      "    topic_0: политическая_философия история_философии петр_i древняя_греция древний_рим русская_философия политическая_теория екатерина_ii кавказ гоббс_томас \n",
      "    topic_21: история_россии кавказ история политический_режим академия_наук критика_насилия геласий_i гуманитарная_культура бонифаций_viii протестантизм \n",
      "    topic_27: наука история_науки гендер академическая_среда кант_иммануил философия_науки социология_права либерализм российская_академия_наук фуко_мишель \n",
      "\u001b[1;31m PARENT:  topic_1: эволюция антропология биология человек палеонтология геология антропогенез физиология происхождение_человека этнография  \u001b[0m\n",
      "    topic_14: антропология человек антропогенез происхождение_человека расоведение теория_эволюции неандерталец homo_sapiens дарвин_чарльз метеорология \n",
      "    topic_45: биология человек физическая_антропология антропогенез антропология дарвин_чарльз вулканизм протоязык голосеменные широкогоров_сергей \n",
      "\u001b[1;31m PARENT:  topic_2: экономика география информационная_безопасность авторское_право рынок финансовый_кризис финансовый_рынок экономическое_развитие экономическое_неравенство новая_институциональная_экономика  \u001b[0m\n",
      "    topic_2: информационная_безопасность авторское_право финансовый_рынок финансовый_кризис экономическое_развитие экономическое_неравенство новая_институциональная_экономика коррупция теория_игр банковская_система \n",
      "\u001b[1;31m PARENT:  topic_3: культура литература массовая_культура культурология филология кино искусство литературоведение кинематограф театр  \u001b[0m\n",
      "    topic_3: массовая_культура культурология литературоведение филология театроведение русская_литература искусствоведение русский_формализм арендт_ханна толкин_дж._р._р. \n",
      "    topic_17: массовая_культура культурология литературоведение филология искусствоведение театроведение cinema_studies религиоведение паракинематограф зомби \n",
      "\u001b[1;31m PARENT:  topic_4: история политика ссср христианство история_россии религия германия власть востоковедение европа  \u001b[0m\n",
      "    topic_8: история история_россии кавказ история_повседневности хабермас_юрген протестантизм политический_режим востоковедение вестготы людовик_xiv \n",
      "    topic_21: история_россии кавказ история политический_режим академия_наук критика_насилия геласий_i гуманитарная_культура бонифаций_viii протестантизм \n",
      "    topic_24: история востоковедение первая_мировая_война историческая_память сталин_иосиф вторая_мировая_война новое_время французская_революция_xviii_века гитлер_адольф культурная_политика \n",
      "    topic_46: история новое_время история_россии история_повседневности первая_мировая_война протестантизм религиоведение архивоведение тоталитаризм людовик_xiv \n",
      "    topic_48: история история_россии история_повседневности первая_мировая_война востоковедение новое_время национал-социализм гитлер_адольф сталин_иосиф крещение_руси \n",
      "    topic_49: история вторая_мировая_война сталин_иосиф национал-социализм великая_отечественная_война востоковедение история_россии гитлер_адольф историческая_память французская_революция_xviii_века \n",
      "\u001b[1;31m PARENT:  topic_5: астрономия астрофизика вселенная космос звезды галактика земля черные_дыры солнечная_система солнце  \u001b[0m\n",
      "    topic_13: вселенная гравитационные_волны рентгеновское_излучение магнитар гелий магнитары астофизика радиопульсары ядро теория_гравитации \n",
      "    topic_47: астрономия звезды экзопланета вселенная нейтронные_звезды черные_дыры космонавтика солнечная_система земля звездное_скопление \n",
      "    topic_57: астрономия звезды черные_дыры солнечная_система земля вселенная космонавтика радиотелескопы звездное_скопление планеты \n",
      "    background_0: земля вселенная космонавтика радиотелескопы астрономия звезды солнечная_система черные_дыры рентгеновское_излучение звездное_скопление \n",
      "\u001b[1;31m PARENT:  topic_6: язык лингвистика право филология русский_язык юриспруденция римское_право грамматика речь полевая_лингвистика  \u001b[0m\n",
      "    topic_6: язык лингвистика русский_язык юриспруденция римское_право полевая_лингвистика английский_язык лингвистическая_компаративистика история_права филология \n",
      "    topic_36: филология кейнса_джон_мейнард фреге_фридрих_людвиг_готлоб греческий_язык коренные_народы слотердайк_петер лингвистика язык история_права русский_язык \n",
      "    topic_39: язык лингвистика филология юриспруденция римское_право полевая_лингвистика история_права английский_язык компьютерная_лингвистика структура_языка \n",
      "    topic_50: язык лингвистика русский_язык юриспруденция филология римское_право лингвистическая_компаративистика полевая_лингвистика судебная_система история_права \n",
      "    topic_58: лингвистика язык русский_язык юриспруденция лингвистическая_компаративистика римское_право филология компьютерная_лингвистика английский_язык история_права \n",
      "\u001b[1;31m PARENT:  topic_7: социология город общество урбанистика социология_повседневности городское_пространство дюркгейм_эмиль вебер_макс социология_пространства гоффман_эрвинг  \u001b[0m\n",
      "    topic_7: социология социология_повседневности дюркгейм_эмиль теория_фреймов гоффман_эрвинг социология_пространства зиммель_георг вебер_макс этнометодология социальная_структура \n",
      "    topic_9: социология урбанистика городское_пространство латур_брюно социология_пространства микросоциология социальная_топология теория_фреймов гоффман_эрвинг вебер_макс \n",
      "    topic_31: социология социология_повседневности вебер_макс дюркгейм_эмиль микросоциология городское_пространство социология_пространства зиммель_георг шмитт_карл гоффман_эрвинг \n",
      "\u001b[1;31m PARENT:  topic_8: россия общество государство сша политология идентичность китай европа политика нация  \u001b[0m\n",
      "    topic_7: социология социология_повседневности дюркгейм_эмиль теория_фреймов гоффман_эрвинг социология_пространства зиммель_георг вебер_макс этнометодология социальная_структура \n",
      "    topic_30: миграция идентичность безработица средневековый_суд рынок_труда мигранты ведовство солнечная_энергия энергетический_рынок интеллигенция \n",
      "    topic_38: идентичность миграция новый_год безработица социальная_структура рынок_труда северный_кавказ мигранты путин_владимир уиклиф_джон \n",
      "    topic_48: история история_россии история_повседневности первая_мировая_война востоковедение новое_время национал-социализм гитлер_адольф сталин_иосиф крещение_руси \n",
      "\u001b[1;31m PARENT:  topic_9: психология интернет когнитивная_психология мышление социальные_сети интеллект сверхпроводимость стресс внимание память  \u001b[0m\n",
      "    topic_42: эмоции поведение_человека социальный_статус фрейд_зигмунд саймон_герберт хомский_ноам лурия_александр максвелл_джеймс сводеш_моррис суперкомпьютеры \n",
      "    topic_56: когнитивная_психология социальные_сети суперкомпьютеры психология_мышления сверхтекучесть вундт_вильгельм беспроводные_компьютерные_сети психическая_травма зрительная_система виртуальная_реальность \n",
      "\u001b[1;31m PARENT:  topic_10: медицина биология генетика днк ген геном онкология клетка биомедицина белки  \u001b[0m\n",
      "    topic_1: генетика ген геном онкология старение биология генетическое_заболевание стволовые_клетки клеточная_биология белки \n",
      "    topic_10: генетика геном белки ген онкология молекула стволовые_клетки секвенирование кардиология разработка_лекарств \n",
      "    topic_59: биология ген генетика геронтология старение ядро белки молекула продолжительность_жизни онкология \n",
      "\u001b[1;31m PARENT:  topic_11: физика физика_элементарных_частиц квантовая_физика кварк элементарная_частица стандартная_модель бозон_хиггса большой_адронный_коллайдер магнитное_поле квантовая_механика  \u001b[0m\n",
      "    topic_5: физика квантовая_физика физика_элементарных_частиц атом стандартная_модель космические_лучи большой_адронный_коллайдер нейтрон специальная_теория_относительности атомные_часы \n",
      "    topic_11: физика квантовая_физика физика_элементарных_частиц нейтрино фотоны атом космические_лучи квантовая_механика стандартная_модель общая_теория_относительности \n",
      "    topic_15: бозон_хиггса элементарная_частица большой_адронный_коллайдер бозоны антиматерия стандартная_модель эйнштейн_альберт физика ферми_энрико теория_суперструн \n",
      "    topic_29: физика атом ньютон_исаак квантовая_механика нейтрино квантовая_теория_поля квантовая_физика квантовые_технологии квантовая_криптография элементарная_частица \n",
      "    topic_32: физика физика_элементарных_частиц квантовая_механика магнитное_поле квантовая_физика фотоны квантовые_технологии общая_теория_относительности квантовая_теория_поля стандартная_модель \n",
      "    topic_35: физика физика_элементарных_частиц стандартная_модель большой_адронный_коллайдер эйнштейн_альберт магнитное_поле нейтрино квантовые_технологии фотоны элементарная_частица \n",
      "    topic_54: физика магнитное_поле атом квантовая_механика физика_элементарных_частиц фотоны стандартная_модель большой_адронный_коллайдер нейтрино электромагнетизм \n",
      "\u001b[1;31m PARENT:  topic_12: философия наука история_науки университет гендер кант_иммануил академическая_среда марксизм социология_науки маркс_карл  \u001b[0m\n",
      "    topic_12: наука история_науки гендер социология_права философия_науки аналитическая_философия кант_иммануил социология_образования либерализм парсонс_талкотт \n",
      "    topic_27: наука история_науки гендер академическая_среда кант_иммануил философия_науки социология_права либерализм российская_академия_наук фуко_мишель \n",
      "    topic_37: наука социология_науки маркс_карл кант_иммануил гумбольдт_вильгельм академическая_среда колмогоров_андрей биоэтика философия_науки либерализм \n",
      "    topic_41: история_науки наука маркс_карл гендер кант_иммануил академическая_среда фрейд_зигмунд либерализм социология_права лейбниц_готфрид_вильгельм \n",
      "\u001b[1;31m PARENT:  topic_13: химия нанотехнологии космология материаловедение темная_материя реликтовое_излучение кристалл наноматериалы космическая_инфляция органическая_химия  \u001b[0m\n",
      "    topic_23: химия нанотехнологии молекула атом космология графен темная_материя наноматериалы реликтовое_излучение органическая_электроника \n",
      "    topic_44: химия космология нанотехнологии реликтовое_излучение большой_взрыв космическая_инфляция органическая_химия научная_фантастика темная_энергия обсерватория_planck \n",
      "    topic_53: химия темная_материя нанотехнологии наноматериалы космология молекула полимеры квантовая_гравитация органическая_химия реликтовое_излучение \n",
      "\u001b[1;31m PARENT:  topic_14: образование школа общество медиа майя детство мораль мезоамерика немецкая_классическая_философия палеоботаника  \u001b[0m\n",
      "    topic_40: немецкая_классическая_философия палеоботаника гегель_георг_вильгельм_фридрих дети социальная_психология растения индуцированные_плюрипотентные_стволовые_клетки насекомые эмбриональные_стволовые_клетки гуманитарные_науки \n",
      "\u001b[1;31m PARENT:  topic_15: технологии математика информационные_технологии информатика робототехника computer_science робот машинное_обучение топология геометрия  \u001b[0m\n",
      "    topic_25: технологии информационные_технологии computer_science робототехника большие_данные машинное_обучение филдсовская_премия компьютерное_моделирование хранение_данных язык_программирования \n",
      "    topic_33: технологии информационные_технологии робототехника топология машинное_обучение computer_science антиматерия архитектура_программного_обеспечения машина_тьюринга гильберт_давид \n",
      "    topic_52: технологии информационные_технологии компьютерное_моделирование машинное_обучение энтропия хранение_данных графы компьютерные_сети античастица топология \n",
      "\u001b[1;31m PARENT:  topic_16: средневековье молекулярная_биология мифология биоинформатика фольклор фольклористика миф католицизм дизайн гмо  \u001b[0m\n",
      "    topic_16: молекулярная_биология фольклор фольклористика католицизм гмо генная_инженерия скандинавия народная_культура латинская_америка конкиста \n",
      "    topic_55: древняя_греция августин_аврелий crispr/cas9 культура_повседневности религиозная_философия религиоведение секвенирование оплодотворение католицизм генная_инженерия \n",
      "\u001b[1;31m PARENT:  topic_17: биология экология зоология этология поведение_животных африка нобелевская_премия зоопсихология вирусология эволюционная_биология  \u001b[0m\n",
      "    topic_18: поведение_животных нобелевская_премия биология зоопсихология эволюционная_биология вирусология ботаника приматы естественный_отбор птицы \n",
      "    topic_45: биология человек физическая_антропология антропогенез антропология дарвин_чарльз вулканизм протоязык голосеменные широкогоров_сергей \n",
      "\u001b[1;31m PARENT:  topic_18: мозг искусственный_интеллект нейробиология нейрон нейрофизиология нейронные_сети сознание память нейропсихология принятие_решений  \u001b[0m\n",
      "    topic_43: искусственный_интеллект нейробиология нейрофизиология нейронные_сети принятие_решений теория_принятия_решений нервная_система синапс психофизиология интерфейс_мозг-компьютер \n",
      "\u001b[1;31m PARENT:  background_0: биология микробиология биотехнологии бактерии микробы клетка иммунитет климат вирус антибиотики  \u001b[0m\n",
      "    topic_4: биология коэволюция натуралисты клеточная_биология пестициды ген люфенгозавры ядро генетика нобель_альфред \n",
      "    topic_19: биология микробиология биотехнологии микробы бактерии корпус_языка корпусная_лингвистика антибиотики биотопливо когнитивная_лингвистика \n",
      "    topic_20: биология голосеменные оледенение дарвин_чарльз коренные_народы популяционная_биология метеорология эволюционная_биология гормоны трепанация \n",
      "    topic_22: биология клеточная_биология коэволюция crispr/cas9 натуралисты физика медицина экономика общество математика \n",
      "    topic_26: биология натуралисты crispr/cas9 коэволюция пестициды клеточная_биология ядро люфенгозавры ген геном \n",
      "    topic_34: микробиология биотехнологии бактерии биология микробы антибиотики бактериофаги эукариоты прокариоты клеточная_биология \n",
      "    topic_51: биология натуралисты коэволюция клеточная_биология пестициды люфенгозавры ген нобель_альфред нейродегенеративное_заболевание эпигенетика \n",
      "\n",
      " edges:  65\n",
      "60 topics have parents\n"
     ]
    }
   ],
   "source": [
    "child_topics = []\n",
    "output = ''\n",
    "related = 0\n",
    "for t, topic_name in enumerate(level0.topic_names):\n",
    "    child_topics.append([])\n",
    "    output += topic_name + ': '\n",
    "    for word in tokens0[topic_name][:10]:    \n",
    "        output += word + ' '\n",
    "    print(\"\\x1b[1;31m PARENT: \", output, '\\x1b[0m')\n",
    "    output=''\n",
    "    for s, topic_name1 in enumerate(level1.topic_names):\n",
    "        if (psi1.values[s, t] > threshold):\n",
    "            child_topics[t].append(topic_name1)\n",
    "            related += 1\n",
    "            output += \"    \"+ topic_name1 + ': '\n",
    "            for word in tokens1[topic_name1][:10]:    \n",
    "                output += word + ' '\n",
    "            print (output)\n",
    "            output =''\n",
    "print(\"\\n edges: \", related)\n",
    "\n",
    "related_topics = 0\n",
    "for row in (psi1.values>threshold):\n",
    "    if (sum(row) != 0):\n",
    "        related_topics += 1\n",
    "\n",
    "print(related_topics,\"topics have parents\")    "
   ]
  },
  {
   "cell_type": "code",
   "execution_count": 107,
   "metadata": {
    "collapsed": false,
    "deletable": true,
    "editable": true,
    "scrolled": false
   },
   "outputs": [
    {
     "name": "stdout",
     "output_type": "stream",
     "text": [
      "\u001b[1;31m PARENT:  topic_0: история_россии философия история политическая_философия история_философии античность археология русь платон аристотель  \u001b[0m\n",
      "    topic_0: философия античность археология русь аристотель платон архитектура украина россия этика \n",
      "    topic_21: философия религия смерть русский политический имя эпоха древний бог свобода \n",
      "    topic_27: философия университет марксизм феминизм идеология водород закон ученый капитализм дворянство \n",
      "\u001b[1;31m PARENT:  topic_1: эволюция антропология биология человек палеонтология геология антропогенез физиология происхождение_человека расоведение  \u001b[0m\n",
      "    topic_14: эволюция палеонтология физиология геология иммунология этнография неврология этнос раса homo \n",
      "    topic_20: вид группа развитие общий часть давать связь возникать показывать результат \n",
      "    topic_45: геология эволюция сон признак изменение древний жить период группа форма \n",
      "\u001b[1;31m PARENT:  topic_2: экономика география информационная_безопасность авторское_право финансовый_кризис финансовый_рынок экономическое_неравенство экономическое_развитие новая_институциональная_экономика коррупция  \u001b[0m\n",
      "    topic_2: экономика география компания рынок деньги проект бизнес клиент капитал промышленность \n",
      "\u001b[1;31m PARENT:  topic_3: культура литература массовая_культура культурология филология кино искусство литературоведение кинематограф театр  \u001b[0m\n",
      "    topic_3: культура литература искусство кинематограф театр кино ритуал авангард поэзия франция \n",
      "    topic_17: культура литература кино кинематограф музыка искусство поэзия театр ритуал авангард \n",
      "    topic_28: автор интересный показывать хороший конец выходить прочитывать представлять давать читать \n",
      "    topic_36: текст смысл писать написать русский пример интересный вещь сторона форма \n",
      "\u001b[1;31m PARENT:  topic_4: история политика ссср христианство религия германия власть востоковедение европа история_россии  \u001b[0m\n",
      "    topic_8: считать идея исторический сила конец великий сторона писать начало собственный \n",
      "    topic_21: философия религия смерть русский политический имя эпоха древний бог свобода \n",
      "    topic_24: политика германия религия ссср христианство власть франция европа ислам война \n",
      "    topic_46: страна советский европа революция отношение второй создавать выступать начало принимать \n",
      "    topic_48: политика европа цивилизация война политический национализм великобритания власть конституция партия \n",
      "    topic_49: христианство ссср политика религия власть историография германия ислам демократия франция \n",
      "\u001b[1;31m PARENT:  topic_5: астрономия астрофизика вселенная космос звезды галактика земля черные_дыры солнечная_система солнце  \u001b[0m\n",
      "    topic_13: результат составлять размер вещество поскольку открытие достаточно расширение основной небольшой \n",
      "    topic_47: астрофизика космос галактика планета солнце марс гравитация луна телескоп атмосфера \n",
      "    topic_57: астрофизика космос галактика солнце телескоп атмосфера гравитация планета звезда масса \n",
      "    background_0: энергия центр мало размер крупный масса данные проект оставаться количество \n",
      "\u001b[1;31m PARENT:  topic_6: язык лингвистика филология право русский_язык юриспруденция урбанистика грамматика римское_право речь  \u001b[0m\n",
      "    topic_6: право грамматика словарь фонетика лексика москва диалект диалектология морфология судопроизводство \n",
      "    topic_36: текст смысл писать написать русский пример интересный вещь сторона форма \n",
      "    topic_39: форма вид правило часть второй психолингвистика право тип предложение текст \n",
      "    topic_50: речь москва право рим лексика коммуникация грамматика фонетика психолингвистика русский \n",
      "    topic_58: право речь грамматика языкознание диалект праязык синтаксис словарь коммуникация фонетика \n",
      "\u001b[1;31m PARENT:  topic_7: социология город общество социология_повседневности городское_пространство дюркгейм_эмиль вебер_макс социология_пространства гоффман_эрвинг теория_фреймов  \u001b[0m\n",
      "    topic_7: город общество сообщество демография мода фрейм утопия класс оружие элита \n",
      "    topic_9: социальный общество отношение пространство класс объект представлять тип правило пример \n",
      "    topic_31: событие игра город объект отношение социальный общество пространство ситуация сообщество \n",
      "\u001b[1;31m PARENT:  topic_8: россия общество государство сша политология европа идентичность китай политика нация  \u001b[0m\n",
      "    topic_7: город общество сообщество демография мода фрейм утопия класс оружие элита \n",
      "    topic_30: россия сша общество государство политология китай япония европа глобализация нация \n",
      "    topic_38: россия общество государство политология европа сша англия китай нация политика \n",
      "    topic_48: политика европа цивилизация война политический национализм великобритания власть конституция партия \n",
      "\u001b[1;31m PARENT:  topic_9: психология интернет когнитивная_психология мышление социальные_сети интеллект сверхпроводимость стресс память внимание  \u001b[0m\n",
      "    topic_42: мышление внимание память ресурс информация задача решение зрение сеть интеллект \n",
      "    topic_56: психология интернет интеллект стресс сверхпроводимость мышление мотивация внимание психика кибернетика \n",
      "\u001b[1;31m PARENT:  topic_10: медицина биология генетика днк ген геном клетка онкология биомедицина белки  \u001b[0m\n",
      "    topic_1: медицина днк клетка рнк биохимия болезнь мутация биомедицина хирургия вирус \n",
      "    topic_4: клетка вирус биофизика вызывать работать многий уровень метод давать результат \n",
      "    topic_10: медицина биомедицина клетка биохимия днк мутация рак фармакология биофизика хирургия \n",
      "    topic_51: вирус организм биологический биофизика животное ученый белок вид метод форма \n",
      "    topic_59: клетка развитие медицина уровень помощь результат приводить метод орган ученый \n",
      "\u001b[1;31m PARENT:  topic_11: физика физика_элементарных_частиц квантовая_физика кварк элементарная_частица стандартная_модель большой_адронный_коллайдер бозон_хиггса магнитное_поле квантовая_механика  \u001b[0m\n",
      "    topic_5: движение поле свет описывать состояние сила помощь известный момент возникать \n",
      "    topic_11: свет гравитация электроника протон электрон лазер оптика поле адрон коллайдер \n",
      "    topic_15: результат момент создавать уровень представлять давать значение решать создание равный \n",
      "    topic_29: закон модель точка поле результат пространство направление область состоять представлять \n",
      "    topic_32: протон электроника энергия свет электрон частица коллайдер эксперимент кварк взаимодействие \n",
      "    topic_35: кварк симметрия электрон оптика лазер суперсимметрия коллайдер электроника спин криптография \n",
      "    topic_54: описывать сила общий возникать результат второй высокий давать оставаться пример \n",
      "\u001b[1;31m PARENT:  topic_12: философия наука история_науки университет гендер кант_иммануил академическая_среда марксизм социология_науки маркс_карл  \u001b[0m\n",
      "    topic_12: университет энергетика философия марксизм личность суд феминизм закон научный магия \n",
      "    topic_27: философия университет марксизм феминизм идеология водород закон ученый капитализм дворянство \n",
      "    topic_37: статья работать проект задача решение знание качество область практика создавать \n",
      "    topic_41: научный философия личность автор статья деятельность университет знание идея интерес \n",
      "\u001b[1;31m PARENT:  topic_13: химия нанотехнологии космология материаловедение темная_материя реликтовое_излучение кристалл наноматериалы космическая_инфляция кристаллография  \u001b[0m\n",
      "    topic_13: результат составлять размер вещество поскольку открытие достаточно расширение основной небольшой \n",
      "    topic_23: структура элемент метод связь реакция вещество область технология электронный свойство \n",
      "    topic_44: материаловедение кристалл кристаллография углерод микроскопия катализ спектроскопия микроэлектроника фтор катализатор \n",
      "    topic_53: материал высокий свойство метод температура элемент число простой вещество использовать \n",
      "\u001b[1;31m PARENT:  topic_14: образование школа общество медиа майя детство мораль мезоамерика немецкая_классическая_философия палеоботаника  \u001b[0m\n",
      "    topic_40: образование школа медиа общество майя детство мораль мезоамерика чтение мексика \n",
      "\u001b[1;31m PARENT:  topic_15: технологии математика информационные_технологии информатика робототехника computer_science робот машинное_обучение геометрия топология  \u001b[0m\n",
      "    topic_25: математика информатика робот геометрия алгебра задача код частица статистика gps \n",
      "    topic_33: данные статистика программа разработка компьютер программист математика информация функция использовать \n",
      "    topic_52: решение программа управление использовать проект подход возможность часть задача создание \n",
      "\u001b[1;31m PARENT:  topic_16: средневековье молекулярная_биология мифология биоинформатика фольклор фольклористика миф геномика секвенирование католицизм  \u001b[0m\n",
      "    topic_16: средневековье мифология биоинформатика миф геномика дизайн испания папство обряд колонизация \n",
      "    topic_55: сторона заниматься давать место видеть представление род конец начинаться определенный \n",
      "\u001b[1;31m PARENT:  topic_17: биология экология зоология этология поведение_животных африка нобелевская_премия зоопсихология вирусология логика  \u001b[0m\n",
      "    topic_18: экология зоология этология африка логика библиотека агрессия мышление животное самец \n",
      "    topic_51: вирус организм биологический биофизика животное ученый белок вид метод форма \n",
      "\u001b[1;31m PARENT:  topic_18: мозг искусственный_интеллект нейробиология нейрон нейрофизиология нейронные_сети сознание память нейропсихология принятие_решений  \u001b[0m\n",
      "    topic_42: мышление внимание память ресурс информация задача решение зрение сеть интеллект \n",
      "    topic_43: мозг нейрон сознание память нейропсихология климат сон нейронаука справедливость эпистемология \n",
      "\u001b[1;31m PARENT:  background_0: биология микробиология биотехнологии бактерии микробы клетка иммунитет биофизика антибиотики вирус  \u001b[0m\n",
      "    topic_4: клетка вирус биофизика вызывать работать многий уровень метод давать результат \n",
      "    topic_19: работать технология вид часть нужный вариант топливо условие качество деталь \n",
      "    topic_22: место находиться небольшой часть количество использовать второй показывать позволять достаточно \n",
      "    topic_26: часто количество заниматься способ находить сложный тип позволять основной помогать \n",
      "    topic_34: иммунитет клетка биофизика белок кислород метаболизм нефть вирус климат питание \n",
      "    topic_51: вирус организм биологический биофизика животное ученый белок вид метод форма \n",
      "\n",
      " edges:  71\n",
      "61 topics have parents\n"
     ]
    }
   ],
   "source": [
    "child_topics = []\n",
    "output = ''\n",
    "related = 0\n",
    "for t, topic_name in enumerate(level0.topic_names):\n",
    "    child_topics.append([])\n",
    "    output += topic_name + ': '\n",
    "    for word in tokens0[topic_name][:10]:    \n",
    "        output += word + ' '\n",
    "    print(\"\\x1b[1;31m PARENT: \", output, '\\x1b[0m')\n",
    "    output=''\n",
    "    for s, topic_name1 in enumerate(level1.topic_names):\n",
    "        if (psi1.values[s, t] > threshold):\n",
    "            child_topics[t].append(topic_name1)\n",
    "            related += 1\n",
    "            output += \"    \"+ topic_name1 + ': '\n",
    "            for word in tokens1[topic_name1][:10]:    \n",
    "                output += word + ' '\n",
    "            print (output)\n",
    "            output =''\n",
    "print(\"\\n edges: \", related)\n",
    "\n",
    "related_topics = 0\n",
    "for row in (psi1.values>threshold):\n",
    "    if (sum(row) != 0):\n",
    "        related_topics += 1\n",
    "\n",
    "print(related_topics,\"topics have parents\")    "
   ]
  },
  {
   "cell_type": "markdown",
   "metadata": {
    "deletable": true,
    "editable": true
   },
   "source": [
    "### Модель Постнауки"
   ]
  },
  {
   "cell_type": "code",
   "execution_count": 116,
   "metadata": {
    "collapsed": false,
    "deletable": true,
    "editable": true
   },
   "outputs": [
    {
     "data": {
      "text/plain": [
       "[4014.377057868622,\n",
       " 3997.412386903887,\n",
       " 3983.4014716661077,\n",
       " 3971.371280361148,\n",
       " 3961.1586255593693]"
      ]
     },
     "execution_count": 116,
     "metadata": {},
     "output_type": "execute_result"
    }
   ],
   "source": [
    "level0.score_tracker[\"PerplexityScore\"].value[-5:]"
   ]
  },
  {
   "cell_type": "code",
   "execution_count": 117,
   "metadata": {
    "collapsed": false,
    "deletable": true,
    "editable": true
   },
   "outputs": [
    {
     "data": {
      "text/plain": [
       "[1658.0593815180423,\n",
       " 1690.214988651034,\n",
       " 1735.0400707548297,\n",
       " 1774.8115995426745,\n",
       " 1808.6524507405409]"
      ]
     },
     "execution_count": 117,
     "metadata": {},
     "output_type": "execute_result"
    }
   ],
   "source": [
    "level1.score_tracker[\"PerplexityScore\"].value[-5:]"
   ]
  },
  {
   "cell_type": "code",
   "execution_count": 118,
   "metadata": {
    "collapsed": false,
    "deletable": true,
    "editable": true
   },
   "outputs": [
    {
     "ename": "KeyError",
     "evalue": "'Top10Tokens'",
     "output_type": "error",
     "traceback": [
      "\u001b[0;31m---------------------------------------------------------------------------\u001b[0m",
      "\u001b[0;31mKeyError\u001b[0m                                  Traceback (most recent call last)",
      "\u001b[0;32m<ipython-input-118-127b7c2ff45b>\u001b[0m in \u001b[0;36m<module>\u001b[0;34m()\u001b[0m\n\u001b[0;32m----> 1\u001b[0;31m \u001b[0mprint\u001b[0m\u001b[0;34m(\u001b[0m\u001b[0;34m\"\\n\"\u001b[0m\u001b[0;34m.\u001b[0m\u001b[0mjoin\u001b[0m\u001b[0;34m(\u001b[0m\u001b[0;34m[\u001b[0m\u001b[0mk\u001b[0m \u001b[0;34m+\u001b[0m \u001b[0;34m\": \"\u001b[0m \u001b[0;34m+\u001b[0m \u001b[0;34m\" \"\u001b[0m\u001b[0;34m.\u001b[0m\u001b[0mjoin\u001b[0m\u001b[0;34m(\u001b[0m\u001b[0mv\u001b[0m\u001b[0;34m)\u001b[0m \u001b[0;32mfor\u001b[0m \u001b[0mk\u001b[0m\u001b[0;34m,\u001b[0m \u001b[0mv\u001b[0m \u001b[0;32min\u001b[0m \u001b[0mlevel0\u001b[0m\u001b[0;34m.\u001b[0m\u001b[0mscore_tracker\u001b[0m\u001b[0;34m[\u001b[0m\u001b[0;34m\"Top10Tokens\"\u001b[0m\u001b[0;34m]\u001b[0m\u001b[0;34m.\u001b[0m\u001b[0mlast_tokens\u001b[0m\u001b[0;34m.\u001b[0m\u001b[0mitems\u001b[0m\u001b[0;34m(\u001b[0m\u001b[0;34m)\u001b[0m\u001b[0;34m]\u001b[0m\u001b[0;34m)\u001b[0m\u001b[0;34m)\u001b[0m\u001b[0;34m\u001b[0m\u001b[0m\n\u001b[0m",
      "\u001b[0;31mKeyError\u001b[0m: 'Top10Tokens'"
     ]
    }
   ],
   "source": [
    "print(\"\\n\".join([k + \": \" + \" \".join(v) for k, v in level0.score_tracker[\"Top10Tokens\"].last_tokens.items()]))"
   ]
  },
  {
   "cell_type": "code",
   "execution_count": 119,
   "metadata": {
    "collapsed": false,
    "deletable": true,
    "editable": true
   },
   "outputs": [
    {
     "ename": "KeyError",
     "evalue": "'Top10Tokens'",
     "output_type": "error",
     "traceback": [
      "\u001b[0;31m---------------------------------------------------------------------------\u001b[0m",
      "\u001b[0;31mKeyError\u001b[0m                                  Traceback (most recent call last)",
      "\u001b[0;32m<ipython-input-119-27b83285928f>\u001b[0m in \u001b[0;36m<module>\u001b[0;34m()\u001b[0m\n\u001b[0;32m----> 1\u001b[0;31m \u001b[0mprint\u001b[0m\u001b[0;34m(\u001b[0m\u001b[0;34m\"\\n\"\u001b[0m\u001b[0;34m.\u001b[0m\u001b[0mjoin\u001b[0m\u001b[0;34m(\u001b[0m\u001b[0;34m[\u001b[0m\u001b[0mk\u001b[0m \u001b[0;34m+\u001b[0m \u001b[0;34m\": \"\u001b[0m \u001b[0;34m+\u001b[0m \u001b[0;34m\" \"\u001b[0m\u001b[0;34m.\u001b[0m\u001b[0mjoin\u001b[0m\u001b[0;34m(\u001b[0m\u001b[0mv\u001b[0m\u001b[0;34m)\u001b[0m \u001b[0;32mfor\u001b[0m \u001b[0mk\u001b[0m\u001b[0;34m,\u001b[0m \u001b[0mv\u001b[0m \u001b[0;32min\u001b[0m \u001b[0mlevel1\u001b[0m\u001b[0;34m.\u001b[0m\u001b[0mscore_tracker\u001b[0m\u001b[0;34m[\u001b[0m\u001b[0;34m\"Top10Tokens\"\u001b[0m\u001b[0;34m]\u001b[0m\u001b[0;34m.\u001b[0m\u001b[0mlast_tokens\u001b[0m\u001b[0;34m.\u001b[0m\u001b[0mitems\u001b[0m\u001b[0;34m(\u001b[0m\u001b[0;34m)\u001b[0m\u001b[0;34m]\u001b[0m\u001b[0;34m)\u001b[0m\u001b[0;34m)\u001b[0m\u001b[0;34m\u001b[0m\u001b[0m\n\u001b[0m",
      "\u001b[0;31mKeyError\u001b[0m: 'Top10Tokens'"
     ]
    }
   ],
   "source": [
    "print(\"\\n\".join([k + \": \" + \" \".join(v) for k, v in level1.score_tracker[\"Top10Tokens\"].last_tokens.items()]))"
   ]
  },
  {
   "cell_type": "code",
   "execution_count": null,
   "metadata": {
    "collapsed": false,
    "deletable": true,
    "editable": true
   },
   "outputs": [],
   "source": [
    "level0.score_tracker[\"Top10Tokens\"].last_average_coherence"
   ]
  },
  {
   "cell_type": "code",
   "execution_count": null,
   "metadata": {
    "collapsed": false,
    "deletable": true,
    "editable": true
   },
   "outputs": [],
   "source": [
    "level1.score_tracker[\"Top10Tokens\"].last_average_coherence"
   ]
  },
  {
   "cell_type": "markdown",
   "metadata": {
    "deletable": true,
    "editable": true
   },
   "source": [
    "### Предлагаемый алгоритм"
   ]
  },
  {
   "cell_type": "code",
   "execution_count": null,
   "metadata": {
    "collapsed": false,
    "deletable": true,
    "editable": true
   },
   "outputs": [],
   "source": [
    "level0.score_tracker[\"PerplexityScore\"].value[-5:]"
   ]
  },
  {
   "cell_type": "code",
   "execution_count": null,
   "metadata": {
    "collapsed": false,
    "deletable": true,
    "editable": true
   },
   "outputs": [],
   "source": [
    "level1.score_tracker[\"PerplexityScore\"].value[-5:]"
   ]
  },
  {
   "cell_type": "code",
   "execution_count": null,
   "metadata": {
    "collapsed": false,
    "deletable": true,
    "editable": true
   },
   "outputs": [],
   "source": [
    "print(\"\\n\".join([k + \": \" + \" \".join(v) for k, v in level0.score_tracker[\"Top10Tokens\"].last_tokens.items()]))"
   ]
  },
  {
   "cell_type": "code",
   "execution_count": null,
   "metadata": {
    "collapsed": false,
    "deletable": true,
    "editable": true
   },
   "outputs": [],
   "source": [
    "print(\"\\n\".join([k + \": \" + \" \".join(v) for k, v in level1.score_tracker[\"Top10Tokens\"].last_tokens.items()]))"
   ]
  },
  {
   "cell_type": "code",
   "execution_count": null,
   "metadata": {
    "collapsed": false,
    "deletable": true,
    "editable": true
   },
   "outputs": [],
   "source": [
    "level0.score_tracker[\"Top10Tokens\"].last_average_coherence"
   ]
  },
  {
   "cell_type": "code",
   "execution_count": null,
   "metadata": {
    "collapsed": false,
    "deletable": true,
    "editable": true
   },
   "outputs": [],
   "source": [
    "level1.score_tracker[\"Top10Tokens\"].last_average_coherence"
   ]
  },
  {
   "cell_type": "code",
   "execution_count": null,
   "metadata": {
    "collapsed": false,
    "deletable": true,
    "editable": true
   },
   "outputs": [],
   "source": [
    "%%time\n",
    "\n",
    "docs_lengths = {}\n",
    "\n",
    "for doc in map(get_document, docs_ids):\n",
    "    docs_lengths[doc[\"_id\"]] = len(doc[\"modalities\"][\"text\"])"
   ]
  },
  {
   "cell_type": "code",
   "execution_count": null,
   "metadata": {
    "collapsed": false,
    "deletable": true,
    "editable": true
   },
   "outputs": [],
   "source": [
    "theta0 = level0.get_theta()\n",
    "\n",
    "docs_lengths_series = pd.Series(docs_lengths)\n",
    "pn_docs_ids = list(filter(lambda doc_id: doc_id.startswith(\"pn_\"), docs_ids))\n",
    "n_pn_topics = theta0[pn_docs_ids].dot(docs_lengths_series.loc[pn_docs_ids])\n",
    "n_topics = theta0.dot(docs_lengths_series)\n",
    "n_topics /= n_topics.sum()\n",
    "\n",
    "plt.figure(figsize=(12, 8))\n",
    "plt.scatter(n_topics[:-1], n_pn_topics[:-1])\n",
    "plt.xlabel(\"$p(t)$\")\n",
    "plt.ylabel(\"$n_t^{ПН}$\")\n",
    "#plt.xlim([0, 0.02])\n",
    "#plt.ylim([0, 25000])\n",
    "plt.show()"
   ]
  },
  {
   "cell_type": "code",
   "execution_count": null,
   "metadata": {
    "collapsed": false,
    "deletable": true,
    "editable": true
   },
   "outputs": [],
   "source": [
    "theta1 = level1.get_theta()\n",
    "\n",
    "docs_lengths_series = pd.Series(docs_lengths)\n",
    "pn_docs_ids = list(filter(lambda doc_id: doc_id.startswith(\"pn_\"), docs_ids))\n",
    "n_pn_topics = theta1[pn_docs_ids].dot(docs_lengths_series.loc[pn_docs_ids])\n",
    "n_topics = theta1.dot(docs_lengths_series)\n",
    "n_topics /= n_topics.sum()\n",
    "\n",
    "plt.figure(figsize=(12, 8))\n",
    "plt.scatter(n_topics, n_pn_topics)\n",
    "plt.xlabel(\"$p(t)$\")\n",
    "plt.ylabel(\"$n_t^{ПН}$\")\n",
    "#plt.xlim([0, 0.02])\n",
    "#plt.ylim([0, 25000])\n",
    "plt.show()"
   ]
  },
  {
   "cell_type": "markdown",
   "metadata": {
    "deletable": true,
    "editable": true
   },
   "source": [
    "### Базовый алгоритм"
   ]
  },
  {
   "cell_type": "code",
   "execution_count": null,
   "metadata": {
    "collapsed": false,
    "deletable": true,
    "editable": true
   },
   "outputs": [],
   "source": [
    "level0.score_tracker[\"PerplexityScore\"].value[-5:]"
   ]
  },
  {
   "cell_type": "code",
   "execution_count": null,
   "metadata": {
    "collapsed": false,
    "deletable": true,
    "editable": true
   },
   "outputs": [],
   "source": [
    "level1.score_tracker[\"PerplexityScore\"].value[-5:]"
   ]
  },
  {
   "cell_type": "code",
   "execution_count": null,
   "metadata": {
    "collapsed": false,
    "deletable": true,
    "editable": true
   },
   "outputs": [],
   "source": [
    "print(\"\\n\".join([k + \": \" + \" \".join(v) for k, v in level0.score_tracker[\"Top10Tokens\"].last_tokens.items()]))"
   ]
  },
  {
   "cell_type": "code",
   "execution_count": null,
   "metadata": {
    "collapsed": false,
    "deletable": true,
    "editable": true
   },
   "outputs": [],
   "source": [
    "print(\"\\n\".join([k + \": \" + \" \".join(v) for k, v in level1.score_tracker[\"Top10Tokens\"].last_tokens.items()]))"
   ]
  },
  {
   "cell_type": "code",
   "execution_count": null,
   "metadata": {
    "collapsed": false,
    "deletable": true,
    "editable": true
   },
   "outputs": [],
   "source": [
    "level0.score_tracker[\"Top10Tokens\"].last_average_coherence"
   ]
  },
  {
   "cell_type": "code",
   "execution_count": null,
   "metadata": {
    "collapsed": false,
    "deletable": true,
    "editable": true
   },
   "outputs": [],
   "source": [
    "level1.score_tracker[\"Top10Tokens\"].last_average_coherence"
   ]
  },
  {
   "cell_type": "code",
   "execution_count": null,
   "metadata": {
    "collapsed": false,
    "deletable": true,
    "editable": true
   },
   "outputs": [],
   "source": [
    "%%time\n",
    "\n",
    "docs_lengths = {}\n",
    "\n",
    "for doc in map(get_document, docs_ids):\n",
    "    docs_lengths[doc[\"_id\"]] = len(doc[\"modalities\"][\"text\"])"
   ]
  },
  {
   "cell_type": "code",
   "execution_count": null,
   "metadata": {
    "collapsed": false,
    "deletable": true,
    "editable": true
   },
   "outputs": [],
   "source": [
    "theta0 = level0.get_theta()\n",
    "\n",
    "docs_lengths_series = pd.Series(docs_lengths)\n",
    "pn_docs_ids = list(filter(lambda doc_id: doc_id.startswith(\"pn_\"), docs_ids))\n",
    "n_pn_topics = theta0[pn_docs_ids].dot(docs_lengths_series.loc[pn_docs_ids])\n",
    "n_topics = theta0.dot(docs_lengths_series)\n",
    "n_topics /= n_topics.sum()\n",
    "\n",
    "plt.figure(figsize=(12, 8))\n",
    "plt.scatter(n_topics[:-1], n_pn_topics[:-1])\n",
    "plt.xlabel(\"$p(t)$\")\n",
    "plt.ylabel(\"$n_t^{ПН}$\")\n",
    "#plt.xlim([0, 0.02])\n",
    "#plt.ylim([0, 25000])\n",
    "plt.show()"
   ]
  },
  {
   "cell_type": "code",
   "execution_count": null,
   "metadata": {
    "collapsed": false,
    "deletable": true,
    "editable": true
   },
   "outputs": [],
   "source": [
    "theta1 = level1.get_theta()\n",
    "\n",
    "docs_lengths_series = pd.Series(docs_lengths)\n",
    "pn_docs_ids = list(filter(lambda doc_id: doc_id.startswith(\"pn_\"), docs_ids))\n",
    "n_pn_topics = theta1[pn_docs_ids].dot(docs_lengths_series.loc[pn_docs_ids])\n",
    "n_topics = theta1.dot(docs_lengths_series)\n",
    "n_topics /= n_topics.sum()\n",
    "\n",
    "plt.figure(figsize=(12, 8))\n",
    "plt.scatter(n_topics, n_pn_topics)\n",
    "plt.xlabel(\"$p(t)$\")\n",
    "plt.ylabel(\"$n_t^{ПН}$\")\n",
    "#plt.xlim([0, 0.02])\n",
    "#plt.ylim([0, 25000])\n",
    "plt.show()"
   ]
  },
  {
   "cell_type": "markdown",
   "metadata": {
    "deletable": true,
    "editable": true
   },
   "source": [
    "**NB**: в конце провести эксперимент на перемешанном clf_output -- гипотеза о независимости качества от порядка вливания документов в ТМ."
   ]
  },
  {
   "cell_type": "markdown",
   "metadata": {
    "deletable": true,
    "editable": true
   },
   "source": [
    "---"
   ]
  },
  {
   "cell_type": "markdown",
   "metadata": {
    "deletable": true,
    "editable": true
   },
   "source": [
    "---"
   ]
  }
 ],
 "metadata": {
  "kernelspec": {
   "display_name": "Python 3",
   "language": "python",
   "name": "python3"
  },
  "language_info": {
   "codemirror_mode": {
    "name": "ipython",
    "version": 3
   },
   "file_extension": ".py",
   "mimetype": "text/x-python",
   "name": "python",
   "nbconvert_exporter": "python",
   "pygments_lexer": "ipython3",
   "version": "3.5.3"
  },
  "latex_envs": {
   "bibliofile": "biblio.bib",
   "cite_by": "apalike",
   "current_citInitial": 1,
   "eqLabelWithNumbers": true,
   "eqNumInitial": 0
  }
 },
 "nbformat": 4,
 "nbformat_minor": 2
}
