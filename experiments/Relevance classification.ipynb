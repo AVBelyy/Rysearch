{
 "cells": [
  {
   "cell_type": "code",
   "execution_count": 1,
   "metadata": {
    "collapsed": true
   },
   "outputs": [],
   "source": [
    "%reload_ext autoreload\n",
    "%autoreload 2"
   ]
  },
  {
   "cell_type": "code",
   "execution_count": 2,
   "metadata": {
    "collapsed": true,
    "deletable": true,
    "editable": true
   },
   "outputs": [],
   "source": [
    "import numpy as np\n",
    "import pandas as pd\n",
    "from matplotlib import pyplot as plt\n",
    "import seaborn as sns\n",
    "import collections\n",
    "import itertools\n",
    "import pickle\n",
    "import urllib\n",
    "import pymongo\n",
    "import json\n",
    "import operator\n",
    "import regex\n",
    "import pymorphy2\n",
    "import re\n",
    "from io import StringIO\n",
    "\n",
    "%matplotlib inline"
   ]
  },
  {
   "cell_type": "code",
   "execution_count": 3,
   "metadata": {
    "collapsed": false,
    "deletable": true,
    "editable": true
   },
   "outputs": [
    {
     "name": "stderr",
     "output_type": "stream",
     "text": [
      "/Users/aksholokhov/.anaconda3/lib/python3.6/site-packages/sklearn/cross_validation.py:44: DeprecationWarning: This module was deprecated in version 0.18 in favor of the model_selection module into which all the refactored classes and functions are moved. Also note that the interface of the new CV iterators are different from that of this module. This module will be removed in 0.20.\n",
      "  \"This module will be removed in 0.20.\", DeprecationWarning)\n"
     ]
    }
   ],
   "source": [
    "from sklearn.ensemble import RandomForestClassifier, GradientBoostingClassifier\n",
    "from sklearn.pipeline import Pipeline\n",
    "from sklearn.linear_model import LogisticRegression\n",
    "from sklearn.cross_validation import cross_val_score, StratifiedKFold\n",
    "from sklearn.model_selection import RandomizedSearchCV, GridSearchCV\n",
    "from sklearn.svm import SVC\n",
    "from sklearn.preprocessing import normalize\n",
    "from sklearn.metrics import accuracy_score, precision_recall_curve, make_scorer, roc_auc_score\n",
    "from sklearn.feature_selection import RFECV, SelectKBest"
   ]
  },
  {
   "cell_type": "code",
   "execution_count": 264,
   "metadata": {
    "collapsed": false
   },
   "outputs": [],
   "source": [
    "from parsers import arbitrary, text_utils\n",
    "import artm\n",
    "import hierarchy_utils\n",
    "\n",
    "T = lambda lid, tid: \"level_%d_%s\" % (lid, tid)\n",
    "\n",
    "def from_artm_tid(artm_tid):\n",
    "    # This is due to hARTM bug\n",
    "    if artm_tid.startswith(\"level_0_\"):\n",
    "        return (0, artm_tid[8:])\n",
    "    else:\n",
    "        lid, tid = artm_tid[5:].split(\"_\", 1)\n",
    "        lid = int(lid)\n",
    "        return (lid, tid)\n",
    "\n",
    "TRANSFORM_PATH = \"transform.txt\"\n",
    "MODEL_PATH = \"hartm/\"\n",
    "BATCH_PATH = \"transform_batches/\"\n",
    "EXPORT_PATH = \"classifier_output.csv\"\n",
    "\n",
    "english_letters = \"qwertyuiopasdfghjklzxcvbnm\"\n",
    "russian_letters = \"йцукенгшщзфывапролдячсмитьб\"\n",
    "non_letters = \"<>№%*()-_+={[|/]}\\\\\"\n",
    "code_elements = [\"return\", \"if\", \"else\", \"for\", \"while\", \"main\", \"import\", \"define\"]\n",
    "non_scipop_words = [\"новость\", \"туториал\", \"недавно\", \"событие\", \"встреча\", \"via\"]\n",
    "scipop_words = [\"открытие\", \"исследование\", \"ученые\", \"принцип\"]"
   ]
  },
  {
   "cell_type": "markdown",
   "metadata": {},
   "source": [
    "## Модель и документы"
   ]
  },
  {
   "cell_type": "code",
   "execution_count": 8,
   "metadata": {
    "collapsed": true
   },
   "outputs": [],
   "source": [
    "db = pymongo.MongoClient()"
   ]
  },
  {
   "cell_type": "code",
   "execution_count": 9,
   "metadata": {
    "collapsed": true
   },
   "outputs": [],
   "source": [
    "prefix_to_col_name_map = {\"habr\": \"habrahabr\", \"pn\": \"postnauka\"}\n",
    "\n",
    "def get_document(doc_id):\n",
    "    prefix, _ = doc_id.split(\"_\", 1)\n",
    "    col_name = prefix_to_col_name_map[prefix]\n",
    "    return db[\"datasets\"][col_name].find_one({\"_id\": doc_id})"
   ]
  },
  {
   "cell_type": "code",
   "execution_count": 10,
   "metadata": {
    "collapsed": false
   },
   "outputs": [],
   "source": [
    "all_habrahabr_ids = set(map(lambda r: r[\"_id\"], db[\"datasets\"][\"habrahabr\"].find({}, {\"_id\": 1})))"
   ]
  },
  {
   "cell_type": "code",
   "execution_count": 13,
   "metadata": {
    "collapsed": true
   },
   "outputs": [],
   "source": [
    "with open(\"reduced_habr_docs_ids.txt\", \"r\") as f:\n",
    "    reduced_habrahabr_ids = set(map(str.strip, f.readlines()))"
   ]
  },
  {
   "cell_type": "code",
   "execution_count": 21,
   "metadata": {
    "collapsed": true
   },
   "outputs": [],
   "source": [
    "almost_all_habrahabr_ids = list(all_habrahabr_ids - reduced_habrahabr_ids)"
   ]
  },
  {
   "cell_type": "code",
   "execution_count": 22,
   "metadata": {
    "collapsed": false
   },
   "outputs": [
    {
     "data": {
      "text/plain": [
       "60655"
      ]
     },
     "execution_count": 22,
     "metadata": {},
     "output_type": "execute_result"
    }
   ],
   "source": [
    "len(almost_all_habrahabr_ids)"
   ]
  },
  {
   "cell_type": "code",
   "execution_count": 592,
   "metadata": {
    "collapsed": false
   },
   "outputs": [],
   "source": [
    "train_idx, train_data = zip(*[(row[\"_id\"], row[\"is_relevant\"]) for row in db[\"assessment\"][\"habrahabr\"].find()\n",
    "                               .sort(\"assess_time\", 1)])\n",
    "train_y = pd.Series(data=train_data, index=train_idx)\n",
    "all_docs_y = list(map(lambda r: r[\"_id\"], db[\"datasets\"][\"habrahabr\"].find({}, {\"_id\": 1})))\n",
    "train_y = train_y.map(lambda t: 1 if t else -1)"
   ]
  },
  {
   "cell_type": "code",
   "execution_count": 594,
   "metadata": {
    "collapsed": false
   },
   "outputs": [
    {
     "data": {
      "text/plain": [
       "841"
      ]
     },
     "execution_count": 594,
     "metadata": {},
     "output_type": "execute_result"
    }
   ],
   "source": [
    "len(train_y[train_y == -1])"
   ]
  },
  {
   "cell_type": "code",
   "execution_count": 296,
   "metadata": {
    "collapsed": true
   },
   "outputs": [],
   "source": [
    "pn_docs_ids = list(map(lambda r: r[\"_id\"], db[\"datasets\"][\"postnauka\"].find({}, {\"_id\": 1})))"
   ]
  },
  {
   "cell_type": "code",
   "execution_count": 202,
   "metadata": {
    "collapsed": true
   },
   "outputs": [],
   "source": [
    "last_y = train_y[1000:]"
   ]
  },
  {
   "cell_type": "code",
   "execution_count": 203,
   "metadata": {
    "collapsed": false
   },
   "outputs": [],
   "source": [
    "train_y = pd.concat([train_y[train_y == 1], last_y[last_y==-1]])"
   ]
  },
  {
   "cell_type": "code",
   "execution_count": 36,
   "metadata": {
    "collapsed": false
   },
   "outputs": [
    {
     "name": "stdout",
     "output_type": "stream",
     "text": [
      "CPU times: user 49 s, sys: 15.7 s, total: 1min 4s\n",
      "Wall time: 1min 32s\n"
     ]
    }
   ],
   "source": [
    "%%time\n",
    "\n",
    "all_docs = list(map(get_document, all_docs_y))"
   ]
  },
  {
   "cell_type": "code",
   "execution_count": 299,
   "metadata": {
    "collapsed": true
   },
   "outputs": [],
   "source": [
    "pn_docs = list(map(get_document, pn_docs_ids))"
   ]
  },
  {
   "cell_type": "code",
   "execution_count": 518,
   "metadata": {
    "collapsed": true
   },
   "outputs": [],
   "source": [
    "train_docs = list(map(get_document, train_y.index))"
   ]
  },
  {
   "cell_type": "code",
   "execution_count": 7,
   "metadata": {
    "collapsed": true
   },
   "outputs": [],
   "source": [
    "all_habr_docs = list(map(get_document, all_habrahabr_ids))"
   ]
  },
  {
   "cell_type": "code",
   "execution_count": 265,
   "metadata": {
    "collapsed": false
   },
   "outputs": [],
   "source": [
    "artm_model = hierarchy_utils.hARTM(theta_columns_naming=\"title\",\n",
    "                                   cache_theta=True)\n",
    "artm_model.load(MODEL_PATH)"
   ]
  },
  {
   "cell_type": "code",
   "execution_count": 266,
   "metadata": {
    "collapsed": false
   },
   "outputs": [],
   "source": [
    "artm_extra_info = pickle.load(open(MODEL_PATH + \"/extra_info.dump\", \"rb\"))"
   ]
  },
  {
   "cell_type": "code",
   "execution_count": 267,
   "metadata": {
    "collapsed": false
   },
   "outputs": [
    {
     "data": {
      "text/plain": [
       "(80, 6234)"
      ]
     },
     "execution_count": 267,
     "metadata": {},
     "output_type": "execute_result"
    }
   ],
   "source": [
    "artm_extra_info[\"theta\"].shape"
   ]
  },
  {
   "cell_type": "markdown",
   "metadata": {},
   "source": [
    "## Эксперименты со спектром"
   ]
  },
  {
   "cell_type": "markdown",
   "metadata": {},
   "source": [
    "К классификатору это не относится"
   ]
  },
  {
   "cell_type": "code",
   "execution_count": 268,
   "metadata": {
    "collapsed": false
   },
   "outputs": [],
   "source": [
    "from arranging.api import arrange_topics\n",
    "import arranging.api as api\n",
    "from arranging.crossmin import CrossMinimizer"
   ]
  },
  {
   "cell_type": "code",
   "execution_count": 270,
   "metadata": {
    "collapsed": true
   },
   "outputs": [],
   "source": [
    "# Extract Phi, Psi and Theta matrices\n",
    "phis = []\n",
    "psis = []\n",
    "#theta = artm_extra_info[\"theta\"]\n",
    "# theta = pickle.load(open(THETA_MODEL_PATH, \"rb\"))[\"theta\"]\n",
    "for level_idx, artm_level in enumerate(artm_model._levels):\n",
    "    phis.append(artm_level.get_phi(class_ids=\"flat_tag\"))\n",
    "    if level_idx > 0:\n",
    "        psis.append(artm_level.get_psi())\n",
    "        \n",
    "phi0_topic_titles = list(filter(lambda x: x.startswith(\"topic\"), phis[0].columns))\n",
    "phi1_topic_titles = list(filter(lambda x: x.startswith(\"topic\"), phis[1].columns))"
   ]
  },
  {
   "cell_type": "code",
   "execution_count": 276,
   "metadata": {
    "collapsed": false
   },
   "outputs": [
    {
     "data": {
      "text/plain": [
       "Index(['topic_58', 'topic_6', 'topic_19', 'topic_36', 'topic_3', 'topic_59',\n",
       "       'topic_30', 'topic_38', 'topic_5', 'topic_49', 'topic_0', 'topic_21',\n",
       "       'topic_50', 'topic_55', 'topic_16', 'topic_2', 'topic_46', 'topic_20',\n",
       "       'topic_56', 'topic_52', 'topic_24', 'topic_53', 'topic_4', 'topic_22',\n",
       "       'topic_34', 'topic_26', 'topic_33', 'topic_42', 'topic_51', 'topic_45',\n",
       "       'topic_18', 'topic_28', 'topic_37', 'topic_40', 'topic_12', 'topic_31',\n",
       "       'topic_7', 'topic_10', 'topic_14', 'topic_1', 'topic_48', 'topic_17',\n",
       "       'topic_23', 'topic_39', 'topic_43', 'topic_8', 'topic_9', 'topic_41',\n",
       "       'topic_44', 'topic_13', 'topic_29', 'topic_15', 'topic_54', 'topic_35',\n",
       "       'topic_32', 'topic_11', 'topic_27', 'topic_57', 'topic_25', 'topic_47'],\n",
       "      dtype='object')"
      ]
     },
     "execution_count": 276,
     "metadata": {},
     "output_type": "execute_result"
    }
   ],
   "source": [
    "psis[0].index"
   ]
  },
  {
   "cell_type": "code",
   "execution_count": 274,
   "metadata": {
    "collapsed": false
   },
   "outputs": [
    {
     "data": {
      "text/plain": [
       "array(['topic_58', 'topic_6', 'topic_19', 'topic_36', 'topic_3',\n",
       "       'topic_59', 'topic_30', 'topic_38', 'topic_5', 'topic_49',\n",
       "       'topic_0', 'topic_21', 'topic_50', 'topic_55', 'topic_16',\n",
       "       'topic_2', 'topic_46', 'topic_20', 'topic_56', 'topic_52',\n",
       "       'topic_24', 'topic_53', 'topic_4', 'topic_22', 'topic_34',\n",
       "       'topic_26', 'topic_33', 'topic_42', 'topic_51', 'topic_45',\n",
       "       'topic_18', 'topic_28', 'topic_37', 'topic_40', 'topic_12',\n",
       "       'topic_31', 'topic_7', 'topic_10', 'topic_14', 'topic_1',\n",
       "       'topic_48', 'topic_17', 'topic_23', 'topic_39', 'topic_43',\n",
       "       'topic_8', 'topic_9', 'topic_41', 'topic_44', 'topic_13',\n",
       "       'topic_29', 'topic_15', 'topic_54', 'topic_35', 'topic_32',\n",
       "       'topic_11', 'topic_27', 'topic_57', 'topic_25', 'topic_47'], \n",
       "      dtype='<U8')"
      ]
     },
     "execution_count": 274,
     "metadata": {},
     "output_type": "execute_result"
    }
   ],
   "source": [
    "new_phi1_topic_order"
   ]
  },
  {
   "cell_type": "code",
   "execution_count": 272,
   "metadata": {
    "collapsed": false
   },
   "outputs": [],
   "source": [
    "new_phi1_topic_order = np.array(phi1_topic_titles)[arrange_topics(phis[1][phi1_topic_titles].values)]\n",
    "phis[1] = phis[1][new_phi1_topic_order]\n",
    "psis[0] = psis[0].loc[new_phi1_topic_order]"
   ]
  },
  {
   "cell_type": "code",
   "execution_count": 277,
   "metadata": {
    "collapsed": false
   },
   "outputs": [],
   "source": [
    "children_threshold = 0.05\n",
    "\n",
    "D = np.zeros((len(phi0_topic_titles), len(phi1_topic_titles)))\n",
    "\n",
    "for parent_id, parent in enumerate(phi0_topic_titles):\n",
    "    for child_id, maybe_child in enumerate(phi1_topic_titles):\n",
    "        if psis[0].loc[maybe_child, parent] > children_threshold:\n",
    "            D[parent_id, child_id] = 1"
   ]
  },
  {
   "cell_type": "code",
   "execution_count": 278,
   "metadata": {
    "collapsed": false
   },
   "outputs": [],
   "source": [
    "cm = CrossMinimizer(D)\n",
    "idx = cm.solve(mode=\"auto\", model=None)\n",
    "new_phi0_topic_order = np.array(phi1_topic_titles)[idx]"
   ]
  },
  {
   "cell_type": "code",
   "execution_count": 279,
   "metadata": {
    "collapsed": false
   },
   "outputs": [
    {
     "data": {
      "text/plain": [
       "array(['topic_3', 'topic_1', 'topic_7', 'topic_9', 'topic_10', 'topic_12',\n",
       "       'topic_2', 'topic_4', 'topic_13', 'topic_11', 'topic_17',\n",
       "       'topic_16', 'topic_6', 'topic_14', 'topic_18', 'topic_5', 'topic_0',\n",
       "       'topic_15', 'topic_8'], \n",
       "      dtype='<U8')"
      ]
     },
     "execution_count": 279,
     "metadata": {},
     "output_type": "execute_result"
    }
   ],
   "source": [
    "new_phi0_topic_order"
   ]
  },
  {
   "cell_type": "code",
   "execution_count": 280,
   "metadata": {
    "collapsed": false
   },
   "outputs": [
    {
     "data": {
      "text/plain": [
       "array(['topic_58', 'topic_6', 'topic_19', 'topic_36', 'topic_3',\n",
       "       'topic_59', 'topic_30', 'topic_38', 'topic_5', 'topic_49',\n",
       "       'topic_0', 'topic_21', 'topic_50', 'topic_55', 'topic_16',\n",
       "       'topic_2', 'topic_46', 'topic_20', 'topic_56', 'topic_52',\n",
       "       'topic_24', 'topic_53', 'topic_4', 'topic_22', 'topic_34',\n",
       "       'topic_26', 'topic_33', 'topic_42', 'topic_51', 'topic_45',\n",
       "       'topic_18', 'topic_28', 'topic_37', 'topic_40', 'topic_12',\n",
       "       'topic_31', 'topic_7', 'topic_10', 'topic_14', 'topic_1',\n",
       "       'topic_48', 'topic_17', 'topic_23', 'topic_39', 'topic_43',\n",
       "       'topic_8', 'topic_9', 'topic_41', 'topic_44', 'topic_13',\n",
       "       'topic_29', 'topic_15', 'topic_54', 'topic_35', 'topic_32',\n",
       "       'topic_11', 'topic_27', 'topic_57', 'topic_25', 'topic_47'], \n",
       "      dtype='<U8')"
      ]
     },
     "execution_count": 280,
     "metadata": {},
     "output_type": "execute_result"
    }
   ],
   "source": [
    "new_phi1_topic_order"
   ]
  },
  {
   "cell_type": "code",
   "execution_count": 281,
   "metadata": {
    "collapsed": true
   },
   "outputs": [],
   "source": [
    "def get_topic_name(lid, tid):\n",
    "    return \", \".join(phis[lid][tid].sort_values()[-3:][::-1].index)"
   ]
  },
  {
   "cell_type": "code",
   "execution_count": 282,
   "metadata": {
    "collapsed": false
   },
   "outputs": [
    {
     "name": "stdout",
     "output_type": "stream",
     "text": [
      "topic_3 \tкультура, литература, культурология\n",
      "topic_1 \tмедицина, эволюция, антропология\n",
      "topic_7 \tсоциология, социология_повседневности, дюркгейм_эмиль\n",
      "topic_9 \tпсихология, люди_науки, история_науки\n",
      "topic_10 \tпалеонтология, биохимия, стволовые_клетки\n",
      "topic_12 \tнаука, управление_проектами, работа\n",
      "topic_2 \tинформационная_безопасность, копирайт, будущее\n",
      "topic_4 \tистория, история_россии, ссср\n",
      "topic_13 \tхимия, нанотехнологии, материаловедение\n",
      "topic_11 \tфизика, физика_элементарных_частиц, квантовая_физика\n",
      "topic_17 \tэкология, зоология, этология\n",
      "topic_16 \tсредневековье, мифология, биоинформатика\n",
      "topic_6 \tлингвистика, язык, право\n",
      "topic_14 \tобразование, университет, школа\n",
      "topic_18 \tмозг, нейробиология, искусственный_интеллект\n",
      "topic_5 \tастрономия, астрофизика, вселенная\n",
      "topic_0 \tфилософия, россия, география\n",
      "topic_15 \tматематика, информационные_технологии, технологии\n",
      "topic_8 \tобщество, экономика, россия\n"
     ]
    }
   ],
   "source": [
    "print(\"\\n\".join(map(lambda t: t + \" \\t\" + get_topic_name(0, t), new_phi0_topic_order)))"
   ]
  },
  {
   "cell_type": "code",
   "execution_count": 284,
   "metadata": {
    "collapsed": false
   },
   "outputs": [
    {
     "name": "stdout",
     "output_type": "stream",
     "text": [
      "topic_0 \tфилософия, россия, география\n",
      "topic_1 \tмедицина, эволюция, антропология\n",
      "topic_2 \tинформационная_безопасность, копирайт, будущее\n",
      "topic_3 \tкультура, литература, культурология\n",
      "topic_4 \tистория, история_россии, ссср\n",
      "topic_5 \tастрономия, астрофизика, вселенная\n",
      "topic_6 \tлингвистика, язык, право\n",
      "topic_7 \tсоциология, социология_повседневности, дюркгейм_эмиль\n",
      "topic_8 \tобщество, экономика, россия\n",
      "topic_9 \tпсихология, люди_науки, история_науки\n",
      "topic_10 \tпалеонтология, биохимия, стволовые_клетки\n",
      "topic_11 \tфизика, физика_элементарных_частиц, квантовая_физика\n",
      "topic_12 \tнаука, управление_проектами, работа\n",
      "topic_13 \tхимия, нанотехнологии, материаловедение\n",
      "topic_14 \tобразование, университет, школа\n",
      "topic_15 \tматематика, информационные_технологии, технологии\n",
      "topic_16 \tсредневековье, мифология, биоинформатика\n",
      "topic_17 \tэкология, зоология, этология\n",
      "topic_18 \tмозг, нейробиология, искусственный_интеллект\n"
     ]
    }
   ],
   "source": [
    "print(\"\\n\".join(map(lambda t: t + \" \\t\" + get_topic_name(0, t), phi0_topic_titles)))"
   ]
  },
  {
   "cell_type": "code",
   "execution_count": 286,
   "metadata": {
    "collapsed": false
   },
   "outputs": [
    {
     "data": {
      "text/plain": [
       "19"
      ]
     },
     "execution_count": 286,
     "metadata": {},
     "output_type": "execute_result"
    }
   ],
   "source": [
    "len(phi0_topic_titles)"
   ]
  },
  {
   "cell_type": "code",
   "execution_count": 287,
   "metadata": {
    "collapsed": false
   },
   "outputs": [],
   "source": [
    "phi0_flat_spectrum = np.array(phi0_topic_titles)[arrange_topics(phis[0][phi0_topic_titles].values)]"
   ]
  },
  {
   "cell_type": "code",
   "execution_count": 288,
   "metadata": {
    "collapsed": false
   },
   "outputs": [
    {
     "name": "stdout",
     "output_type": "stream",
     "text": [
      "topic_13 \tхимия, нанотехнологии, материаловедение\n",
      "topic_5 \tастрономия, астрофизика, вселенная\n",
      "topic_11 \tфизика, физика_элементарных_частиц, квантовая_физика\n",
      "topic_15 \tматематика, информационные_технологии, технологии\n",
      "topic_10 \tпалеонтология, биохимия, стволовые_клетки\n",
      "topic_2 \tинформационная_безопасность, копирайт, будущее\n",
      "topic_16 \tсредневековье, мифология, биоинформатика\n",
      "topic_4 \tистория, история_россии, ссср\n",
      "topic_8 \tобщество, экономика, россия\n",
      "topic_0 \tфилософия, россия, география\n",
      "topic_3 \tкультура, литература, культурология\n",
      "topic_6 \tлингвистика, язык, право\n",
      "topic_7 \tсоциология, социология_повседневности, дюркгейм_эмиль\n",
      "topic_12 \tнаука, управление_проектами, работа\n",
      "topic_14 \tобразование, университет, школа\n",
      "topic_9 \tпсихология, люди_науки, история_науки\n",
      "topic_18 \tмозг, нейробиология, искусственный_интеллект\n",
      "topic_17 \tэкология, зоология, этология\n",
      "topic_1 \tмедицина, эволюция, антропология\n"
     ]
    }
   ],
   "source": [
    "print(\"\\n\".join(map(lambda t: t + \" \\t\" + get_topic_name(0, t), phi0_flat_spectrum)))"
   ]
  },
  {
   "cell_type": "code",
   "execution_count": 259,
   "metadata": {
    "collapsed": true
   },
   "outputs": [],
   "source": [
    "# Двухуровневый спектр\n",
    "pickle.dump((new_phi0_topic_order, new_phi1_topic_order, D), open(\"spectrum.dump\", \"wb\"))"
   ]
  },
  {
   "cell_type": "code",
   "execution_count": 290,
   "metadata": {
    "collapsed": true
   },
   "outputs": [],
   "source": [
    "# Одноуровневый спектр\n",
    "level_0_topics_ids = list(map(lambda tid: \"level_0_%s\" % tid, phi0_flat_spectrum))\n",
    "pickle.dump(level_0_topics_ids, open(\"flat_spectrum.dump\", \"wb\"))"
   ]
  },
  {
   "cell_type": "markdown",
   "metadata": {},
   "source": [
    "### Генерация признаков"
   ]
  },
  {
   "cell_type": "code",
   "execution_count": 519,
   "metadata": {
    "collapsed": false
   },
   "outputs": [
    {
     "name": "stdout",
     "output_type": "stream",
     "text": [
      "CPU times: user 4.81 s, sys: 383 ms, total: 5.19 s\n",
      "Wall time: 5.02 s\n"
     ]
    }
   ],
   "source": [
    "%%time\n",
    "\n",
    "docs_info = []\n",
    "docs_texts = []\n",
    "\n",
    "pipeline = arbitrary.get_pipeline()\n",
    "\n",
    "counter = 0\n",
    "\n",
    "for doc in train_docs:\n",
    "    doc_features = {}\n",
    "    text = doc[\"modalities\"][\"text\"] + doc[\"modalities\"][\"text_habr\"]\n",
    "    # Количественные признаки\n",
    "    doc_features[\"words_count\"] = len(text) # Число слов в документе\n",
    "    doc_features[\"unique_words_ratio\"] = len(set(text))/len(text)\n",
    "    doc_features[\"common_words_ratio\"] = len(doc[\"modalities\"][\"text\"]) / len(text) # Доля токенов в документе из ПН\n",
    "    doc_features[\"en_words\"] = len([a for a in text if regex.match(\"^[a-zA-Z]+$\", a)])/len(text)\n",
    "    doc_features[\"ru_words\"] = len([a for a in text if regex.match(\"^[а-яА-Я]+$\", a)])/len(text)\n",
    "    doc_features[\"non_letters\"] = len([a for a in doc[\"markdown\"] if a in non_letters])/len(doc[\"markdown\"])\n",
    "    doc_features[\"non_scipop_words\"] = len([a for a in text if a in non_scipop_words])\n",
    "    doc_features[\"scipop_words\"] = len([a for a in text if a in scipop_words])\n",
    "    # Параграфы и их длины\n",
    "    doc_features[\"num_of_paragraphs\"] = len([a for a in doc[\"markdown\"].split('\\n') if len(a) != 0])\n",
    "    doc_features[\"paragraph_raito\"] = doc_features[\"num_of_paragraphs\"] / len(text)\n",
    "    doc_features[\"avg_paragraph_len\"] = np.mean([len(a) for a in doc[\"markdown\"].split('\\n') if len(a) != 0])\n",
    "    doc_features[\"num_of_small_paragraphs\"] = sum([1 for a in doc[\"markdown\"].split('\\n')\n",
    "                                               if len(a) < 300 and len(a) > 0 or len(a.split(\" \")) < 30])\n",
    "    doc_features[\"num_of_large_paragraphs\"] = sum([1 for a in doc[\"markdown\"].split('\\n')\n",
    "                                               if len(a) > 1300 or len(a.split(\" \")) > 120])\n",
    "    doc_features[\"small_paragraphs_ratio\"] = doc_features[\"num_of_small_paragraphs\"]/doc_features[\"num_of_paragraphs\"]\n",
    "    doc_features[\"large_paragraphs_ratio\"] = doc_features[\"num_of_large_paragraphs\"]/doc_features[\"num_of_paragraphs\"]\n",
    "    doc_features[\"paragraphs_variance\"] = np.var([len(s) for s in doc[\"markdown\"].split('\\n') if len(a) != 0])\n",
    "\n",
    "    # Фичи заголовков:\n",
    "    \n",
    "    #doc_features[\"code_ratio\"] = len([a for a in doc[\"markdown\"].split(\"\\t\") if a in code_elements])/len(doc[\"markdown\"])\n",
    "    docs_info.append(doc_features)\n",
    "    docs_texts.append(text)\n",
    "    \n",
    "train_X = pd.DataFrame(data=docs_info, index=train_y.index)"
   ]
  },
  {
   "cell_type": "code",
   "execution_count": 273,
   "metadata": {
    "collapsed": false
   },
   "outputs": [
    {
     "data": {
      "image/png": "[encoded data removed]",
      "text/plain": [
       "<matplotlib.figure.Figure at 0x10eb90668>"
      ]
     },
     "metadata": {},
     "output_type": "display_data"
    }
   ],
   "source": [
    "plt.hist(train_X[train_y == 1][\"INFN\"], label=\"1\")\n",
    "plt.hist(train_X[train_y == -1][\"INFN\"], label=\"-1\")\n",
    "plt.legend()\n",
    "plt.show()"
   ]
  },
  {
   "cell_type": "code",
   "execution_count": 270,
   "metadata": {
    "collapsed": false
   },
   "outputs": [
    {
     "data": {
      "text/html": [
       "<div>\n",
       "<table border=\"1\" class=\"dataframe\">\n",
       "  <thead>\n",
       "    <tr style=\"text-align: right;\">\n",
       "      <th></th>\n",
       "      <th>avg_paragraph_len</th>\n",
       "      <th>common_words_ratio</th>\n",
       "      <th>en_words</th>\n",
       "      <th>large_paragraphs_ratio</th>\n",
       "      <th>non_letters</th>\n",
       "      <th>non_scipop_words</th>\n",
       "      <th>num_of_large_paragraphs</th>\n",
       "      <th>num_of_paragraphs</th>\n",
       "      <th>num_of_small_paragraphs</th>\n",
       "      <th>paragraph_raito</th>\n",
       "      <th>...</th>\n",
       "      <th>NUMR</th>\n",
       "      <th>futr</th>\n",
       "      <th>impf</th>\n",
       "      <th>past</th>\n",
       "      <th>perf</th>\n",
       "      <th>plur</th>\n",
       "      <th>pres</th>\n",
       "      <th>sing</th>\n",
       "      <th>verbs_in_first_pars</th>\n",
       "      <th>verbs_in_title</th>\n",
       "    </tr>\n",
       "  </thead>\n",
       "  <tbody>\n",
       "    <tr>\n",
       "      <th>count</th>\n",
       "      <td>431.000000</td>\n",
       "      <td>431.000000</td>\n",
       "      <td>431.000000</td>\n",
       "      <td>431.000000</td>\n",
       "      <td>431.000000</td>\n",
       "      <td>431.000000</td>\n",
       "      <td>431.000000</td>\n",
       "      <td>431.000000</td>\n",
       "      <td>431.000000</td>\n",
       "      <td>431.000000</td>\n",
       "      <td>...</td>\n",
       "      <td>431.000000</td>\n",
       "      <td>431.000000</td>\n",
       "      <td>431.000000</td>\n",
       "      <td>431.000000</td>\n",
       "      <td>431.000000</td>\n",
       "      <td>431.000000</td>\n",
       "      <td>431.000000</td>\n",
       "      <td>431.000000</td>\n",
       "      <td>431.000000</td>\n",
       "      <td>431.000000</td>\n",
       "    </tr>\n",
       "    <tr>\n",
       "      <th>mean</th>\n",
       "      <td>205.712119</td>\n",
       "      <td>0.864115</td>\n",
       "      <td>0.134659</td>\n",
       "      <td>0.016980</td>\n",
       "      <td>0.013726</td>\n",
       "      <td>0.542923</td>\n",
       "      <td>0.457077</td>\n",
       "      <td>55.890951</td>\n",
       "      <td>49.169374</td>\n",
       "      <td>0.105260</td>\n",
       "      <td>...</td>\n",
       "      <td>2.647332</td>\n",
       "      <td>12.535963</td>\n",
       "      <td>69.879350</td>\n",
       "      <td>33.227378</td>\n",
       "      <td>51.714617</td>\n",
       "      <td>137.016241</td>\n",
       "      <td>48.672854</td>\n",
       "      <td>359.074246</td>\n",
       "      <td>1.793503</td>\n",
       "      <td>0.099768</td>\n",
       "    </tr>\n",
       "    <tr>\n",
       "      <th>std</th>\n",
       "      <td>125.266391</td>\n",
       "      <td>0.115835</td>\n",
       "      <td>0.156339</td>\n",
       "      <td>0.055188</td>\n",
       "      <td>0.034144</td>\n",
       "      <td>1.107013</td>\n",
       "      <td>1.220899</td>\n",
       "      <td>90.555108</td>\n",
       "      <td>89.295676</td>\n",
       "      <td>0.134939</td>\n",
       "      <td>...</td>\n",
       "      <td>4.021568</td>\n",
       "      <td>15.781001</td>\n",
       "      <td>63.538996</td>\n",
       "      <td>39.540962</td>\n",
       "      <td>47.021220</td>\n",
       "      <td>129.493853</td>\n",
       "      <td>44.450570</td>\n",
       "      <td>325.571946</td>\n",
       "      <td>2.268399</td>\n",
       "      <td>0.315160</td>\n",
       "    </tr>\n",
       "    <tr>\n",
       "      <th>min</th>\n",
       "      <td>9.841549</td>\n",
       "      <td>0.356061</td>\n",
       "      <td>0.000000</td>\n",
       "      <td>0.000000</td>\n",
       "      <td>0.000000</td>\n",
       "      <td>0.000000</td>\n",
       "      <td>0.000000</td>\n",
       "      <td>2.000000</td>\n",
       "      <td>0.000000</td>\n",
       "      <td>0.016393</td>\n",
       "      <td>...</td>\n",
       "      <td>0.000000</td>\n",
       "      <td>0.000000</td>\n",
       "      <td>5.000000</td>\n",
       "      <td>1.000000</td>\n",
       "      <td>3.000000</td>\n",
       "      <td>6.000000</td>\n",
       "      <td>3.000000</td>\n",
       "      <td>28.000000</td>\n",
       "      <td>0.000000</td>\n",
       "      <td>0.000000</td>\n",
       "    </tr>\n",
       "    <tr>\n",
       "      <th>25%</th>\n",
       "      <td>103.760204</td>\n",
       "      <td>0.818026</td>\n",
       "      <td>0.020263</td>\n",
       "      <td>0.000000</td>\n",
       "      <td>0.003701</td>\n",
       "      <td>0.000000</td>\n",
       "      <td>0.000000</td>\n",
       "      <td>14.000000</td>\n",
       "      <td>9.000000</td>\n",
       "      <td>0.046281</td>\n",
       "      <td>...</td>\n",
       "      <td>0.000000</td>\n",
       "      <td>3.000000</td>\n",
       "      <td>28.000000</td>\n",
       "      <td>12.000000</td>\n",
       "      <td>21.000000</td>\n",
       "      <td>53.000000</td>\n",
       "      <td>18.000000</td>\n",
       "      <td>144.500000</td>\n",
       "      <td>0.000000</td>\n",
       "      <td>0.000000</td>\n",
       "    </tr>\n",
       "    <tr>\n",
       "      <th>50%</th>\n",
       "      <td>190.457143</td>\n",
       "      <td>0.902354</td>\n",
       "      <td>0.075711</td>\n",
       "      <td>0.000000</td>\n",
       "      <td>0.005846</td>\n",
       "      <td>0.000000</td>\n",
       "      <td>0.000000</td>\n",
       "      <td>27.000000</td>\n",
       "      <td>19.000000</td>\n",
       "      <td>0.069519</td>\n",
       "      <td>...</td>\n",
       "      <td>1.000000</td>\n",
       "      <td>8.000000</td>\n",
       "      <td>52.000000</td>\n",
       "      <td>21.000000</td>\n",
       "      <td>39.000000</td>\n",
       "      <td>99.000000</td>\n",
       "      <td>37.000000</td>\n",
       "      <td>266.000000</td>\n",
       "      <td>1.000000</td>\n",
       "      <td>0.000000</td>\n",
       "    </tr>\n",
       "    <tr>\n",
       "      <th>75%</th>\n",
       "      <td>283.083333</td>\n",
       "      <td>0.948319</td>\n",
       "      <td>0.195529</td>\n",
       "      <td>0.000000</td>\n",
       "      <td>0.012924</td>\n",
       "      <td>1.000000</td>\n",
       "      <td>0.000000</td>\n",
       "      <td>56.000000</td>\n",
       "      <td>48.000000</td>\n",
       "      <td>0.121462</td>\n",
       "      <td>...</td>\n",
       "      <td>3.000000</td>\n",
       "      <td>16.500000</td>\n",
       "      <td>90.500000</td>\n",
       "      <td>39.000000</td>\n",
       "      <td>67.000000</td>\n",
       "      <td>177.500000</td>\n",
       "      <td>62.000000</td>\n",
       "      <td>439.500000</td>\n",
       "      <td>3.000000</td>\n",
       "      <td>0.000000</td>\n",
       "    </tr>\n",
       "    <tr>\n",
       "      <th>max</th>\n",
       "      <td>714.444444</td>\n",
       "      <td>1.000000</td>\n",
       "      <td>0.833333</td>\n",
       "      <td>0.500000</td>\n",
       "      <td>0.638132</td>\n",
       "      <td>9.000000</td>\n",
       "      <td>9.000000</td>\n",
       "      <td>1091.000000</td>\n",
       "      <td>1075.000000</td>\n",
       "      <td>2.151515</td>\n",
       "      <td>...</td>\n",
       "      <td>27.000000</td>\n",
       "      <td>164.000000</td>\n",
       "      <td>539.000000</td>\n",
       "      <td>424.000000</td>\n",
       "      <td>333.000000</td>\n",
       "      <td>1286.000000</td>\n",
       "      <td>329.000000</td>\n",
       "      <td>2818.000000</td>\n",
       "      <td>22.000000</td>\n",
       "      <td>2.000000</td>\n",
       "    </tr>\n",
       "  </tbody>\n",
       "</table>\n",
       "<p>8 rows × 36 columns</p>\n",
       "</div>"
      ],
      "text/plain": [
       "       avg_paragraph_len  common_words_ratio    en_words  \\\n",
       "count         431.000000          431.000000  431.000000   \n",
       "mean          205.712119            0.864115    0.134659   \n",
       "std           125.266391            0.115835    0.156339   \n",
       "min             9.841549            0.356061    0.000000   \n",
       "25%           103.760204            0.818026    0.020263   \n",
       "50%           190.457143            0.902354    0.075711   \n",
       "75%           283.083333            0.948319    0.195529   \n",
       "max           714.444444            1.000000    0.833333   \n",
       "\n",
       "       large_paragraphs_ratio  non_letters  non_scipop_words  \\\n",
       "count              431.000000   431.000000        431.000000   \n",
       "mean                 0.016980     0.013726          0.542923   \n",
       "std                  0.055188     0.034144          1.107013   \n",
       "min                  0.000000     0.000000          0.000000   \n",
       "25%                  0.000000     0.003701          0.000000   \n",
       "50%                  0.000000     0.005846          0.000000   \n",
       "75%                  0.000000     0.012924          1.000000   \n",
       "max                  0.500000     0.638132          9.000000   \n",
       "\n",
       "       num_of_large_paragraphs  num_of_paragraphs  num_of_small_paragraphs  \\\n",
       "count               431.000000         431.000000               431.000000   \n",
       "mean                  0.457077          55.890951                49.169374   \n",
       "std                   1.220899          90.555108                89.295676   \n",
       "min                   0.000000           2.000000                 0.000000   \n",
       "25%                   0.000000          14.000000                 9.000000   \n",
       "50%                   0.000000          27.000000                19.000000   \n",
       "75%                   0.000000          56.000000                48.000000   \n",
       "max                   9.000000        1091.000000              1075.000000   \n",
       "\n",
       "       paragraph_raito       ...              NUMR        futr        impf  \\\n",
       "count       431.000000       ...        431.000000  431.000000  431.000000   \n",
       "mean          0.105260       ...          2.647332   12.535963   69.879350   \n",
       "std           0.134939       ...          4.021568   15.781001   63.538996   \n",
       "min           0.016393       ...          0.000000    0.000000    5.000000   \n",
       "25%           0.046281       ...          0.000000    3.000000   28.000000   \n",
       "50%           0.069519       ...          1.000000    8.000000   52.000000   \n",
       "75%           0.121462       ...          3.000000   16.500000   90.500000   \n",
       "max           2.151515       ...         27.000000  164.000000  539.000000   \n",
       "\n",
       "             past        perf         plur        pres         sing  \\\n",
       "count  431.000000  431.000000   431.000000  431.000000   431.000000   \n",
       "mean    33.227378   51.714617   137.016241   48.672854   359.074246   \n",
       "std     39.540962   47.021220   129.493853   44.450570   325.571946   \n",
       "min      1.000000    3.000000     6.000000    3.000000    28.000000   \n",
       "25%     12.000000   21.000000    53.000000   18.000000   144.500000   \n",
       "50%     21.000000   39.000000    99.000000   37.000000   266.000000   \n",
       "75%     39.000000   67.000000   177.500000   62.000000   439.500000   \n",
       "max    424.000000  333.000000  1286.000000  329.000000  2818.000000   \n",
       "\n",
       "       verbs_in_first_pars  verbs_in_title  \n",
       "count           431.000000      431.000000  \n",
       "mean              1.793503        0.099768  \n",
       "std               2.268399        0.315160  \n",
       "min               0.000000        0.000000  \n",
       "25%               0.000000        0.000000  \n",
       "50%               1.000000        0.000000  \n",
       "75%               3.000000        0.000000  \n",
       "max              22.000000        2.000000  \n",
       "\n",
       "[8 rows x 36 columns]"
      ]
     },
     "execution_count": 270,
     "metadata": {},
     "output_type": "execute_result"
    }
   ],
   "source": [
    "train_X.describe()"
   ]
  },
  {
   "cell_type": "code",
   "execution_count": 207,
   "metadata": {
    "collapsed": false,
    "scrolled": true
   },
   "outputs": [
    {
     "name": "stdout",
     "output_type": "stream",
     "text": [
      "proceeded: 100\n",
      "proceeded: 200\n",
      "proceeded: 300\n",
      "proceeded: 400\n"
     ]
    }
   ],
   "source": [
    "docs_info = []\n",
    "\n",
    "for doc in train_docs:\n",
    "    doc = pipeline.fit_transform(StringIO(doc[\"markdown\"]))\n",
    "    vw_file = open(TRANSFORM_PATH, \"w\")\n",
    "    text_utils.VowpalWabbitSink(vw_file, lambda x: \"upload\") \\\n",
    "                          .fit_transform([doc])\n",
    "    transform_batch = artm.BatchVectorizer(data_format=\"vowpal_wabbit\",\n",
    "                                                       data_path=TRANSFORM_PATH,\n",
    "                                                       batch_size=1,\n",
    "                                                       target_folder=BATCH_PATH)\n",
    "    transform_theta = artm_model.transform(transform_batch)\n",
    "    \n",
    "    theta = {}\n",
    "    for artm_tid, prob in transform_theta[\"upload\"].items():\n",
    "        topic_id = T(*from_artm_tid(artm_tid))\n",
    "        theta[topic_id] = float(prob)    \n",
    "    docs_info.append(theta)\n",
    "    \n",
    "    counter+=1;\n",
    "    if counter % 100 == 0:\n",
    "        print(\"proceeded: %d\"%((counter)))\n",
    "        \n",
    "thetas = pd.DataFrame(data=docs_info, index=train_y.index)"
   ]
  },
  {
   "cell_type": "code",
   "execution_count": 208,
   "metadata": {
    "collapsed": false
   },
   "outputs": [],
   "source": [
    "train_X[\"theta_max\"] = thetas.max(axis=1)  #максимальное значение theta для каждого файла из хабра\n",
    "train_X[\"num_of_big_thetas_0\"] = thetas[thetas > 0.2].count(axis=1)\n",
    "train_X[\"num_of_big_thetas_1\"] = thetas[thetas > 0.1].count(axis=1)\n",
    "train_X[\"num_of_big_thetas_2\"] = thetas[thetas > 0.05].count(axis=1)"
   ]
  },
  {
   "cell_type": "code",
   "execution_count": 26,
   "metadata": {
    "collapsed": true
   },
   "outputs": [],
   "source": [
    "import pymorphy2\n",
    "morph = pymorphy2.MorphAnalyzer()\n",
    "\n",
    "import re\n",
    "\n",
    "morph_tags = [\n",
    "    \"past\",\n",
    "    \"pres\",\n",
    "    \"futr\",\n",
    "    \"INFN\",\n",
    "    \"NOUN\",\n",
    "    \"ADJF\",\n",
    "    \"COMP\",\n",
    "    \"NPRO\",\n",
    "    \"NUMR\",\n",
    "    \"sing\",\n",
    "    \"plur\",\n",
    "    \"LATN\",\n",
    "    \"perf\",\n",
    "    \"impf\",\n",
    "    \"1per\",\n",
    "    \"2per\",\n",
    "    \"3per\"\n",
    "]"
   ]
  },
  {
   "cell_type": "code",
   "execution_count": 520,
   "metadata": {
    "collapsed": false
   },
   "outputs": [
    {
     "name": "stdout",
     "output_type": "stream",
     "text": [
      "proceded: 50\n",
      "proceded: 100\n",
      "proceded: 150\n",
      "proceded: 200\n",
      "proceded: 250\n",
      "proceded: 300\n",
      "proceded: 350\n",
      "proceded: 400\n",
      "proceded: 450\n",
      "proceded: 500\n",
      "proceded: 550\n",
      "proceded: 600\n",
      "proceded: 650\n",
      "proceded: 700\n",
      "proceded: 750\n",
      "proceded: 800\n",
      "proceded: 850\n",
      "proceded: 900\n",
      "proceded: 950\n",
      "proceded: 1000\n",
      "proceded: 1050\n",
      "proceded: 1100\n",
      "proceded: 1150\n"
     ]
    }
   ],
   "source": [
    "docs_info = []\n",
    "\n",
    "\n",
    "counter = 0\n",
    "\n",
    "for doc in train_docs:\n",
    "    text = doc[\"markdown\"]\n",
    "    tokens = re.findall(r\"[\\w']+\", text)\n",
    "    doc_features = dict(zip(morph_tags, np.zeros(len(morph_tags))))\n",
    "    npro1 = 0\n",
    "    for token in tokens:\n",
    "        parse_result = morph.parse(token)[0]\n",
    "        for tag in doc_features.keys():\n",
    "            if tag in parse_result.tag:\n",
    "                doc_features[tag] += 1\n",
    "            if {\"NPRO\", \"1per\"} in parse_result.tag:\n",
    "                npro1 += 1\n",
    "    doc_features[\"NPRO1\"] = npro1\n",
    "\n",
    "    doc_features[\"verbs_in_title\"] = 0\n",
    "    for token in re.findall(r\"[\\w']+\", doc[\"title\"]):\n",
    "        parse_result = morph.parse(token)[0]\n",
    "        if ({\"VERB\", \"past\"} in parse_result.tag) | ({\"VERB\", \"futr\"} in parse_result.tag): \n",
    "            doc_features[\"verbs_in_title\"] += 1\n",
    "            \n",
    "    doc_features[\"verbs_in_first_pars\"] = 0\n",
    "    first_paragraphs = text.split(\"\\n\")[0]\n",
    "    for token in re.findall(r\"[\\w']+\", first_paragraphs):\n",
    "        parse_result = morph.parse(token)[0]\n",
    "        if ({\"VERB\", \"past\"} in parse_result.tag) | ({\"VERB\", \"futr\"} in parse_result.tag): \n",
    "            doc_features[\"verbs_in_first_pars\"] += 1\n",
    "        \n",
    "    docs_info.append(doc_features)\n",
    "        \n",
    "    counter += 1\n",
    "    if counter % 50 == 0:\n",
    "        print(\"proceded: %d\"%((counter)))\n",
    "    \n",
    "morph_features = pd.DataFrame(data=docs_info, index=train_y.index)"
   ]
  },
  {
   "cell_type": "code",
   "execution_count": 521,
   "metadata": {
    "collapsed": false
   },
   "outputs": [],
   "source": [
    "train_X = pd.concat([train_X, morph_features], axis=1)"
   ]
  },
  {
   "cell_type": "markdown",
   "metadata": {},
   "source": [
    "### Подбор модели"
   ]
  },
  {
   "cell_type": "code",
   "execution_count": 35,
   "metadata": {
    "collapsed": true
   },
   "outputs": [],
   "source": [
    "good_features = [#\"common_words_ratio\",\n",
    "                 #\"words_count\",\n",
    "                 #\"theta_max\", \n",
    "                 #\"num_of_big_thetas_0\", \"num_of_big_thetas_1\",\n",
    "                 #\"num_of_big_thetas_2\",\n",
    "                 \"unique_words_ratio\",\n",
    "                 \"en_words\", \"ru_words\",# \"non_letters\",\n",
    "                 \"scipop_words\", \"non_scipop_words\",\n",
    "                 \"num_of_paragraphs\",\n",
    "                 \"paragraph_raito\", \"avg_paragraph_len\",\n",
    "                 \"num_of_small_paragraphs\", \"num_of_large_paragraphs\", \n",
    "                 \"small_paragraphs_ratio\",\n",
    "                 \"large_paragraphs_ratio\",\n",
    "                 \"verbs_in_title\", \"verbs_in_first_pars\",\n",
    "                 'non_letters', 'paragraphs_variance'\n",
    "                ] + [\n",
    "                    \"past\",\n",
    "                    \"pres\",\n",
    "                    \"futr\",\n",
    "                    \"INFN\",\n",
    "                    \"NOUN\",\n",
    "                    \"ADJF\",\n",
    "                    \"COMP\",\n",
    "                    \"NPRO\",\n",
    "                    \"NPRO1\",\n",
    "                    \"NUMR\",\n",
    "                    \"sing\",\n",
    "                    \"plur\",\n",
    "                    \"LATN\",\n",
    "                    \"perf\",\n",
    "                    \"impf\",\n",
    "                    \"1per\",\n",
    "                    \"2per\",\n",
    "                    \"3per\"\n",
    "                ]"
   ]
  },
  {
   "cell_type": "code",
   "execution_count": 544,
   "metadata": {
    "collapsed": false
   },
   "outputs": [
    {
     "data": {
      "text/plain": [
       "RandomForestClassifier(bootstrap=True, class_weight=None, criterion='gini',\n",
       "            max_depth=None, max_features='auto', max_leaf_nodes=None,\n",
       "            min_impurity_split=1e-07, min_samples_leaf=1,\n",
       "            min_samples_split=2, min_weight_fraction_leaf=0.0,\n",
       "            n_estimators=30, n_jobs=1, oob_score=False, random_state=None,\n",
       "            verbose=0, warm_start=False)"
      ]
     },
     "execution_count": 544,
     "metadata": {},
     "output_type": "execute_result"
    }
   ],
   "source": [
    "alg = RandomForestClassifier(n_estimators=30)\n",
    "alg.fit(train_X[good_features][-150:], train_y[-150:])\n",
    "#alg = GradientBoostingClassifier(n_estimators=54)\n",
    "#alg = LogisticRegression()"
   ]
  },
  {
   "cell_type": "code",
   "execution_count": 527,
   "metadata": {
    "collapsed": false
   },
   "outputs": [
    {
     "data": {
      "text/plain": [
       "0.68771030993042381"
      ]
     },
     "execution_count": 527,
     "metadata": {},
     "output_type": "execute_result"
    }
   ],
   "source": [
    "cross_val_score(alg, train_X[good_features], train_y, scoring=make_scorer(roc_auc_score), cv=10).mean()"
   ]
  },
  {
   "cell_type": "code",
   "execution_count": 529,
   "metadata": {
    "collapsed": false
   },
   "outputs": [],
   "source": [
    "pred_y = alg.predict(train_X[good_features])"
   ]
  },
  {
   "cell_type": "code",
   "execution_count": 530,
   "metadata": {
    "collapsed": false
   },
   "outputs": [
    {
     "data": {
      "text/plain": [
       "0.99739130434782608"
      ]
     },
     "execution_count": 530,
     "metadata": {},
     "output_type": "execute_result"
    }
   ],
   "source": [
    "accuracy_score(train_y, pred_y)"
   ]
  },
  {
   "cell_type": "code",
   "execution_count": 531,
   "metadata": {
    "collapsed": false
   },
   "outputs": [
    {
     "data": {
      "image/png": "[encoded data removed]",
      "text/plain": [
       "<matplotlib.figure.Figure at 0x20e8af320>"
      ]
     },
     "metadata": {},
     "output_type": "display_data"
    }
   ],
   "source": [
    "importances = alg.feature_importances_\n",
    "plt.figure(figsize=(16, 6))\n",
    "plt.bar(range(len(importances)), importances)\n",
    "plt.xticks(range(len(importances)), good_features, rotation=\"vertical\")\n",
    "plt.show()"
   ]
  },
  {
   "cell_type": "markdown",
   "metadata": {},
   "source": [
    "## Обучение на совмещенной с хабром постнауке"
   ]
  },
  {
   "cell_type": "code",
   "execution_count": 720,
   "metadata": {
    "collapsed": true
   },
   "outputs": [],
   "source": [
    "def generate_X(ids, features=good_features):\n",
    "    docs = list(map(get_document, ids))\n",
    "    \n",
    "    docs_info = []\n",
    "\n",
    "    pipeline = arbitrary.get_pipeline()\n",
    "\n",
    "    counter = 0\n",
    "\n",
    "    for doc in docs:\n",
    "        doc_features = {}\n",
    "\n",
    "        text = doc[\"modalities\"][\"text\"] + doc[\"modalities\"][\"text_habr\"]\n",
    "        # Количественные признаки\n",
    "        doc_features[\"words_count\"] = len(text) # Число слов в документе\n",
    "        doc_features[\"unique_words_ratio\"] = len(set(text))/len(text)\n",
    "        doc_features[\"common_words_ratio\"] = len(doc[\"modalities\"][\"text\"]) / len(text) # Доля токенов в документе из ПН\n",
    "        doc_features[\"en_words\"] = len([a for a in text if regex.match(\"^[a-zA-Z]+$\", a)])/len(text)\n",
    "        doc_features[\"ru_words\"] = len([a for a in text if regex.match(\"^[а-яА-Я]+$\", a)])/len(text)\n",
    "        doc_features[\"non_letters\"] = len([a for a in doc[\"markdown\"] if a in non_letters])/len(doc[\"markdown\"])\n",
    "        doc_features[\"non_scipop_words\"] = len([a for a in text if a in non_scipop_words])\n",
    "        doc_features[\"scipop_words\"] = len([a for a in text if a in scipop_words])\n",
    "        # Параграфы и их длины\n",
    "        doc_features[\"num_of_paragraphs\"] = len([a for a in doc[\"markdown\"].split('\\n') if len(a) != 0])\n",
    "        doc_features[\"paragraph_raito\"] = doc_features[\"num_of_paragraphs\"] / len(text)\n",
    "        doc_features[\"avg_paragraph_len\"] = np.mean([len(a) for a in doc[\"markdown\"].split('\\n') if len(a) != 0])\n",
    "        doc_features[\"num_of_small_paragraphs\"] = sum([1 for a in doc[\"markdown\"].split('\\n')\n",
    "                                                   if len(a) < 300 and len(a) > 0 or len(a.split(\" \")) < 30])\n",
    "        doc_features[\"num_of_large_paragraphs\"] = sum([1 for a in doc[\"markdown\"].split('\\n')\n",
    "                                                   if len(a) > 1300 or len(a.split(\" \")) > 120])\n",
    "        doc_features[\"small_paragraphs_ratio\"] = doc_features[\"num_of_small_paragraphs\"]/doc_features[\"num_of_paragraphs\"]\n",
    "        doc_features[\"large_paragraphs_ratio\"] = doc_features[\"num_of_large_paragraphs\"]/doc_features[\"num_of_paragraphs\"]\n",
    "        doc_features[\"paragraphs_variance\"] = np.var([len(s) for s in doc[\"markdown\"].split('\\n') if len(a) != 0])\n",
    "\n",
    "        # Фичи заголовков:\n",
    "\n",
    "        #doc_features[\"code_ratio\"] = len([a for a in doc[\"markdown\"].split(\"\\t\") if a in code_elements])/len(doc[\"markdown\"])\n",
    "\n",
    "        text = doc[\"markdown\"]\n",
    "        tokens = re.findall(r\"[\\w']+\", text)\n",
    "        npro1 = 0\n",
    "        \n",
    "        for tag in morph_tags:\n",
    "            doc_features[tag] = 0\n",
    "            \n",
    "        for token in tokens:\n",
    "            parse_result = morph.parse(token)[0]\n",
    "            for tag in morph_tags:\n",
    "                if tag in parse_result.tag:\n",
    "                    doc_features[tag] += 1\n",
    "                if {\"NPRO\", \"1per\"} in parse_result.tag:\n",
    "                    npro1 += 1\n",
    "        doc_features[\"NPRO1\"] = npro1\n",
    "\n",
    "        doc_features[\"verbs_in_title\"] = 0\n",
    "        for token in re.findall(r\"[\\w']+\", doc[\"title\"]):\n",
    "            parse_result = morph.parse(token)[0]\n",
    "            if ({\"VERB\", \"past\"} in parse_result.tag) | ({\"VERB\", \"futr\"} in parse_result.tag): \n",
    "                doc_features[\"verbs_in_title\"] += 1\n",
    "\n",
    "        doc_features[\"verbs_in_first_pars\"] = 0\n",
    "        first_paragraphs = text.split(\"\\n\")[0]\n",
    "        for token in re.findall(r\"[\\w']+\", first_paragraphs):\n",
    "            parse_result = morph.parse(token)[0]\n",
    "            if ({\"VERB\", \"past\"} in parse_result.tag) | ({\"VERB\", \"futr\"} in parse_result.tag): \n",
    "                doc_features[\"verbs_in_first_pars\"] += 1\n",
    "\n",
    "        docs_info.append(doc_features)\n",
    "        \n",
    "    return pd.DataFrame(data=docs_info, index=ids)"
   ]
  },
  {
   "cell_type": "code",
   "execution_count": 721,
   "metadata": {
    "collapsed": false
   },
   "outputs": [],
   "source": [
    "small_good_X = generate_X(small_good_ids)"
   ]
  },
  {
   "cell_type": "code",
   "execution_count": 735,
   "metadata": {
    "collapsed": true
   },
   "outputs": [],
   "source": [
    "small_good_y = np.array([1]*len(small_good_X))"
   ]
  },
  {
   "cell_type": "code",
   "execution_count": 711,
   "metadata": {
    "collapsed": false
   },
   "outputs": [],
   "source": [
    "small_good_ids = list(map(lambda r: r[\"_id\"], [{\"_id\" : \"habr_67216\" },\n",
    "{ \"_id\" : \"habr_117907\" },\n",
    "{ \"_id\" : \"habr_11871\" },\n",
    "{ \"_id\" : \"habr_113675\" },\n",
    "{ \"_id\" : \"habr_7052\" }]))"
   ]
  },
  {
   "cell_type": "code",
   "execution_count": 712,
   "metadata": {
    "collapsed": false,
    "scrolled": true
   },
   "outputs": [
    {
     "data": {
      "text/plain": [
       "['habr_67216', 'habr_117907', 'habr_11871', 'habr_113675', 'habr_7052']"
      ]
     },
     "execution_count": 712,
     "metadata": {},
     "output_type": "execute_result"
    }
   ],
   "source": [
    "small_good_ids"
   ]
  },
  {
   "cell_type": "code",
   "execution_count": 641,
   "metadata": {
    "collapsed": true
   },
   "outputs": [],
   "source": [
    "positives_habr = len(train_y[train_y == 1])"
   ]
  },
  {
   "cell_type": "code",
   "execution_count": 642,
   "metadata": {
    "collapsed": false
   },
   "outputs": [
    {
     "data": {
      "text/plain": [
       "309"
      ]
     },
     "execution_count": 642,
     "metadata": {},
     "output_type": "execute_result"
    }
   ],
   "source": [
    "positives_habr"
   ]
  },
  {
   "cell_type": "code",
   "execution_count": 745,
   "metadata": {
    "collapsed": false
   },
   "outputs": [],
   "source": [
    "pickle.dump(pnh_train_y, open(\"classifier_train_ids.dump\", \"wb\"))"
   ]
  },
  {
   "cell_type": "code",
   "execution_count": 746,
   "metadata": {
    "collapsed": true
   },
   "outputs": [],
   "source": [
    "pickle.dump(alg, open(\"best_classifier.dump\", \"wb\"))"
   ]
  },
  {
   "cell_type": "code",
   "execution_count": 646,
   "metadata": {
    "collapsed": false
   },
   "outputs": [],
   "source": [
    "pnh_train_y = pd.concat([train_y[train_y == 1], \n",
    "                         pd.Series(np.ones(positives_habr), index=pn_X[:positives_habr].index),\n",
    "                         train_y[train_y==-1][:2*positives_habr]\n",
    "                        ])"
   ]
  },
  {
   "cell_type": "code",
   "execution_count": 654,
   "metadata": {
    "collapsed": true
   },
   "outputs": [],
   "source": [
    "pnh_train_X = pd.concat([train_X[train_y == 1],\n",
    "                         postnauka_X[:positives_habr],\n",
    "                         train_X[train_y==-1][:2*positives_habr]\n",
    "                        ])"
   ]
  },
  {
   "cell_type": "code",
   "execution_count": 695,
   "metadata": {
    "collapsed": true
   },
   "outputs": [],
   "source": [
    "pnh_test_X = pd.concat([#train_X[train_y == -1][2*positives_habr:],\n",
    "                        postnauka_X[positives_habr:]])"
   ]
  },
  {
   "cell_type": "code",
   "execution_count": 699,
   "metadata": {
    "collapsed": false
   },
   "outputs": [],
   "source": [
    "pnh_test_Y = [1]*(len(postnauka_X) - positives_habr)\n",
    "#[-1]*(len(train_X[train_y == -1]) - 2*positives_habr)"
   ]
  },
  {
   "cell_type": "code",
   "execution_count": 700,
   "metadata": {
    "collapsed": false
   },
   "outputs": [
    {
     "data": {
      "text/plain": [
       "(array([    0.,     0.,     0.,     0.,     0.,  2667.,     0.,     0.,\n",
       "            0.,     0.]),\n",
       " array([ 0.5,  0.6,  0.7,  0.8,  0.9,  1. ,  1.1,  1.2,  1.3,  1.4,  1.5]),\n",
       " <a list of 10 Patch objects>)"
      ]
     },
     "execution_count": 700,
     "metadata": {},
     "output_type": "execute_result"
    },
    {
     "data": {
      "image/png": "[encoded data removed]",
      "text/plain": [
       "<matplotlib.figure.Figure at 0x21cb142b0>"
      ]
     },
     "metadata": {},
     "output_type": "display_data"
    }
   ],
   "source": [
    "plt.hist(pnh_test_Y)"
   ]
  },
  {
   "cell_type": "code",
   "execution_count": 701,
   "metadata": {
    "collapsed": false
   },
   "outputs": [
    {
     "data": {
      "text/plain": [
       "(array([ 618.,    0.,    0.,    0.,    0.,    0.,    0.,    0.,    0.,  618.]),\n",
       " array([-1. , -0.8, -0.6, -0.4, -0.2,  0. ,  0.2,  0.4,  0.6,  0.8,  1. ]),\n",
       " <a list of 10 Patch objects>)"
      ]
     },
     "execution_count": 701,
     "metadata": {},
     "output_type": "execute_result"
    },
    {
     "data": {
      "image/png": "[encoded data removed]",
      "text/plain": [
       "<matplotlib.figure.Figure at 0x259a5f390>"
      ]
     },
     "metadata": {},
     "output_type": "display_data"
    }
   ],
   "source": [
    "plt.hist(pnh_train_y)"
   ]
  },
  {
   "cell_type": "code",
   "execution_count": 771,
   "metadata": {
    "collapsed": true
   },
   "outputs": [],
   "source": [
    "?RandomForestClassifier"
   ]
  },
  {
   "cell_type": "code",
   "execution_count": 853,
   "metadata": {
    "collapsed": false
   },
   "outputs": [],
   "source": [
    "alg = RandomForestClassifier(n_estimators=30, random_state=43)"
   ]
  },
  {
   "cell_type": "code",
   "execution_count": 854,
   "metadata": {
    "collapsed": false
   },
   "outputs": [
    {
     "data": {
      "text/plain": [
       "0.77588996763754048"
      ]
     },
     "execution_count": 854,
     "metadata": {},
     "output_type": "execute_result"
    }
   ],
   "source": [
    "cross_val_score(alg, pnh_train_X[good_features], pnh_train_y, scoring=make_scorer(accuracy_score)).mean()"
   ]
  },
  {
   "cell_type": "code",
   "execution_count": 855,
   "metadata": {
    "collapsed": false
   },
   "outputs": [
    {
     "data": {
      "text/plain": [
       "RandomForestClassifier(bootstrap=True, class_weight=None, criterion='gini',\n",
       "            max_depth=None, max_features='auto', max_leaf_nodes=None,\n",
       "            min_impurity_split=1e-07, min_samples_leaf=1,\n",
       "            min_samples_split=2, min_weight_fraction_leaf=0.0,\n",
       "            n_estimators=30, n_jobs=1, oob_score=False, random_state=43,\n",
       "            verbose=0, warm_start=False)"
      ]
     },
     "execution_count": 855,
     "metadata": {},
     "output_type": "execute_result"
    }
   ],
   "source": [
    "alg.fit(pnh_train_X[good_features], pnh_train_y)"
   ]
  },
  {
   "cell_type": "code",
   "execution_count": 856,
   "metadata": {
    "collapsed": false
   },
   "outputs": [
    {
     "data": {
      "text/plain": [
       "(2667, 2667)"
      ]
     },
     "execution_count": 856,
     "metadata": {},
     "output_type": "execute_result"
    }
   ],
   "source": [
    "len(pnh_test_X), len(pnh_test_Y)"
   ]
  },
  {
   "cell_type": "code",
   "execution_count": 864,
   "metadata": {
    "collapsed": false
   },
   "outputs": [],
   "source": [
    "prediction = alg.predict_proba(small_good_X[good_features])"
   ]
  },
  {
   "cell_type": "code",
   "execution_count": 865,
   "metadata": {
    "collapsed": false
   },
   "outputs": [
    {
     "data": {
      "text/plain": [
       "array([[ 0.53333333,  0.46666667],\n",
       "       [ 0.23333333,  0.76666667],\n",
       "       [ 0.06666667,  0.93333333],\n",
       "       [ 0.66666667,  0.33333333],\n",
       "       [ 0.2       ,  0.8       ]])"
      ]
     },
     "execution_count": 865,
     "metadata": {},
     "output_type": "execute_result"
    }
   ],
   "source": [
    "prediction"
   ]
  },
  {
   "cell_type": "code",
   "execution_count": 860,
   "metadata": {
    "collapsed": false
   },
   "outputs": [
    {
     "data": {
      "text/plain": [
       "(array([   62.,     0.,     0.,     0.,     0.,     0.,     0.,     0.,\n",
       "            0.,  2605.]),\n",
       " array([-1. , -0.8, -0.6, -0.4, -0.2,  0. ,  0.2,  0.4,  0.6,  0.8,  1. ]),\n",
       " <a list of 10 Patch objects>)"
      ]
     },
     "execution_count": 860,
     "metadata": {},
     "output_type": "execute_result"
    },
    {
     "data": {
      "image/png": "[encoded data removed]",
      "text/plain": [
       "<matplotlib.figure.Figure at 0x25aa6dac8>"
      ]
     },
     "metadata": {},
     "output_type": "display_data"
    }
   ],
   "source": [
    "plt.hist(prediction)"
   ]
  },
  {
   "cell_type": "code",
   "execution_count": 861,
   "metadata": {
    "collapsed": false
   },
   "outputs": [
    {
     "data": {
      "text/plain": [
       "0.97675290588676411"
      ]
     },
     "execution_count": 861,
     "metadata": {},
     "output_type": "execute_result"
    }
   ],
   "source": [
    "np.mean(prediction==1)"
   ]
  },
  {
   "cell_type": "markdown",
   "metadata": {},
   "source": [
    "## Тест на постнауке"
   ]
  },
  {
   "cell_type": "code",
   "execution_count": 624,
   "metadata": {
    "collapsed": false
   },
   "outputs": [],
   "source": [
    "docs_info = []\n",
    "docs_texts = []\n",
    "\n",
    "pipeline = arbitrary.get_pipeline()\n",
    "\n",
    "counter = 0\n",
    "\n",
    "for doc in pn_docs:\n",
    "    doc_features = {}\n",
    "    text = doc[\"modalities\"][\"text\"] #+ doc[\"modalities\"][\"text_habr\"]\n",
    "    # Количественные признаки\n",
    "    doc_features[\"words_count\"] = len(text) # Число слов в документе\n",
    "    doc_features[\"unique_words_ratio\"] = len(set(text))/len(text)\n",
    "    #doc_features[\"common_words_ratio\"] = len(doc[\"modalities\"][\"text\"]) / len(text) # Доля токенов в документе из ПН\n",
    "    doc_features[\"en_words\"] = len([a for a in text if regex.match(\"^[a-zA-Z]+$\", a)])/len(text)\n",
    "    doc_features[\"ru_words\"] = len([a for a in text if regex.match(\"^[а-яА-Я]+$\", a)])/len(text)\n",
    "    doc_features[\"non_letters\"] = len([a for a in doc[\"markdown\"] if a in non_letters])/len(doc[\"markdown\"])\n",
    "    doc_features[\"non_scipop_words\"] = len([a for a in text if a in non_scipop_words])\n",
    "    doc_features[\"scipop_words\"] = len([a for a in text if a in scipop_words])\n",
    "    # Параграфы и их длины\n",
    "    doc_features[\"num_of_paragraphs\"] = len([a for a in doc[\"markdown\"].split('\\n') if len(a) != 0])\n",
    "    doc_features[\"paragraph_raito\"] = doc_features[\"num_of_paragraphs\"] / len(text)\n",
    "    doc_features[\"avg_paragraph_len\"] = np.mean([len(a) for a in doc[\"markdown\"].split('\\n') if len(a) != 0])\n",
    "    doc_features[\"num_of_small_paragraphs\"] = sum([1 for a in doc[\"markdown\"].split('\\n')\n",
    "                                               if (len(a) < 300 or len(a.split(\" \")) < 30) and len(a) != 0])\n",
    "    doc_features[\"num_of_large_paragraphs\"] = sum([1 for a in doc[\"markdown\"].split('\\n')\n",
    "                                               if (len(a) > 1300 or len(a.split(\" \")) > 120) and len(a) != 0])\n",
    "    doc_features[\"small_paragraphs_ratio\"] = doc_features[\"num_of_small_paragraphs\"]/doc_features[\"num_of_paragraphs\"]\n",
    "    doc_features[\"large_paragraphs_ratio\"] = doc_features[\"num_of_large_paragraphs\"]/doc_features[\"num_of_paragraphs\"]\n",
    "    doc_features[\"paragraphs_variance\"] = np.var([len(s) for s in doc[\"markdown\"].split('\\n') if len(a) != 0])\n",
    "\n",
    "    # Фичи заголовков:\n",
    "    \n",
    "    #doc_features[\"code_ratio\"] = len([a for a in doc[\"markdown\"].split(\"\\t\") if a in code_elements])/len(doc[\"markdown\"])\n",
    "    docs_info.append(doc_features)\n",
    "    docs_texts.append(text)\n",
    "    \n",
    "pn_X = pd.DataFrame(data=docs_info, index=pn_docs_ids)"
   ]
  },
  {
   "cell_type": "code",
   "execution_count": 420,
   "metadata": {
    "collapsed": false,
    "scrolled": true
   },
   "outputs": [
    {
     "data": {
      "text/html": [
       "<div>\n",
       "<table border=\"1\" class=\"dataframe\">\n",
       "  <thead>\n",
       "    <tr style=\"text-align: right;\">\n",
       "      <th></th>\n",
       "      <th>avg_paragraph_len</th>\n",
       "      <th>en_words</th>\n",
       "      <th>large_paragraphs_ratio</th>\n",
       "      <th>non_letters</th>\n",
       "      <th>non_scipop_words</th>\n",
       "      <th>num_of_large_paragraphs</th>\n",
       "      <th>num_of_paragraphs</th>\n",
       "      <th>num_of_small_paragraphs</th>\n",
       "      <th>paragraph_raito</th>\n",
       "      <th>paragraphs_variance</th>\n",
       "      <th>ru_words</th>\n",
       "      <th>scipop_words</th>\n",
       "      <th>small_paragraphs_ratio</th>\n",
       "      <th>unique_words_ratio</th>\n",
       "      <th>words_count</th>\n",
       "    </tr>\n",
       "  </thead>\n",
       "  <tbody>\n",
       "    <tr>\n",
       "      <th>count</th>\n",
       "      <td>2976.000000</td>\n",
       "      <td>2976.000000</td>\n",
       "      <td>2976.000000</td>\n",
       "      <td>2976.000000</td>\n",
       "      <td>2976.000000</td>\n",
       "      <td>2976.000000</td>\n",
       "      <td>2976.000000</td>\n",
       "      <td>2976.000000</td>\n",
       "      <td>2976.000000</td>\n",
       "      <td>2.976000e+03</td>\n",
       "      <td>2976.000000</td>\n",
       "      <td>2976.000000</td>\n",
       "      <td>2976.000000</td>\n",
       "      <td>2976.000000</td>\n",
       "      <td>2976.000000</td>\n",
       "    </tr>\n",
       "    <tr>\n",
       "      <th>mean</th>\n",
       "      <td>526.372729</td>\n",
       "      <td>0.013795</td>\n",
       "      <td>0.162901</td>\n",
       "      <td>0.002902</td>\n",
       "      <td>0.800067</td>\n",
       "      <td>2.683804</td>\n",
       "      <td>17.322917</td>\n",
       "      <td>6.812836</td>\n",
       "      <td>0.031007</td>\n",
       "      <td>1.403133e+05</td>\n",
       "      <td>0.986007</td>\n",
       "      <td>0.991935</td>\n",
       "      <td>0.321287</td>\n",
       "      <td>0.625829</td>\n",
       "      <td>594.246640</td>\n",
       "    </tr>\n",
       "    <tr>\n",
       "      <th>std</th>\n",
       "      <td>194.431228</td>\n",
       "      <td>0.022010</td>\n",
       "      <td>0.183548</td>\n",
       "      <td>0.002465</td>\n",
       "      <td>3.515346</td>\n",
       "      <td>3.630101</td>\n",
       "      <td>18.028108</td>\n",
       "      <td>10.828390</td>\n",
       "      <td>0.016028</td>\n",
       "      <td>1.187894e+05</td>\n",
       "      <td>0.022212</td>\n",
       "      <td>2.085871</td>\n",
       "      <td>0.187621</td>\n",
       "      <td>0.108649</td>\n",
       "      <td>606.800107</td>\n",
       "    </tr>\n",
       "    <tr>\n",
       "      <th>min</th>\n",
       "      <td>51.853659</td>\n",
       "      <td>0.000000</td>\n",
       "      <td>0.000000</td>\n",
       "      <td>0.000000</td>\n",
       "      <td>0.000000</td>\n",
       "      <td>0.000000</td>\n",
       "      <td>2.000000</td>\n",
       "      <td>0.000000</td>\n",
       "      <td>0.008075</td>\n",
       "      <td>2.444108e+03</td>\n",
       "      <td>0.734724</td>\n",
       "      <td>0.000000</td>\n",
       "      <td>0.000000</td>\n",
       "      <td>0.264488</td>\n",
       "      <td>97.000000</td>\n",
       "    </tr>\n",
       "    <tr>\n",
       "      <th>25%</th>\n",
       "      <td>400.480159</td>\n",
       "      <td>0.000000</td>\n",
       "      <td>0.000000</td>\n",
       "      <td>0.001520</td>\n",
       "      <td>0.000000</td>\n",
       "      <td>0.000000</td>\n",
       "      <td>4.000000</td>\n",
       "      <td>1.000000</td>\n",
       "      <td>0.022989</td>\n",
       "      <td>6.979072e+04</td>\n",
       "      <td>0.982275</td>\n",
       "      <td>0.000000</td>\n",
       "      <td>0.217391</td>\n",
       "      <td>0.546019</td>\n",
       "      <td>168.000000</td>\n",
       "    </tr>\n",
       "    <tr>\n",
       "      <th>50%</th>\n",
       "      <td>489.847368</td>\n",
       "      <td>0.006315</td>\n",
       "      <td>0.111111</td>\n",
       "      <td>0.002357</td>\n",
       "      <td>0.000000</td>\n",
       "      <td>1.000000</td>\n",
       "      <td>13.000000</td>\n",
       "      <td>3.000000</td>\n",
       "      <td>0.028923</td>\n",
       "      <td>1.110315e+05</td>\n",
       "      <td>0.993631</td>\n",
       "      <td>0.000000</td>\n",
       "      <td>0.250000</td>\n",
       "      <td>0.620976</td>\n",
       "      <td>485.000000</td>\n",
       "    </tr>\n",
       "    <tr>\n",
       "      <th>75%</th>\n",
       "      <td>616.393725</td>\n",
       "      <td>0.017248</td>\n",
       "      <td>0.250000</td>\n",
       "      <td>0.003619</td>\n",
       "      <td>1.000000</td>\n",
       "      <td>4.000000</td>\n",
       "      <td>23.000000</td>\n",
       "      <td>10.000000</td>\n",
       "      <td>0.035481</td>\n",
       "      <td>1.723721e+05</td>\n",
       "      <td>1.000000</td>\n",
       "      <td>1.000000</td>\n",
       "      <td>0.433696</td>\n",
       "      <td>0.711031</td>\n",
       "      <td>732.000000</td>\n",
       "    </tr>\n",
       "    <tr>\n",
       "      <th>max</th>\n",
       "      <td>1838.833333</td>\n",
       "      <td>0.264903</td>\n",
       "      <td>1.000000</td>\n",
       "      <td>0.044720</td>\n",
       "      <td>114.000000</td>\n",
       "      <td>33.000000</td>\n",
       "      <td>287.000000</td>\n",
       "      <td>268.000000</td>\n",
       "      <td>0.225275</td>\n",
       "      <td>1.776580e+06</td>\n",
       "      <td>1.000000</td>\n",
       "      <td>27.000000</td>\n",
       "      <td>1.000000</td>\n",
       "      <td>0.936937</td>\n",
       "      <td>6294.000000</td>\n",
       "    </tr>\n",
       "  </tbody>\n",
       "</table>\n",
       "</div>"
      ],
      "text/plain": [
       "       avg_paragraph_len     en_words  large_paragraphs_ratio  non_letters  \\\n",
       "count        2976.000000  2976.000000             2976.000000  2976.000000   \n",
       "mean          526.372729     0.013795                0.162901     0.002902   \n",
       "std           194.431228     0.022010                0.183548     0.002465   \n",
       "min            51.853659     0.000000                0.000000     0.000000   \n",
       "25%           400.480159     0.000000                0.000000     0.001520   \n",
       "50%           489.847368     0.006315                0.111111     0.002357   \n",
       "75%           616.393725     0.017248                0.250000     0.003619   \n",
       "max          1838.833333     0.264903                1.000000     0.044720   \n",
       "\n",
       "       non_scipop_words  num_of_large_paragraphs  num_of_paragraphs  \\\n",
       "count       2976.000000              2976.000000        2976.000000   \n",
       "mean           0.800067                 2.683804          17.322917   \n",
       "std            3.515346                 3.630101          18.028108   \n",
       "min            0.000000                 0.000000           2.000000   \n",
       "25%            0.000000                 0.000000           4.000000   \n",
       "50%            0.000000                 1.000000          13.000000   \n",
       "75%            1.000000                 4.000000          23.000000   \n",
       "max          114.000000                33.000000         287.000000   \n",
       "\n",
       "       num_of_small_paragraphs  paragraph_raito  paragraphs_variance  \\\n",
       "count              2976.000000      2976.000000         2.976000e+03   \n",
       "mean                  6.812836         0.031007         1.403133e+05   \n",
       "std                  10.828390         0.016028         1.187894e+05   \n",
       "min                   0.000000         0.008075         2.444108e+03   \n",
       "25%                   1.000000         0.022989         6.979072e+04   \n",
       "50%                   3.000000         0.028923         1.110315e+05   \n",
       "75%                  10.000000         0.035481         1.723721e+05   \n",
       "max                 268.000000         0.225275         1.776580e+06   \n",
       "\n",
       "          ru_words  scipop_words  small_paragraphs_ratio  unique_words_ratio  \\\n",
       "count  2976.000000   2976.000000             2976.000000         2976.000000   \n",
       "mean      0.986007      0.991935                0.321287            0.625829   \n",
       "std       0.022212      2.085871                0.187621            0.108649   \n",
       "min       0.734724      0.000000                0.000000            0.264488   \n",
       "25%       0.982275      0.000000                0.217391            0.546019   \n",
       "50%       0.993631      0.000000                0.250000            0.620976   \n",
       "75%       1.000000      1.000000                0.433696            0.711031   \n",
       "max       1.000000     27.000000                1.000000            0.936937   \n",
       "\n",
       "       words_count  \n",
       "count  2976.000000  \n",
       "mean    594.246640  \n",
       "std     606.800107  \n",
       "min      97.000000  \n",
       "25%     168.000000  \n",
       "50%     485.000000  \n",
       "75%     732.000000  \n",
       "max    6294.000000  "
      ]
     },
     "execution_count": 420,
     "metadata": {},
     "output_type": "execute_result"
    }
   ],
   "source": [
    "pn_X.describe()"
   ]
  },
  {
   "cell_type": "code",
   "execution_count": 418,
   "metadata": {
    "collapsed": false
   },
   "outputs": [
    {
     "data": {
      "text/html": [
       "<div>\n",
       "<table border=\"1\" class=\"dataframe\">\n",
       "  <thead>\n",
       "    <tr style=\"text-align: right;\">\n",
       "      <th></th>\n",
       "      <th>avg_paragraph_len</th>\n",
       "      <th>common_words_ratio</th>\n",
       "      <th>en_words</th>\n",
       "      <th>large_paragraphs_ratio</th>\n",
       "      <th>non_letters</th>\n",
       "      <th>non_scipop_words</th>\n",
       "      <th>num_of_large_paragraphs</th>\n",
       "      <th>num_of_paragraphs</th>\n",
       "      <th>num_of_small_paragraphs</th>\n",
       "      <th>paragraph_raito</th>\n",
       "      <th>paragraphs_variance</th>\n",
       "      <th>ru_words</th>\n",
       "      <th>scipop_words</th>\n",
       "      <th>small_paragraphs_ratio</th>\n",
       "      <th>unique_words_ratio</th>\n",
       "      <th>words_count</th>\n",
       "    </tr>\n",
       "  </thead>\n",
       "  <tbody>\n",
       "    <tr>\n",
       "      <th>count</th>\n",
       "      <td>431.000000</td>\n",
       "      <td>431.000000</td>\n",
       "      <td>431.000000</td>\n",
       "      <td>431.000000</td>\n",
       "      <td>431.000000</td>\n",
       "      <td>431.000000</td>\n",
       "      <td>431.000000</td>\n",
       "      <td>431.000000</td>\n",
       "      <td>431.000000</td>\n",
       "      <td>431.000000</td>\n",
       "      <td>431.000000</td>\n",
       "      <td>431.000000</td>\n",
       "      <td>431.000000</td>\n",
       "      <td>431.000000</td>\n",
       "      <td>431.000000</td>\n",
       "      <td>431.00000</td>\n",
       "    </tr>\n",
       "    <tr>\n",
       "      <th>mean</th>\n",
       "      <td>205.712119</td>\n",
       "      <td>0.864115</td>\n",
       "      <td>0.134659</td>\n",
       "      <td>0.016980</td>\n",
       "      <td>0.013726</td>\n",
       "      <td>0.542923</td>\n",
       "      <td>0.457077</td>\n",
       "      <td>55.890951</td>\n",
       "      <td>49.169374</td>\n",
       "      <td>0.105260</td>\n",
       "      <td>33888.503936</td>\n",
       "      <td>0.864713</td>\n",
       "      <td>0.417633</td>\n",
       "      <td>0.734376</td>\n",
       "      <td>0.629286</td>\n",
       "      <td>502.99536</td>\n",
       "    </tr>\n",
       "    <tr>\n",
       "      <th>std</th>\n",
       "      <td>125.266391</td>\n",
       "      <td>0.115835</td>\n",
       "      <td>0.156339</td>\n",
       "      <td>0.055188</td>\n",
       "      <td>0.034144</td>\n",
       "      <td>1.107013</td>\n",
       "      <td>1.220899</td>\n",
       "      <td>90.555108</td>\n",
       "      <td>89.295676</td>\n",
       "      <td>0.134939</td>\n",
       "      <td>46922.613169</td>\n",
       "      <td>0.156137</td>\n",
       "      <td>0.816723</td>\n",
       "      <td>0.232629</td>\n",
       "      <td>0.130119</td>\n",
       "      <td>444.65714</td>\n",
       "    </tr>\n",
       "    <tr>\n",
       "      <th>min</th>\n",
       "      <td>9.841549</td>\n",
       "      <td>0.356061</td>\n",
       "      <td>0.000000</td>\n",
       "      <td>0.000000</td>\n",
       "      <td>0.000000</td>\n",
       "      <td>0.000000</td>\n",
       "      <td>0.000000</td>\n",
       "      <td>2.000000</td>\n",
       "      <td>0.000000</td>\n",
       "      <td>0.016393</td>\n",
       "      <td>786.013605</td>\n",
       "      <td>0.166667</td>\n",
       "      <td>0.000000</td>\n",
       "      <td>0.000000</td>\n",
       "      <td>0.175604</td>\n",
       "      <td>101.00000</td>\n",
       "    </tr>\n",
       "    <tr>\n",
       "      <th>25%</th>\n",
       "      <td>103.760204</td>\n",
       "      <td>0.818026</td>\n",
       "      <td>0.020263</td>\n",
       "      <td>0.000000</td>\n",
       "      <td>0.003701</td>\n",
       "      <td>0.000000</td>\n",
       "      <td>0.000000</td>\n",
       "      <td>14.000000</td>\n",
       "      <td>9.000000</td>\n",
       "      <td>0.046281</td>\n",
       "      <td>9957.125988</td>\n",
       "      <td>0.804471</td>\n",
       "      <td>0.000000</td>\n",
       "      <td>0.574176</td>\n",
       "      <td>0.548638</td>\n",
       "      <td>207.00000</td>\n",
       "    </tr>\n",
       "    <tr>\n",
       "      <th>50%</th>\n",
       "      <td>190.457143</td>\n",
       "      <td>0.902354</td>\n",
       "      <td>0.075711</td>\n",
       "      <td>0.000000</td>\n",
       "      <td>0.005846</td>\n",
       "      <td>0.000000</td>\n",
       "      <td>0.000000</td>\n",
       "      <td>27.000000</td>\n",
       "      <td>19.000000</td>\n",
       "      <td>0.069519</td>\n",
       "      <td>20206.759003</td>\n",
       "      <td>0.922764</td>\n",
       "      <td>0.000000</td>\n",
       "      <td>0.785714</td>\n",
       "      <td>0.643478</td>\n",
       "      <td>380.00000</td>\n",
       "    </tr>\n",
       "    <tr>\n",
       "      <th>75%</th>\n",
       "      <td>283.083333</td>\n",
       "      <td>0.948319</td>\n",
       "      <td>0.195529</td>\n",
       "      <td>0.000000</td>\n",
       "      <td>0.012924</td>\n",
       "      <td>1.000000</td>\n",
       "      <td>0.000000</td>\n",
       "      <td>56.000000</td>\n",
       "      <td>48.000000</td>\n",
       "      <td>0.121462</td>\n",
       "      <td>37429.829234</td>\n",
       "      <td>0.978333</td>\n",
       "      <td>1.000000</td>\n",
       "      <td>0.938138</td>\n",
       "      <td>0.722199</td>\n",
       "      <td>600.50000</td>\n",
       "    </tr>\n",
       "    <tr>\n",
       "      <th>max</th>\n",
       "      <td>714.444444</td>\n",
       "      <td>1.000000</td>\n",
       "      <td>0.833333</td>\n",
       "      <td>0.500000</td>\n",
       "      <td>0.638132</td>\n",
       "      <td>9.000000</td>\n",
       "      <td>9.000000</td>\n",
       "      <td>1091.000000</td>\n",
       "      <td>1075.000000</td>\n",
       "      <td>2.151515</td>\n",
       "      <td>443556.000000</td>\n",
       "      <td>1.000000</td>\n",
       "      <td>6.000000</td>\n",
       "      <td>1.000000</td>\n",
       "      <td>0.884211</td>\n",
       "      <td>3745.00000</td>\n",
       "    </tr>\n",
       "  </tbody>\n",
       "</table>\n",
       "</div>"
      ],
      "text/plain": [
       "       avg_paragraph_len  common_words_ratio    en_words  \\\n",
       "count         431.000000          431.000000  431.000000   \n",
       "mean          205.712119            0.864115    0.134659   \n",
       "std           125.266391            0.115835    0.156339   \n",
       "min             9.841549            0.356061    0.000000   \n",
       "25%           103.760204            0.818026    0.020263   \n",
       "50%           190.457143            0.902354    0.075711   \n",
       "75%           283.083333            0.948319    0.195529   \n",
       "max           714.444444            1.000000    0.833333   \n",
       "\n",
       "       large_paragraphs_ratio  non_letters  non_scipop_words  \\\n",
       "count              431.000000   431.000000        431.000000   \n",
       "mean                 0.016980     0.013726          0.542923   \n",
       "std                  0.055188     0.034144          1.107013   \n",
       "min                  0.000000     0.000000          0.000000   \n",
       "25%                  0.000000     0.003701          0.000000   \n",
       "50%                  0.000000     0.005846          0.000000   \n",
       "75%                  0.000000     0.012924          1.000000   \n",
       "max                  0.500000     0.638132          9.000000   \n",
       "\n",
       "       num_of_large_paragraphs  num_of_paragraphs  num_of_small_paragraphs  \\\n",
       "count               431.000000         431.000000               431.000000   \n",
       "mean                  0.457077          55.890951                49.169374   \n",
       "std                   1.220899          90.555108                89.295676   \n",
       "min                   0.000000           2.000000                 0.000000   \n",
       "25%                   0.000000          14.000000                 9.000000   \n",
       "50%                   0.000000          27.000000                19.000000   \n",
       "75%                   0.000000          56.000000                48.000000   \n",
       "max                   9.000000        1091.000000              1075.000000   \n",
       "\n",
       "       paragraph_raito  paragraphs_variance    ru_words  scipop_words  \\\n",
       "count       431.000000           431.000000  431.000000    431.000000   \n",
       "mean          0.105260         33888.503936    0.864713      0.417633   \n",
       "std           0.134939         46922.613169    0.156137      0.816723   \n",
       "min           0.016393           786.013605    0.166667      0.000000   \n",
       "25%           0.046281          9957.125988    0.804471      0.000000   \n",
       "50%           0.069519         20206.759003    0.922764      0.000000   \n",
       "75%           0.121462         37429.829234    0.978333      1.000000   \n",
       "max           2.151515        443556.000000    1.000000      6.000000   \n",
       "\n",
       "       small_paragraphs_ratio  unique_words_ratio  words_count  \n",
       "count              431.000000          431.000000    431.00000  \n",
       "mean                 0.734376            0.629286    502.99536  \n",
       "std                  0.232629            0.130119    444.65714  \n",
       "min                  0.000000            0.175604    101.00000  \n",
       "25%                  0.574176            0.548638    207.00000  \n",
       "50%                  0.785714            0.643478    380.00000  \n",
       "75%                  0.938138            0.722199    600.50000  \n",
       "max                  1.000000            0.884211   3745.00000  "
      ]
     },
     "execution_count": 418,
     "metadata": {},
     "output_type": "execute_result"
    }
   ],
   "source": [
    "train_X.describe()"
   ]
  },
  {
   "cell_type": "code",
   "execution_count": 314,
   "metadata": {
    "collapsed": true
   },
   "outputs": [
    {
     "name": "stdout",
     "output_type": "stream",
     "text": [
      "proceded: 50\n",
      "proceded: 100\n",
      "proceded: 150\n",
      "proceded: 200\n",
      "proceded: 250\n",
      "proceded: 300\n",
      "proceded: 350\n",
      "proceded: 400\n",
      "proceded: 450\n",
      "proceded: 500\n",
      "proceded: 550\n",
      "proceded: 600\n",
      "proceded: 650\n",
      "proceded: 700\n",
      "proceded: 750\n",
      "proceded: 800\n",
      "proceded: 850\n",
      "proceded: 900\n",
      "proceded: 950\n",
      "proceded: 1000\n",
      "proceded: 1050\n",
      "proceded: 1100\n",
      "proceded: 1150\n",
      "proceded: 1200\n",
      "proceded: 1250\n",
      "proceded: 1300\n",
      "proceded: 1350\n",
      "proceded: 1400\n",
      "proceded: 1450\n",
      "proceded: 1500\n",
      "proceded: 1550\n",
      "proceded: 1600\n",
      "proceded: 1650\n",
      "proceded: 1700\n",
      "proceded: 1750\n",
      "proceded: 1800\n",
      "proceded: 1850\n",
      "proceded: 1900\n",
      "proceded: 1950\n",
      "proceded: 2000\n",
      "proceded: 2050\n",
      "proceded: 2100\n",
      "proceded: 2150\n",
      "proceded: 2200\n",
      "proceded: 2250\n",
      "proceded: 2300\n",
      "proceded: 2350\n",
      "proceded: 2400\n",
      "proceded: 2450\n",
      "proceded: 2500\n",
      "proceded: 2550\n",
      "proceded: 2600\n",
      "proceded: 2650\n",
      "proceded: 2700\n",
      "proceded: 2750\n",
      "proceded: 2800\n",
      "proceded: 2850\n",
      "proceded: 2900\n",
      "proceded: 2950\n"
     ]
    }
   ],
   "source": [
    "morph = pymorphy2.MorphAnalyzer()\n",
    "\n",
    "docs_info = []\n",
    "\n",
    "counter = 0\n",
    "\n",
    "for doc in pn_docs:\n",
    "    text = doc[\"markdown\"]\n",
    "    tokens = re.findall(r\"[\\w']+\", text)\n",
    "    doc_features = dict(zip(morph_tags, np.zeros(len(morph_tags))))\n",
    "    npro1 = 0\n",
    "    for token in tokens:\n",
    "        parse_result = morph.parse(token)[0]\n",
    "        for tag in doc_features.keys():\n",
    "            if tag in parse_result.tag:\n",
    "                doc_features[tag] += 1\n",
    "            if {\"NPRO\", \"1per\"} in parse_result.tag:\n",
    "                npro1 += 1\n",
    "    doc_features[\"NPRO1\"] = npro1\n",
    "\n",
    "    doc_features[\"verbs_in_title\"] = 0\n",
    "    for token in re.findall(r\"[\\w']+\", doc[\"title\"]):\n",
    "        parse_result = morph.parse(token)[0]\n",
    "        if ({\"VERB\", \"past\"} in parse_result.tag) | ({\"VERB\", \"futr\"} in parse_result.tag): \n",
    "            doc_features[\"verbs_in_title\"] += 1\n",
    "            \n",
    "    doc_features[\"verbs_in_first_pars\"] = 0\n",
    "    first_paragraphs = text.split(\"\\n\")[0]\n",
    "    for token in re.findall(r\"[\\w']+\", first_paragraphs):\n",
    "        parse_result = morph.parse(token)[0]\n",
    "        if ({\"VERB\", \"past\"} in parse_result.tag) | ({\"VERB\", \"futr\"} in parse_result.tag): \n",
    "            doc_features[\"verbs_in_first_pars\"] += 1\n",
    "        \n",
    "    docs_info.append(doc_features)\n",
    "        \n",
    "    counter += 1\n",
    "    if counter % 50 == 0:\n",
    "        print(\"proceded: %d\"%((counter)))\n",
    "    \n",
    "pn_morph_features = pd.DataFrame(data=docs_info, index=pn_docs_ids)"
   ]
  },
  {
   "cell_type": "code",
   "execution_count": 350,
   "metadata": {
    "collapsed": false
   },
   "outputs": [
    {
     "data": {
      "text/html": [
       "<div>\n",
       "<table border=\"1\" class=\"dataframe\">\n",
       "  <thead>\n",
       "    <tr style=\"text-align: right;\">\n",
       "      <th></th>\n",
       "      <th>1per</th>\n",
       "      <th>2per</th>\n",
       "      <th>3per</th>\n",
       "      <th>ADJF</th>\n",
       "      <th>COMP</th>\n",
       "      <th>INFN</th>\n",
       "      <th>LATN</th>\n",
       "      <th>NOUN</th>\n",
       "      <th>NPRO</th>\n",
       "      <th>NPRO1</th>\n",
       "      <th>NUMR</th>\n",
       "      <th>futr</th>\n",
       "      <th>impf</th>\n",
       "      <th>past</th>\n",
       "      <th>perf</th>\n",
       "      <th>plur</th>\n",
       "      <th>pres</th>\n",
       "      <th>sing</th>\n",
       "      <th>verbs_in_first_pars</th>\n",
       "      <th>verbs_in_title</th>\n",
       "    </tr>\n",
       "  </thead>\n",
       "  <tbody>\n",
       "    <tr>\n",
       "      <th>pn_2</th>\n",
       "      <td>13.0</td>\n",
       "      <td>0.0</td>\n",
       "      <td>45.0</td>\n",
       "      <td>251.0</td>\n",
       "      <td>1.0</td>\n",
       "      <td>28.0</td>\n",
       "      <td>72.0</td>\n",
       "      <td>568.0</td>\n",
       "      <td>28.0</td>\n",
       "      <td>119</td>\n",
       "      <td>2.0</td>\n",
       "      <td>3.0</td>\n",
       "      <td>79.0</td>\n",
       "      <td>71.0</td>\n",
       "      <td>70.0</td>\n",
       "      <td>321.0</td>\n",
       "      <td>59.0</td>\n",
       "      <td>638.0</td>\n",
       "      <td>5</td>\n",
       "      <td>0</td>\n",
       "    </tr>\n",
       "    <tr>\n",
       "      <th>pn_3</th>\n",
       "      <td>14.0</td>\n",
       "      <td>10.0</td>\n",
       "      <td>78.0</td>\n",
       "      <td>174.0</td>\n",
       "      <td>5.0</td>\n",
       "      <td>47.0</td>\n",
       "      <td>0.0</td>\n",
       "      <td>370.0</td>\n",
       "      <td>45.0</td>\n",
       "      <td>119</td>\n",
       "      <td>2.0</td>\n",
       "      <td>6.0</td>\n",
       "      <td>122.0</td>\n",
       "      <td>61.0</td>\n",
       "      <td>65.0</td>\n",
       "      <td>183.0</td>\n",
       "      <td>88.0</td>\n",
       "      <td>549.0</td>\n",
       "      <td>4</td>\n",
       "      <td>0</td>\n",
       "    </tr>\n",
       "    <tr>\n",
       "      <th>pn_4</th>\n",
       "      <td>43.0</td>\n",
       "      <td>4.0</td>\n",
       "      <td>154.0</td>\n",
       "      <td>450.0</td>\n",
       "      <td>7.0</td>\n",
       "      <td>46.0</td>\n",
       "      <td>12.0</td>\n",
       "      <td>977.0</td>\n",
       "      <td>72.0</td>\n",
       "      <td>391</td>\n",
       "      <td>12.0</td>\n",
       "      <td>22.0</td>\n",
       "      <td>189.0</td>\n",
       "      <td>94.0</td>\n",
       "      <td>123.0</td>\n",
       "      <td>519.0</td>\n",
       "      <td>151.0</td>\n",
       "      <td>1259.0</td>\n",
       "      <td>0</td>\n",
       "      <td>0</td>\n",
       "    </tr>\n",
       "    <tr>\n",
       "      <th>pn_5</th>\n",
       "      <td>39.0</td>\n",
       "      <td>2.0</td>\n",
       "      <td>106.0</td>\n",
       "      <td>364.0</td>\n",
       "      <td>5.0</td>\n",
       "      <td>49.0</td>\n",
       "      <td>29.0</td>\n",
       "      <td>701.0</td>\n",
       "      <td>71.0</td>\n",
       "      <td>391</td>\n",
       "      <td>7.0</td>\n",
       "      <td>11.0</td>\n",
       "      <td>148.0</td>\n",
       "      <td>68.0</td>\n",
       "      <td>97.0</td>\n",
       "      <td>356.0</td>\n",
       "      <td>125.0</td>\n",
       "      <td>980.0</td>\n",
       "      <td>0</td>\n",
       "      <td>0</td>\n",
       "    </tr>\n",
       "    <tr>\n",
       "      <th>pn_6</th>\n",
       "      <td>35.0</td>\n",
       "      <td>0.0</td>\n",
       "      <td>71.0</td>\n",
       "      <td>300.0</td>\n",
       "      <td>10.0</td>\n",
       "      <td>28.0</td>\n",
       "      <td>47.0</td>\n",
       "      <td>630.0</td>\n",
       "      <td>38.0</td>\n",
       "      <td>374</td>\n",
       "      <td>5.0</td>\n",
       "      <td>7.0</td>\n",
       "      <td>117.0</td>\n",
       "      <td>47.0</td>\n",
       "      <td>56.0</td>\n",
       "      <td>376.0</td>\n",
       "      <td>94.0</td>\n",
       "      <td>746.0</td>\n",
       "      <td>3</td>\n",
       "      <td>0</td>\n",
       "    </tr>\n",
       "    <tr>\n",
       "      <th>pn_7</th>\n",
       "      <td>40.0</td>\n",
       "      <td>4.0</td>\n",
       "      <td>85.0</td>\n",
       "      <td>280.0</td>\n",
       "      <td>3.0</td>\n",
       "      <td>33.0</td>\n",
       "      <td>36.0</td>\n",
       "      <td>484.0</td>\n",
       "      <td>55.0</td>\n",
       "      <td>442</td>\n",
       "      <td>6.0</td>\n",
       "      <td>7.0</td>\n",
       "      <td>121.0</td>\n",
       "      <td>61.0</td>\n",
       "      <td>65.0</td>\n",
       "      <td>261.0</td>\n",
       "      <td>98.0</td>\n",
       "      <td>724.0</td>\n",
       "      <td>1</td>\n",
       "      <td>0</td>\n",
       "    </tr>\n",
       "    <tr>\n",
       "      <th>pn_8</th>\n",
       "      <td>4.0</td>\n",
       "      <td>0.0</td>\n",
       "      <td>51.0</td>\n",
       "      <td>240.0</td>\n",
       "      <td>0.0</td>\n",
       "      <td>20.0</td>\n",
       "      <td>2.0</td>\n",
       "      <td>490.0</td>\n",
       "      <td>36.0</td>\n",
       "      <td>34</td>\n",
       "      <td>2.0</td>\n",
       "      <td>0.0</td>\n",
       "      <td>85.0</td>\n",
       "      <td>101.0</td>\n",
       "      <td>70.0</td>\n",
       "      <td>158.0</td>\n",
       "      <td>36.0</td>\n",
       "      <td>747.0</td>\n",
       "      <td>7</td>\n",
       "      <td>0</td>\n",
       "    </tr>\n",
       "    <tr>\n",
       "      <th>pn_9</th>\n",
       "      <td>7.0</td>\n",
       "      <td>0.0</td>\n",
       "      <td>82.0</td>\n",
       "      <td>168.0</td>\n",
       "      <td>3.0</td>\n",
       "      <td>27.0</td>\n",
       "      <td>2.0</td>\n",
       "      <td>358.0</td>\n",
       "      <td>47.0</td>\n",
       "      <td>85</td>\n",
       "      <td>11.0</td>\n",
       "      <td>3.0</td>\n",
       "      <td>97.0</td>\n",
       "      <td>92.0</td>\n",
       "      <td>76.0</td>\n",
       "      <td>234.0</td>\n",
       "      <td>56.0</td>\n",
       "      <td>493.0</td>\n",
       "      <td>4</td>\n",
       "      <td>0</td>\n",
       "    </tr>\n",
       "    <tr>\n",
       "      <th>pn_13</th>\n",
       "      <td>25.0</td>\n",
       "      <td>8.0</td>\n",
       "      <td>63.0</td>\n",
       "      <td>150.0</td>\n",
       "      <td>0.0</td>\n",
       "      <td>29.0</td>\n",
       "      <td>62.0</td>\n",
       "      <td>305.0</td>\n",
       "      <td>51.0</td>\n",
       "      <td>272</td>\n",
       "      <td>1.0</td>\n",
       "      <td>3.0</td>\n",
       "      <td>89.0</td>\n",
       "      <td>52.0</td>\n",
       "      <td>49.0</td>\n",
       "      <td>197.0</td>\n",
       "      <td>57.0</td>\n",
       "      <td>423.0</td>\n",
       "      <td>0</td>\n",
       "      <td>0</td>\n",
       "    </tr>\n",
       "    <tr>\n",
       "      <th>pn_14</th>\n",
       "      <td>19.0</td>\n",
       "      <td>0.0</td>\n",
       "      <td>205.0</td>\n",
       "      <td>626.0</td>\n",
       "      <td>19.0</td>\n",
       "      <td>83.0</td>\n",
       "      <td>120.0</td>\n",
       "      <td>1260.0</td>\n",
       "      <td>106.0</td>\n",
       "      <td>221</td>\n",
       "      <td>19.0</td>\n",
       "      <td>13.0</td>\n",
       "      <td>296.0</td>\n",
       "      <td>244.0</td>\n",
       "      <td>217.0</td>\n",
       "      <td>620.0</td>\n",
       "      <td>184.0</td>\n",
       "      <td>1829.0</td>\n",
       "      <td>0</td>\n",
       "      <td>0</td>\n",
       "    </tr>\n",
       "    <tr>\n",
       "      <th>pn_15</th>\n",
       "      <td>11.0</td>\n",
       "      <td>3.0</td>\n",
       "      <td>68.0</td>\n",
       "      <td>110.0</td>\n",
       "      <td>3.0</td>\n",
       "      <td>36.0</td>\n",
       "      <td>39.0</td>\n",
       "      <td>218.0</td>\n",
       "      <td>40.0</td>\n",
       "      <td>102</td>\n",
       "      <td>2.0</td>\n",
       "      <td>14.0</td>\n",
       "      <td>75.0</td>\n",
       "      <td>17.0</td>\n",
       "      <td>39.0</td>\n",
       "      <td>137.0</td>\n",
       "      <td>53.0</td>\n",
       "      <td>320.0</td>\n",
       "      <td>0</td>\n",
       "      <td>0</td>\n",
       "    </tr>\n",
       "    <tr>\n",
       "      <th>pn_23</th>\n",
       "      <td>7.0</td>\n",
       "      <td>0.0</td>\n",
       "      <td>84.0</td>\n",
       "      <td>356.0</td>\n",
       "      <td>3.0</td>\n",
       "      <td>28.0</td>\n",
       "      <td>105.0</td>\n",
       "      <td>696.0</td>\n",
       "      <td>51.0</td>\n",
       "      <td>51</td>\n",
       "      <td>7.0</td>\n",
       "      <td>5.0</td>\n",
       "      <td>135.0</td>\n",
       "      <td>99.0</td>\n",
       "      <td>73.0</td>\n",
       "      <td>346.0</td>\n",
       "      <td>80.0</td>\n",
       "      <td>940.0</td>\n",
       "      <td>0</td>\n",
       "      <td>0</td>\n",
       "    </tr>\n",
       "    <tr>\n",
       "      <th>pn_24</th>\n",
       "      <td>21.0</td>\n",
       "      <td>6.0</td>\n",
       "      <td>76.0</td>\n",
       "      <td>195.0</td>\n",
       "      <td>0.0</td>\n",
       "      <td>17.0</td>\n",
       "      <td>26.0</td>\n",
       "      <td>350.0</td>\n",
       "      <td>59.0</td>\n",
       "      <td>221</td>\n",
       "      <td>4.0</td>\n",
       "      <td>4.0</td>\n",
       "      <td>86.0</td>\n",
       "      <td>34.0</td>\n",
       "      <td>34.0</td>\n",
       "      <td>159.0</td>\n",
       "      <td>68.0</td>\n",
       "      <td>552.0</td>\n",
       "      <td>1</td>\n",
       "      <td>0</td>\n",
       "    </tr>\n",
       "    <tr>\n",
       "      <th>pn_25</th>\n",
       "      <td>15.0</td>\n",
       "      <td>0.0</td>\n",
       "      <td>68.0</td>\n",
       "      <td>154.0</td>\n",
       "      <td>1.0</td>\n",
       "      <td>21.0</td>\n",
       "      <td>1.0</td>\n",
       "      <td>277.0</td>\n",
       "      <td>34.0</td>\n",
       "      <td>153</td>\n",
       "      <td>2.0</td>\n",
       "      <td>2.0</td>\n",
       "      <td>78.0</td>\n",
       "      <td>15.0</td>\n",
       "      <td>23.0</td>\n",
       "      <td>156.0</td>\n",
       "      <td>64.0</td>\n",
       "      <td>392.0</td>\n",
       "      <td>0</td>\n",
       "      <td>0</td>\n",
       "    </tr>\n",
       "    <tr>\n",
       "      <th>pn_29</th>\n",
       "      <td>1.0</td>\n",
       "      <td>0.0</td>\n",
       "      <td>25.0</td>\n",
       "      <td>490.0</td>\n",
       "      <td>0.0</td>\n",
       "      <td>17.0</td>\n",
       "      <td>15.0</td>\n",
       "      <td>1198.0</td>\n",
       "      <td>25.0</td>\n",
       "      <td>17</td>\n",
       "      <td>9.0</td>\n",
       "      <td>0.0</td>\n",
       "      <td>88.0</td>\n",
       "      <td>186.0</td>\n",
       "      <td>139.0</td>\n",
       "      <td>416.0</td>\n",
       "      <td>24.0</td>\n",
       "      <td>1515.0</td>\n",
       "      <td>4</td>\n",
       "      <td>0</td>\n",
       "    </tr>\n",
       "    <tr>\n",
       "      <th>pn_30</th>\n",
       "      <td>21.0</td>\n",
       "      <td>0.0</td>\n",
       "      <td>49.0</td>\n",
       "      <td>224.0</td>\n",
       "      <td>1.0</td>\n",
       "      <td>32.0</td>\n",
       "      <td>70.0</td>\n",
       "      <td>461.0</td>\n",
       "      <td>33.0</td>\n",
       "      <td>238</td>\n",
       "      <td>9.0</td>\n",
       "      <td>5.0</td>\n",
       "      <td>110.0</td>\n",
       "      <td>77.0</td>\n",
       "      <td>52.0</td>\n",
       "      <td>308.0</td>\n",
       "      <td>50.0</td>\n",
       "      <td>559.0</td>\n",
       "      <td>1</td>\n",
       "      <td>0</td>\n",
       "    </tr>\n",
       "    <tr>\n",
       "      <th>pn_31</th>\n",
       "      <td>30.0</td>\n",
       "      <td>2.0</td>\n",
       "      <td>88.0</td>\n",
       "      <td>254.0</td>\n",
       "      <td>2.0</td>\n",
       "      <td>19.0</td>\n",
       "      <td>52.0</td>\n",
       "      <td>411.0</td>\n",
       "      <td>55.0</td>\n",
       "      <td>289</td>\n",
       "      <td>2.0</td>\n",
       "      <td>4.0</td>\n",
       "      <td>126.0</td>\n",
       "      <td>56.0</td>\n",
       "      <td>42.0</td>\n",
       "      <td>326.0</td>\n",
       "      <td>93.0</td>\n",
       "      <td>544.0</td>\n",
       "      <td>1</td>\n",
       "      <td>0</td>\n",
       "    </tr>\n",
       "    <tr>\n",
       "      <th>pn_32</th>\n",
       "      <td>2.0</td>\n",
       "      <td>0.0</td>\n",
       "      <td>47.0</td>\n",
       "      <td>162.0</td>\n",
       "      <td>0.0</td>\n",
       "      <td>19.0</td>\n",
       "      <td>0.0</td>\n",
       "      <td>305.0</td>\n",
       "      <td>10.0</td>\n",
       "      <td>17</td>\n",
       "      <td>1.0</td>\n",
       "      <td>0.0</td>\n",
       "      <td>56.0</td>\n",
       "      <td>19.0</td>\n",
       "      <td>24.0</td>\n",
       "      <td>221.0</td>\n",
       "      <td>44.0</td>\n",
       "      <td>323.0</td>\n",
       "      <td>2</td>\n",
       "      <td>0</td>\n",
       "    </tr>\n",
       "    <tr>\n",
       "      <th>pn_33</th>\n",
       "      <td>15.0</td>\n",
       "      <td>0.0</td>\n",
       "      <td>68.0</td>\n",
       "      <td>126.0</td>\n",
       "      <td>1.0</td>\n",
       "      <td>27.0</td>\n",
       "      <td>27.0</td>\n",
       "      <td>295.0</td>\n",
       "      <td>53.0</td>\n",
       "      <td>204</td>\n",
       "      <td>0.0</td>\n",
       "      <td>1.0</td>\n",
       "      <td>74.0</td>\n",
       "      <td>56.0</td>\n",
       "      <td>52.0</td>\n",
       "      <td>131.0</td>\n",
       "      <td>52.0</td>\n",
       "      <td>448.0</td>\n",
       "      <td>3</td>\n",
       "      <td>0</td>\n",
       "    </tr>\n",
       "    <tr>\n",
       "      <th>pn_34</th>\n",
       "      <td>9.0</td>\n",
       "      <td>3.0</td>\n",
       "      <td>80.0</td>\n",
       "      <td>288.0</td>\n",
       "      <td>5.0</td>\n",
       "      <td>23.0</td>\n",
       "      <td>0.0</td>\n",
       "      <td>652.0</td>\n",
       "      <td>39.0</td>\n",
       "      <td>85</td>\n",
       "      <td>10.0</td>\n",
       "      <td>4.0</td>\n",
       "      <td>125.0</td>\n",
       "      <td>71.0</td>\n",
       "      <td>56.0</td>\n",
       "      <td>238.0</td>\n",
       "      <td>87.0</td>\n",
       "      <td>900.0</td>\n",
       "      <td>0</td>\n",
       "      <td>0</td>\n",
       "    </tr>\n",
       "    <tr>\n",
       "      <th>pn_35</th>\n",
       "      <td>78.0</td>\n",
       "      <td>0.0</td>\n",
       "      <td>96.0</td>\n",
       "      <td>277.0</td>\n",
       "      <td>10.0</td>\n",
       "      <td>62.0</td>\n",
       "      <td>32.0</td>\n",
       "      <td>420.0</td>\n",
       "      <td>73.0</td>\n",
       "      <td>765</td>\n",
       "      <td>3.0</td>\n",
       "      <td>12.0</td>\n",
       "      <td>161.0</td>\n",
       "      <td>56.0</td>\n",
       "      <td>76.0</td>\n",
       "      <td>391.0</td>\n",
       "      <td>118.0</td>\n",
       "      <td>558.0</td>\n",
       "      <td>0</td>\n",
       "      <td>0</td>\n",
       "    </tr>\n",
       "    <tr>\n",
       "      <th>pn_37</th>\n",
       "      <td>8.0</td>\n",
       "      <td>0.0</td>\n",
       "      <td>15.0</td>\n",
       "      <td>45.0</td>\n",
       "      <td>0.0</td>\n",
       "      <td>8.0</td>\n",
       "      <td>0.0</td>\n",
       "      <td>68.0</td>\n",
       "      <td>13.0</td>\n",
       "      <td>102</td>\n",
       "      <td>2.0</td>\n",
       "      <td>0.0</td>\n",
       "      <td>23.0</td>\n",
       "      <td>5.0</td>\n",
       "      <td>7.0</td>\n",
       "      <td>39.0</td>\n",
       "      <td>20.0</td>\n",
       "      <td>114.0</td>\n",
       "      <td>0</td>\n",
       "      <td>0</td>\n",
       "    </tr>\n",
       "    <tr>\n",
       "      <th>pn_41</th>\n",
       "      <td>7.0</td>\n",
       "      <td>0.0</td>\n",
       "      <td>30.0</td>\n",
       "      <td>61.0</td>\n",
       "      <td>3.0</td>\n",
       "      <td>12.0</td>\n",
       "      <td>0.0</td>\n",
       "      <td>125.0</td>\n",
       "      <td>20.0</td>\n",
       "      <td>68</td>\n",
       "      <td>1.0</td>\n",
       "      <td>2.0</td>\n",
       "      <td>34.0</td>\n",
       "      <td>22.0</td>\n",
       "      <td>23.0</td>\n",
       "      <td>119.0</td>\n",
       "      <td>24.0</td>\n",
       "      <td>141.0</td>\n",
       "      <td>0</td>\n",
       "      <td>0</td>\n",
       "    </tr>\n",
       "    <tr>\n",
       "      <th>pn_42</th>\n",
       "      <td>6.0</td>\n",
       "      <td>0.0</td>\n",
       "      <td>17.0</td>\n",
       "      <td>38.0</td>\n",
       "      <td>0.0</td>\n",
       "      <td>4.0</td>\n",
       "      <td>0.0</td>\n",
       "      <td>78.0</td>\n",
       "      <td>12.0</td>\n",
       "      <td>51</td>\n",
       "      <td>1.0</td>\n",
       "      <td>6.0</td>\n",
       "      <td>17.0</td>\n",
       "      <td>8.0</td>\n",
       "      <td>11.0</td>\n",
       "      <td>66.0</td>\n",
       "      <td>12.0</td>\n",
       "      <td>94.0</td>\n",
       "      <td>1</td>\n",
       "      <td>0</td>\n",
       "    </tr>\n",
       "    <tr>\n",
       "      <th>pn_44</th>\n",
       "      <td>0.0</td>\n",
       "      <td>0.0</td>\n",
       "      <td>10.0</td>\n",
       "      <td>40.0</td>\n",
       "      <td>0.0</td>\n",
       "      <td>5.0</td>\n",
       "      <td>2.0</td>\n",
       "      <td>111.0</td>\n",
       "      <td>6.0</td>\n",
       "      <td>0</td>\n",
       "      <td>1.0</td>\n",
       "      <td>0.0</td>\n",
       "      <td>17.0</td>\n",
       "      <td>26.0</td>\n",
       "      <td>22.0</td>\n",
       "      <td>66.0</td>\n",
       "      <td>8.0</td>\n",
       "      <td>125.0</td>\n",
       "      <td>1</td>\n",
       "      <td>0</td>\n",
       "    </tr>\n",
       "    <tr>\n",
       "      <th>pn_47</th>\n",
       "      <td>4.0</td>\n",
       "      <td>0.0</td>\n",
       "      <td>12.0</td>\n",
       "      <td>56.0</td>\n",
       "      <td>1.0</td>\n",
       "      <td>9.0</td>\n",
       "      <td>5.0</td>\n",
       "      <td>103.0</td>\n",
       "      <td>9.0</td>\n",
       "      <td>34</td>\n",
       "      <td>0.0</td>\n",
       "      <td>0.0</td>\n",
       "      <td>25.0</td>\n",
       "      <td>18.0</td>\n",
       "      <td>17.0</td>\n",
       "      <td>43.0</td>\n",
       "      <td>16.0</td>\n",
       "      <td>159.0</td>\n",
       "      <td>0</td>\n",
       "      <td>0</td>\n",
       "    </tr>\n",
       "    <tr>\n",
       "      <th>pn_53</th>\n",
       "      <td>16.0</td>\n",
       "      <td>7.0</td>\n",
       "      <td>71.0</td>\n",
       "      <td>143.0</td>\n",
       "      <td>1.0</td>\n",
       "      <td>60.0</td>\n",
       "      <td>103.0</td>\n",
       "      <td>236.0</td>\n",
       "      <td>50.0</td>\n",
       "      <td>153</td>\n",
       "      <td>5.0</td>\n",
       "      <td>7.0</td>\n",
       "      <td>100.0</td>\n",
       "      <td>15.0</td>\n",
       "      <td>40.0</td>\n",
       "      <td>155.0</td>\n",
       "      <td>72.0</td>\n",
       "      <td>370.0</td>\n",
       "      <td>3</td>\n",
       "      <td>0</td>\n",
       "    </tr>\n",
       "    <tr>\n",
       "      <th>pn_54</th>\n",
       "      <td>13.0</td>\n",
       "      <td>5.0</td>\n",
       "      <td>53.0</td>\n",
       "      <td>213.0</td>\n",
       "      <td>1.0</td>\n",
       "      <td>25.0</td>\n",
       "      <td>56.0</td>\n",
       "      <td>468.0</td>\n",
       "      <td>42.0</td>\n",
       "      <td>153</td>\n",
       "      <td>4.0</td>\n",
       "      <td>4.0</td>\n",
       "      <td>100.0</td>\n",
       "      <td>93.0</td>\n",
       "      <td>65.0</td>\n",
       "      <td>193.0</td>\n",
       "      <td>43.0</td>\n",
       "      <td>673.0</td>\n",
       "      <td>0</td>\n",
       "      <td>0</td>\n",
       "    </tr>\n",
       "    <tr>\n",
       "      <th>pn_55</th>\n",
       "      <td>23.0</td>\n",
       "      <td>2.0</td>\n",
       "      <td>66.0</td>\n",
       "      <td>162.0</td>\n",
       "      <td>5.0</td>\n",
       "      <td>52.0</td>\n",
       "      <td>0.0</td>\n",
       "      <td>314.0</td>\n",
       "      <td>37.0</td>\n",
       "      <td>238</td>\n",
       "      <td>1.0</td>\n",
       "      <td>4.0</td>\n",
       "      <td>107.0</td>\n",
       "      <td>56.0</td>\n",
       "      <td>60.0</td>\n",
       "      <td>262.0</td>\n",
       "      <td>64.0</td>\n",
       "      <td>386.0</td>\n",
       "      <td>3</td>\n",
       "      <td>0</td>\n",
       "    </tr>\n",
       "    <tr>\n",
       "      <th>pn_59</th>\n",
       "      <td>7.0</td>\n",
       "      <td>0.0</td>\n",
       "      <td>65.0</td>\n",
       "      <td>308.0</td>\n",
       "      <td>9.0</td>\n",
       "      <td>34.0</td>\n",
       "      <td>68.0</td>\n",
       "      <td>419.0</td>\n",
       "      <td>28.0</td>\n",
       "      <td>68</td>\n",
       "      <td>9.0</td>\n",
       "      <td>6.0</td>\n",
       "      <td>84.0</td>\n",
       "      <td>43.0</td>\n",
       "      <td>56.0</td>\n",
       "      <td>284.0</td>\n",
       "      <td>67.0</td>\n",
       "      <td>582.0</td>\n",
       "      <td>1</td>\n",
       "      <td>0</td>\n",
       "    </tr>\n",
       "    <tr>\n",
       "      <th>...</th>\n",
       "      <td>...</td>\n",
       "      <td>...</td>\n",
       "      <td>...</td>\n",
       "      <td>...</td>\n",
       "      <td>...</td>\n",
       "      <td>...</td>\n",
       "      <td>...</td>\n",
       "      <td>...</td>\n",
       "      <td>...</td>\n",
       "      <td>...</td>\n",
       "      <td>...</td>\n",
       "      <td>...</td>\n",
       "      <td>...</td>\n",
       "      <td>...</td>\n",
       "      <td>...</td>\n",
       "      <td>...</td>\n",
       "      <td>...</td>\n",
       "      <td>...</td>\n",
       "      <td>...</td>\n",
       "      <td>...</td>\n",
       "    </tr>\n",
       "    <tr>\n",
       "      <th>pn_3370</th>\n",
       "      <td>17.0</td>\n",
       "      <td>0.0</td>\n",
       "      <td>66.0</td>\n",
       "      <td>197.0</td>\n",
       "      <td>8.0</td>\n",
       "      <td>43.0</td>\n",
       "      <td>0.0</td>\n",
       "      <td>325.0</td>\n",
       "      <td>24.0</td>\n",
       "      <td>153</td>\n",
       "      <td>2.0</td>\n",
       "      <td>21.0</td>\n",
       "      <td>96.0</td>\n",
       "      <td>33.0</td>\n",
       "      <td>56.0</td>\n",
       "      <td>298.0</td>\n",
       "      <td>63.0</td>\n",
       "      <td>364.0</td>\n",
       "      <td>2</td>\n",
       "      <td>0</td>\n",
       "    </tr>\n",
       "    <tr>\n",
       "      <th>pn_3375</th>\n",
       "      <td>93.0</td>\n",
       "      <td>0.0</td>\n",
       "      <td>254.0</td>\n",
       "      <td>844.0</td>\n",
       "      <td>6.0</td>\n",
       "      <td>90.0</td>\n",
       "      <td>44.0</td>\n",
       "      <td>1548.0</td>\n",
       "      <td>140.0</td>\n",
       "      <td>1156</td>\n",
       "      <td>17.0</td>\n",
       "      <td>21.0</td>\n",
       "      <td>436.0</td>\n",
       "      <td>239.0</td>\n",
       "      <td>225.0</td>\n",
       "      <td>995.0</td>\n",
       "      <td>316.0</td>\n",
       "      <td>2095.0</td>\n",
       "      <td>1</td>\n",
       "      <td>0</td>\n",
       "    </tr>\n",
       "    <tr>\n",
       "      <th>pn_3376</th>\n",
       "      <td>4.0</td>\n",
       "      <td>3.0</td>\n",
       "      <td>26.0</td>\n",
       "      <td>49.0</td>\n",
       "      <td>0.0</td>\n",
       "      <td>4.0</td>\n",
       "      <td>1.0</td>\n",
       "      <td>77.0</td>\n",
       "      <td>15.0</td>\n",
       "      <td>34</td>\n",
       "      <td>1.0</td>\n",
       "      <td>1.0</td>\n",
       "      <td>28.0</td>\n",
       "      <td>8.0</td>\n",
       "      <td>10.0</td>\n",
       "      <td>56.0</td>\n",
       "      <td>27.0</td>\n",
       "      <td>119.0</td>\n",
       "      <td>0</td>\n",
       "      <td>0</td>\n",
       "    </tr>\n",
       "    <tr>\n",
       "      <th>pn_3377</th>\n",
       "      <td>25.0</td>\n",
       "      <td>1.0</td>\n",
       "      <td>27.0</td>\n",
       "      <td>44.0</td>\n",
       "      <td>0.0</td>\n",
       "      <td>10.0</td>\n",
       "      <td>0.0</td>\n",
       "      <td>71.0</td>\n",
       "      <td>31.0</td>\n",
       "      <td>204</td>\n",
       "      <td>0.0</td>\n",
       "      <td>7.0</td>\n",
       "      <td>25.0</td>\n",
       "      <td>8.0</td>\n",
       "      <td>21.0</td>\n",
       "      <td>79.0</td>\n",
       "      <td>24.0</td>\n",
       "      <td>104.0</td>\n",
       "      <td>0</td>\n",
       "      <td>0</td>\n",
       "    </tr>\n",
       "    <tr>\n",
       "      <th>pn_3386</th>\n",
       "      <td>20.0</td>\n",
       "      <td>23.0</td>\n",
       "      <td>56.0</td>\n",
       "      <td>172.0</td>\n",
       "      <td>1.0</td>\n",
       "      <td>41.0</td>\n",
       "      <td>20.0</td>\n",
       "      <td>283.0</td>\n",
       "      <td>51.0</td>\n",
       "      <td>170</td>\n",
       "      <td>1.0</td>\n",
       "      <td>12.0</td>\n",
       "      <td>80.0</td>\n",
       "      <td>33.0</td>\n",
       "      <td>61.0</td>\n",
       "      <td>196.0</td>\n",
       "      <td>59.0</td>\n",
       "      <td>431.0</td>\n",
       "      <td>4</td>\n",
       "      <td>0</td>\n",
       "    </tr>\n",
       "    <tr>\n",
       "      <th>pn_3387</th>\n",
       "      <td>0.0</td>\n",
       "      <td>1.0</td>\n",
       "      <td>74.0</td>\n",
       "      <td>272.0</td>\n",
       "      <td>1.0</td>\n",
       "      <td>26.0</td>\n",
       "      <td>24.0</td>\n",
       "      <td>600.0</td>\n",
       "      <td>25.0</td>\n",
       "      <td>0</td>\n",
       "      <td>1.0</td>\n",
       "      <td>0.0</td>\n",
       "      <td>102.0</td>\n",
       "      <td>19.0</td>\n",
       "      <td>28.0</td>\n",
       "      <td>267.0</td>\n",
       "      <td>90.0</td>\n",
       "      <td>737.0</td>\n",
       "      <td>1</td>\n",
       "      <td>0</td>\n",
       "    </tr>\n",
       "    <tr>\n",
       "      <th>pn_3388</th>\n",
       "      <td>11.0</td>\n",
       "      <td>0.0</td>\n",
       "      <td>74.0</td>\n",
       "      <td>159.0</td>\n",
       "      <td>2.0</td>\n",
       "      <td>18.0</td>\n",
       "      <td>2.0</td>\n",
       "      <td>267.0</td>\n",
       "      <td>32.0</td>\n",
       "      <td>119</td>\n",
       "      <td>0.0</td>\n",
       "      <td>4.0</td>\n",
       "      <td>76.0</td>\n",
       "      <td>19.0</td>\n",
       "      <td>31.0</td>\n",
       "      <td>188.0</td>\n",
       "      <td>70.0</td>\n",
       "      <td>360.0</td>\n",
       "      <td>0</td>\n",
       "      <td>0</td>\n",
       "    </tr>\n",
       "    <tr>\n",
       "      <th>pn_3389</th>\n",
       "      <td>62.0</td>\n",
       "      <td>2.0</td>\n",
       "      <td>125.0</td>\n",
       "      <td>237.0</td>\n",
       "      <td>1.0</td>\n",
       "      <td>25.0</td>\n",
       "      <td>47.0</td>\n",
       "      <td>457.0</td>\n",
       "      <td>101.0</td>\n",
       "      <td>663</td>\n",
       "      <td>6.0</td>\n",
       "      <td>5.0</td>\n",
       "      <td>154.0</td>\n",
       "      <td>47.0</td>\n",
       "      <td>44.0</td>\n",
       "      <td>244.0</td>\n",
       "      <td>127.0</td>\n",
       "      <td>734.0</td>\n",
       "      <td>2</td>\n",
       "      <td>0</td>\n",
       "    </tr>\n",
       "    <tr>\n",
       "      <th>pn_3390</th>\n",
       "      <td>17.0</td>\n",
       "      <td>0.0</td>\n",
       "      <td>57.0</td>\n",
       "      <td>147.0</td>\n",
       "      <td>1.0</td>\n",
       "      <td>39.0</td>\n",
       "      <td>0.0</td>\n",
       "      <td>316.0</td>\n",
       "      <td>29.0</td>\n",
       "      <td>170</td>\n",
       "      <td>10.0</td>\n",
       "      <td>17.0</td>\n",
       "      <td>72.0</td>\n",
       "      <td>27.0</td>\n",
       "      <td>57.0</td>\n",
       "      <td>178.0</td>\n",
       "      <td>52.0</td>\n",
       "      <td>407.0</td>\n",
       "      <td>6</td>\n",
       "      <td>0</td>\n",
       "    </tr>\n",
       "    <tr>\n",
       "      <th>pn_3391</th>\n",
       "      <td>16.0</td>\n",
       "      <td>15.0</td>\n",
       "      <td>87.0</td>\n",
       "      <td>192.0</td>\n",
       "      <td>3.0</td>\n",
       "      <td>57.0</td>\n",
       "      <td>3.0</td>\n",
       "      <td>448.0</td>\n",
       "      <td>48.0</td>\n",
       "      <td>221</td>\n",
       "      <td>5.0</td>\n",
       "      <td>10.0</td>\n",
       "      <td>115.0</td>\n",
       "      <td>52.0</td>\n",
       "      <td>78.0</td>\n",
       "      <td>271.0</td>\n",
       "      <td>87.0</td>\n",
       "      <td>564.0</td>\n",
       "      <td>2</td>\n",
       "      <td>0</td>\n",
       "    </tr>\n",
       "    <tr>\n",
       "      <th>pn_3394</th>\n",
       "      <td>38.0</td>\n",
       "      <td>18.0</td>\n",
       "      <td>97.0</td>\n",
       "      <td>167.0</td>\n",
       "      <td>11.0</td>\n",
       "      <td>39.0</td>\n",
       "      <td>0.0</td>\n",
       "      <td>345.0</td>\n",
       "      <td>65.0</td>\n",
       "      <td>408</td>\n",
       "      <td>7.0</td>\n",
       "      <td>10.0</td>\n",
       "      <td>121.0</td>\n",
       "      <td>53.0</td>\n",
       "      <td>71.0</td>\n",
       "      <td>286.0</td>\n",
       "      <td>96.0</td>\n",
       "      <td>451.0</td>\n",
       "      <td>1</td>\n",
       "      <td>0</td>\n",
       "    </tr>\n",
       "    <tr>\n",
       "      <th>pn_3396</th>\n",
       "      <td>20.0</td>\n",
       "      <td>0.0</td>\n",
       "      <td>129.0</td>\n",
       "      <td>543.0</td>\n",
       "      <td>7.0</td>\n",
       "      <td>37.0</td>\n",
       "      <td>3.0</td>\n",
       "      <td>1084.0</td>\n",
       "      <td>73.0</td>\n",
       "      <td>204</td>\n",
       "      <td>12.0</td>\n",
       "      <td>13.0</td>\n",
       "      <td>189.0</td>\n",
       "      <td>170.0</td>\n",
       "      <td>147.0</td>\n",
       "      <td>511.0</td>\n",
       "      <td>124.0</td>\n",
       "      <td>1501.0</td>\n",
       "      <td>0</td>\n",
       "      <td>0</td>\n",
       "    </tr>\n",
       "    <tr>\n",
       "      <th>pn_3397</th>\n",
       "      <td>7.0</td>\n",
       "      <td>0.0</td>\n",
       "      <td>170.0</td>\n",
       "      <td>460.0</td>\n",
       "      <td>5.0</td>\n",
       "      <td>64.0</td>\n",
       "      <td>22.0</td>\n",
       "      <td>979.0</td>\n",
       "      <td>75.0</td>\n",
       "      <td>51</td>\n",
       "      <td>6.0</td>\n",
       "      <td>13.0</td>\n",
       "      <td>218.0</td>\n",
       "      <td>144.0</td>\n",
       "      <td>151.0</td>\n",
       "      <td>809.0</td>\n",
       "      <td>148.0</td>\n",
       "      <td>1039.0</td>\n",
       "      <td>1</td>\n",
       "      <td>0</td>\n",
       "    </tr>\n",
       "    <tr>\n",
       "      <th>pn_3398</th>\n",
       "      <td>22.0</td>\n",
       "      <td>2.0</td>\n",
       "      <td>90.0</td>\n",
       "      <td>214.0</td>\n",
       "      <td>6.0</td>\n",
       "      <td>45.0</td>\n",
       "      <td>144.0</td>\n",
       "      <td>338.0</td>\n",
       "      <td>56.0</td>\n",
       "      <td>187</td>\n",
       "      <td>2.0</td>\n",
       "      <td>5.0</td>\n",
       "      <td>151.0</td>\n",
       "      <td>88.0</td>\n",
       "      <td>62.0</td>\n",
       "      <td>258.0</td>\n",
       "      <td>83.0</td>\n",
       "      <td>524.0</td>\n",
       "      <td>3</td>\n",
       "      <td>0</td>\n",
       "    </tr>\n",
       "    <tr>\n",
       "      <th>pn_3399</th>\n",
       "      <td>30.0</td>\n",
       "      <td>0.0</td>\n",
       "      <td>107.0</td>\n",
       "      <td>231.0</td>\n",
       "      <td>2.0</td>\n",
       "      <td>41.0</td>\n",
       "      <td>42.0</td>\n",
       "      <td>291.0</td>\n",
       "      <td>55.0</td>\n",
       "      <td>272</td>\n",
       "      <td>2.0</td>\n",
       "      <td>4.0</td>\n",
       "      <td>122.0</td>\n",
       "      <td>23.0</td>\n",
       "      <td>32.0</td>\n",
       "      <td>358.0</td>\n",
       "      <td>100.0</td>\n",
       "      <td>337.0</td>\n",
       "      <td>1</td>\n",
       "      <td>0</td>\n",
       "    </tr>\n",
       "    <tr>\n",
       "      <th>pn_3405</th>\n",
       "      <td>7.0</td>\n",
       "      <td>0.0</td>\n",
       "      <td>19.0</td>\n",
       "      <td>32.0</td>\n",
       "      <td>1.0</td>\n",
       "      <td>11.0</td>\n",
       "      <td>3.0</td>\n",
       "      <td>68.0</td>\n",
       "      <td>15.0</td>\n",
       "      <td>85</td>\n",
       "      <td>0.0</td>\n",
       "      <td>0.0</td>\n",
       "      <td>28.0</td>\n",
       "      <td>6.0</td>\n",
       "      <td>7.0</td>\n",
       "      <td>38.0</td>\n",
       "      <td>16.0</td>\n",
       "      <td>102.0</td>\n",
       "      <td>1</td>\n",
       "      <td>0</td>\n",
       "    </tr>\n",
       "    <tr>\n",
       "      <th>pn_3406</th>\n",
       "      <td>3.0</td>\n",
       "      <td>4.0</td>\n",
       "      <td>22.0</td>\n",
       "      <td>35.0</td>\n",
       "      <td>2.0</td>\n",
       "      <td>9.0</td>\n",
       "      <td>0.0</td>\n",
       "      <td>102.0</td>\n",
       "      <td>16.0</td>\n",
       "      <td>51</td>\n",
       "      <td>0.0</td>\n",
       "      <td>1.0</td>\n",
       "      <td>24.0</td>\n",
       "      <td>7.0</td>\n",
       "      <td>14.0</td>\n",
       "      <td>28.0</td>\n",
       "      <td>23.0</td>\n",
       "      <td>156.0</td>\n",
       "      <td>0</td>\n",
       "      <td>0</td>\n",
       "    </tr>\n",
       "    <tr>\n",
       "      <th>pn_3407</th>\n",
       "      <td>10.0</td>\n",
       "      <td>0.0</td>\n",
       "      <td>62.0</td>\n",
       "      <td>165.0</td>\n",
       "      <td>4.0</td>\n",
       "      <td>12.0</td>\n",
       "      <td>33.0</td>\n",
       "      <td>334.0</td>\n",
       "      <td>25.0</td>\n",
       "      <td>102</td>\n",
       "      <td>5.0</td>\n",
       "      <td>5.0</td>\n",
       "      <td>90.0</td>\n",
       "      <td>48.0</td>\n",
       "      <td>26.0</td>\n",
       "      <td>171.0</td>\n",
       "      <td>53.0</td>\n",
       "      <td>456.0</td>\n",
       "      <td>1</td>\n",
       "      <td>0</td>\n",
       "    </tr>\n",
       "    <tr>\n",
       "      <th>pn_3408</th>\n",
       "      <td>0.0</td>\n",
       "      <td>0.0</td>\n",
       "      <td>98.0</td>\n",
       "      <td>189.0</td>\n",
       "      <td>4.0</td>\n",
       "      <td>26.0</td>\n",
       "      <td>173.0</td>\n",
       "      <td>325.0</td>\n",
       "      <td>24.0</td>\n",
       "      <td>0</td>\n",
       "      <td>0.0</td>\n",
       "      <td>4.0</td>\n",
       "      <td>107.0</td>\n",
       "      <td>32.0</td>\n",
       "      <td>41.0</td>\n",
       "      <td>272.0</td>\n",
       "      <td>94.0</td>\n",
       "      <td>399.0</td>\n",
       "      <td>2</td>\n",
       "      <td>0</td>\n",
       "    </tr>\n",
       "    <tr>\n",
       "      <th>pn_3409</th>\n",
       "      <td>23.0</td>\n",
       "      <td>5.0</td>\n",
       "      <td>53.0</td>\n",
       "      <td>124.0</td>\n",
       "      <td>3.0</td>\n",
       "      <td>25.0</td>\n",
       "      <td>2.0</td>\n",
       "      <td>244.0</td>\n",
       "      <td>43.0</td>\n",
       "      <td>238</td>\n",
       "      <td>1.0</td>\n",
       "      <td>7.0</td>\n",
       "      <td>69.0</td>\n",
       "      <td>40.0</td>\n",
       "      <td>46.0</td>\n",
       "      <td>168.0</td>\n",
       "      <td>48.0</td>\n",
       "      <td>342.0</td>\n",
       "      <td>1</td>\n",
       "      <td>0</td>\n",
       "    </tr>\n",
       "    <tr>\n",
       "      <th>pn_3413</th>\n",
       "      <td>1.0</td>\n",
       "      <td>0.0</td>\n",
       "      <td>12.0</td>\n",
       "      <td>32.0</td>\n",
       "      <td>0.0</td>\n",
       "      <td>6.0</td>\n",
       "      <td>0.0</td>\n",
       "      <td>69.0</td>\n",
       "      <td>4.0</td>\n",
       "      <td>17</td>\n",
       "      <td>1.0</td>\n",
       "      <td>1.0</td>\n",
       "      <td>18.0</td>\n",
       "      <td>5.0</td>\n",
       "      <td>7.0</td>\n",
       "      <td>37.0</td>\n",
       "      <td>15.0</td>\n",
       "      <td>87.0</td>\n",
       "      <td>2</td>\n",
       "      <td>0</td>\n",
       "    </tr>\n",
       "    <tr>\n",
       "      <th>pn_3414</th>\n",
       "      <td>8.0</td>\n",
       "      <td>0.0</td>\n",
       "      <td>45.0</td>\n",
       "      <td>96.0</td>\n",
       "      <td>0.0</td>\n",
       "      <td>28.0</td>\n",
       "      <td>0.0</td>\n",
       "      <td>190.0</td>\n",
       "      <td>22.0</td>\n",
       "      <td>68</td>\n",
       "      <td>3.0</td>\n",
       "      <td>4.0</td>\n",
       "      <td>53.0</td>\n",
       "      <td>13.0</td>\n",
       "      <td>25.0</td>\n",
       "      <td>109.0</td>\n",
       "      <td>48.0</td>\n",
       "      <td>254.0</td>\n",
       "      <td>0</td>\n",
       "      <td>0</td>\n",
       "    </tr>\n",
       "    <tr>\n",
       "      <th>pn_3415</th>\n",
       "      <td>10.0</td>\n",
       "      <td>17.0</td>\n",
       "      <td>183.0</td>\n",
       "      <td>369.0</td>\n",
       "      <td>23.0</td>\n",
       "      <td>55.0</td>\n",
       "      <td>68.0</td>\n",
       "      <td>653.0</td>\n",
       "      <td>121.0</td>\n",
       "      <td>102</td>\n",
       "      <td>4.0</td>\n",
       "      <td>22.0</td>\n",
       "      <td>224.0</td>\n",
       "      <td>132.0</td>\n",
       "      <td>102.0</td>\n",
       "      <td>410.0</td>\n",
       "      <td>128.0</td>\n",
       "      <td>1014.0</td>\n",
       "      <td>2</td>\n",
       "      <td>0</td>\n",
       "    </tr>\n",
       "    <tr>\n",
       "      <th>pn_3416</th>\n",
       "      <td>24.0</td>\n",
       "      <td>20.0</td>\n",
       "      <td>82.0</td>\n",
       "      <td>195.0</td>\n",
       "      <td>2.0</td>\n",
       "      <td>31.0</td>\n",
       "      <td>1.0</td>\n",
       "      <td>369.0</td>\n",
       "      <td>61.0</td>\n",
       "      <td>221</td>\n",
       "      <td>6.0</td>\n",
       "      <td>6.0</td>\n",
       "      <td>99.0</td>\n",
       "      <td>21.0</td>\n",
       "      <td>47.0</td>\n",
       "      <td>231.0</td>\n",
       "      <td>95.0</td>\n",
       "      <td>509.0</td>\n",
       "      <td>0</td>\n",
       "      <td>0</td>\n",
       "    </tr>\n",
       "    <tr>\n",
       "      <th>pn_3423</th>\n",
       "      <td>3.0</td>\n",
       "      <td>0.0</td>\n",
       "      <td>15.0</td>\n",
       "      <td>104.0</td>\n",
       "      <td>0.0</td>\n",
       "      <td>8.0</td>\n",
       "      <td>160.0</td>\n",
       "      <td>376.0</td>\n",
       "      <td>4.0</td>\n",
       "      <td>34</td>\n",
       "      <td>3.0</td>\n",
       "      <td>1.0</td>\n",
       "      <td>22.0</td>\n",
       "      <td>6.0</td>\n",
       "      <td>13.0</td>\n",
       "      <td>179.0</td>\n",
       "      <td>21.0</td>\n",
       "      <td>336.0</td>\n",
       "      <td>0</td>\n",
       "      <td>0</td>\n",
       "    </tr>\n",
       "    <tr>\n",
       "      <th>pn_3434</th>\n",
       "      <td>4.0</td>\n",
       "      <td>0.0</td>\n",
       "      <td>41.0</td>\n",
       "      <td>79.0</td>\n",
       "      <td>0.0</td>\n",
       "      <td>4.0</td>\n",
       "      <td>1.0</td>\n",
       "      <td>120.0</td>\n",
       "      <td>25.0</td>\n",
       "      <td>51</td>\n",
       "      <td>1.0</td>\n",
       "      <td>1.0</td>\n",
       "      <td>43.0</td>\n",
       "      <td>29.0</td>\n",
       "      <td>15.0</td>\n",
       "      <td>122.0</td>\n",
       "      <td>24.0</td>\n",
       "      <td>164.0</td>\n",
       "      <td>1</td>\n",
       "      <td>0</td>\n",
       "    </tr>\n",
       "    <tr>\n",
       "      <th>pn_3437</th>\n",
       "      <td>12.0</td>\n",
       "      <td>3.0</td>\n",
       "      <td>94.0</td>\n",
       "      <td>231.0</td>\n",
       "      <td>5.0</td>\n",
       "      <td>37.0</td>\n",
       "      <td>135.0</td>\n",
       "      <td>557.0</td>\n",
       "      <td>37.0</td>\n",
       "      <td>119</td>\n",
       "      <td>3.0</td>\n",
       "      <td>7.0</td>\n",
       "      <td>136.0</td>\n",
       "      <td>55.0</td>\n",
       "      <td>63.0</td>\n",
       "      <td>334.0</td>\n",
       "      <td>106.0</td>\n",
       "      <td>654.0</td>\n",
       "      <td>0</td>\n",
       "      <td>0</td>\n",
       "    </tr>\n",
       "    <tr>\n",
       "      <th>pn_3438</th>\n",
       "      <td>23.0</td>\n",
       "      <td>6.0</td>\n",
       "      <td>106.0</td>\n",
       "      <td>233.0</td>\n",
       "      <td>6.0</td>\n",
       "      <td>29.0</td>\n",
       "      <td>117.0</td>\n",
       "      <td>474.0</td>\n",
       "      <td>67.0</td>\n",
       "      <td>289</td>\n",
       "      <td>3.0</td>\n",
       "      <td>8.0</td>\n",
       "      <td>136.0</td>\n",
       "      <td>73.0</td>\n",
       "      <td>64.0</td>\n",
       "      <td>197.0</td>\n",
       "      <td>94.0</td>\n",
       "      <td>752.0</td>\n",
       "      <td>0</td>\n",
       "      <td>0</td>\n",
       "    </tr>\n",
       "    <tr>\n",
       "      <th>pn_3441</th>\n",
       "      <td>5.0</td>\n",
       "      <td>0.0</td>\n",
       "      <td>26.0</td>\n",
       "      <td>56.0</td>\n",
       "      <td>2.0</td>\n",
       "      <td>14.0</td>\n",
       "      <td>0.0</td>\n",
       "      <td>81.0</td>\n",
       "      <td>11.0</td>\n",
       "      <td>34</td>\n",
       "      <td>1.0</td>\n",
       "      <td>6.0</td>\n",
       "      <td>35.0</td>\n",
       "      <td>5.0</td>\n",
       "      <td>11.0</td>\n",
       "      <td>67.0</td>\n",
       "      <td>27.0</td>\n",
       "      <td>113.0</td>\n",
       "      <td>0</td>\n",
       "      <td>0</td>\n",
       "    </tr>\n",
       "    <tr>\n",
       "      <th>pn_3443</th>\n",
       "      <td>1.0</td>\n",
       "      <td>0.0</td>\n",
       "      <td>13.0</td>\n",
       "      <td>50.0</td>\n",
       "      <td>2.0</td>\n",
       "      <td>6.0</td>\n",
       "      <td>2.0</td>\n",
       "      <td>85.0</td>\n",
       "      <td>8.0</td>\n",
       "      <td>17</td>\n",
       "      <td>0.0</td>\n",
       "      <td>0.0</td>\n",
       "      <td>26.0</td>\n",
       "      <td>23.0</td>\n",
       "      <td>12.0</td>\n",
       "      <td>91.0</td>\n",
       "      <td>11.0</td>\n",
       "      <td>85.0</td>\n",
       "      <td>1</td>\n",
       "      <td>0</td>\n",
       "    </tr>\n",
       "  </tbody>\n",
       "</table>\n",
       "<p>2976 rows × 20 columns</p>\n",
       "</div>"
      ],
      "text/plain": [
       "         1per  2per   3per   ADJF  COMP  INFN   LATN    NOUN   NPRO  NPRO1  \\\n",
       "pn_2     13.0   0.0   45.0  251.0   1.0  28.0   72.0   568.0   28.0    119   \n",
       "pn_3     14.0  10.0   78.0  174.0   5.0  47.0    0.0   370.0   45.0    119   \n",
       "pn_4     43.0   4.0  154.0  450.0   7.0  46.0   12.0   977.0   72.0    391   \n",
       "pn_5     39.0   2.0  106.0  364.0   5.0  49.0   29.0   701.0   71.0    391   \n",
       "pn_6     35.0   0.0   71.0  300.0  10.0  28.0   47.0   630.0   38.0    374   \n",
       "pn_7     40.0   4.0   85.0  280.0   3.0  33.0   36.0   484.0   55.0    442   \n",
       "pn_8      4.0   0.0   51.0  240.0   0.0  20.0    2.0   490.0   36.0     34   \n",
       "pn_9      7.0   0.0   82.0  168.0   3.0  27.0    2.0   358.0   47.0     85   \n",
       "pn_13    25.0   8.0   63.0  150.0   0.0  29.0   62.0   305.0   51.0    272   \n",
       "pn_14    19.0   0.0  205.0  626.0  19.0  83.0  120.0  1260.0  106.0    221   \n",
       "pn_15    11.0   3.0   68.0  110.0   3.0  36.0   39.0   218.0   40.0    102   \n",
       "pn_23     7.0   0.0   84.0  356.0   3.0  28.0  105.0   696.0   51.0     51   \n",
       "pn_24    21.0   6.0   76.0  195.0   0.0  17.0   26.0   350.0   59.0    221   \n",
       "pn_25    15.0   0.0   68.0  154.0   1.0  21.0    1.0   277.0   34.0    153   \n",
       "pn_29     1.0   0.0   25.0  490.0   0.0  17.0   15.0  1198.0   25.0     17   \n",
       "pn_30    21.0   0.0   49.0  224.0   1.0  32.0   70.0   461.0   33.0    238   \n",
       "pn_31    30.0   2.0   88.0  254.0   2.0  19.0   52.0   411.0   55.0    289   \n",
       "pn_32     2.0   0.0   47.0  162.0   0.0  19.0    0.0   305.0   10.0     17   \n",
       "pn_33    15.0   0.0   68.0  126.0   1.0  27.0   27.0   295.0   53.0    204   \n",
       "pn_34     9.0   3.0   80.0  288.0   5.0  23.0    0.0   652.0   39.0     85   \n",
       "pn_35    78.0   0.0   96.0  277.0  10.0  62.0   32.0   420.0   73.0    765   \n",
       "pn_37     8.0   0.0   15.0   45.0   0.0   8.0    0.0    68.0   13.0    102   \n",
       "pn_41     7.0   0.0   30.0   61.0   3.0  12.0    0.0   125.0   20.0     68   \n",
       "pn_42     6.0   0.0   17.0   38.0   0.0   4.0    0.0    78.0   12.0     51   \n",
       "pn_44     0.0   0.0   10.0   40.0   0.0   5.0    2.0   111.0    6.0      0   \n",
       "pn_47     4.0   0.0   12.0   56.0   1.0   9.0    5.0   103.0    9.0     34   \n",
       "pn_53    16.0   7.0   71.0  143.0   1.0  60.0  103.0   236.0   50.0    153   \n",
       "pn_54    13.0   5.0   53.0  213.0   1.0  25.0   56.0   468.0   42.0    153   \n",
       "pn_55    23.0   2.0   66.0  162.0   5.0  52.0    0.0   314.0   37.0    238   \n",
       "pn_59     7.0   0.0   65.0  308.0   9.0  34.0   68.0   419.0   28.0     68   \n",
       "...       ...   ...    ...    ...   ...   ...    ...     ...    ...    ...   \n",
       "pn_3370  17.0   0.0   66.0  197.0   8.0  43.0    0.0   325.0   24.0    153   \n",
       "pn_3375  93.0   0.0  254.0  844.0   6.0  90.0   44.0  1548.0  140.0   1156   \n",
       "pn_3376   4.0   3.0   26.0   49.0   0.0   4.0    1.0    77.0   15.0     34   \n",
       "pn_3377  25.0   1.0   27.0   44.0   0.0  10.0    0.0    71.0   31.0    204   \n",
       "pn_3386  20.0  23.0   56.0  172.0   1.0  41.0   20.0   283.0   51.0    170   \n",
       "pn_3387   0.0   1.0   74.0  272.0   1.0  26.0   24.0   600.0   25.0      0   \n",
       "pn_3388  11.0   0.0   74.0  159.0   2.0  18.0    2.0   267.0   32.0    119   \n",
       "pn_3389  62.0   2.0  125.0  237.0   1.0  25.0   47.0   457.0  101.0    663   \n",
       "pn_3390  17.0   0.0   57.0  147.0   1.0  39.0    0.0   316.0   29.0    170   \n",
       "pn_3391  16.0  15.0   87.0  192.0   3.0  57.0    3.0   448.0   48.0    221   \n",
       "pn_3394  38.0  18.0   97.0  167.0  11.0  39.0    0.0   345.0   65.0    408   \n",
       "pn_3396  20.0   0.0  129.0  543.0   7.0  37.0    3.0  1084.0   73.0    204   \n",
       "pn_3397   7.0   0.0  170.0  460.0   5.0  64.0   22.0   979.0   75.0     51   \n",
       "pn_3398  22.0   2.0   90.0  214.0   6.0  45.0  144.0   338.0   56.0    187   \n",
       "pn_3399  30.0   0.0  107.0  231.0   2.0  41.0   42.0   291.0   55.0    272   \n",
       "pn_3405   7.0   0.0   19.0   32.0   1.0  11.0    3.0    68.0   15.0     85   \n",
       "pn_3406   3.0   4.0   22.0   35.0   2.0   9.0    0.0   102.0   16.0     51   \n",
       "pn_3407  10.0   0.0   62.0  165.0   4.0  12.0   33.0   334.0   25.0    102   \n",
       "pn_3408   0.0   0.0   98.0  189.0   4.0  26.0  173.0   325.0   24.0      0   \n",
       "pn_3409  23.0   5.0   53.0  124.0   3.0  25.0    2.0   244.0   43.0    238   \n",
       "pn_3413   1.0   0.0   12.0   32.0   0.0   6.0    0.0    69.0    4.0     17   \n",
       "pn_3414   8.0   0.0   45.0   96.0   0.0  28.0    0.0   190.0   22.0     68   \n",
       "pn_3415  10.0  17.0  183.0  369.0  23.0  55.0   68.0   653.0  121.0    102   \n",
       "pn_3416  24.0  20.0   82.0  195.0   2.0  31.0    1.0   369.0   61.0    221   \n",
       "pn_3423   3.0   0.0   15.0  104.0   0.0   8.0  160.0   376.0    4.0     34   \n",
       "pn_3434   4.0   0.0   41.0   79.0   0.0   4.0    1.0   120.0   25.0     51   \n",
       "pn_3437  12.0   3.0   94.0  231.0   5.0  37.0  135.0   557.0   37.0    119   \n",
       "pn_3438  23.0   6.0  106.0  233.0   6.0  29.0  117.0   474.0   67.0    289   \n",
       "pn_3441   5.0   0.0   26.0   56.0   2.0  14.0    0.0    81.0   11.0     34   \n",
       "pn_3443   1.0   0.0   13.0   50.0   2.0   6.0    2.0    85.0    8.0     17   \n",
       "\n",
       "         NUMR  futr   impf   past   perf   plur   pres    sing  \\\n",
       "pn_2      2.0   3.0   79.0   71.0   70.0  321.0   59.0   638.0   \n",
       "pn_3      2.0   6.0  122.0   61.0   65.0  183.0   88.0   549.0   \n",
       "pn_4     12.0  22.0  189.0   94.0  123.0  519.0  151.0  1259.0   \n",
       "pn_5      7.0  11.0  148.0   68.0   97.0  356.0  125.0   980.0   \n",
       "pn_6      5.0   7.0  117.0   47.0   56.0  376.0   94.0   746.0   \n",
       "pn_7      6.0   7.0  121.0   61.0   65.0  261.0   98.0   724.0   \n",
       "pn_8      2.0   0.0   85.0  101.0   70.0  158.0   36.0   747.0   \n",
       "pn_9     11.0   3.0   97.0   92.0   76.0  234.0   56.0   493.0   \n",
       "pn_13     1.0   3.0   89.0   52.0   49.0  197.0   57.0   423.0   \n",
       "pn_14    19.0  13.0  296.0  244.0  217.0  620.0  184.0  1829.0   \n",
       "pn_15     2.0  14.0   75.0   17.0   39.0  137.0   53.0   320.0   \n",
       "pn_23     7.0   5.0  135.0   99.0   73.0  346.0   80.0   940.0   \n",
       "pn_24     4.0   4.0   86.0   34.0   34.0  159.0   68.0   552.0   \n",
       "pn_25     2.0   2.0   78.0   15.0   23.0  156.0   64.0   392.0   \n",
       "pn_29     9.0   0.0   88.0  186.0  139.0  416.0   24.0  1515.0   \n",
       "pn_30     9.0   5.0  110.0   77.0   52.0  308.0   50.0   559.0   \n",
       "pn_31     2.0   4.0  126.0   56.0   42.0  326.0   93.0   544.0   \n",
       "pn_32     1.0   0.0   56.0   19.0   24.0  221.0   44.0   323.0   \n",
       "pn_33     0.0   1.0   74.0   56.0   52.0  131.0   52.0   448.0   \n",
       "pn_34    10.0   4.0  125.0   71.0   56.0  238.0   87.0   900.0   \n",
       "pn_35     3.0  12.0  161.0   56.0   76.0  391.0  118.0   558.0   \n",
       "pn_37     2.0   0.0   23.0    5.0    7.0   39.0   20.0   114.0   \n",
       "pn_41     1.0   2.0   34.0   22.0   23.0  119.0   24.0   141.0   \n",
       "pn_42     1.0   6.0   17.0    8.0   11.0   66.0   12.0    94.0   \n",
       "pn_44     1.0   0.0   17.0   26.0   22.0   66.0    8.0   125.0   \n",
       "pn_47     0.0   0.0   25.0   18.0   17.0   43.0   16.0   159.0   \n",
       "pn_53     5.0   7.0  100.0   15.0   40.0  155.0   72.0   370.0   \n",
       "pn_54     4.0   4.0  100.0   93.0   65.0  193.0   43.0   673.0   \n",
       "pn_55     1.0   4.0  107.0   56.0   60.0  262.0   64.0   386.0   \n",
       "pn_59     9.0   6.0   84.0   43.0   56.0  284.0   67.0   582.0   \n",
       "...       ...   ...    ...    ...    ...    ...    ...     ...   \n",
       "pn_3370   2.0  21.0   96.0   33.0   56.0  298.0   63.0   364.0   \n",
       "pn_3375  17.0  21.0  436.0  239.0  225.0  995.0  316.0  2095.0   \n",
       "pn_3376   1.0   1.0   28.0    8.0   10.0   56.0   27.0   119.0   \n",
       "pn_3377   0.0   7.0   25.0    8.0   21.0   79.0   24.0   104.0   \n",
       "pn_3386   1.0  12.0   80.0   33.0   61.0  196.0   59.0   431.0   \n",
       "pn_3387   1.0   0.0  102.0   19.0   28.0  267.0   90.0   737.0   \n",
       "pn_3388   0.0   4.0   76.0   19.0   31.0  188.0   70.0   360.0   \n",
       "pn_3389   6.0   5.0  154.0   47.0   44.0  244.0  127.0   734.0   \n",
       "pn_3390  10.0  17.0   72.0   27.0   57.0  178.0   52.0   407.0   \n",
       "pn_3391   5.0  10.0  115.0   52.0   78.0  271.0   87.0   564.0   \n",
       "pn_3394   7.0  10.0  121.0   53.0   71.0  286.0   96.0   451.0   \n",
       "pn_3396  12.0  13.0  189.0  170.0  147.0  511.0  124.0  1501.0   \n",
       "pn_3397   6.0  13.0  218.0  144.0  151.0  809.0  148.0  1039.0   \n",
       "pn_3398   2.0   5.0  151.0   88.0   62.0  258.0   83.0   524.0   \n",
       "pn_3399   2.0   4.0  122.0   23.0   32.0  358.0  100.0   337.0   \n",
       "pn_3405   0.0   0.0   28.0    6.0    7.0   38.0   16.0   102.0   \n",
       "pn_3406   0.0   1.0   24.0    7.0   14.0   28.0   23.0   156.0   \n",
       "pn_3407   5.0   5.0   90.0   48.0   26.0  171.0   53.0   456.0   \n",
       "pn_3408   0.0   4.0  107.0   32.0   41.0  272.0   94.0   399.0   \n",
       "pn_3409   1.0   7.0   69.0   40.0   46.0  168.0   48.0   342.0   \n",
       "pn_3413   1.0   1.0   18.0    5.0    7.0   37.0   15.0    87.0   \n",
       "pn_3414   3.0   4.0   53.0   13.0   25.0  109.0   48.0   254.0   \n",
       "pn_3415   4.0  22.0  224.0  132.0  102.0  410.0  128.0  1014.0   \n",
       "pn_3416   6.0   6.0   99.0   21.0   47.0  231.0   95.0   509.0   \n",
       "pn_3423   3.0   1.0   22.0    6.0   13.0  179.0   21.0   336.0   \n",
       "pn_3434   1.0   1.0   43.0   29.0   15.0  122.0   24.0   164.0   \n",
       "pn_3437   3.0   7.0  136.0   55.0   63.0  334.0  106.0   654.0   \n",
       "pn_3438   3.0   8.0  136.0   73.0   64.0  197.0   94.0   752.0   \n",
       "pn_3441   1.0   6.0   35.0    5.0   11.0   67.0   27.0   113.0   \n",
       "pn_3443   0.0   0.0   26.0   23.0   12.0   91.0   11.0    85.0   \n",
       "\n",
       "         verbs_in_first_pars  verbs_in_title  \n",
       "pn_2                       5               0  \n",
       "pn_3                       4               0  \n",
       "pn_4                       0               0  \n",
       "pn_5                       0               0  \n",
       "pn_6                       3               0  \n",
       "pn_7                       1               0  \n",
       "pn_8                       7               0  \n",
       "pn_9                       4               0  \n",
       "pn_13                      0               0  \n",
       "pn_14                      0               0  \n",
       "pn_15                      0               0  \n",
       "pn_23                      0               0  \n",
       "pn_24                      1               0  \n",
       "pn_25                      0               0  \n",
       "pn_29                      4               0  \n",
       "pn_30                      1               0  \n",
       "pn_31                      1               0  \n",
       "pn_32                      2               0  \n",
       "pn_33                      3               0  \n",
       "pn_34                      0               0  \n",
       "pn_35                      0               0  \n",
       "pn_37                      0               0  \n",
       "pn_41                      0               0  \n",
       "pn_42                      1               0  \n",
       "pn_44                      1               0  \n",
       "pn_47                      0               0  \n",
       "pn_53                      3               0  \n",
       "pn_54                      0               0  \n",
       "pn_55                      3               0  \n",
       "pn_59                      1               0  \n",
       "...                      ...             ...  \n",
       "pn_3370                    2               0  \n",
       "pn_3375                    1               0  \n",
       "pn_3376                    0               0  \n",
       "pn_3377                    0               0  \n",
       "pn_3386                    4               0  \n",
       "pn_3387                    1               0  \n",
       "pn_3388                    0               0  \n",
       "pn_3389                    2               0  \n",
       "pn_3390                    6               0  \n",
       "pn_3391                    2               0  \n",
       "pn_3394                    1               0  \n",
       "pn_3396                    0               0  \n",
       "pn_3397                    1               0  \n",
       "pn_3398                    3               0  \n",
       "pn_3399                    1               0  \n",
       "pn_3405                    1               0  \n",
       "pn_3406                    0               0  \n",
       "pn_3407                    1               0  \n",
       "pn_3408                    2               0  \n",
       "pn_3409                    1               0  \n",
       "pn_3413                    2               0  \n",
       "pn_3414                    0               0  \n",
       "pn_3415                    2               0  \n",
       "pn_3416                    0               0  \n",
       "pn_3423                    0               0  \n",
       "pn_3434                    1               0  \n",
       "pn_3437                    0               0  \n",
       "pn_3438                    0               0  \n",
       "pn_3441                    0               0  \n",
       "pn_3443                    1               0  \n",
       "\n",
       "[2976 rows x 20 columns]"
      ]
     },
     "execution_count": 350,
     "metadata": {},
     "output_type": "execute_result"
    }
   ],
   "source": [
    "pn_morph_features"
   ]
  },
  {
   "cell_type": "code",
   "execution_count": 627,
   "metadata": {
    "collapsed": false
   },
   "outputs": [],
   "source": [
    "postnauka_X = pd.concat([pn_X, pn_morph_features], axis=1)"
   ]
  },
  {
   "cell_type": "code",
   "execution_count": 545,
   "metadata": {
    "collapsed": true
   },
   "outputs": [],
   "source": [
    "y_pred = alg.predict(postnauka_X[good_features])"
   ]
  },
  {
   "cell_type": "code",
   "execution_count": 546,
   "metadata": {
    "collapsed": false,
    "scrolled": true
   },
   "outputs": [
    {
     "data": {
      "text/plain": [
       "0.57795698924731187"
      ]
     },
     "execution_count": 546,
     "metadata": {},
     "output_type": "execute_result"
    }
   ],
   "source": [
    "accuracy_score(np.ones(len(postnauka_X)), y_pred)"
   ]
  },
  {
   "cell_type": "code",
   "execution_count": 550,
   "metadata": {
    "collapsed": false
   },
   "outputs": [
    {
     "data": {
      "text/plain": [
       "(array([ 1256.,     0.,     0.,     0.,     0.,     0.,     0.,     0.,\n",
       "            0.,  1720.]),\n",
       " array([-1. , -0.8, -0.6, -0.4, -0.2,  0. ,  0.2,  0.4,  0.6,  0.8,  1. ]),\n",
       " <a list of 10 Patch objects>)"
      ]
     },
     "execution_count": 550,
     "metadata": {},
     "output_type": "execute_result"
    },
    {
     "data": {
      "image/png": "[encoded data removed]",
      "text/plain": [
       "<matplotlib.figure.Figure at 0x20d6a2358>"
      ]
     },
     "metadata": {},
     "output_type": "display_data"
    }
   ],
   "source": [
    "plt.hist(y_pred)"
   ]
  },
  {
   "cell_type": "code",
   "execution_count": 569,
   "metadata": {
    "collapsed": false
   },
   "outputs": [
    {
     "data": {
      "text/plain": [
       "<matplotlib.legend.Legend at 0x20ec67a58>"
      ]
     },
     "execution_count": 569,
     "metadata": {},
     "output_type": "execute_result"
    },
    {
     "data": {
      "image/png": "[encoded data removed]",
      "text/plain": [
       "<matplotlib.figure.Figure at 0x2152fb3c8>"
      ]
     },
     "metadata": {},
     "output_type": "display_data"
    }
   ],
   "source": [
    "#plt.hist(postnauka_X[y_pred == -1][\"ADJF\"][:300], label=\"pn\")\n",
    "plt.hist(train_X[train_y == -1][\"small_paragraphs_ratio\"][:300], label=\"habr_distant\")\n",
    "plt.hist(train_X[train_y == +1][\"small_paragraphs_ratio\"][:300], label=\"habr_similar\")\n",
    "plt.legend()"
   ]
  },
  {
   "cell_type": "markdown",
   "metadata": {},
   "source": [
    "## Экспорт"
   ]
  },
  {
   "cell_type": "code",
   "execution_count": 55,
   "metadata": {
    "collapsed": true
   },
   "outputs": [],
   "source": [
    "from ipywidgets import FloatProgress\n",
    "from IPython.display import display"
   ]
  },
  {
   "cell_type": "code",
   "execution_count": 23,
   "metadata": {
    "collapsed": false
   },
   "outputs": [],
   "source": [
    "alg = pickle.load(open(\"best_classifier.dump\", \"rb\"))"
   ]
  },
  {
   "cell_type": "code",
   "execution_count": 69,
   "metadata": {
    "collapsed": false
   },
   "outputs": [
    {
     "name": "stdout",
     "output_type": "stream",
     "text": [
      "CPU times: user 40.4 s, sys: 17.8 s, total: 58.2 s\n",
      "Wall time: 1min 24s\n"
     ]
    }
   ],
   "source": [
    "%%time\n",
    "\n",
    "export_ids = list(almost_all_habrahabr_ids)\n",
    "export_docs = list(map(get_document, export_ids))"
   ]
  },
  {
   "cell_type": "code",
   "execution_count": 70,
   "metadata": {
    "collapsed": false
   },
   "outputs": [
    {
     "name": "stdout",
     "output_type": "stream",
     "text": [
      "CPU times: user 5h 25min 6s, sys: 2min 15s, total: 5h 27min 22s\n",
      "Wall time: 5h 28min 1s\n"
     ]
    }
   ],
   "source": [
    "%%time\n",
    "\n",
    "morph = pymorphy2.MorphAnalyzer()\n",
    "\n",
    "docs_info = []\n",
    "\n",
    "counter = 0\n",
    "\n",
    "progress = FloatProgress(min=0, max=len(export_ids))\n",
    "display(progress)\n",
    "\n",
    "for doc in export_docs:\n",
    "    text = doc[\"markdown\"]\n",
    "    tokens = re.findall(r\"[\\w']+\", text)\n",
    "    doc_features = dict(zip(morph_tags, np.zeros(len(morph_tags))))\n",
    "    npro1 = 0\n",
    "    for token in tokens:\n",
    "        parse_result = morph.parse(token)[0]\n",
    "        for tag in doc_features.keys():\n",
    "            if tag in parse_result.tag:\n",
    "                doc_features[tag] += 1\n",
    "            if {\"NPRO\", \"1per\"} in parse_result.tag:\n",
    "                npro1 += 1\n",
    "    doc_features[\"NPRO1\"] = npro1\n",
    "\n",
    "    doc_features[\"verbs_in_title\"] = 0\n",
    "    for token in re.findall(r\"[\\w']+\", doc[\"title\"]):\n",
    "        parse_result = morph.parse(token)[0]\n",
    "        if ({\"VERB\", \"past\"} in parse_result.tag) | ({\"VERB\", \"futr\"} in parse_result.tag): \n",
    "            doc_features[\"verbs_in_title\"] += 1\n",
    "            \n",
    "    doc_features[\"verbs_in_first_pars\"] = 0\n",
    "    first_paragraphs = text.split(\"\\n\")[0]\n",
    "    for token in re.findall(r\"[\\w']+\", first_paragraphs):\n",
    "        parse_result = morph.parse(token)[0]\n",
    "        if ({\"VERB\", \"past\"} in parse_result.tag) | ({\"VERB\", \"futr\"} in parse_result.tag): \n",
    "            doc_features[\"verbs_in_first_pars\"] += 1\n",
    "        \n",
    "    docs_info.append(doc_features)\n",
    "        \n",
    "    counter += 1\n",
    "    #if counter % 1000 == 0:\n",
    "    #    print(\"proceded: %d\"%((counter)))\n",
    "    \n",
    "    progress.value += 1\n",
    "    \n",
    "habr_morph_features = pd.DataFrame(data=docs_info, index=export_ids)"
   ]
  },
  {
   "cell_type": "code",
   "execution_count": 71,
   "metadata": {
    "collapsed": false
   },
   "outputs": [
    {
     "name": "stdout",
     "output_type": "stream",
     "text": [
      "CPU times: user 3min 45s, sys: 12.8 s, total: 3min 57s\n",
      "Wall time: 3min 59s\n"
     ]
    }
   ],
   "source": [
    "%%time\n",
    "\n",
    "docs_info = []\n",
    "docs_texts = []\n",
    "\n",
    "pipeline = arbitrary.get_pipeline()\n",
    "\n",
    "counter = 0\n",
    "\n",
    "for doc in export_docs:\n",
    "    doc_features = {}\n",
    "    text = doc[\"modalities\"][\"text\"] + doc[\"modalities\"][\"text_habr\"]\n",
    "    # Количественные признаки\n",
    "    doc_features[\"words_count\"] = len(text) # Число слов в документе\n",
    "    doc_features[\"unique_words_ratio\"] = len(set(text))/len(text)\n",
    "    doc_features[\"common_words_ratio\"] = len(doc[\"modalities\"][\"text\"]) / len(text) # Доля токенов в документе из ПН\n",
    "    doc_features[\"en_words\"] = len([a for a in text if regex.match(\"^[a-zA-Z]+$\", a)])/len(text)\n",
    "    doc_features[\"ru_words\"] = len([a for a in text if regex.match(\"^[а-яА-Я]+$\", a)])/len(text)\n",
    "    doc_features[\"non_letters\"] = len([a for a in doc[\"markdown\"] if a in non_letters])/len(doc[\"markdown\"])\n",
    "    doc_features[\"non_scipop_words\"] = len([a for a in text if a in non_scipop_words])\n",
    "    doc_features[\"scipop_words\"] = len([a for a in text if a in scipop_words])\n",
    "    # Параграфы и их длины\n",
    "    doc_features[\"num_of_paragraphs\"] = len([a for a in doc[\"markdown\"].split('\\n') if len(a) != 0])\n",
    "    doc_features[\"paragraph_raito\"] = doc_features[\"num_of_paragraphs\"] / len(text)\n",
    "    doc_features[\"avg_paragraph_len\"] = np.mean([len(a) for a in doc[\"markdown\"].split('\\n') if len(a) != 0])\n",
    "    doc_features[\"num_of_small_paragraphs\"] = sum([1 for a in doc[\"markdown\"].split('\\n')\n",
    "                                               if len(a) < 300 and len(a) > 0 or len(a.split(\" \")) < 30])\n",
    "    doc_features[\"num_of_large_paragraphs\"] = sum([1 for a in doc[\"markdown\"].split('\\n')\n",
    "                                               if len(a) > 1300 or len(a.split(\" \")) > 120])\n",
    "    doc_features[\"small_paragraphs_ratio\"] = doc_features[\"num_of_small_paragraphs\"]/doc_features[\"num_of_paragraphs\"]\n",
    "    doc_features[\"large_paragraphs_ratio\"] = doc_features[\"num_of_large_paragraphs\"]/doc_features[\"num_of_paragraphs\"]\n",
    "    doc_features[\"paragraphs_variance\"] = np.var([len(s) for s in doc[\"markdown\"].split('\\n') if len(s) != 0])\n",
    "\n",
    "    # Фичи заголовков:\n",
    "    \n",
    "    #doc_features[\"code_ratio\"] = len([a for a in doc[\"markdown\"].split(\"\\t\") if a in code_elements])/len(doc[\"markdown\"])\n",
    "    docs_info.append(doc_features)\n",
    "    docs_texts.append(text)\n",
    "    \n",
    "habr_X = pd.DataFrame(data=docs_info, index=export_ids)"
   ]
  },
  {
   "cell_type": "code",
   "execution_count": 72,
   "metadata": {
    "collapsed": true
   },
   "outputs": [],
   "source": [
    "habrahabr_X = pd.concat([habr_X, habr_morph_features], axis=1)"
   ]
  },
  {
   "cell_type": "code",
   "execution_count": 73,
   "metadata": {
    "collapsed": false
   },
   "outputs": [
    {
     "data": {
      "text/plain": [
       "14951"
      ]
     },
     "execution_count": 73,
     "metadata": {},
     "output_type": "execute_result"
    }
   ],
   "source": [
    "prediction = alg.predict_proba(habrahabr_X[good_features])\n",
    "output = pd.DataFrame(pd.Series(prediction.T[1], index=export_ids), columns=[\"proba\"])\n",
    "len(output[output.proba > 0.5])"
   ]
  },
  {
   "cell_type": "code",
   "execution_count": 74,
   "metadata": {
    "collapsed": true
   },
   "outputs": [],
   "source": [
    "output.to_csv(EXPORT_PATH)"
   ]
  },
  {
   "cell_type": "markdown",
   "metadata": {},
   "source": [
    "---"
   ]
  }
 ],
 "metadata": {
  "kernelspec": {
   "display_name": "Python 3",
   "language": "python",
   "name": "python3"
  },
  "language_info": {
   "codemirror_mode": {
    "name": "ipython",
    "version": 3
   },
   "file_extension": ".py",
   "mimetype": "text/x-python",
   "name": "python",
   "nbconvert_exporter": "python",
   "pygments_lexer": "ipython3",
   "version": "3.6.0"
  },
  "latex_envs": {
   "bibliofile": "biblio.bib",
   "cite_by": "apalike",
   "current_citInitial": 1,
   "eqLabelWithNumbers": true,
   "eqNumInitial": 0
  }
 },
 "nbformat": 4,
 "nbformat_minor": 2
}
