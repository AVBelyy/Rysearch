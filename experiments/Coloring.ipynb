{
 "cells": [
  {
   "cell_type": "code",
   "execution_count": 239,
   "metadata": {
    "collapsed": true
   },
   "outputs": [],
   "source": [
    "from numpy import array, min, argmin, linspace\n",
    "import numpy as np\n",
    "import scipy as sp\n",
    "import pandas as pd\n",
    "from matplotlib import pyplot as plt\n",
    "import pickle\n",
    "import re\n",
    "import json\n",
    "import urllib.request"
   ]
  },
  {
   "cell_type": "markdown",
   "metadata": {},
   "source": [
    "## Выделение документов из коллекции для каждого класса"
   ]
  },
  {
   "cell_type": "code",
   "execution_count": 303,
   "metadata": {
    "collapsed": true
   },
   "outputs": [],
   "source": [
    "model = []\n",
    "with open(\"../server/hartm.mdl\", \"rb\") as file:\n",
    "    model = pickle.load(file)"
   ]
  },
  {
   "cell_type": "code",
   "execution_count": 304,
   "metadata": {
    "collapsed": false
   },
   "outputs": [],
   "source": [
    "TOP_N_WORDS = 10\n",
    "phi0 = model[\"phi_0\"]\n",
    "phi0_topic_columns = list(filter(lambda t: t.startswith(\"topic_\"), phi0.columns))\n",
    "phi0 = phi0[phi0_topic_columns]\n",
    "theta = model[\"theta\"]\n",
    "theta0_topic_columns = list(filter(lambda t: re.match(\"level_0_topic_*\", t), theta.index))\n",
    "theta0 = theta.loc[theta0_topic_columns, :]"
   ]
  },
  {
   "cell_type": "code",
   "execution_count": 305,
   "metadata": {
    "collapsed": false
   },
   "outputs": [
    {
     "name": "stdout",
     "output_type": "stream",
     "text": [
      "level_0_topic_0 : ['россия' 'история_россии' 'философия' 'история' 'география']\n",
      "level_0_topic_1 : ['эволюция' 'антропология' 'человек' 'палеонтология' 'антропогенез']\n",
      "level_0_topic_2 : ['экономика' 'сша' 'квантовые_технологии' 'квантовый_компьютер'\n",
      " 'религиоведение']\n",
      "level_0_topic_3 : ['культура' 'литература' 'массовая_культура' 'культурология' 'философия']\n",
      "level_0_topic_4 : ['история' 'политика' 'ссср' 'христианство' 'религия']\n",
      "level_0_topic_5 : ['астрономия' 'астрофизика' 'космос' 'звезды' 'галактика']\n",
      "level_0_topic_6 : ['язык' 'лингвистика' 'филология' 'право' 'русский_язык']\n",
      "level_0_topic_7 : ['социология' 'социология_повседневности' 'общество' 'дюркгейм_эмиль'\n",
      " 'вебер_макс']\n",
      "level_0_topic_8 : ['общество' 'государство' 'россия' 'идентичность' 'китай']\n",
      "level_0_topic_9 : ['психология' 'искусственный_интеллект' 'интернет' 'когнитивная_психология'\n",
      " 'мышление']\n",
      "level_0_topic_10 : ['медицина' 'клетка' 'биомедицина' 'белки' 'онкология']\n",
      "level_0_topic_11 : ['физика' 'квантовая_физика' 'физика_элементарных_частиц' 'нанотехнологии'\n",
      " 'квантовая_механика']\n",
      "level_0_topic_12 : ['наука' 'образование' 'философия' 'история_науки' 'университет']\n",
      "level_0_topic_13 : ['химия' 'вселенная' 'космология' 'материаловедение' 'гравитация']\n",
      "level_0_topic_14 : ['образование' 'философия' 'школа' 'марс' 'медиа']\n",
      "level_0_topic_15 : ['математика' 'информационные_технологии' 'робототехника' 'робот'\n",
      " 'бозон_хиггса']\n",
      "level_0_topic_16 : ['средневековье' 'фольклор' 'мифология' 'фольклористика' 'миф']\n",
      "level_0_topic_17 : ['экология' 'этология' 'нобелевская_премия' 'зоология' 'поведение_животных']\n",
      "level_0_topic_18 : ['мозг' 'нейробиология' 'нейрон' 'нейрофизиология' 'память']\n"
     ]
    }
   ],
   "source": [
    "WORDS_TO_CLASSIFICATION_DICT=1000\n",
    "top_tags = zip(theta0.index, phi0.index[phi0.values.argsort(axis=0)[-WORDS_TO_CLASSIFICATION_DICT:][::-1].T])\n",
    "for topic, words in top_tags:\n",
    "    print(topic, \":\", words[:5])"
   ]
  },
  {
   "cell_type": "code",
   "execution_count": 306,
   "metadata": {
    "collapsed": false
   },
   "outputs": [],
   "source": [
    "tech_topics_ids = theta0.index[[5,11,13,15]]\n",
    "hum_topics_ids = theta0.index[[0,3,4,6,8,12]]\n",
    "natural_topics_ids = theta0.index[[1,10,16,17,18]]"
   ]
  },
  {
   "cell_type": "code",
   "execution_count": 307,
   "metadata": {
    "collapsed": false
   },
   "outputs": [],
   "source": [
    "import re\n",
    "theta0 = theta.loc[list(filter(lambda t: re.match(\"level_0_topic_*\", t), theta.index))]\n",
    "\n",
    "theta_tech = theta0.loc[tech_topics_nums, :]\n",
    "theta_hum = theta0.loc[hum_topics_nums, :]\n",
    "theta_natural = theta0.loc[natural_topics_nums, :]"
   ]
  },
  {
   "cell_type": "code",
   "execution_count": 308,
   "metadata": {
    "collapsed": false
   },
   "outputs": [
    {
     "data": {
      "image/png": "[encoded data removed]",
      "text/plain": [
       "<matplotlib.figure.Figure at 0x1298f3710>"
      ]
     },
     "metadata": {},
     "output_type": "display_data"
    }
   ],
   "source": [
    "def docs_num_by_threshold(thresold):\n",
    "    nearest_topic_for_doc = theta0[theta0 > thresold].idxmax().dropna()\n",
    "    tech_docs = [doc for doc in nearest_topic_for_doc.index if nearest_topic_for_doc[doc] in tech_topics_ids]\n",
    "    hum_docs = [doc for doc in nearest_topic_for_doc.index if nearest_topic_for_doc[doc] in hum_topics_ids]\n",
    "    natural_docs = [doc for doc in nearest_topic_for_doc.index if nearest_topic_for_doc[doc] in natural_topics_ids]\n",
    "    return len(tech_docs), len(hum_docs), len(natural_docs)\n",
    "\n",
    "for pl in array([docs_num_by_threshold(tr) for tr in linspace(0, 1, 10)]).T:\n",
    "    plt.plot(pl)\n",
    "    \n",
    "plt.xticks(range(10), linspace(0, 1, 10).round(2))\n",
    "plt.show()"
   ]
  },
  {
   "cell_type": "code",
   "execution_count": 309,
   "metadata": {
    "collapsed": false
   },
   "outputs": [],
   "source": [
    "def docs_by_threshold(thresold):\n",
    "    nearest_topic_for_doc = theta0[theta0 > thresold].idxmax().dropna()\n",
    "    tech_docs_ids = [doc for doc in nearest_topic_for_doc.index if nearest_topic_for_doc[doc] in tech_topics]\n",
    "    hum_docs_ids = [doc for doc in nearest_topic_for_doc.index if nearest_topic_for_doc[doc] in hum_topics]\n",
    "    natural_docs_ids = [doc for doc in nearest_topic_for_doc.index if nearest_topic_for_doc[doc] in natural_topics]\n",
    "    return set(tech_docs_ids), set(hum_docs_ids), set(natural_docs_ids)\n",
    "\n",
    "tech_docs_ids, hum_docs_ids, natural_docs_ids = docs_by_threshold(0.33)\n",
    "all_docs_ids = list(theta.columns)\n",
    "all_other_docs_ids = set(all_docs_ids) - (tech_docs_ids | hum_docs_ids | natural_docs_ids)"
   ]
  },
  {
   "cell_type": "markdown",
   "metadata": {},
   "source": [
    "## WORDS"
   ]
  },
  {
   "cell_type": "code",
   "execution_count": 412,
   "metadata": {
    "collapsed": false
   },
   "outputs": [],
   "source": [
    "def get_words(WORDS_FROM_TOPIC):\n",
    "    tech_words = set()\n",
    "    hum_words = set()\n",
    "    natural_words = set()\n",
    "\n",
    "    for phi_topic, topic in zip(phi0.columns, theta0.index):\n",
    "        words = phi0[phi_topic].sort_values()[-WORDS_FROM_TOPIC:][::-1].index\n",
    "        if topic in tech_topics_ids:\n",
    "            tech_words.update(words)\n",
    "        elif topic in hum_topics_ids:\n",
    "            hum_words.update(words)\n",
    "        elif topic in natural_topics_ids:\n",
    "            natural_words.update(words)\n",
    "        else:\n",
    "            pass\n",
    "\n",
    "    intersection = set()\n",
    "    intersection.update(tech_words & hum_words)\n",
    "    intersection.update(hum_words & natural_words)\n",
    "    intersection.update(natural_words & tech_words)\n",
    "\n",
    "    for word in intersection:\n",
    "        tech_words.discard(word)\n",
    "        hum_words.discard(word)\n",
    "        natural_words.discard(word)\n",
    "    \n",
    "    return tech_words, hum_words, natural_words"
   ]
  },
  {
   "cell_type": "code",
   "execution_count": 414,
   "metadata": {
    "collapsed": false
   },
   "outputs": [],
   "source": [
    "xs = np.arange(100, 200, 1)"
   ]
  },
  {
   "cell_type": "code",
   "execution_count": 415,
   "metadata": {
    "collapsed": false
   },
   "outputs": [
    {
     "name": "stdout",
     "output_type": "stream",
     "text": [
      "CPU times: user 3.65 s, sys: 26.4 ms, total: 3.67 s\n",
      "Wall time: 3.71 s\n"
     ]
    }
   ],
   "source": [
    "%%time\n",
    "\n",
    "ys_tech = list(map(lambda x: len(get_words(x)[0]), xs))\n",
    "ys_hum = list(map(lambda x: len(get_words(x)[1]), xs))\n",
    "ys_nat = list(map(lambda x: len(get_words(x)[2]), xs))"
   ]
  },
  {
   "cell_type": "code",
   "execution_count": 416,
   "metadata": {
    "collapsed": false
   },
   "outputs": [
    {
     "data": {
      "text/plain": [
       "(112, 153, 114)"
      ]
     },
     "execution_count": 416,
     "metadata": {},
     "output_type": "execute_result"
    }
   ],
   "source": [
    "xs[np.argmax(ys_tech)], xs[np.argmax(ys_hum)], xs[np.argmax(ys_nat)]"
   ]
  },
  {
   "cell_type": "code",
   "execution_count": 417,
   "metadata": {
    "collapsed": false
   },
   "outputs": [
    {
     "data": {
      "image/png": "[encoded data removed]",
      "text/plain": [
       "<matplotlib.figure.Figure at 0x138502b00>"
      ]
     },
     "metadata": {},
     "output_type": "display_data"
    }
   ],
   "source": [
    "plt.plot(xs, ys_tech)\n",
    "plt.plot(xs, ys_hum)\n",
    "plt.plot(xs, ys_nat)\n",
    "plt.show()"
   ]
  },
  {
   "cell_type": "code",
   "execution_count": 418,
   "metadata": {
    "collapsed": true
   },
   "outputs": [],
   "source": [
    "tech_words, hum_words, natural_words = get_words(125)"
   ]
  },
  {
   "cell_type": "code",
   "execution_count": 419,
   "metadata": {
    "collapsed": false
   },
   "outputs": [
    {
     "name": "stdout",
     "output_type": "stream",
     "text": [
      "321 569 427\n"
     ]
    }
   ],
   "source": [
    "print(len(tech_words), len(hum_words), len(natural_words)) # 100"
   ]
  },
  {
   "cell_type": "code",
   "execution_count": 420,
   "metadata": {
    "collapsed": false
   },
   "outputs": [],
   "source": [
    "all_words = []\n",
    "all_words.extend(tech_words)\n",
    "all_words.extend(hum_words)\n",
    "all_words.extend(natural_words)\n",
    "\n",
    "features = dict(zip(all_words, range(len(all_words))))"
   ]
  },
  {
   "cell_type": "markdown",
   "metadata": {},
   "source": [
    "## Создание датасета "
   ]
  },
  {
   "cell_type": "code",
   "execution_count": 421,
   "metadata": {
    "collapsed": true
   },
   "outputs": [],
   "source": [
    "def get_document(doc_id):\n",
    "    request_url = \"http://localhost:3000/get-document?doc_id=%s\" % doc_id\n",
    "    response = urllib.request.urlopen(request_url).read().decode(\"utf-8\")\n",
    "    return json.loads(response) if response else None"
   ]
  },
  {
   "cell_type": "code",
   "execution_count": 422,
   "metadata": {
    "collapsed": false
   },
   "outputs": [],
   "source": [
    "tech_docs_texts = []\n",
    "for doc in tech_docs_ids:\n",
    "    tech_docs_texts.append(get_document(doc)[\"modalities\"][\"text\"])\n",
    "    \n",
    "hum_docs_texts = []\n",
    "for doc in hum_docs_ids:\n",
    "    hum_docs_texts.append(get_document(doc)[\"modalities\"][\"text\"])\n",
    "    \n",
    "natural_docs_texts = []\n",
    "for doc in natural_docs_ids:\n",
    "    natural_docs_texts.append(get_document(doc)[\"modalities\"][\"text\"])\n",
    "    \n",
    "all_docs_texts = []\n",
    "for doc in all_docs_ids:\n",
    "    all_docs_texts.append(get_document(doc)[\"modalities\"][\"text\"])"
   ]
  },
  {
   "cell_type": "code",
   "execution_count": 423,
   "metadata": {
    "collapsed": false
   },
   "outputs": [],
   "source": [
    "doc_ids = list(tech_docs_ids)\n",
    "doc_ids.extend(hum_docs_ids)\n",
    "doc_ids.extend(natural_docs_ids)\n",
    "\n",
    "train_data = []\n",
    "all_data = []\n",
    "target = []\n",
    "\n",
    "class_codes = {\n",
    "    \"tech\": 0,\n",
    "    \"hum\": 1,\n",
    "    \"natural\": 2\n",
    "}\n",
    "\n",
    "for doc in tech_docs_texts:\n",
    "    X = np.zeros(len(all_words))\n",
    "    for word in doc:\n",
    "        t = features.get(word, -1)\n",
    "        if t > 0: X[t] = 1\n",
    "    train_data.append(X)\n",
    "    target.append(class_codes[\"tech\"])\n",
    "    \n",
    "for doc in hum_docs_texts:\n",
    "    X = np.zeros(len(all_words))\n",
    "    for word in doc:\n",
    "        t = features.get(word, -1)\n",
    "        if t > 0: X[t] = 1\n",
    "    train_data.append(X)\n",
    "    target.append(class_codes[\"hum\"])\n",
    "\n",
    "for doc in natural_docs_texts:\n",
    "    X = np.zeros(len(all_words))\n",
    "    for word in doc:\n",
    "        t = features.get(word, -1)\n",
    "        if t > 0: X[t] = 1\n",
    "    train_data.append(X)\n",
    "    target.append(class_codes[\"natural\"])\n",
    "    \n",
    "for doc in all_docs_texts:\n",
    "    X = np.zeros(len(all_words))\n",
    "    for word in doc:\n",
    "        t = features.get(word, -1)\n",
    "        if t > 0: X[t] = 1\n",
    "    all_data.append(X)\n",
    "    \n",
    "train_data = array(train_data)\n",
    "all_data = array(all_data)\n",
    "target = array(target)"
   ]
  },
  {
   "cell_type": "code",
   "execution_count": 425,
   "metadata": {
    "collapsed": false
   },
   "outputs": [
    {
     "data": {
      "text/plain": [
       "2646"
      ]
     },
     "execution_count": 425,
     "metadata": {},
     "output_type": "execute_result"
    }
   ],
   "source": [
    "len(train_data)"
   ]
  },
  {
   "cell_type": "code",
   "execution_count": 426,
   "metadata": {
    "collapsed": false
   },
   "outputs": [
    {
     "data": {
      "text/plain": [
       "8.2800453514739232"
      ]
     },
     "execution_count": 426,
     "metadata": {},
     "output_type": "execute_result"
    }
   ],
   "source": [
    "np.mean([sum(p) for p in train_data])"
   ]
  },
  {
   "cell_type": "markdown",
   "metadata": {},
   "source": [
    "## Обучение и классификация"
   ]
  },
  {
   "cell_type": "code",
   "execution_count": 427,
   "metadata": {
    "collapsed": false
   },
   "outputs": [
    {
     "data": {
      "text/plain": [
       "(2646, 1317)"
      ]
     },
     "execution_count": 427,
     "metadata": {},
     "output_type": "execute_result"
    }
   ],
   "source": [
    "train_data.shape"
   ]
  },
  {
   "cell_type": "code",
   "execution_count": 434,
   "metadata": {
    "collapsed": false,
    "scrolled": true
   },
   "outputs": [
    {
     "name": "stdout",
     "output_type": "stream",
     "text": [
      "LR-l2: 0.793\n",
      "LR-l1: 0.793\n"
     ]
    }
   ],
   "source": [
    "from sklearn.linear_model import LogisticRegression, Lasso\n",
    "from sklearn.ensemble import RandomForestClassifier\n",
    "from sklearn.svm import SVC\n",
    "from sklearn.model_selection import cross_val_score\n",
    "\n",
    "alg1 = LogisticRegression(penalty='l2')\n",
    "alg2 = LogisticRegression(penalty='l1')\n",
    "\n",
    "print(\"LR-l2: %.3f\" % (np.mean(cross_val_score(alg1, train_data, target, cv=10))))\n",
    "print(\"LR-l1: %.3f\" % (np.mean(cross_val_score(alg2, train_data, target, cv=10))))"
   ]
  },
  {
   "cell_type": "markdown",
   "metadata": {},
   "source": [
    "## Экспорт результатов"
   ]
  },
  {
   "cell_type": "code",
   "execution_count": 435,
   "metadata": {
    "collapsed": false
   },
   "outputs": [],
   "source": [
    "alg1.fit(train_data, target)\n",
    "answers = dict(zip(all_docs_ids, alg1.predict_proba(all_data).round(2)))\n",
    "with open(\"../server/docs_class_probabilities.dump\", \"wb\") as file:\n",
    "    pickle.dump(answers, file)"
   ]
  },
  {
   "cell_type": "markdown",
   "metadata": {},
   "source": [
    "---"
   ]
  }
 ],
 "metadata": {
  "kernelspec": {
   "display_name": "Python 3",
   "language": "python",
   "name": "python3"
  },
  "language_info": {
   "codemirror_mode": {
    "name": "ipython",
    "version": 3
   },
   "file_extension": ".py",
   "mimetype": "text/x-python",
   "name": "python",
   "nbconvert_exporter": "python",
   "pygments_lexer": "ipython3",
   "version": "3.6.0"
  }
 },
 "nbformat": 4,
 "nbformat_minor": 2
}
