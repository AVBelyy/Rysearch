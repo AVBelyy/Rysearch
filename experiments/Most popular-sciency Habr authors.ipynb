{
 "cells": [
  {
   "cell_type": "code",
   "execution_count": 24,
   "metadata": {
    "collapsed": true
   },
   "outputs": [],
   "source": [
    "import pymongo\n",
    "import collections\n",
    "import numpy as np\n",
    "import pandas as pd"
   ]
  },
  {
   "cell_type": "code",
   "execution_count": 2,
   "metadata": {
    "collapsed": true
   },
   "outputs": [],
   "source": [
    "db = pymongo.MongoClient()"
   ]
  },
  {
   "cell_type": "code",
   "execution_count": 10,
   "metadata": {
    "collapsed": true
   },
   "outputs": [],
   "source": [
    "def get_author(doc_id):\n",
    "    try:\n",
    "        return list(db[\"datasets\"][\"habrahabr\"].find({\"_id\": doc_id}, {\"authors_names\": 1}))[0][\"authors_names\"][0]\n",
    "    except Exception:\n",
    "        return None"
   ]
  },
  {
   "cell_type": "code",
   "execution_count": 15,
   "metadata": {
    "collapsed": false
   },
   "outputs": [],
   "source": [
    "clf_output = pd.read_csv(\"classifier_output.csv\")\n",
    "clf_output.columns = [\"id\", \"proba\"]\n",
    "clf_output = clf_output.set_index(\"id\")[\"proba\"]"
   ]
  },
  {
   "cell_type": "code",
   "execution_count": 21,
   "metadata": {
    "collapsed": false
   },
   "outputs": [],
   "source": [
    "%%time\n",
    "\n",
    "authors_relevance = collections.defaultdict(list)\n",
    "\n",
    "for doc_id, p in clf_output.items():\n",
    "    author_name = get_author(doc_id)\n",
    "    authors_relevance[author_name].append(p)"
   ]
  },
  {
   "cell_type": "code",
   "execution_count": 112,
   "metadata": {
    "collapsed": true
   },
   "outputs": [],
   "source": [
    "P = len(clf_output[clf_output >  0.5]) / len(clf_output)\n",
    "N = len(clf_output[clf_output <= 0.5]) / len(clf_output)\n",
    "\n",
    "def relevance(n, p=0):\n",
    "    return np.sqrt(p / P) - np.sqrt(n / N)\n",
    "\n",
    "def cont_relevance(ps):\n",
    "    return np.log10(len(ps)) * np.median(2 * ps - 1)"
   ]
  },
  {
   "cell_type": "code",
   "execution_count": 113,
   "metadata": {
    "collapsed": false
   },
   "outputs": [],
   "source": [
    "authors_series = pd.Series({k: relevance(*np.bincount(np.array(v) > 0.5)) if v else 0\n",
    "                            for k, v in authors_relevance.items()})"
   ]
  },
  {
   "cell_type": "code",
   "execution_count": 97,
   "metadata": {
    "collapsed": true
   },
   "outputs": [],
   "source": [
    "authors_series = pd.Series({k: cont_relevance(np.array(v)) if v else 0\n",
    "                            for k, v in authors_relevance.items()})"
   ]
  },
  {
   "cell_type": "code",
   "execution_count": 126,
   "metadata": {
    "collapsed": false
   },
   "outputs": [
    {
     "name": "stdout",
     "output_type": "stream",
     "text": [
      " 22.938461 -- https://habrahabr.ru/users/SLY_G\n",
      " 18.314086 -- https://habrahabr.ru/users/lozga\n",
      " 14.878677 -- https://habrahabr.ru/users/Zelenyikot\n",
      " 12.548149 -- https://habrahabr.ru/users/krasandm\n",
      " 12.498694 -- https://habrahabr.ru/users/Synth\n",
      " 11.519339 -- https://habrahabr.ru/users/protogui\n",
      " 11.377467 -- https://habrahabr.ru/users/AlexeyR\n",
      " 11.285316 -- https://habrahabr.ru/users/LukinB\n",
      " 10.340973 -- https://habrahabr.ru/users/PatientZero\n",
      "  9.634685 -- https://habrahabr.ru/users/Boomburum\n",
      "  ...\n",
      " -7.757439 -- https://habrahabr.ru/users/BBSoD\n",
      " -7.815363 -- https://habrahabr.ru/users/Tylerskald\n",
      " -8.655005 -- https://habrahabr.ru/users/azproduction\n",
      " -8.725304 -- https://habrahabr.ru/users/XaocCPS\n",
      " -9.768331 -- https://habrahabr.ru/users/azazelis\n",
      "-11.758759 -- https://habrahabr.ru/users/aleksandrit\n",
      "-11.796221 -- https://habrahabr.ru/users/RoboForm\n",
      "-13.036321 -- https://habrahabr.ru/users/marks\n",
      "-15.156126 -- https://habrahabr.ru/users/alizar\n",
      "-16.058914 -- https://habrahabr.ru/users/jeston\n"
     ]
    }
   ],
   "source": [
    "with open(\"popular-sciency-rating.txt\", \"w\") as f:\n",
    "    for i, (author_name, r) in enumerate(authors_series.sort_values(ascending=False).items()):\n",
    "        s = \"% 10.6f -- https://habrahabr.ru/users/%s\\n\" % (r, author_name)\n",
    "        if i < 10 or i >= len(authors_series) - 10:\n",
    "            print(s, end=\"\")\n",
    "        elif i == 10:\n",
    "            print(\"  ...\")\n",
    "        f.write(s)"
   ]
  },
  {
   "cell_type": "markdown",
   "metadata": {},
   "source": [
    "---"
   ]
  }
 ],
 "metadata": {
  "kernelspec": {
   "display_name": "Python 3",
   "language": "python",
   "name": "python3"
  },
  "language_info": {
   "codemirror_mode": {
    "name": "ipython",
    "version": 3
   },
   "file_extension": ".py",
   "mimetype": "text/x-python",
   "name": "python",
   "nbconvert_exporter": "python",
   "pygments_lexer": "ipython3",
   "version": "3.5.3"
  },
  "latex_envs": {
   "bibliofile": "biblio.bib",
   "cite_by": "apalike",
   "current_citInitial": 1,
   "eqLabelWithNumbers": true,
   "eqNumInitial": 0
  }
 },
 "nbformat": 4,
 "nbformat_minor": 2
}
