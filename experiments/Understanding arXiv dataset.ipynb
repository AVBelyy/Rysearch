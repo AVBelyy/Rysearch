{
 "cells": [
  {
   "cell_type": "code",
   "execution_count": 1,
   "metadata": {
    "collapsed": true
   },
   "outputs": [],
   "source": [
    "import numpy as np\n",
    "import pandas as pd\n",
    "import collections\n",
    "import pymongo\n",
    "import regex\n",
    "import csv"
   ]
  },
  {
   "cell_type": "code",
   "execution_count": 2,
   "metadata": {
    "collapsed": true
   },
   "outputs": [],
   "source": [
    "PATH = \"arxiv.csv\""
   ]
  },
  {
   "cell_type": "markdown",
   "metadata": {},
   "source": [
    "### Экспериментируем"
   ]
  },
  {
   "cell_type": "code",
   "execution_count": 59,
   "metadata": {
    "collapsed": false
   },
   "outputs": [
    {
     "name": "stdout",
     "output_type": "stream",
     "text": [
      "CPU times: user 4.06 s, sys: 246 ms, total: 4.3 s\n",
      "Wall time: 4.68 s\n"
     ]
    }
   ],
   "source": [
    "%%time\n",
    "\n",
    "df = pd.DataFrame.from_csv(PATH)"
   ]
  },
  {
   "cell_type": "code",
   "execution_count": 121,
   "metadata": {
    "collapsed": false
   },
   "outputs": [
    {
     "data": {
      "text/html": [
       "<div>\n",
       "<table border=\"1\" class=\"dataframe\">\n",
       "  <thead>\n",
       "    <tr style=\"text-align: right;\">\n",
       "      <th></th>\n",
       "      <th>publisher</th>\n",
       "      <th>contributor</th>\n",
       "      <th>type</th>\n",
       "      <th>language</th>\n",
       "      <th>relation</th>\n",
       "      <th>description</th>\n",
       "      <th>title</th>\n",
       "      <th>coverage</th>\n",
       "      <th>rights</th>\n",
       "      <th>format</th>\n",
       "      <th>source</th>\n",
       "      <th>creator</th>\n",
       "      <th>date</th>\n",
       "      <th>subject</th>\n",
       "    </tr>\n",
       "    <tr>\n",
       "      <th>identifier</th>\n",
       "      <th></th>\n",
       "      <th></th>\n",
       "      <th></th>\n",
       "      <th></th>\n",
       "      <th></th>\n",
       "      <th></th>\n",
       "      <th></th>\n",
       "      <th></th>\n",
       "      <th></th>\n",
       "      <th></th>\n",
       "      <th></th>\n",
       "      <th></th>\n",
       "      <th></th>\n",
       "      <th></th>\n",
       "    </tr>\n",
       "  </thead>\n",
       "  <tbody>\n",
       "    <tr>\n",
       "      <th>['http://arxiv.org/abs/0704.0001', 'Phys.Rev.D76:013009,2007', 'doi:10.1103/PhysRevD.76.013009']</th>\n",
       "      <td>[]</td>\n",
       "      <td>[]</td>\n",
       "      <td>['text']</td>\n",
       "      <td>[]</td>\n",
       "      <td>[]</td>\n",
       "      <td>['  A fully differential calculation in pertur...</td>\n",
       "      <td>['Calculation of prompt diphoton production cr...</td>\n",
       "      <td>[]</td>\n",
       "      <td>[]</td>\n",
       "      <td>[]</td>\n",
       "      <td>[]</td>\n",
       "      <td>['Balázs, C.', 'Berger, E. L.', 'Nadolsky, P. ...</td>\n",
       "      <td>['2007-04-02', '2007-07-24']</td>\n",
       "      <td>['High Energy Physics - Phenomenology']</td>\n",
       "    </tr>\n",
       "    <tr>\n",
       "      <th>['http://arxiv.org/abs/0704.0002']</th>\n",
       "      <td>[]</td>\n",
       "      <td>[]</td>\n",
       "      <td>['text']</td>\n",
       "      <td>[]</td>\n",
       "      <td>[]</td>\n",
       "      <td>['  We describe a new algorithm, the $(k,\\\\ell...</td>\n",
       "      <td>['Sparsity-certifying Graph Decompositions']</td>\n",
       "      <td>[]</td>\n",
       "      <td>[]</td>\n",
       "      <td>[]</td>\n",
       "      <td>[]</td>\n",
       "      <td>['Streinu, Ileana', 'Theran, Louis']</td>\n",
       "      <td>['2007-03-30', '2008-12-13']</td>\n",
       "      <td>['Mathematics - Combinatorics', 'Computer Scie...</td>\n",
       "    </tr>\n",
       "    <tr>\n",
       "      <th>['http://arxiv.org/abs/0704.0003']</th>\n",
       "      <td>[]</td>\n",
       "      <td>[]</td>\n",
       "      <td>['text']</td>\n",
       "      <td>[]</td>\n",
       "      <td>[]</td>\n",
       "      <td>[\"  The evolution of Earth-Moon system is desc...</td>\n",
       "      <td>['The evolution of the Earth-Moon system based...</td>\n",
       "      <td>[]</td>\n",
       "      <td>[]</td>\n",
       "      <td>[]</td>\n",
       "      <td>[]</td>\n",
       "      <td>['Pan, Hongjun']</td>\n",
       "      <td>['2007-04-01', '2008-01-12']</td>\n",
       "      <td>['Physics - General Physics']</td>\n",
       "    </tr>\n",
       "    <tr>\n",
       "      <th>['http://arxiv.org/abs/0704.0004']</th>\n",
       "      <td>[]</td>\n",
       "      <td>[]</td>\n",
       "      <td>['text']</td>\n",
       "      <td>[]</td>\n",
       "      <td>[]</td>\n",
       "      <td>['  We show that a determinant of Stirling cyc...</td>\n",
       "      <td>['A determinant of Stirling cycle numbers coun...</td>\n",
       "      <td>[]</td>\n",
       "      <td>[]</td>\n",
       "      <td>[]</td>\n",
       "      <td>[]</td>\n",
       "      <td>['Callan, David']</td>\n",
       "      <td>['2007-03-30']</td>\n",
       "      <td>['Mathematics - Combinatorics', '05A15']</td>\n",
       "    </tr>\n",
       "    <tr>\n",
       "      <th>['http://arxiv.org/abs/0704.0005', 'Illinois J. Math. 52 (2008) no.2, 681-689']</th>\n",
       "      <td>[]</td>\n",
       "      <td>[]</td>\n",
       "      <td>['text']</td>\n",
       "      <td>[]</td>\n",
       "      <td>[]</td>\n",
       "      <td>['  In this paper we show how to compute the $...</td>\n",
       "      <td>['From dyadic $\\\\Lambda_{\\\\alpha}$ to $\\\\Lambd...</td>\n",
       "      <td>[]</td>\n",
       "      <td>[]</td>\n",
       "      <td>[]</td>\n",
       "      <td>[]</td>\n",
       "      <td>['Abu-Shammala, Wael', 'Torchinsky, Alberto']</td>\n",
       "      <td>['2007-04-02']</td>\n",
       "      <td>['Mathematics - Classical Analysis and ODEs', ...</td>\n",
       "    </tr>\n",
       "  </tbody>\n",
       "</table>\n",
       "</div>"
      ],
      "text/plain": [
       "                                                   publisher contributor  \\\n",
       "identifier                                                                 \n",
       "['http://arxiv.org/abs/0704.0001', 'Phys.Rev.D7...        []          []   \n",
       "['http://arxiv.org/abs/0704.0002']                        []          []   \n",
       "['http://arxiv.org/abs/0704.0003']                        []          []   \n",
       "['http://arxiv.org/abs/0704.0004']                        []          []   \n",
       "['http://arxiv.org/abs/0704.0005', 'Illinois J....        []          []   \n",
       "\n",
       "                                                        type language  \\\n",
       "identifier                                                              \n",
       "['http://arxiv.org/abs/0704.0001', 'Phys.Rev.D7...  ['text']       []   \n",
       "['http://arxiv.org/abs/0704.0002']                  ['text']       []   \n",
       "['http://arxiv.org/abs/0704.0003']                  ['text']       []   \n",
       "['http://arxiv.org/abs/0704.0004']                  ['text']       []   \n",
       "['http://arxiv.org/abs/0704.0005', 'Illinois J....  ['text']       []   \n",
       "\n",
       "                                                   relation  \\\n",
       "identifier                                                    \n",
       "['http://arxiv.org/abs/0704.0001', 'Phys.Rev.D7...       []   \n",
       "['http://arxiv.org/abs/0704.0002']                       []   \n",
       "['http://arxiv.org/abs/0704.0003']                       []   \n",
       "['http://arxiv.org/abs/0704.0004']                       []   \n",
       "['http://arxiv.org/abs/0704.0005', 'Illinois J....       []   \n",
       "\n",
       "                                                                                          description  \\\n",
       "identifier                                                                                              \n",
       "['http://arxiv.org/abs/0704.0001', 'Phys.Rev.D7...  ['  A fully differential calculation in pertur...   \n",
       "['http://arxiv.org/abs/0704.0002']                  ['  We describe a new algorithm, the $(k,\\\\ell...   \n",
       "['http://arxiv.org/abs/0704.0003']                  [\"  The evolution of Earth-Moon system is desc...   \n",
       "['http://arxiv.org/abs/0704.0004']                  ['  We show that a determinant of Stirling cyc...   \n",
       "['http://arxiv.org/abs/0704.0005', 'Illinois J....  ['  In this paper we show how to compute the $...   \n",
       "\n",
       "                                                                                                title  \\\n",
       "identifier                                                                                              \n",
       "['http://arxiv.org/abs/0704.0001', 'Phys.Rev.D7...  ['Calculation of prompt diphoton production cr...   \n",
       "['http://arxiv.org/abs/0704.0002']                       ['Sparsity-certifying Graph Decompositions']   \n",
       "['http://arxiv.org/abs/0704.0003']                  ['The evolution of the Earth-Moon system based...   \n",
       "['http://arxiv.org/abs/0704.0004']                  ['A determinant of Stirling cycle numbers coun...   \n",
       "['http://arxiv.org/abs/0704.0005', 'Illinois J....  ['From dyadic $\\\\Lambda_{\\\\alpha}$ to $\\\\Lambd...   \n",
       "\n",
       "                                                   coverage rights format  \\\n",
       "identifier                                                                  \n",
       "['http://arxiv.org/abs/0704.0001', 'Phys.Rev.D7...       []     []     []   \n",
       "['http://arxiv.org/abs/0704.0002']                       []     []     []   \n",
       "['http://arxiv.org/abs/0704.0003']                       []     []     []   \n",
       "['http://arxiv.org/abs/0704.0004']                       []     []     []   \n",
       "['http://arxiv.org/abs/0704.0005', 'Illinois J....       []     []     []   \n",
       "\n",
       "                                                   source  \\\n",
       "identifier                                                  \n",
       "['http://arxiv.org/abs/0704.0001', 'Phys.Rev.D7...     []   \n",
       "['http://arxiv.org/abs/0704.0002']                     []   \n",
       "['http://arxiv.org/abs/0704.0003']                     []   \n",
       "['http://arxiv.org/abs/0704.0004']                     []   \n",
       "['http://arxiv.org/abs/0704.0005', 'Illinois J....     []   \n",
       "\n",
       "                                                                                              creator  \\\n",
       "identifier                                                                                              \n",
       "['http://arxiv.org/abs/0704.0001', 'Phys.Rev.D7...  ['Balázs, C.', 'Berger, E. L.', 'Nadolsky, P. ...   \n",
       "['http://arxiv.org/abs/0704.0002']                               ['Streinu, Ileana', 'Theran, Louis']   \n",
       "['http://arxiv.org/abs/0704.0003']                                                   ['Pan, Hongjun']   \n",
       "['http://arxiv.org/abs/0704.0004']                                                  ['Callan, David']   \n",
       "['http://arxiv.org/abs/0704.0005', 'Illinois J....      ['Abu-Shammala, Wael', 'Torchinsky, Alberto']   \n",
       "\n",
       "                                                                            date  \\\n",
       "identifier                                                                         \n",
       "['http://arxiv.org/abs/0704.0001', 'Phys.Rev.D7...  ['2007-04-02', '2007-07-24']   \n",
       "['http://arxiv.org/abs/0704.0002']                  ['2007-03-30', '2008-12-13']   \n",
       "['http://arxiv.org/abs/0704.0003']                  ['2007-04-01', '2008-01-12']   \n",
       "['http://arxiv.org/abs/0704.0004']                                ['2007-03-30']   \n",
       "['http://arxiv.org/abs/0704.0005', 'Illinois J....                ['2007-04-02']   \n",
       "\n",
       "                                                                                              subject  \n",
       "identifier                                                                                             \n",
       "['http://arxiv.org/abs/0704.0001', 'Phys.Rev.D7...            ['High Energy Physics - Phenomenology']  \n",
       "['http://arxiv.org/abs/0704.0002']                  ['Mathematics - Combinatorics', 'Computer Scie...  \n",
       "['http://arxiv.org/abs/0704.0003']                                      ['Physics - General Physics']  \n",
       "['http://arxiv.org/abs/0704.0004']                           ['Mathematics - Combinatorics', '05A15']  \n",
       "['http://arxiv.org/abs/0704.0005', 'Illinois J....  ['Mathematics - Classical Analysis and ODEs', ...  "
      ]
     },
     "execution_count": 121,
     "metadata": {},
     "output_type": "execute_result"
    }
   ],
   "source": [
    "df.head()"
   ]
  },
  {
   "cell_type": "markdown",
   "metadata": {},
   "source": [
    "Идентификаторы:"
   ]
  },
  {
   "cell_type": "code",
   "execution_count": 159,
   "metadata": {
    "collapsed": false
   },
   "outputs": [
    {
     "name": "stdout",
     "output_type": "stream",
     "text": [
      "CPU times: user 4.56 s, sys: 42 ms, total: 4.6 s\n",
      "Wall time: 4.6 s\n"
     ]
    }
   ],
   "source": [
    "%%time\n",
    "\n",
    "doc_id = []\n",
    "\n",
    "prefix = \"http://arxiv.org/abs/\"\n",
    "prefix_len = len(prefix)\n",
    "\n",
    "for ids in df.index:\n",
    "    doc_id.append(\"arxiv_\" + eval(ids)[0][prefix_len:])\n",
    "\n",
    "assert len(df) == len(doc_id)"
   ]
  },
  {
   "cell_type": "markdown",
   "metadata": {},
   "source": [
    "Заголовки:"
   ]
  },
  {
   "cell_type": "code",
   "execution_count": 125,
   "metadata": {
    "collapsed": false
   },
   "outputs": [
    {
     "name": "stdout",
     "output_type": "stream",
     "text": [
      "CPU times: user 3.63 s, sys: 44 ms, total: 3.68 s\n",
      "Wall time: 3.68 s\n"
     ]
    }
   ],
   "source": [
    "%%time\n",
    "\n",
    "title = []\n",
    "\n",
    "for titles in df[\"title\"]:\n",
    "    title.append(eval(titles)[0])\n",
    "\n",
    "assert len(df) == len(title)"
   ]
  },
  {
   "cell_type": "markdown",
   "metadata": {},
   "source": [
    "Описания:"
   ]
  },
  {
   "cell_type": "code",
   "execution_count": 139,
   "metadata": {
    "collapsed": false
   },
   "outputs": [
    {
     "name": "stdout",
     "output_type": "stream",
     "text": [
      "CPU times: user 7.03 s, sys: 118 ms, total: 7.15 s\n",
      "Wall time: 7.15 s\n"
     ]
    }
   ],
   "source": [
    "%%time\n",
    "\n",
    "description = []\n",
    "\n",
    "for descs in df[\"description\"]:\n",
    "    description.append(eval(descs)[0])\n",
    "\n",
    "assert len(df) == len(description)"
   ]
  },
  {
   "cell_type": "code",
   "execution_count": 140,
   "metadata": {
    "collapsed": false,
    "deletable": true,
    "editable": true
   },
   "outputs": [
    {
     "data": {
      "text/plain": [
       "255111394"
      ]
     },
     "execution_count": 140,
     "metadata": {},
     "output_type": "execute_result"
    }
   ],
   "source": [
    "sum(map(len, description))"
   ]
  },
  {
   "cell_type": "markdown",
   "metadata": {},
   "source": [
    "Даты:"
   ]
  },
  {
   "cell_type": "code",
   "execution_count": 97,
   "metadata": {
    "collapsed": false
   },
   "outputs": [
    {
     "name": "stdout",
     "output_type": "stream",
     "text": [
      "CPU times: user 3.65 s, sys: 27 ms, total: 3.67 s\n",
      "Wall time: 3.67 s\n"
     ]
    }
   ],
   "source": [
    "%%time\n",
    "\n",
    "first_date = []\n",
    "last_date = []\n",
    "\n",
    "for dates in df[\"date\"]:\n",
    "    dates = eval(dates)\n",
    "    if len(dates):\n",
    "        first_date.append(dates[0])\n",
    "        last_date.append(dates[-1])\n",
    "    else:\n",
    "        first_date.append(None)\n",
    "        last_date.append(None)\n",
    "\n",
    "assert len(df) == len(first_date) == len(last_date)"
   ]
  },
  {
   "cell_type": "markdown",
   "metadata": {},
   "source": [
    "Категории:"
   ]
  },
  {
   "cell_type": "code",
   "execution_count": 98,
   "metadata": {
    "collapsed": false
   },
   "outputs": [
    {
     "name": "stdout",
     "output_type": "stream",
     "text": [
      "CPU times: user 8.95 s, sys: 76 ms, total: 9.03 s\n",
      "Wall time: 9.03 s\n"
     ]
    }
   ],
   "source": [
    "%%time\n",
    "\n",
    "cat0_subjects = []\n",
    "cat1_subjects = []\n",
    "other_subjects = []\n",
    "\n",
    "subject_regex = regex.compile(\"^[a-z\\s-,]+$\")\n",
    "\n",
    "for subjs in df[\"subject\"]:\n",
    "    s0, s1 = set(), set()\n",
    "    for subj in eval(subjs):\n",
    "        subj = subj.lower().strip()\n",
    "        parts = subj.split(\" - \")\n",
    "        if subject_regex.match(subj) and len(parts) <= 2:\n",
    "            s0.add(\"%s\" % parts[0])\n",
    "            if len(parts) == 2:\n",
    "                s1.add(\"%s - %s\" % (parts[0], parts[1]))\n",
    "        else:\n",
    "            other_subjects.append(subj)\n",
    "    cat0_subjects.append(list(s0))\n",
    "    cat1_subjects.append(list(s1))\n",
    "\n",
    "assert len(df) == len(cat0_subjects) == len(cat1_subjects)"
   ]
  },
  {
   "cell_type": "code",
   "execution_count": 76,
   "metadata": {
    "collapsed": false
   },
   "outputs": [
    {
     "data": {
      "text/plain": [
       "[('f.2.2', 605),\n",
       " ('f.4.1', 364),\n",
       " ('g.2.2', 350),\n",
       " ('57m25', 307),\n",
       " ('f.1.1', 220),\n",
       " ('g.3', 213),\n",
       " ('05a15', 206),\n",
       " ('60k35', 197),\n",
       " ('g.2.1', 177),\n",
       " ('57m27', 161)]"
      ]
     },
     "execution_count": 76,
     "metadata": {},
     "output_type": "execute_result"
    }
   ],
   "source": [
    "collections.Counter(other_subjects).most_common(10)"
   ]
  },
  {
   "cell_type": "markdown",
   "metadata": {},
   "source": [
    "### Собираем всё вместе"
   ]
  },
  {
   "cell_type": "code",
   "execution_count": 3,
   "metadata": {
    "collapsed": false
   },
   "outputs": [
    {
     "name": "stdout",
     "output_type": "stream",
     "text": [
      "CPU times: user 3min 42s, sys: 3.44 s, total: 3min 46s\n",
      "Wall time: 3min 47s\n"
     ]
    }
   ],
   "source": [
    "%%time\n",
    "\n",
    "fieldnames = (\"doc_id\", \"identifiers\", \"cat0_subject\", \"cat1_subject\", \"first_date\", \"last_date\", \"authors\",\n",
    "              \"title\", \"description\")\n",
    "subject_regex = regex.compile(\"^[a-z_\\-,]+$\")\n",
    "prefix = \"http://arxiv.org/abs/\"\n",
    "prefix_len = len(prefix)\n",
    "\n",
    "with open(PATH) as infile, open(\"arxiv_clean.csv\", \"w\") as outfile:\n",
    "    reader = csv.DictReader(infile)\n",
    "    writer = csv.DictWriter(outfile, fieldnames)\n",
    "    writer.writeheader()\n",
    "    for row in reader:\n",
    "        article = {}\n",
    "        article[\"authors\"] = row[\"creator\"]\n",
    "        # Идентификаторы\n",
    "        ids = row[\"identifier\"]\n",
    "        article[\"identifiers\"] = ids\n",
    "        article[\"doc_id\"] = \"arxiv_\" + eval(ids)[0][prefix_len:]\n",
    "        # Категории\n",
    "        s0, s1 = set(), set()\n",
    "        for subj in eval(row[\"subject\"]):\n",
    "            subj = subj.lower().strip().replace(\" \", \"_\")\n",
    "            parts = subj.split(\"_-_\")\n",
    "            if subject_regex.match(subj) and len(parts) <= 2:\n",
    "                s0.add(\"%s\" % parts[0])\n",
    "                if len(parts) == 2:\n",
    "                    s1.add(\"%s_-_%s\" % (parts[0], parts[1]))\n",
    "        article[\"cat0_subject\"] = list(s0)\n",
    "        article[\"cat1_subject\"] = list(s1)\n",
    "        # Даты\n",
    "        dates = eval(row[\"date\"])\n",
    "        if len(dates):\n",
    "            article[\"first_date\"] = dates[0]\n",
    "            article[\"last_date\"] = dates[-1]\n",
    "        # Заголовок и описание\n",
    "        article[\"title\"] = eval(row[\"title\"])[0]\n",
    "        article[\"description\"] = eval(row[\"description\"])[0]\n",
    "        writer.writerow(article)"
   ]
  },
  {
   "cell_type": "markdown",
   "metadata": {},
   "source": [
    "---"
   ]
  }
 ],
 "metadata": {
  "kernelspec": {
   "display_name": "Python 3",
   "language": "python",
   "name": "python3"
  },
  "language_info": {
   "codemirror_mode": {
    "name": "ipython",
    "version": 3
   },
   "file_extension": ".py",
   "mimetype": "text/x-python",
   "name": "python",
   "nbconvert_exporter": "python",
   "pygments_lexer": "ipython3",
   "version": "3.5.3"
  },
  "latex_envs": {
   "bibliofile": "biblio.bib",
   "cite_by": "apalike",
   "current_citInitial": 1,
   "eqLabelWithNumbers": true,
   "eqNumInitial": 0
  }
 },
 "nbformat": 4,
 "nbformat_minor": 2
}
