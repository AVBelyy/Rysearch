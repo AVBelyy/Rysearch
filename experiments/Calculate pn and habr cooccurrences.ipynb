{
 "cells": [
  {
   "cell_type": "code",
   "execution_count": null,
   "metadata": {
    "collapsed": true
   },
   "outputs": [],
   "source": [
    "%matplotlib inline\n",
    "import itertools\n",
    "import numpy as np\n",
    "import pandas as pd\n",
    "import matplotlib.pyplot as plt"
   ]
  },
  {
   "cell_type": "code",
   "execution_count": null,
   "metadata": {
    "collapsed": true
   },
   "outputs": [],
   "source": [
    "# Загрузим словарь со словами объединенной коллекции\n",
    "cooc_modality = \"text\"\n",
    "\n",
    "vocab_list = list(map(lambda r: r[0], filter(lambda r: len(r) > 1 and r[1] == cooc_modality,\n",
    "                                             map(lambda r: r.strip().split(), open(\"merged_vocab.txt\", \"r\")))))\n",
    "vocab_map = dict(zip(vocab_list, range(len(vocab_list))))"
   ]
  },
  {
   "cell_type": "code",
   "execution_count": null,
   "metadata": {
    "collapsed": false
   },
   "outputs": [],
   "source": [
    "%%time\n",
    "\n",
    "word_count = {}\n",
    "pair_count = {}\n",
    "\n",
    "for i, text in enumerate(open(\"batch_vw.txt\"), 1):\n",
    "    text = set(text.strip().split()[2:])\n",
    "    token_ids = set(filter(None, map(vocab_map.get, text)))\n",
    "    for u in token_ids:\n",
    "        word_count.setdefault(u, 0)\n",
    "        word_count[u] += 1\n",
    "    for p in itertools.combinations(token_ids, 2):\n",
    "        pair_count.setdefault(p, 0)\n",
    "        pair_count[p] += 1\n",
    "    if i % 100 == 0:\n",
    "        print(\"Processed %i documents\" % i)"
   ]
  },
  {
   "cell_type": "markdown",
   "metadata": {},
   "source": [
    "---"
   ]
  }
 ],
 "metadata": {
  "kernelspec": {
   "display_name": "Python 3",
   "language": "python",
   "name": "python3"
  },
  "language_info": {
   "codemirror_mode": {
    "name": "ipython",
    "version": 3
   },
   "file_extension": ".py",
   "mimetype": "text/x-python",
   "name": "python",
   "nbconvert_exporter": "python",
   "pygments_lexer": "ipython3",
   "version": "3.5.3"
  },
  "latex_envs": {
   "bibliofile": "biblio.bib",
   "cite_by": "apalike",
   "current_citInitial": 1,
   "eqLabelWithNumbers": true,
   "eqNumInitial": 0
  }
 },
 "nbformat": 4,
 "nbformat_minor": 2
}
