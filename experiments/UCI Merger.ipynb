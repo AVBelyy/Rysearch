{
 "cells": [
  {
   "cell_type": "code",
   "execution_count": 55,
   "metadata": {
    "collapsed": true
   },
   "outputs": [],
   "source": [
    "import csv\n",
    "import numpy as np\n",
    "import pandas as pd\n",
    "from pathlib import Path"
   ]
  },
  {
   "cell_type": "markdown",
   "metadata": {},
   "source": [
    "В этом блокноте будут мержиться несколько UCI-датасетов в один объединённый."
   ]
  },
  {
   "cell_type": "code",
   "execution_count": 56,
   "metadata": {
    "collapsed": false
   },
   "outputs": [],
   "source": [
    "uci_collections = [(Path(\"../datasets/postnauka\"), \"pn\"),\n",
    "                   (Path(\"../datasets/ruwiki\"), \"ruwiki\")]\n",
    "\n",
    "g_path, g_collection_name = Path(\"../datasets\"), \"merged\""
   ]
  },
  {
   "cell_type": "markdown",
   "metadata": {},
   "source": [
    "Объединим словари в один и сохраним его."
   ]
  },
  {
   "cell_type": "code",
   "execution_count": 63,
   "metadata": {
    "collapsed": false
   },
   "outputs": [
    {
     "name": "stdout",
     "output_type": "stream",
     "text": [
      "CPU times: user 2.81 s, sys: 47 ms, total: 2.86 s\n",
      "Wall time: 2.86 s\n"
     ]
    }
   ],
   "source": [
    "%%time\n",
    "\n",
    "global_dictionary = {}\n",
    "local_mappings = []\n",
    "\n",
    "for path, collection_name in uci_collections:\n",
    "    local_mapping = []\n",
    "    with (path / (\"vocab.%s.txt\" % collection_name)).open() as infile:\n",
    "        for ix, line in enumerate(infile):\n",
    "            token, modality = line.split()\n",
    "            value = global_dictionary.get((token, modality))\n",
    "            if value is None:\n",
    "                value = global_dictionary[(token, modality)] = len(global_dictionary)\n",
    "            local_mapping.append(value)\n",
    "    local_mappings.append(local_mapping)\n",
    "\n",
    "global_mapping = sorted(map(lambda p: (p[1], p[0]), global_dictionary.items()))\n",
    "\n",
    "# Добавим метки коллекций в словарь\n",
    "collection_ids = {}\n",
    "for _, collection_name in uci_collections:\n",
    "    collection_ids[collection_name] = len(global_mapping)\n",
    "    global_mapping.append((len(global_mapping), (collection_name, \"collection_id\")))\n",
    "\n",
    "with (g_path / (\"vocab.%s.txt\" % g_collection_name)).open(\"w\") as outfile:\n",
    "    for _, value in global_mapping:\n",
    "        outfile.write(\"%s %s\\n\" % value)"
   ]
  },
  {
   "cell_type": "markdown",
   "metadata": {},
   "source": [
    "Теперь перестроим документы по объединённому словарю."
   ]
  },
  {
   "cell_type": "markdown",
   "metadata": {},
   "source": [
    "Сначала посчитаем суммарную длину и кол-во документов будущего `docword` файла."
   ]
  },
  {
   "cell_type": "code",
   "execution_count": 66,
   "metadata": {
    "collapsed": false
   },
   "outputs": [],
   "source": [
    "g_doc_count, g_bow_length = 0, 0\n",
    "\n",
    "for path, collection_name in uci_collections:\n",
    "    with (path / (\"docword.%s.txt\" % collection_name)).open() as infile:\n",
    "        dict_length = infile.readline()\n",
    "        doc_count = int(infile.readline())\n",
    "        bow_length = int(infile.readline())\n",
    "        g_doc_count += doc_count\n",
    "        g_bow_length += bow_length"
   ]
  },
  {
   "cell_type": "markdown",
   "metadata": {},
   "source": [
    "Теперь построим `docword` файл объединённой коллекции."
   ]
  },
  {
   "cell_type": "code",
   "execution_count": 69,
   "metadata": {
    "collapsed": false
   },
   "outputs": [
    {
     "name": "stdout",
     "output_type": "stream",
     "text": [
      "CPU times: user 13min 36s, sys: 5.78 s, total: 13min 42s\n",
      "Wall time: 13min 44s\n"
     ]
    }
   ],
   "source": [
    "%%time\n",
    "\n",
    "with (g_path / (\"docword.%s.txt\" % g_collection_name)).open(\"w\") as outfile:\n",
    "    g_doc_id = 0\n",
    "    outfile.write(\"%d\\n%d\\n%d\\n\" % (len(global_dictionary), g_doc_count, g_bow_length))\n",
    "    for mapping, (path, collection_name) in zip(local_mappings, uci_collections):\n",
    "        with (path / (\"docword.%s.txt\" % collection_name)).open() as infile:\n",
    "            dict_length, doc_count, bow_length = int(infile.readline()), int(infile.readline()), int(infile.readline())\n",
    "            seen_docs = set()\n",
    "            for line in infile:\n",
    "                doc_id, word_id, word_count = map(int, line.split())\n",
    "                if doc_id not in seen_docs:\n",
    "                    # Добавим метки коллекций в документы\n",
    "                    collection_id = collection_ids[collection_name]\n",
    "                    outfile.write(\"%d %d %d\\n\" % (g_doc_id + doc_id, collection_id, 1))\n",
    "                    seen_docs.add(doc_id)\n",
    "                g_word_id = mapping[word_id - 1] + 1\n",
    "                outfile.write(\"%d %d %d\\n\" % (g_doc_id + doc_id, g_word_id, word_count))\n",
    "            g_doc_id += doc_count"
   ]
  },
  {
   "cell_type": "markdown",
   "metadata": {},
   "source": [
    "---"
   ]
  }
 ],
 "metadata": {
  "kernelspec": {
   "display_name": "Python 3",
   "language": "python",
   "name": "python3"
  },
  "language_info": {
   "codemirror_mode": {
    "name": "ipython",
    "version": 3
   },
   "file_extension": ".py",
   "mimetype": "text/x-python",
   "name": "python",
   "nbconvert_exporter": "python",
   "pygments_lexer": "ipython3",
   "version": "3.5.2"
  },
  "latex_envs": {
   "bibliofile": "biblio.bib",
   "cite_by": "apalike",
   "current_citInitial": 1,
   "eqLabelWithNumbers": true,
   "eqNumInitial": 0
  }
 },
 "nbformat": 4,
 "nbformat_minor": 0
}
