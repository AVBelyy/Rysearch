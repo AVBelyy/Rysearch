{
 "cells": [
  {
   "cell_type": "code",
   "execution_count": 1,
   "metadata": {
    "collapsed": true,
    "deletable": true,
    "editable": true
   },
   "outputs": [],
   "source": [
    "%reload_ext autoreload\n",
    "%autoreload 2"
   ]
  },
  {
   "cell_type": "code",
   "execution_count": 5,
   "metadata": {
    "collapsed": true,
    "deletable": true,
    "editable": true
   },
   "outputs": [],
   "source": [
    "import warnings\n",
    "warnings.filterwarnings(\"ignore\", category=DeprecationWarning)"
   ]
  },
  {
   "cell_type": "code",
   "execution_count": 7,
   "metadata": {
    "collapsed": false,
    "deletable": true,
    "editable": true
   },
   "outputs": [],
   "source": [
    "from parsers import arbitrary, text_utils\n",
    "import artm\n",
    "import hierarchy_utils\n",
    "import pickle\n",
    "from algo.arranging.api import arrange_topics\n",
    "from algo.arranging.crossmin import CrossMinimizer\n",
    "import numpy as np"
   ]
  },
  {
   "cell_type": "code",
   "execution_count": 9,
   "metadata": {
    "collapsed": false,
    "deletable": true,
    "editable": true
   },
   "outputs": [
    {
     "name": "stdout",
     "output_type": "stream",
     "text": [
      "CPU times: user 1min 56s, sys: 5.26 s, total: 2min 1s\n",
      "Wall time: 1min 53s\n"
     ]
    }
   ],
   "source": [
    "%%time\n",
    "\n",
    "MODEL_PATH = \"hartm/\"\n",
    "\n",
    "artm_model = hierarchy_utils.hARTM(theta_columns_naming=\"title\",\n",
    "                                   cache_theta=True)\n",
    "artm_model.load(MODEL_PATH)\n"
   ]
  },
  {
   "cell_type": "code",
   "execution_count": 10,
   "metadata": {
    "collapsed": true,
    "deletable": true,
    "editable": true
   },
   "outputs": [],
   "source": [
    "artm_extra_info = pickle.load(open(MODEL_PATH + \"/extra_info.dump\", \"rb\"))"
   ]
  },
  {
   "cell_type": "code",
   "execution_count": 11,
   "metadata": {
    "collapsed": true,
    "deletable": true,
    "editable": true
   },
   "outputs": [],
   "source": [
    "# Extract Phi, Psi and Theta matrices\n",
    "phis = []\n",
    "psis = []\n",
    "#theta = artm_extra_info[\"theta\"]\n",
    "# theta = pickle.load(open(THETA_MODEL_PATH, \"rb\"))[\"theta\"]\n",
    "for level_idx, artm_level in enumerate(artm_model._levels):\n",
    "    phis.append(artm_level.get_phi(class_ids=\"flat_tag\"))\n",
    "    if level_idx > 0:\n",
    "        psis.append(artm_level.get_psi())\n",
    "        \n",
    "phi0_topic_titles = list(filter(lambda x: x.startswith(\"topic\"), phis[0].columns))\n",
    "phi1_topic_titles = list(filter(lambda x: x.startswith(\"topic\"), phis[1].columns))"
   ]
  },
  {
   "cell_type": "code",
   "execution_count": 12,
   "metadata": {
    "collapsed": false,
    "deletable": true,
    "editable": true
   },
   "outputs": [],
   "source": [
    "new_phi1_topic_order = np.array(phi1_topic_titles)[arrange_topics(phis[1][phi1_topic_titles].values)]\n",
    "phis[1] = phis[1][new_phi1_topic_order]\n",
    "psis[0] = psis[0].loc[new_phi1_topic_order]"
   ]
  },
  {
   "cell_type": "code",
   "execution_count": 13,
   "metadata": {
    "collapsed": false,
    "deletable": true,
    "editable": true
   },
   "outputs": [],
   "source": [
    "children_threshold = 0.05\n",
    "\n",
    "D = np.zeros((len(phi0_topic_titles), len(phi1_topic_titles)))\n",
    "\n",
    "for parent_id, parent in enumerate(phi0_topic_titles):\n",
    "    for child_id, maybe_child in enumerate(phi1_topic_titles):\n",
    "        if psis[0].loc[maybe_child, parent] > children_threshold:\n",
    "            D[parent_id, child_id] = 1"
   ]
  },
  {
   "cell_type": "code",
   "execution_count": 14,
   "metadata": {
    "collapsed": false,
    "deletable": true,
    "editable": true
   },
   "outputs": [],
   "source": [
    "cm = CrossMinimizer(D)\n",
    "idx = cm.solve(mode=\"split10N\", model=None)\n",
    "new_phi0_topic_order = np.array(phi1_topic_titles)[idx]"
   ]
  },
  {
   "cell_type": "code",
   "execution_count": 15,
   "metadata": {
    "collapsed": false,
    "deletable": true,
    "editable": true
   },
   "outputs": [
    {
     "data": {
      "text/plain": [
       "array([13,  8, 11,  2, 12, 17,  7, 14,  5,  6, 16,  3,  1, 10,  4, 15,  9,\n",
       "       18, 19,  0])"
      ]
     },
     "execution_count": 15,
     "metadata": {},
     "output_type": "execute_result"
    }
   ],
   "source": [
    "idx"
   ]
  },
  {
   "cell_type": "code",
   "execution_count": 16,
   "metadata": {
    "collapsed": false,
    "deletable": true,
    "editable": true
   },
   "outputs": [
    {
     "data": {
      "text/plain": [
       "array(['topic_13', 'topic_8', 'topic_11', 'topic_2', 'topic_12',\n",
       "       'topic_17', 'topic_7', 'topic_14', 'topic_5', 'topic_6', 'topic_16',\n",
       "       'topic_3', 'topic_1', 'topic_10', 'topic_4', 'topic_15', 'topic_9',\n",
       "       'topic_18', 'topic_19', 'topic_0'], \n",
       "      dtype='<U8')"
      ]
     },
     "execution_count": 16,
     "metadata": {},
     "output_type": "execute_result"
    }
   ],
   "source": [
    "new_phi0_topic_order"
   ]
  },
  {
   "cell_type": "code",
   "execution_count": 17,
   "metadata": {
    "collapsed": false,
    "deletable": true,
    "editable": true
   },
   "outputs": [
    {
     "data": {
      "text/plain": [
       "array(['topic_49', 'topic_0', 'topic_38', 'topic_55', 'topic_16',\n",
       "       'topic_26', 'topic_18', 'topic_20', 'topic_10', 'topic_34',\n",
       "       'topic_51', 'topic_28', 'topic_14', 'topic_22', 'topic_19',\n",
       "       'topic_25', 'topic_30', 'topic_44', 'topic_23', 'topic_11',\n",
       "       'topic_32', 'topic_54', 'topic_29', 'topic_2', 'topic_5',\n",
       "       'topic_27', 'topic_8', 'topic_47', 'topic_13', 'topic_52',\n",
       "       'topic_40', 'topic_42', 'topic_21', 'topic_24', 'topic_56',\n",
       "       'topic_43', 'topic_12', 'topic_9', 'topic_31', 'topic_37',\n",
       "       'topic_7', 'topic_46', 'topic_4', 'topic_36', 'topic_17', 'topic_3',\n",
       "       'topic_15', 'topic_39', 'topic_59', 'topic_50', 'topic_41',\n",
       "       'topic_6', 'topic_58', 'topic_1', 'topic_45', 'topic_53',\n",
       "       'topic_57', 'topic_35', 'topic_33', 'topic_48'], \n",
       "      dtype='<U8')"
      ]
     },
     "execution_count": 17,
     "metadata": {},
     "output_type": "execute_result"
    }
   ],
   "source": [
    "new_phi1_topic_order"
   ]
  },
  {
   "cell_type": "code",
   "execution_count": 20,
   "metadata": {
    "collapsed": true,
    "deletable": true,
    "editable": true
   },
   "outputs": [],
   "source": [
    "def get_topic_name(lid, tid):\n",
    "    return \", \".join(phis[lid][tid].sort_values()[-3:][::-1].index)"
   ]
  },
  {
   "cell_type": "code",
   "execution_count": 54,
   "metadata": {
    "collapsed": false,
    "deletable": true,
    "editable": true
   },
   "outputs": [
    {
     "name": "stdout",
     "output_type": "stream",
     "text": [
      "topic_17 \tхристианство, средневековье, религия\n",
      "topic_7 \tмедицина, онкология, биомедицина\n",
      "topic_6 \tбиология, генетика, эволюция\n",
      "topic_19 \tправо, юриспруденция, римское_право\n",
      "topic_2 \tфизика, физика_элементарных_частиц, квантовая_физика\n",
      "topic_12 \tсоциология, город, урбанистика\n",
      "topic_18 \tроссия, украина, география\n",
      "topic_8 \tмозг, психология, нейробиология\n",
      "topic_0 \tматематика, кибернетика, логика\n",
      "topic_13 \tкультура, массовая_культура, культурология\n",
      "topic_9 \tэкономика, сша, авторское_право\n",
      "topic_11 \tполитика, государство, политология\n",
      "topic_1 \tтехнологии, искусственный_интеллект, информационные_технологии\n",
      "topic_14 \tобразование, наука, история_науки\n",
      "topic_16 \tфилософия, политическая_философия, древняя_греция\n",
      "topic_4 \tземля, экология, солнечная_система\n",
      "topic_3 \tхимия, нанотехнологии, материаловедение\n",
      "topic_10 \tистория, история_россии, европа\n",
      "topic_5 \tастрономия, астрофизика, вселенная\n",
      "topic_15 \tязык, лингвистика, филология\n"
     ]
    }
   ],
   "source": [
    "print(\"\\n\".join(map(lambda t: t + \" \\t\" + get_topic_name(0, t), new_phi0_topic_order)))"
   ]
  },
  {
   "cell_type": "code",
   "execution_count": 55,
   "metadata": {
    "collapsed": false,
    "deletable": true,
    "editable": true
   },
   "outputs": [
    {
     "name": "stdout",
     "output_type": "stream",
     "text": [
      "topic_0 \tматематика, кибернетика, логика\n",
      "topic_1 \tтехнологии, искусственный_интеллект, информационные_технологии\n",
      "topic_2 \tфизика, физика_элементарных_частиц, квантовая_физика\n",
      "topic_3 \tхимия, нанотехнологии, материаловедение\n",
      "topic_4 \tземля, экология, солнечная_система\n",
      "topic_5 \tастрономия, астрофизика, вселенная\n",
      "topic_6 \tбиология, генетика, эволюция\n",
      "topic_7 \tмедицина, онкология, биомедицина\n",
      "topic_8 \tмозг, психология, нейробиология\n",
      "topic_9 \tэкономика, сша, авторское_право\n",
      "topic_10 \tистория, история_россии, европа\n",
      "topic_11 \tполитика, государство, политология\n",
      "topic_12 \tсоциология, город, урбанистика\n",
      "topic_13 \tкультура, массовая_культура, культурология\n",
      "topic_14 \tобразование, наука, история_науки\n",
      "topic_15 \tязык, лингвистика, филология\n",
      "topic_16 \tфилософия, политическая_философия, древняя_греция\n",
      "topic_17 \tхристианство, средневековье, религия\n",
      "topic_18 \tроссия, украина, география\n",
      "topic_19 \tправо, юриспруденция, римское_право\n"
     ]
    }
   ],
   "source": [
    "print(\"\\n\".join(map(lambda t: t + \" \\t\" + get_topic_name(0, t), phi0_topic_titles)))"
   ]
  },
  {
   "cell_type": "code",
   "execution_count": 25,
   "metadata": {
    "collapsed": true,
    "deletable": true,
    "editable": true
   },
   "outputs": [],
   "source": [
    "phi0_flat_spectrum = np.array(phi0_topic_titles)[arrange_topics(phis[0][phi0_topic_titles].values)]"
   ]
  },
  {
   "cell_type": "code",
   "execution_count": 26,
   "metadata": {
    "collapsed": false,
    "deletable": true,
    "editable": true
   },
   "outputs": [
    {
     "name": "stdout",
     "output_type": "stream",
     "text": [
      "topic_13 \tкультура, литература, массовая_культура\n",
      "topic_15 \tязык, лингвистика, филология\n",
      "topic_19 \tправо, юриспруденция, римское_право\n",
      "topic_17 \tхристианство, религия, китай\n",
      "topic_10 \tистория, история_россии, средневековье\n",
      "topic_18 \tроссия, сша, европа\n",
      "topic_9 \tэкономика, сша, авторское_право\n",
      "topic_11 \tполитика, государство, политология\n",
      "topic_12 \tсоциология, общество, город\n",
      "topic_14 \tобразование, наука, история_науки\n",
      "topic_16 \tфилософия, политическая_философия, история_философии\n",
      "topic_8 \tпсихология, мозг, нейробиология\n",
      "topic_6 \tбиология, эволюция, генетика\n",
      "topic_7 \tмедицина, онкология, биомедицина\n",
      "topic_0 \tматематика, нейронные_сети, искусственный_интеллект\n",
      "topic_1 \tтехнологии, информационные_технологии, интернет\n",
      "topic_3 \tхимия, нанотехнологии, материаловедение\n",
      "topic_2 \tфизика, физика_элементарных_частиц, квантовая_физика\n",
      "topic_5 \tастрономия, астрофизика, вселенная\n",
      "topic_4 \tземля, экология, солнечная_система\n"
     ]
    }
   ],
   "source": [
    "print(\"\\n\".join(map(lambda t: t + \" \\t\" + get_topic_name(0, t), phi0_flat_spectrum)))"
   ]
  },
  {
   "cell_type": "code",
   "execution_count": 22,
   "metadata": {
    "collapsed": true,
    "deletable": true,
    "editable": true
   },
   "outputs": [],
   "source": [
    "# Двухуровневый спектр\n",
    "pickle.dump((new_phi0_topic_order, new_phi1_topic_order, D), open(\"spectrum.dump\", \"wb\"))"
   ]
  },
  {
   "cell_type": "code",
   "execution_count": 27,
   "metadata": {
    "collapsed": true,
    "deletable": true,
    "editable": true
   },
   "outputs": [],
   "source": [
    "# Одноуровневый спектр\n",
    "level_0_topics_ids = list(map(lambda tid: \"level_0_%s\" % tid, phi0_flat_spectrum))\n",
    "artm_extra_info[\"spectrums\"] = [level_0_topics_ids]\n",
    "with open(MODEL_PATH + \"/extra_info.dump\", \"wb\") as fout:\n",
    "    pickle.dump(artm_extra_info, fout)"
   ]
  }
 ],
 "metadata": {
  "kernelspec": {
   "display_name": "Python 3",
   "language": "python",
   "name": "python3"
  },
  "language_info": {
   "codemirror_mode": {
    "name": "ipython",
    "version": 3
   },
   "file_extension": ".py",
   "mimetype": "text/x-python",
   "name": "python",
   "nbconvert_exporter": "python",
   "pygments_lexer": "ipython3",
   "version": "3.5.3"
  },
  "latex_envs": {
   "bibliofile": "biblio.bib",
   "cite_by": "apalike",
   "current_citInitial": 1,
   "eqLabelWithNumbers": true,
   "eqNumInitial": 0
  }
 },
 "nbformat": 4,
 "nbformat_minor": 2
}
