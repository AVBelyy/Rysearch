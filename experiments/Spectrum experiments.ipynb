{
 "cells": [
  {
   "cell_type": "code",
   "execution_count": 1,
   "metadata": {
    "collapsed": true
   },
   "outputs": [],
   "source": [
    "%reload_ext autoreload\n",
    "%autoreload 2"
   ]
  },
  {
   "cell_type": "code",
   "execution_count": 11,
   "metadata": {
    "collapsed": false
   },
   "outputs": [],
   "source": [
    "from parsers import arbitrary, text_utils\n",
    "import artm\n",
    "import hierarchy_utils\n",
    "import pickle\n",
    "from spectrum import arrange_topics\n",
    "#import arranging.api as api\n",
    "from crossmin import CrossMinimizer\n",
    "import numpy as np"
   ]
  },
  {
   "cell_type": "code",
   "execution_count": 2,
   "metadata": {
    "collapsed": true
   },
   "outputs": [
    {
     "name": "stderr",
     "output_type": "stream",
     "text": [
      "/Users/aksholokhov/.anaconda3/lib/python3.6/site-packages/bigartm-0.8.3-py3.6.egg/artm/master_component.py:604: DeprecationWarning: invalid escape sequence \\*\n",
      "/Users/aksholokhov/.anaconda3/lib/python3.6/site-packages/bigartm-0.8.3-py3.6.egg/artm/master_component.py:714: DeprecationWarning: invalid escape sequence \\d\n",
      "/Users/aksholokhov/.anaconda3/lib/python3.6/site-packages/bigartm-0.8.3-py3.6.egg/artm/master_component.py:783: DeprecationWarning: 'async' and 'await' will become reserved keywords in Python 3.7\n"
     ]
    },
    {
     "ename": "NameError",
     "evalue": "name 'pickle' is not defined",
     "output_type": "error",
     "traceback": [
      "\u001b[0;31m---------------------------------------------------------------------------\u001b[0m",
      "\u001b[0;31mNameError\u001b[0m                                 Traceback (most recent call last)",
      "\u001b[0;32m<ipython-input-2-62000a1b1939>\u001b[0m in \u001b[0;36m<module>\u001b[0;34m()\u001b[0m\n\u001b[1;32m     20\u001b[0m \u001b[0martm_model\u001b[0m\u001b[0;34m.\u001b[0m\u001b[0mload\u001b[0m\u001b[0;34m(\u001b[0m\u001b[0mMODEL_PATH\u001b[0m\u001b[0;34m)\u001b[0m\u001b[0;34m\u001b[0m\u001b[0m\n\u001b[1;32m     21\u001b[0m \u001b[0;34m\u001b[0m\u001b[0m\n\u001b[0;32m---> 22\u001b[0;31m \u001b[0martm_extra_info\u001b[0m \u001b[0;34m=\u001b[0m \u001b[0mpickle\u001b[0m\u001b[0;34m.\u001b[0m\u001b[0mload\u001b[0m\u001b[0;34m(\u001b[0m\u001b[0mopen\u001b[0m\u001b[0;34m(\u001b[0m\u001b[0mMODEL_PATH\u001b[0m \u001b[0;34m+\u001b[0m \u001b[0;34m\"/extra_info.dump\"\u001b[0m\u001b[0;34m,\u001b[0m \u001b[0;34m\"rb\"\u001b[0m\u001b[0;34m)\u001b[0m\u001b[0;34m)\u001b[0m\u001b[0;34m\u001b[0m\u001b[0m\n\u001b[0m",
      "\u001b[0;31mNameError\u001b[0m: name 'pickle' is not defined"
     ]
    }
   ],
   "source": [
    "\n",
    "\n",
    "T = lambda lid, tid: \"level_%d_%s\" % (lid, tid)\n",
    "\n",
    "def from_artm_tid(artm_tid):\n",
    "    # This is due to hARTM bug\n",
    "    if artm_tid.startswith(\"level_0_\"):\n",
    "        return (0, artm_tid[8:])\n",
    "    else:\n",
    "        lid, tid = artm_tid[5:].split(\"_\", 1)\n",
    "        lid = int(lid)\n",
    "        return (lid, tid)\n",
    "\n",
    "MODEL_PATH = \"hartm/\"\n",
    "\n",
    "artm_model = hierarchy_utils.hARTM(theta_columns_naming=\"title\",\n",
    "                                   cache_theta=True)\n",
    "artm_model.load(MODEL_PATH)\n"
   ]
  },
  {
   "cell_type": "code",
   "execution_count": 8,
   "metadata": {
    "collapsed": true
   },
   "outputs": [],
   "source": [
    "artm_extra_info = pickle.load(open(MODEL_PATH + \"/extra_info.dump\", \"rb\"))"
   ]
  },
  {
   "cell_type": "code",
   "execution_count": 9,
   "metadata": {
    "collapsed": true
   },
   "outputs": [],
   "source": [
    "# Extract Phi, Psi and Theta matrices\n",
    "phis = []\n",
    "psis = []\n",
    "#theta = artm_extra_info[\"theta\"]\n",
    "# theta = pickle.load(open(THETA_MODEL_PATH, \"rb\"))[\"theta\"]\n",
    "for level_idx, artm_level in enumerate(artm_model._levels):\n",
    "    phis.append(artm_level.get_phi(class_ids=\"flat_tag\"))\n",
    "    if level_idx > 0:\n",
    "        psis.append(artm_level.get_psi())\n",
    "        \n",
    "phi0_topic_titles = list(filter(lambda x: x.startswith(\"topic\"), phis[0].columns))\n",
    "phi1_topic_titles = list(filter(lambda x: x.startswith(\"topic\"), phis[1].columns))"
   ]
  },
  {
   "cell_type": "code",
   "execution_count": 12,
   "metadata": {
    "collapsed": false
   },
   "outputs": [],
   "source": [
    "new_phi1_topic_order = np.array(phi1_topic_titles)[arrange_topics(phis[1][phi1_topic_titles].values)]\n",
    "phis[1] = phis[1][new_phi1_topic_order]\n",
    "psis[0] = psis[0].loc[new_phi1_topic_order]"
   ]
  },
  {
   "cell_type": "code",
   "execution_count": 13,
   "metadata": {
    "collapsed": true
   },
   "outputs": [],
   "source": [
    "children_threshold = 0.05\n",
    "\n",
    "D = np.zeros((len(phi0_topic_titles), len(phi1_topic_titles)))\n",
    "\n",
    "for parent_id, parent in enumerate(phi0_topic_titles):\n",
    "    for child_id, maybe_child in enumerate(phi1_topic_titles):\n",
    "        if psis[0].loc[maybe_child, parent] > children_threshold:\n",
    "            D[parent_id, child_id] = 1"
   ]
  },
  {
   "cell_type": "code",
   "execution_count": 14,
   "metadata": {
    "collapsed": false
   },
   "outputs": [
    {
     "name": "stderr",
     "output_type": "stream",
     "text": [
      "/Users/aksholokhov/.anaconda3/lib/python3.6/site-packages/pulp/solvers.py:71: DeprecationWarning: The SafeConfigParser class has been renamed to ConfigParser in Python 3.2. This alias will be removed in future versions. Use ConfigParser directly instead.\n",
      "  'os':operating_system, 'arch':arch})\n"
     ]
    }
   ],
   "source": [
    "cm = CrossMinimizer(D)\n",
    "idx = cm.solve(mode=\"auto\", model=None)\n",
    "new_phi0_topic_order = np.array(phi1_topic_titles)[idx]"
   ]
  },
  {
   "cell_type": "code",
   "execution_count": 15,
   "metadata": {
    "collapsed": false
   },
   "outputs": [
    {
     "data": {
      "text/plain": [
       "array(['topic_3', 'topic_1', 'topic_7', 'topic_9', 'topic_10', 'topic_12',\n",
       "       'topic_2', 'topic_4', 'topic_13', 'topic_11', 'topic_17',\n",
       "       'topic_16', 'topic_6', 'topic_14', 'topic_18', 'topic_5', 'topic_0',\n",
       "       'topic_15', 'topic_8'], \n",
       "      dtype='<U8')"
      ]
     },
     "execution_count": 15,
     "metadata": {},
     "output_type": "execute_result"
    }
   ],
   "source": [
    "new_phi0_topic_order"
   ]
  },
  {
   "cell_type": "code",
   "execution_count": 16,
   "metadata": {
    "collapsed": false
   },
   "outputs": [
    {
     "data": {
      "text/plain": [
       "array(['topic_58', 'topic_6', 'topic_19', 'topic_36', 'topic_3',\n",
       "       'topic_59', 'topic_30', 'topic_38', 'topic_5', 'topic_49',\n",
       "       'topic_0', 'topic_21', 'topic_50', 'topic_55', 'topic_16',\n",
       "       'topic_2', 'topic_46', 'topic_20', 'topic_56', 'topic_52',\n",
       "       'topic_24', 'topic_53', 'topic_4', 'topic_22', 'topic_34',\n",
       "       'topic_26', 'topic_33', 'topic_42', 'topic_51', 'topic_45',\n",
       "       'topic_18', 'topic_28', 'topic_37', 'topic_40', 'topic_12',\n",
       "       'topic_31', 'topic_7', 'topic_10', 'topic_14', 'topic_1',\n",
       "       'topic_48', 'topic_17', 'topic_23', 'topic_39', 'topic_43',\n",
       "       'topic_8', 'topic_9', 'topic_41', 'topic_44', 'topic_13',\n",
       "       'topic_29', 'topic_15', 'topic_54', 'topic_35', 'topic_32',\n",
       "       'topic_11', 'topic_27', 'topic_57', 'topic_25', 'topic_47'], \n",
       "      dtype='<U8')"
      ]
     },
     "execution_count": 16,
     "metadata": {},
     "output_type": "execute_result"
    }
   ],
   "source": [
    "new_phi1_topic_order"
   ]
  },
  {
   "cell_type": "code",
   "execution_count": 17,
   "metadata": {
    "collapsed": true
   },
   "outputs": [],
   "source": [
    "def get_topic_name(lid, tid):\n",
    "    return \", \".join(phis[lid][tid].sort_values()[-3:][::-1].index)"
   ]
  },
  {
   "cell_type": "code",
   "execution_count": 18,
   "metadata": {
    "collapsed": false
   },
   "outputs": [
    {
     "name": "stdout",
     "output_type": "stream",
     "text": [
      "topic_3 \tкультура, литература, культурология\n",
      "topic_1 \tмедицина, эволюция, антропология\n",
      "topic_7 \tсоциология, социология_повседневности, дюркгейм_эмиль\n",
      "topic_9 \tпсихология, люди_науки, история_науки\n",
      "topic_10 \tпалеонтология, биохимия, стволовые_клетки\n",
      "topic_12 \tнаука, управление_проектами, работа\n",
      "topic_2 \tинформационная_безопасность, копирайт, будущее\n",
      "topic_4 \tистория, история_россии, ссср\n",
      "topic_13 \tхимия, нанотехнологии, материаловедение\n",
      "topic_11 \tфизика, физика_элементарных_частиц, квантовая_физика\n",
      "topic_17 \tэкология, зоология, этология\n",
      "topic_16 \tсредневековье, мифология, биоинформатика\n",
      "topic_6 \tлингвистика, язык, право\n",
      "topic_14 \tобразование, университет, школа\n",
      "topic_18 \tмозг, нейробиология, искусственный_интеллект\n",
      "topic_5 \tастрономия, астрофизика, вселенная\n",
      "topic_0 \tфилософия, россия, география\n",
      "topic_15 \tматематика, информационные_технологии, технологии\n",
      "topic_8 \tобщество, экономика, россия\n"
     ]
    }
   ],
   "source": [
    "print(\"\\n\".join(map(lambda t: t + \" \\t\" + get_topic_name(0, t), new_phi0_topic_order)))"
   ]
  },
  {
   "cell_type": "code",
   "execution_count": 19,
   "metadata": {
    "collapsed": false
   },
   "outputs": [
    {
     "name": "stdout",
     "output_type": "stream",
     "text": [
      "topic_0 \tфилософия, россия, география\n",
      "topic_1 \tмедицина, эволюция, антропология\n",
      "topic_2 \tинформационная_безопасность, копирайт, будущее\n",
      "topic_3 \tкультура, литература, культурология\n",
      "topic_4 \tистория, история_россии, ссср\n",
      "topic_5 \tастрономия, астрофизика, вселенная\n",
      "topic_6 \tлингвистика, язык, право\n",
      "topic_7 \tсоциология, социология_повседневности, дюркгейм_эмиль\n",
      "topic_8 \tобщество, экономика, россия\n",
      "topic_9 \tпсихология, люди_науки, история_науки\n",
      "topic_10 \tпалеонтология, биохимия, стволовые_клетки\n",
      "topic_11 \tфизика, физика_элементарных_частиц, квантовая_физика\n",
      "topic_12 \tнаука, управление_проектами, работа\n",
      "topic_13 \tхимия, нанотехнологии, материаловедение\n",
      "topic_14 \tобразование, университет, школа\n",
      "topic_15 \tматематика, информационные_технологии, технологии\n",
      "topic_16 \tсредневековье, мифология, биоинформатика\n",
      "topic_17 \tэкология, зоология, этология\n",
      "topic_18 \tмозг, нейробиология, искусственный_интеллект\n"
     ]
    }
   ],
   "source": [
    "print(\"\\n\".join(map(lambda t: t + \" \\t\" + get_topic_name(0, t), phi0_topic_titles)))"
   ]
  },
  {
   "cell_type": "code",
   "execution_count": 20,
   "metadata": {
    "collapsed": true
   },
   "outputs": [],
   "source": [
    "phi0_flat_spectrum = np.array(phi0_topic_titles)[arrange_topics(phis[0][phi0_topic_titles].values)]"
   ]
  },
  {
   "cell_type": "code",
   "execution_count": 21,
   "metadata": {
    "collapsed": false
   },
   "outputs": [
    {
     "name": "stdout",
     "output_type": "stream",
     "text": [
      "topic_13 \tхимия, нанотехнологии, материаловедение\n",
      "topic_5 \tастрономия, астрофизика, вселенная\n",
      "topic_11 \tфизика, физика_элементарных_частиц, квантовая_физика\n",
      "topic_15 \tматематика, информационные_технологии, технологии\n",
      "topic_10 \tпалеонтология, биохимия, стволовые_клетки\n",
      "topic_2 \tинформационная_безопасность, копирайт, будущее\n",
      "topic_16 \tсредневековье, мифология, биоинформатика\n",
      "topic_4 \tистория, история_россии, ссср\n",
      "topic_8 \tобщество, экономика, россия\n",
      "topic_0 \tфилософия, россия, география\n",
      "topic_3 \tкультура, литература, культурология\n",
      "topic_6 \tлингвистика, язык, право\n",
      "topic_7 \tсоциология, социология_повседневности, дюркгейм_эмиль\n",
      "topic_12 \tнаука, управление_проектами, работа\n",
      "topic_14 \tобразование, университет, школа\n",
      "topic_9 \tпсихология, люди_науки, история_науки\n",
      "topic_18 \tмозг, нейробиология, искусственный_интеллект\n",
      "topic_17 \tэкология, зоология, этология\n",
      "topic_1 \tмедицина, эволюция, антропология\n"
     ]
    }
   ],
   "source": [
    "print(\"\\n\".join(map(lambda t: t + \" \\t\" + get_topic_name(0, t), phi0_flat_spectrum)))"
   ]
  },
  {
   "cell_type": "code",
   "execution_count": 22,
   "metadata": {
    "collapsed": true
   },
   "outputs": [],
   "source": [
    "# Двухуровневый спектр\n",
    "pickle.dump((new_phi0_topic_order, new_phi1_topic_order, D), open(\"spectrum.dump\", \"wb\"))"
   ]
  },
  {
   "cell_type": "code",
   "execution_count": 23,
   "metadata": {
    "collapsed": true
   },
   "outputs": [],
   "source": [
    "# Одноуровневый спектр\n",
    "level_0_topics_ids = list(map(lambda tid: \"level_0_%s\" % tid, phi0_flat_spectrum))\n",
    "pickle.dump(level_0_topics_ids, open(\"flat_spectrum.dump\", \"wb\"))"
   ]
  }
 ],
 "metadata": {
  "kernelspec": {
   "display_name": "Python 3",
   "language": "python",
   "name": "python3"
  },
  "language_info": {
   "codemirror_mode": {
    "name": "ipython",
    "version": 3
   },
   "file_extension": ".py",
   "mimetype": "text/x-python",
   "name": "python",
   "nbconvert_exporter": "python",
   "pygments_lexer": "ipython3",
   "version": "3.6.0"
  }
 },
 "nbformat": 4,
 "nbformat_minor": 2
}
