{
 "cells": [
  {
   "cell_type": "markdown",
   "metadata": {
    "deletable": true,
    "editable": true
   },
   "source": [
    "## Эксперимент по вливанию коллекции в тематическую модель"
   ]
  },
  {
   "cell_type": "code",
   "execution_count": 4,
   "metadata": {
    "collapsed": true,
    "deletable": true,
    "editable": true
   },
   "outputs": [],
   "source": [
    "import warnings\n",
    "warnings.filterwarnings(\"ignore\", category=DeprecationWarning)"
   ]
  },
  {
   "cell_type": "code",
   "execution_count": 2,
   "metadata": {
    "collapsed": false,
    "deletable": true,
    "editable": true
   },
   "outputs": [],
   "source": [
    "%matplotlib inline\n",
    "import os\n",
    "import sys\n",
    "import glob\n",
    "import json\n",
    "import urllib\n",
    "import pymongo\n",
    "import itertools\n",
    "import numpy as np\n",
    "import pandas as pd\n",
    "import matplotlib.pyplot as plt"
   ]
  },
  {
   "cell_type": "code",
   "execution_count": 5,
   "metadata": {
    "collapsed": false,
    "deletable": true,
    "editable": true
   },
   "outputs": [],
   "source": [
    "import artm\n",
    "import hierarchy_utils"
   ]
  },
  {
   "cell_type": "code",
   "execution_count": 6,
   "metadata": {
    "collapsed": false,
    "deletable": true,
    "editable": true
   },
   "outputs": [],
   "source": [
    "db = pymongo.MongoClient()[\"datasets\"]"
   ]
  },
  {
   "cell_type": "code",
   "execution_count": 7,
   "metadata": {
    "collapsed": true,
    "deletable": true,
    "editable": true
   },
   "outputs": [],
   "source": [
    "prefix_to_col_map = {\"pn\": \"postnauka\", \"habr\": \"habrahabr\"}\n",
    "\n",
    "def get_document(doc_id, with_markdown=False):\n",
    "    fields = {\"_id\": 1, \"title\": 1, \"modalities\": 1}\n",
    "    if with_markdown:\n",
    "        fields[\"markdown\"] = 1\n",
    "    prefix, _ = doc_id.split(\"_\", 1)\n",
    "    col_name = prefix_to_col_map[prefix]\n",
    "    return db[col_name].find_one({\"_id\": doc_id}, fields)"
   ]
  },
  {
   "cell_type": "code",
   "execution_count": 8,
   "metadata": {
    "collapsed": false,
    "deletable": true,
    "editable": true
   },
   "outputs": [],
   "source": [
    "# Шаг 1 -- получение ранжированного списка документов для доливания\n",
    "\n",
    "reduced_dataset = True\n",
    "shuffled_dataset = False\n",
    "\n",
    "docs_ids = list(map(lambda r: r[\"_id\"], db[\"postnauka\"].find({}, {\"_id\": 1})))\n",
    "\n",
    "D_a = len(docs_ids)\n",
    "\n",
    "clf_output = pd.read_csv(\"classifier_output.csv\")\n",
    "clf_output.columns = [\"id\", \"proba\"]\n",
    "clf_output = clf_output.set_index(\"id\")[\"proba\"].sort_values(ascending=False)\n",
    "\n",
    "if reduced_dataset:\n",
    "    reduced_docs_ids = list(map(str.strip, open(\"reduced_habr_docs_ids.txt\")))\n",
    "    clf_output = clf_output.loc[reduced_docs_ids]\n",
    "if shuffled_dataset:\n",
    "    np.random.seed(42)\n",
    "    clf_output = clf_output.sample(frac=1)\n",
    "\n",
    "docs_ids += list(clf_output.index)\n",
    "\n",
    "D_b = len(docs_ids) - D_a"
   ]
  },
  {
   "cell_type": "code",
   "execution_count": 9,
   "metadata": {
    "collapsed": false,
    "deletable": true,
    "editable": true
   },
   "outputs": [
    {
     "data": {
      "text/plain": [
       "(2976, 20000)"
      ]
     },
     "execution_count": 9,
     "metadata": {},
     "output_type": "execute_result"
    }
   ],
   "source": [
    "D_a, D_b"
   ]
  },
  {
   "cell_type": "code",
   "execution_count": 10,
   "metadata": {
    "collapsed": false,
    "deletable": true,
    "editable": true
   },
   "outputs": [],
   "source": [
    "# Шаг 2 -- разбиение списка на батчи для итеративного доливания\n",
    "\n",
    "# Будем пользоваться законом сложного процента: размер i-ого батча будет считаться как размер (i-1)-ого батча + p%.\n",
    "# Тогда количество итераций n, необходимых для вливания коллекции размера D_b в коллекцию размера D_a, удовлетворяет:\n",
    "# D_a * (1 + p)^n = D_a + D_b\n",
    "# n = ln((D_a + D_b) / D_a) / ln(1 + p)\n",
    "\n",
    "p = 0.1\n",
    "batches = [docs_ids[:D_a]]\n",
    "batch_pos = D_a\n",
    "\n",
    "while batch_pos < len(docs_ids):\n",
    "    new_batch_pos = int((1 + p) * batch_pos)\n",
    "    batch = docs_ids[batch_pos:new_batch_pos]\n",
    "    batches.append(batch)\n",
    "    batch_pos = new_batch_pos"
   ]
  },
  {
   "cell_type": "code",
   "execution_count": 11,
   "metadata": {
    "collapsed": false,
    "deletable": true,
    "editable": true
   },
   "outputs": [
    {
     "data": {
      "text/plain": [
       "(23, 22976)"
      ]
     },
     "execution_count": 11,
     "metadata": {},
     "output_type": "execute_result"
    }
   ],
   "source": [
    "len(batches), sum(map(len, batches))"
   ]
  },
  {
   "cell_type": "code",
   "execution_count": 12,
   "metadata": {
    "collapsed": true,
    "deletable": true,
    "editable": true
   },
   "outputs": [],
   "source": [
    "# Параметры ARTM модели\n",
    "\n",
    "# Общий random seed\n",
    "artm_seed = 42\n",
    "\n",
    "# Веса всех модальностей\n",
    "class_ids0 = {\"text\": 1.0, \"flat_tag\": 100.0, \"text_habr\": 1.0, \"flat_tag_habr\": 1.0}\n",
    "class_ids1 = {\"text\": 1.0, \"flat_tag\": 1.0,   \"text_habr\": 1.0, \"flat_tag_habr\": 1.0}"
   ]
  },
  {
   "cell_type": "code",
   "execution_count": 13,
   "metadata": {
    "collapsed": true,
    "deletable": true,
    "editable": true
   },
   "outputs": [],
   "source": [
    "# Параметры алгоритма CollectionMerge\n",
    "\n",
    "modalities_to_use = {\"text\", \"text_habr\", \"flat_tag\", \"flat_tag_habr\"}\n",
    "vw_path = \"batch_vw.txt\"\n",
    "artm_cooc_path = \"merged_cooc.txt\"\n",
    "artm_vocab_path = \"merged_vocab.txt\"\n",
    "artm_batch_path = \"merged_batches/\"\n",
    "tmp_artm_batch_path = \"./\"\n",
    "\n",
    "cooc_window_size = 10\n",
    "ppmi_func = lambda n_uv, n_u, n_v, n: max(0, np.log(n_uv * n / n_u / n_v))"
   ]
  },
  {
   "cell_type": "code",
   "execution_count": 14,
   "metadata": {
    "collapsed": true,
    "deletable": true,
    "editable": true
   },
   "outputs": [],
   "source": [
    "def build_level1(topics_cnt, level0, dictionary, batch_vectorizer, scores_list):\n",
    "    # Названия тем\n",
    "    topic_names1 = [\"topic_%d\" % i for i in range(topics_cnt)]\n",
    "\n",
    "    # Список регуляризаторов\n",
    "    regularizers_list1 = []\n",
    "    regularizers_list1.append(artm.DecorrelatorPhiRegularizer(name=\"DecorrPhiReg1\",\n",
    "                              topic_names=topic_names1, tau=50000))\n",
    "\n",
    "    # Создадим ARTM модель (второй уровень)\n",
    "    level1 = hierarchy_utils.ARTM_Level(level0, phi_batch_weight=10.0**3, \n",
    "                                        topic_names=topic_names1,\n",
    "                                        class_ids=class_ids1,\n",
    "                                        regularizers=regularizers_list1,\n",
    "                                        scores=scores_list,\n",
    "                                        num_document_passes=1, \n",
    "                                        seed=artm_seed)\n",
    "    level1.initialize(dictionary=dictionary)\n",
    "\n",
    "    # Обучим модель второго уровня\n",
    "    # TODO: подобрать количество итераций\n",
    "    level1.fit_offline(batch_vectorizer, num_collection_passes=2)\n",
    "\n",
    "    # Итеративное разреживание детей тем 0 уровня\n",
    "    threshold = 0.05\n",
    "    psi1 = level1.get_psi()\n",
    "    for tau in np.arange(0.1, 0.6, 0.1):\n",
    "        child_topics = []\n",
    "        for t in range(len(level0.topic_names)):\n",
    "            child_topics.append([])\n",
    "            for s, topic_name1 in enumerate(level1.topic_names):\n",
    "                if psi1.values[s, t] > threshold:\n",
    "                    child_topics[t].append(topic_name1)\n",
    "        # Разреживание детей каждой темы 0 уровня между собой\n",
    "        for i in range(len(level0.topic_names)):\n",
    "            topics_list = child_topics[i]\n",
    "            level1.regularizers.add(artm.SmoothSparseThetaRegularizer(\n",
    "                                    name=\"SPThetaReg_%d\" % i,\n",
    "                                    topic_names=topics_list, \n",
    "                                    tau=-tau * len(topics_list) ** 3), overwrite=True)\n",
    "        # Дообучим модель второго уровня\n",
    "        # TODO: подобрать количество итераций\n",
    "        level1.fit_offline(batch_vectorizer, num_collection_passes=1)\n",
    "\n",
    "    coherence = level1.score_tracker[\"Top10Tokens\"].average_coherence[-1]\n",
    "    return level1, coherence"
   ]
  },
  {
   "cell_type": "code",
   "execution_count": 69,
   "metadata": {
    "collapsed": false,
    "deletable": true,
    "editable": true
   },
   "outputs": [
    {
     "name": "stdout",
     "output_type": "stream",
     "text": [
      "Level 0 coherence: 0.978299, t=10\n",
      "Level 0 coherence: 0.888031, t=20\n",
      "Level 0 coherence: 0.890127, t=30\n",
      "Level 0 coherence: 0.898090, t=40\n",
      "Level 0 coherence: 0.917293, t=50\n",
      "Level 0 coherence: 0.893182, t=60\n",
      "Level 0 coherence: 0.875464, t=70\n",
      "Level 0 coherence: 0.859857, t=80\n",
      "Level 0 coherence: 0.852484, t=90\n",
      "Level 0 coherence: 0.865805, t=100\n",
      "Level 0 coherence: 0.852112, t=110\n",
      "Level 0 coherence: 0.845641, t=120\n",
      "Level 0 coherence: 0.831554, t=130\n",
      "Level 0 coherence: 0.840733, t=140\n",
      "Level 0 coherence: 0.828020, t=150\n",
      "Level 0 coherence: 0.815448, t=160\n",
      "Level 0 coherence: 0.814038, t=170\n",
      "Level 0 coherence: 0.831102, t=180\n",
      "Level 0 coherence: 0.818743, t=190\n",
      "Level 0 coherence: 0.810326, t=200\n"
     ]
    },
    {
     "name": "stderr",
     "output_type": "stream",
     "text": [
      "Exception ignored in: <generator object __iter__ at 0x7ff0c5ab30a0>\n",
      "Traceback (most recent call last):\n",
      "  File \"/home/anton/ML-Env/.py3/lib/python3.5/site-packages/tqdm/_tqdm_notebook.py\", line 194, in __iter__\n",
      "    self.sp(bar_style='danger')\n",
      "AttributeError: 'tqdm_notebook' object has no attribute 'sp'\n"
     ]
    },
    {
     "ename": "KeyboardInterrupt",
     "evalue": "",
     "output_type": "error",
     "traceback": [
      "\u001b[0;31m---------------------------------------------------------------------------\u001b[0m",
      "\u001b[0;31mKeyboardInterrupt\u001b[0m                         Traceback (most recent call last)",
      "\u001b[0;32m<ipython-input-69-00ee15d01480>\u001b[0m in \u001b[0;36m<module>\u001b[0;34m()\u001b[0m\n\u001b[0;32m----> 1\u001b[0;31m \u001b[0mget_ipython\u001b[0m\u001b[0;34m(\u001b[0m\u001b[0;34m)\u001b[0m\u001b[0;34m.\u001b[0m\u001b[0mrun_cell_magic\u001b[0m\u001b[0;34m(\u001b[0m\u001b[0;34m'time'\u001b[0m\u001b[0;34m,\u001b[0m \u001b[0;34m''\u001b[0m\u001b[0;34m,\u001b[0m \u001b[0;34m'\\nmax_batch_size = max(map(len, batches))\\n\\nvocab_set = set()\\nprev_phi = None\\n\\nall_chars = list(map(chr, range(ord(\\'a\\'), ord(\\'z\\') + 1)))\\nartm_batch_names_iter = itertools.product(*([all_chars] * 6))\\nbatch_names = [\"\".join(next(artm_batch_names_iter)) for i in range(len(batches))]\\n\\n# Удалим содержимое директории с ARTM батчами\\nfor fname in glob.glob(artm_batch_path + \"/*\"):\\n    os.remove(fname)\\n\\n# Создадим файлы с ARTM vocabulary\\nopen(artm_vocab_path, \"w\").close()\\n\\nfor batch_name, batch in zip(batch_names, batches):\\n    batch_vocab = []\\n\\n    # Запишем документы, словарь и cooc-словарь из батча в файлы\\n    with open(vw_path, \"w\") as vw_f, open(artm_vocab_path, \"a\") as vocab_f:\\n        for doc in map(get_document, batch):\\n            doc_id = doc[\"_id\"]\\n            modalities_str = []\\n            for mod_name, mod in doc[\"modalities\"].items():\\n                if mod_name in modalities_to_use:\\n                    modalities_str.append(\"|%s %s\" % (mod_name, \" \".join(mod)))\\n                    for token in mod:\\n                        token = token.replace(\" \", \"_\")\\n                        vocab_entry = (token, mod_name)\\n                        if vocab_entry not in vocab_set:\\n                            vocab_set.add(vocab_entry)\\n                            batch_vocab.append(vocab_entry)\\n            vw_f.write(\"%s %s\\\\n\" % (doc_id, \" \".join(modalities_str)))\\n        for vocab_entry in batch_vocab:\\n            vocab_f.write(\"%s %s\\\\n\" % vocab_entry)\\n\\n    # Создадим ARTM батч по нашему батчу\\n    tmp_batch_vectorizer = artm.BatchVectorizer(data_format=\"vowpal_wabbit\", data_path=vw_path,\\n                                                batch_size=max_batch_size, target_folder=tmp_artm_batch_path,\\n                                                gather_dictionary=False)\\n    # Хак: переименуем ARTM батч во временное имя,\\n    # чтобы не мешать созданию других ARTM батчей\\n    os.rename(\"%s/aaaaaa.batch\" % tmp_artm_batch_path,\\n              \"%s/%s.batch\"     % (artm_batch_path, batch_name))\\n    \\n    # Создадим ARTM dictionary\\n    dictionary = artm.Dictionary(\"dictionary\")\\n    dictionary.gather(artm_batch_path, vocab_file_path=artm_vocab_path,\\n                      cooc_file_path=artm_cooc_path, symmetric_cooc_values=True)\\n\\n    # Загрузим созданные на данный момент ARTM батчи\\n    batch_vectorizer = artm.BatchVectorizer(data_format=\"batches\", data_path=artm_batch_path,\\n                                            gather_dictionary=False)\\n\\n    # Метрики качества\\n    scores_list = []\\n    scores_list.append(artm.PerplexityScore(name=\"PerplexityScore\", class_ids=[\"text\"]))\\n    scores_list.append(artm.TopTokensScore(name=\"Top10Tokens\", class_id=\"text\", num_tokens=10,\\n                                           dictionary=dictionary))\\n\\n    for t in range(10, 401, 10):\\n        # Названия тем\\n        norm_topic_names = [\"topic_%d\" % i for i in range(0, t)]\\n        background_names = [\"background_%d\" % i for i in range(0, 1)]\\n        topic_names0 = norm_topic_names + background_names\\n\\n        # Регуляризаторы\\n        regularizers_list0 = []\\n        regularizers_list0.append(artm.DecorrelatorPhiRegularizer(name=\"DecorrPhiReg\",\\n                                                                  topic_names=norm_topic_names,\\n                                                                  tau=100000))\\n        regularizers_list0.append(artm.SmoothSparseThetaRegularizer(name=\"SPPhiTagRegBackground\",\\n                                                                   topic_names=background_names,\\n                                                                   tau=100))\\n\\n        level0 = artm.ARTM(topic_names=topic_names0, class_ids=class_ids0,\\n                           regularizers=regularizers_list0, scores=scores_list,\\n                           cache_theta=False, theta_columns_naming=\"title\",\\n                           seed=artm_seed)\\n        level0.initialize(dictionary=dictionary)\\n    \\n        # Инициализиуем матрицу Фи значениями с предыдущей итерации\\n        if prev_phi is not None:\\n            meta_info, phi_ref = level0.master.attach_model(level0.model_pwt)\\n            print(prev_phi.shape, phi_ref.shape)\\n            for i, j in itertools.product(*map(range, prev_phi.shape)):\\n                phi_ref[i, j] = prev_phi[i, j]\\n\\n        # Обучим модель первого уровня\\n        # TODO: подобрать количество итераций\\n        level0.fit_offline(batch_vectorizer, num_collection_passes=3)\\n        coherence = level0.score_tracker[\"Top10Tokens\"].average_coherence[-1]\\n        print(\"Level 0 coherence: %.6f, t=%d\" % (coherence, t))\\n\\n    # Сохраним матрицу Фи с текущей итерации\\n    prev_phi = level0.get_phi().values\\n    break'\u001b[0m\u001b[0;34m)\u001b[0m\u001b[0;34m\u001b[0m\u001b[0m\n\u001b[0m",
      "\u001b[0;32m/nix/store/ii1ni95z65zip6yfzvb0km4a59ihdn04-python3.5-ipython-5.3.0/lib/python3.5/site-packages/IPython/core/interactiveshell.py\u001b[0m in \u001b[0;36mrun_cell_magic\u001b[0;34m(self, magic_name, line, cell)\u001b[0m\n\u001b[1;32m   2113\u001b[0m             \u001b[0mmagic_arg_s\u001b[0m \u001b[0;34m=\u001b[0m \u001b[0mself\u001b[0m\u001b[0;34m.\u001b[0m\u001b[0mvar_expand\u001b[0m\u001b[0;34m(\u001b[0m\u001b[0mline\u001b[0m\u001b[0;34m,\u001b[0m \u001b[0mstack_depth\u001b[0m\u001b[0;34m)\u001b[0m\u001b[0;34m\u001b[0m\u001b[0m\n\u001b[1;32m   2114\u001b[0m             \u001b[0;32mwith\u001b[0m \u001b[0mself\u001b[0m\u001b[0;34m.\u001b[0m\u001b[0mbuiltin_trap\u001b[0m\u001b[0;34m:\u001b[0m\u001b[0;34m\u001b[0m\u001b[0m\n\u001b[0;32m-> 2115\u001b[0;31m                 \u001b[0mresult\u001b[0m \u001b[0;34m=\u001b[0m \u001b[0mfn\u001b[0m\u001b[0;34m(\u001b[0m\u001b[0mmagic_arg_s\u001b[0m\u001b[0;34m,\u001b[0m \u001b[0mcell\u001b[0m\u001b[0;34m)\u001b[0m\u001b[0;34m\u001b[0m\u001b[0m\n\u001b[0m\u001b[1;32m   2116\u001b[0m             \u001b[0;32mreturn\u001b[0m \u001b[0mresult\u001b[0m\u001b[0;34m\u001b[0m\u001b[0m\n\u001b[1;32m   2117\u001b[0m \u001b[0;34m\u001b[0m\u001b[0m\n",
      "\u001b[0;32m<decorator-gen-59>\u001b[0m in \u001b[0;36mtime\u001b[0;34m(self, line, cell, local_ns)\u001b[0m\n",
      "\u001b[0;32m/nix/store/ii1ni95z65zip6yfzvb0km4a59ihdn04-python3.5-ipython-5.3.0/lib/python3.5/site-packages/IPython/core/magic.py\u001b[0m in \u001b[0;36m<lambda>\u001b[0;34m(f, *a, **k)\u001b[0m\n\u001b[1;32m    186\u001b[0m     \u001b[0;31m# but it's overkill for just that one bit of state.\u001b[0m\u001b[0;34m\u001b[0m\u001b[0;34m\u001b[0m\u001b[0m\n\u001b[1;32m    187\u001b[0m     \u001b[0;32mdef\u001b[0m \u001b[0mmagic_deco\u001b[0m\u001b[0;34m(\u001b[0m\u001b[0marg\u001b[0m\u001b[0;34m)\u001b[0m\u001b[0;34m:\u001b[0m\u001b[0;34m\u001b[0m\u001b[0m\n\u001b[0;32m--> 188\u001b[0;31m         \u001b[0mcall\u001b[0m \u001b[0;34m=\u001b[0m \u001b[0;32mlambda\u001b[0m \u001b[0mf\u001b[0m\u001b[0;34m,\u001b[0m \u001b[0;34m*\u001b[0m\u001b[0ma\u001b[0m\u001b[0;34m,\u001b[0m \u001b[0;34m**\u001b[0m\u001b[0mk\u001b[0m\u001b[0;34m:\u001b[0m \u001b[0mf\u001b[0m\u001b[0;34m(\u001b[0m\u001b[0;34m*\u001b[0m\u001b[0ma\u001b[0m\u001b[0;34m,\u001b[0m \u001b[0;34m**\u001b[0m\u001b[0mk\u001b[0m\u001b[0;34m)\u001b[0m\u001b[0;34m\u001b[0m\u001b[0m\n\u001b[0m\u001b[1;32m    189\u001b[0m \u001b[0;34m\u001b[0m\u001b[0m\n\u001b[1;32m    190\u001b[0m         \u001b[0;32mif\u001b[0m \u001b[0mcallable\u001b[0m\u001b[0;34m(\u001b[0m\u001b[0marg\u001b[0m\u001b[0;34m)\u001b[0m\u001b[0;34m:\u001b[0m\u001b[0;34m\u001b[0m\u001b[0m\n",
      "\u001b[0;32m/nix/store/ii1ni95z65zip6yfzvb0km4a59ihdn04-python3.5-ipython-5.3.0/lib/python3.5/site-packages/IPython/core/magics/execution.py\u001b[0m in \u001b[0;36mtime\u001b[0;34m(self, line, cell, local_ns)\u001b[0m\n\u001b[1;32m   1183\u001b[0m         \u001b[0;32melse\u001b[0m\u001b[0;34m:\u001b[0m\u001b[0;34m\u001b[0m\u001b[0m\n\u001b[1;32m   1184\u001b[0m             \u001b[0mst\u001b[0m \u001b[0;34m=\u001b[0m \u001b[0mclock2\u001b[0m\u001b[0;34m(\u001b[0m\u001b[0;34m)\u001b[0m\u001b[0;34m\u001b[0m\u001b[0m\n\u001b[0;32m-> 1185\u001b[0;31m             \u001b[0mexec\u001b[0m\u001b[0;34m(\u001b[0m\u001b[0mcode\u001b[0m\u001b[0;34m,\u001b[0m \u001b[0mglob\u001b[0m\u001b[0;34m,\u001b[0m \u001b[0mlocal_ns\u001b[0m\u001b[0;34m)\u001b[0m\u001b[0;34m\u001b[0m\u001b[0m\n\u001b[0m\u001b[1;32m   1186\u001b[0m             \u001b[0mend\u001b[0m \u001b[0;34m=\u001b[0m \u001b[0mclock2\u001b[0m\u001b[0;34m(\u001b[0m\u001b[0;34m)\u001b[0m\u001b[0;34m\u001b[0m\u001b[0m\n\u001b[1;32m   1187\u001b[0m             \u001b[0mout\u001b[0m \u001b[0;34m=\u001b[0m \u001b[0;32mNone\u001b[0m\u001b[0;34m\u001b[0m\u001b[0m\n",
      "\u001b[0;32m<timed exec>\u001b[0m in \u001b[0;36m<module>\u001b[0;34m()\u001b[0m\n",
      "\u001b[0;32m/nix/store/r19g3kqd961pldsda2rawx7i45k9m802-python3.5-bigartm/lib/python3.5/site-packages/artm/artm_model.py\u001b[0m in \u001b[0;36mfit_offline\u001b[0;34m(self, batch_vectorizer, num_collection_passes)\u001b[0m\n\u001b[1;32m    502\u001b[0m                     self._pool.apply_async(func=self.master.fit_offline,\n\u001b[1;32m    503\u001b[0m                                            args=(batches_list, batch_vectorizer.weights, 1, None)),\n\u001b[0;32m--> 504\u001b[0;31m                     len(batches_list))\n\u001b[0m\u001b[1;32m    505\u001b[0m \u001b[0;34m\u001b[0m\u001b[0m\n\u001b[1;32m    506\u001b[0m                 \u001b[0;32mfor\u001b[0m \u001b[0mname\u001b[0m \u001b[0;32min\u001b[0m \u001b[0mself\u001b[0m\u001b[0;34m.\u001b[0m\u001b[0mscores\u001b[0m\u001b[0;34m.\u001b[0m\u001b[0mdata\u001b[0m\u001b[0;34m.\u001b[0m\u001b[0mkeys\u001b[0m\u001b[0;34m(\u001b[0m\u001b[0;34m)\u001b[0m\u001b[0;34m:\u001b[0m\u001b[0;34m\u001b[0m\u001b[0m\n",
      "\u001b[0;32m/nix/store/r19g3kqd961pldsda2rawx7i45k9m802-python3.5-bigartm/lib/python3.5/site-packages/artm/artm_model.py\u001b[0m in \u001b[0;36m_wait_for_batches_processed\u001b[0;34m(self, async_result, num_batches)\u001b[0m\n\u001b[1;32m    464\u001b[0m                 \u001b[0mprevious_num_batches\u001b[0m \u001b[0;34m=\u001b[0m \u001b[0;36m0\u001b[0m\u001b[0;34m\u001b[0m\u001b[0m\n\u001b[1;32m    465\u001b[0m                 \u001b[0;32mwhile\u001b[0m \u001b[0;32mnot\u001b[0m \u001b[0masync_result\u001b[0m\u001b[0;34m.\u001b[0m\u001b[0mready\u001b[0m\u001b[0;34m(\u001b[0m\u001b[0;34m)\u001b[0m\u001b[0;34m:\u001b[0m\u001b[0;34m\u001b[0m\u001b[0m\n\u001b[0;32m--> 466\u001b[0;31m                     \u001b[0masync_result\u001b[0m\u001b[0;34m.\u001b[0m\u001b[0mwait\u001b[0m\u001b[0;34m(\u001b[0m\u001b[0;36m1\u001b[0m\u001b[0;34m)\u001b[0m\u001b[0;34m\u001b[0m\u001b[0m\n\u001b[0m\u001b[1;32m    467\u001b[0m                     current_num_batches = self.master.get_score(\n\u001b[1;32m    468\u001b[0m                         score_name='^^^ItemsProcessedScore^^^').num_batches\n",
      "\u001b[0;32m/nix/store/76rgpkm1jqgqwz4bjnk8y37z29q82zgy-python3-3.5.3/lib/python3.5/multiprocessing/pool.py\u001b[0m in \u001b[0;36mwait\u001b[0;34m(self, timeout)\u001b[0m\n\u001b[1;32m    597\u001b[0m \u001b[0;34m\u001b[0m\u001b[0m\n\u001b[1;32m    598\u001b[0m     \u001b[0;32mdef\u001b[0m \u001b[0mwait\u001b[0m\u001b[0;34m(\u001b[0m\u001b[0mself\u001b[0m\u001b[0;34m,\u001b[0m \u001b[0mtimeout\u001b[0m\u001b[0;34m=\u001b[0m\u001b[0;32mNone\u001b[0m\u001b[0;34m)\u001b[0m\u001b[0;34m:\u001b[0m\u001b[0;34m\u001b[0m\u001b[0m\n\u001b[0;32m--> 599\u001b[0;31m         \u001b[0mself\u001b[0m\u001b[0;34m.\u001b[0m\u001b[0m_event\u001b[0m\u001b[0;34m.\u001b[0m\u001b[0mwait\u001b[0m\u001b[0;34m(\u001b[0m\u001b[0mtimeout\u001b[0m\u001b[0;34m)\u001b[0m\u001b[0;34m\u001b[0m\u001b[0m\n\u001b[0m\u001b[1;32m    600\u001b[0m \u001b[0;34m\u001b[0m\u001b[0m\n\u001b[1;32m    601\u001b[0m     \u001b[0;32mdef\u001b[0m \u001b[0mget\u001b[0m\u001b[0;34m(\u001b[0m\u001b[0mself\u001b[0m\u001b[0;34m,\u001b[0m \u001b[0mtimeout\u001b[0m\u001b[0;34m=\u001b[0m\u001b[0;32mNone\u001b[0m\u001b[0;34m)\u001b[0m\u001b[0;34m:\u001b[0m\u001b[0;34m\u001b[0m\u001b[0m\n",
      "\u001b[0;32m/nix/store/76rgpkm1jqgqwz4bjnk8y37z29q82zgy-python3-3.5.3/lib/python3.5/threading.py\u001b[0m in \u001b[0;36mwait\u001b[0;34m(self, timeout)\u001b[0m\n\u001b[1;32m    547\u001b[0m             \u001b[0msignaled\u001b[0m \u001b[0;34m=\u001b[0m \u001b[0mself\u001b[0m\u001b[0;34m.\u001b[0m\u001b[0m_flag\u001b[0m\u001b[0;34m\u001b[0m\u001b[0m\n\u001b[1;32m    548\u001b[0m             \u001b[0;32mif\u001b[0m \u001b[0;32mnot\u001b[0m \u001b[0msignaled\u001b[0m\u001b[0;34m:\u001b[0m\u001b[0;34m\u001b[0m\u001b[0m\n\u001b[0;32m--> 549\u001b[0;31m                 \u001b[0msignaled\u001b[0m \u001b[0;34m=\u001b[0m \u001b[0mself\u001b[0m\u001b[0;34m.\u001b[0m\u001b[0m_cond\u001b[0m\u001b[0;34m.\u001b[0m\u001b[0mwait\u001b[0m\u001b[0;34m(\u001b[0m\u001b[0mtimeout\u001b[0m\u001b[0;34m)\u001b[0m\u001b[0;34m\u001b[0m\u001b[0m\n\u001b[0m\u001b[1;32m    550\u001b[0m             \u001b[0;32mreturn\u001b[0m \u001b[0msignaled\u001b[0m\u001b[0;34m\u001b[0m\u001b[0m\n\u001b[1;32m    551\u001b[0m \u001b[0;34m\u001b[0m\u001b[0m\n",
      "\u001b[0;32m/nix/store/76rgpkm1jqgqwz4bjnk8y37z29q82zgy-python3-3.5.3/lib/python3.5/threading.py\u001b[0m in \u001b[0;36mwait\u001b[0;34m(self, timeout)\u001b[0m\n\u001b[1;32m    295\u001b[0m             \u001b[0;32melse\u001b[0m\u001b[0;34m:\u001b[0m\u001b[0;34m\u001b[0m\u001b[0m\n\u001b[1;32m    296\u001b[0m                 \u001b[0;32mif\u001b[0m \u001b[0mtimeout\u001b[0m \u001b[0;34m>\u001b[0m \u001b[0;36m0\u001b[0m\u001b[0;34m:\u001b[0m\u001b[0;34m\u001b[0m\u001b[0m\n\u001b[0;32m--> 297\u001b[0;31m                     \u001b[0mgotit\u001b[0m \u001b[0;34m=\u001b[0m \u001b[0mwaiter\u001b[0m\u001b[0;34m.\u001b[0m\u001b[0macquire\u001b[0m\u001b[0;34m(\u001b[0m\u001b[0;32mTrue\u001b[0m\u001b[0;34m,\u001b[0m \u001b[0mtimeout\u001b[0m\u001b[0;34m)\u001b[0m\u001b[0;34m\u001b[0m\u001b[0m\n\u001b[0m\u001b[1;32m    298\u001b[0m                 \u001b[0;32melse\u001b[0m\u001b[0;34m:\u001b[0m\u001b[0;34m\u001b[0m\u001b[0m\n\u001b[1;32m    299\u001b[0m                     \u001b[0mgotit\u001b[0m \u001b[0;34m=\u001b[0m \u001b[0mwaiter\u001b[0m\u001b[0;34m.\u001b[0m\u001b[0macquire\u001b[0m\u001b[0;34m(\u001b[0m\u001b[0;32mFalse\u001b[0m\u001b[0;34m)\u001b[0m\u001b[0;34m\u001b[0m\u001b[0m\n",
      "\u001b[0;31mKeyboardInterrupt\u001b[0m: "
     ]
    }
   ],
   "source": [
    "%%time\n",
    "\n",
    "max_batch_size = max(map(len, batches))\n",
    "\n",
    "vocab_set = set()\n",
    "prev_phi = None\n",
    "\n",
    "all_chars = list(map(chr, range(ord('a'), ord('z') + 1)))\n",
    "artm_batch_names_iter = itertools.product(*([all_chars] * 6))\n",
    "batch_names = [\"\".join(next(artm_batch_names_iter)) for i in range(len(batches))]\n",
    "\n",
    "# Удалим содержимое директории с ARTM батчами\n",
    "for fname in glob.glob(artm_batch_path + \"/*\"):\n",
    "    os.remove(fname)\n",
    "\n",
    "# Создадим файлы с ARTM vocabulary\n",
    "open(artm_vocab_path, \"w\").close()\n",
    "\n",
    "for batch_name, batch in zip(batch_names, batches):\n",
    "    batch_vocab = []\n",
    "\n",
    "    # Запишем документы, словарь и cooc-словарь из батча в файлы\n",
    "    with open(vw_path, \"w\") as vw_f, open(artm_vocab_path, \"a\") as vocab_f:\n",
    "        for doc in map(get_document, batch):\n",
    "            doc_id = doc[\"_id\"]\n",
    "            modalities_str = []\n",
    "            for mod_name, mod in doc[\"modalities\"].items():\n",
    "                if mod_name in modalities_to_use:\n",
    "                    modalities_str.append(\"|%s %s\" % (mod_name, \" \".join(mod)))\n",
    "                    for token in mod:\n",
    "                        token = token.replace(\" \", \"_\")\n",
    "                        vocab_entry = (token, mod_name)\n",
    "                        if vocab_entry not in vocab_set:\n",
    "                            vocab_set.add(vocab_entry)\n",
    "                            batch_vocab.append(vocab_entry)\n",
    "            vw_f.write(\"%s %s\\n\" % (doc_id, \" \".join(modalities_str)))\n",
    "        for vocab_entry in batch_vocab:\n",
    "            vocab_f.write(\"%s %s\\n\" % vocab_entry)\n",
    "\n",
    "    # Создадим ARTM батч по нашему батчу\n",
    "    tmp_batch_vectorizer = artm.BatchVectorizer(data_format=\"vowpal_wabbit\", data_path=vw_path,\n",
    "                                                batch_size=max_batch_size, target_folder=tmp_artm_batch_path,\n",
    "                                                gather_dictionary=False)\n",
    "    # Хак: переименуем ARTM батч во временное имя,\n",
    "    # чтобы не мешать созданию других ARTM батчей\n",
    "    os.rename(\"%s/aaaaaa.batch\" % tmp_artm_batch_path,\n",
    "              \"%s/%s.batch\"     % (artm_batch_path, batch_name))\n",
    "    \n",
    "    # Создадим ARTM dictionary\n",
    "    dictionary = artm.Dictionary(\"dictionary\")\n",
    "    dictionary.gather(artm_batch_path, vocab_file_path=artm_vocab_path,\n",
    "                      cooc_file_path=artm_cooc_path, symmetric_cooc_values=True)\n",
    "\n",
    "    # Загрузим созданные на данный момент ARTM батчи\n",
    "    batch_vectorizer = artm.BatchVectorizer(data_format=\"batches\", data_path=artm_batch_path,\n",
    "                                            gather_dictionary=False)\n",
    "\n",
    "    # Метрики качества\n",
    "    scores_list = []\n",
    "    scores_list.append(artm.PerplexityScore(name=\"PerplexityScore\", class_ids=[\"text\"]))\n",
    "    scores_list.append(artm.TopTokensScore(name=\"Top10Tokens\", class_id=\"text\", num_tokens=10,\n",
    "                                           dictionary=dictionary))\n",
    "\n",
    "    for t in range(10, 401, 10):\n",
    "        # Названия тем\n",
    "        norm_topic_names = [\"topic_%d\" % i for i in range(0, t)]\n",
    "        background_names = [\"background_%d\" % i for i in range(0, 1)]\n",
    "        topic_names0 = norm_topic_names + background_names\n",
    "\n",
    "        # Регуляризаторы\n",
    "        regularizers_list0 = []\n",
    "        regularizers_list0.append(artm.DecorrelatorPhiRegularizer(name=\"DecorrPhiReg\",\n",
    "                                                                  topic_names=norm_topic_names,\n",
    "                                                                  tau=100000))\n",
    "        regularizers_list0.append(artm.SmoothSparseThetaRegularizer(name=\"SPPhiTagRegBackground\",\n",
    "                                                                   topic_names=background_names,\n",
    "                                                                   tau=100))\n",
    "\n",
    "        level0 = artm.ARTM(topic_names=topic_names0, class_ids=class_ids0,\n",
    "                           regularizers=regularizers_list0, scores=scores_list,\n",
    "                           cache_theta=False, theta_columns_naming=\"title\",\n",
    "                           seed=artm_seed)\n",
    "        level0.initialize(dictionary=dictionary)\n",
    "    \n",
    "        # Инициализиуем матрицу Фи значениями с предыдущей итерации\n",
    "        if prev_phi is not None:\n",
    "            meta_info, phi_ref = level0.master.attach_model(level0.model_pwt)\n",
    "            print(prev_phi.shape, phi_ref.shape)\n",
    "            for i, j in itertools.product(*map(range, prev_phi.shape)):\n",
    "                phi_ref[i, j] = prev_phi[i, j]\n",
    "\n",
    "        # Обучим модель первого уровня\n",
    "        # TODO: подобрать количество итераций\n",
    "        level0.fit_offline(batch_vectorizer, num_collection_passes=3)\n",
    "        coherence = level0.score_tracker[\"Top10Tokens\"].average_coherence[-1]\n",
    "        print(\"Level 0 coherence: %.6f, t=%d\" % (coherence, t))\n",
    "\n",
    "    # Сохраним матрицу Фи с текущей итерации\n",
    "    prev_phi = level0.get_phi().values\n",
    "    break"
   ]
  },
  {
   "cell_type": "code",
   "execution_count": 70,
   "metadata": {
    "collapsed": false,
    "deletable": true,
    "editable": true
   },
   "outputs": [],
   "source": [
    "s = \"\"\"Level 0 coherence: 0.978299, t=10\n",
    "Level 0 coherence: 0.888031, t=20\n",
    "Level 0 coherence: 0.890127, t=30\n",
    "Level 0 coherence: 0.898090, t=40\n",
    "Level 0 coherence: 0.917293, t=50\n",
    "Level 0 coherence: 0.893182, t=60\n",
    "Level 0 coherence: 0.875464, t=70\n",
    "Level 0 coherence: 0.859857, t=80\n",
    "Level 0 coherence: 0.852484, t=90\n",
    "Level 0 coherence: 0.865805, t=100\n",
    "Level 0 coherence: 0.852112, t=110\n",
    "Level 0 coherence: 0.845641, t=120\n",
    "Level 0 coherence: 0.831554, t=130\n",
    "Level 0 coherence: 0.840733, t=140\n",
    "Level 0 coherence: 0.828020, t=150\n",
    "Level 0 coherence: 0.815448, t=160\n",
    "Level 0 coherence: 0.814038, t=170\n",
    "Level 0 coherence: 0.831102, t=180\n",
    "Level 0 coherence: 0.818743, t=190\n",
    "Level 0 coherence: 0.810326, t=200\"\"\"\n",
    "\n",
    "ys, xs = zip(*map(lambda r: tuple(map(float, r.split(\": \", 1)[1].split(\", t=\"))), s.split(\"\\n\")))"
   ]
  },
  {
   "cell_type": "code",
   "execution_count": 71,
   "metadata": {
    "collapsed": false,
    "deletable": true,
    "editable": true
   },
   "outputs": [
    {
     "data": {
      "text/plain": [
       "[<matplotlib.lines.Line2D at 0x7ff096645668>]"
      ]
     },
     "execution_count": 71,
     "metadata": {},
     "output_type": "execute_result"
    },
    {
     "data": {
      "image/png": "[encoded data removed]",
      "text/plain": [
       "<matplotlib.figure.Figure at 0x7ff0a54b8a90>"
      ]
     },
     "metadata": {},
     "output_type": "display_data"
    }
   ],
   "source": [
    "plt.plot(xs, ys)"
   ]
  },
  {
   "cell_type": "markdown",
   "metadata": {
    "deletable": true,
    "editable": true
   },
   "source": [
    "```\n",
    "top-10 tokens\n",
    "Level 0 coherence: 0.862778, t=10\n",
    "Level 0 coherence: 1.159598, t=20\n",
    "Level 0 coherence: 1.267626, t=30\n",
    "Level 0 coherence: 1.468547, t=40\n",
    "Level 0 coherence: 1.530683, t=50\n",
    "Level 0 coherence: 1.565759, t=60\n",
    "Level 0 coherence: 1.668325, t=70\n",
    "Level 0 coherence: 1.722331, t=80\n",
    "Level 0 coherence: 1.779689, t=90\n",
    "Level 0 coherence: 1.918866, t=100\n",
    "Level 0 coherence: 1.924216, t=110\n",
    "Level 0 coherence: 1.980874, t=120\n",
    "Level 0 coherence: 2.079673, t=130\n",
    "Level 0 coherence: 2.093757, t=140\n",
    "Level 0 coherence: 2.173409, t=150\n",
    "Level 0 coherence: 2.174175, t=160\n",
    "Level 0 coherence: 2.205918, t=170\n",
    "Level 0 coherence: 2.275994, t=180\n",
    "Level 0 coherence: 2.277267, t=190\n",
    "Level 0 coherence: 2.332946, t=200\n",
    "Level 0 coherence: 2.346622, t=210\n",
    "Level 0 coherence: 2.283602, t=220\n",
    "Level 0 coherence: 2.324260, t=230\n",
    "Level 0 coherence: 2.317958, t=240\n",
    "Level 0 coherence: 2.315762, t=250\n",
    "Level 0 coherence: 2.279474, t=260\n",
    "Level 0 coherence: 2.309187, t=270\n",
    "Level 0 coherence: 2.252727, t=280\n",
    "Level 0 coherence: 2.182547, t=290\n",
    "Level 0 coherence: 2.200595, t=300\n",
    "Level 0 coherence: 2.178718, t=310\n",
    "Level 0 coherence: 2.021726, t=320\n",
    "Level 0 coherence: 2.035341, t=330\n",
    "Level 0 coherence: 2.026407, t=340\n",
    "Level 0 coherence: 1.923857, t=350\n",
    "Level 0 coherence: 1.828151, t=360\n",
    "Level 0 coherence: 1.822736, t=370\n",
    "Level 0 coherence: 1.762612, t=380\n",
    "Level 0 coherence: 1.778792, t=390\n",
    "Level 0 coherence: 1.736851, t=400\n",
    "```"
   ]
  },
  {
   "cell_type": "markdown",
   "metadata": {
    "deletable": true,
    "editable": true
   },
   "source": [
    "```\n",
    "top-20 tokens\n",
    "Level 0 coherence: 0.529625, t=10\n",
    "Level 0 coherence: 0.689338, t=20\n",
    "Level 0 coherence: 0.799413, t=30\n",
    "Level 0 coherence: 0.945375, t=40\n",
    "Level 0 coherence: 1.023195, t=50\n",
    "Level 0 coherence: 1.064831, t=60\n",
    "Level 0 coherence: 1.133953, t=70\n",
    "Level 0 coherence: 1.254620, t=80\n",
    "Level 0 coherence: 1.247764, t=90\n",
    "Level 0 coherence: 1.346262, t=100\n",
    "```"
   ]
  },
  {
   "cell_type": "markdown",
   "metadata": {
    "deletable": true,
    "editable": true
   },
   "source": [
    "**NB**: в конце провести эксперимент на перемешанном clf_output -- гипотеза о независимости качества от порядка вливания документов в ТМ."
   ]
  },
  {
   "cell_type": "markdown",
   "metadata": {},
   "source": [
    "---"
   ]
  }
 ],
 "metadata": {
  "kernelspec": {
   "display_name": "Python 3",
   "language": "python",
   "name": "python3"
  },
  "language_info": {
   "codemirror_mode": {
    "name": "ipython",
    "version": 3
   },
   "file_extension": ".py",
   "mimetype": "text/x-python",
   "name": "python",
   "nbconvert_exporter": "python",
   "pygments_lexer": "ipython3",
   "version": "3.5.3"
  },
  "latex_envs": {
   "bibliofile": "biblio.bib",
   "cite_by": "apalike",
   "current_citInitial": 1,
   "eqLabelWithNumbers": true,
   "eqNumInitial": 0
  }
 },
 "nbformat": 4,
 "nbformat_minor": 2
}
