{
 "cells": [
  {
   "cell_type": "code",
   "execution_count": 1,
   "metadata": {
    "collapsed": true,
    "deletable": true,
    "editable": true
   },
   "outputs": [],
   "source": [
    "import numpy as np\n",
    "import pandas as pd\n",
    "import collections\n",
    "import pymongo\n",
    "import regex\n",
    "import csv"
   ]
  },
  {
   "cell_type": "code",
   "execution_count": 2,
   "metadata": {
    "collapsed": true,
    "deletable": true,
    "editable": true
   },
   "outputs": [],
   "source": [
    "PATH = \"citeseerx.csv\""
   ]
  },
  {
   "cell_type": "markdown",
   "metadata": {
    "deletable": true,
    "editable": true
   },
   "source": [
    "### Экспериментируем"
   ]
  },
  {
   "cell_type": "code",
   "execution_count": 5,
   "metadata": {
    "collapsed": false,
    "deletable": true,
    "editable": true
   },
   "outputs": [
    {
     "name": "stdout",
     "output_type": "stream",
     "text": [
      "CPU times: user 397 ms, sys: 30 ms, total: 427 ms\n",
      "Wall time: 428 ms\n"
     ]
    }
   ],
   "source": [
    "%%time\n",
    "\n",
    "df = pd.DataFrame.from_csv(PATH)"
   ]
  },
  {
   "cell_type": "code",
   "execution_count": 6,
   "metadata": {
    "collapsed": false,
    "deletable": true,
    "editable": true
   },
   "outputs": [
    {
     "data": {
      "text/html": [
       "<div>\n",
       "<table border=\"1\" class=\"dataframe\">\n",
       "  <thead>\n",
       "    <tr style=\"text-align: right;\">\n",
       "      <th></th>\n",
       "      <th>type</th>\n",
       "      <th>rights</th>\n",
       "      <th>contributor</th>\n",
       "      <th>coverage</th>\n",
       "      <th>creator</th>\n",
       "      <th>language</th>\n",
       "      <th>date</th>\n",
       "      <th>format</th>\n",
       "      <th>description</th>\n",
       "      <th>identifier</th>\n",
       "      <th>source</th>\n",
       "      <th>relation</th>\n",
       "      <th>publisher</th>\n",
       "      <th>title</th>\n",
       "    </tr>\n",
       "    <tr>\n",
       "      <th>subject</th>\n",
       "      <th></th>\n",
       "      <th></th>\n",
       "      <th></th>\n",
       "      <th></th>\n",
       "      <th></th>\n",
       "      <th></th>\n",
       "      <th></th>\n",
       "      <th></th>\n",
       "      <th></th>\n",
       "      <th></th>\n",
       "      <th></th>\n",
       "      <th></th>\n",
       "      <th></th>\n",
       "      <th></th>\n",
       "    </tr>\n",
       "  </thead>\n",
       "  <tbody>\n",
       "    <tr>\n",
       "      <th>['Correspondence and offprint requests to', 'J. Kormendy-Rácz']</th>\n",
       "      <td>['text']</td>\n",
       "      <td>['Metadata may be used without restrictions as...</td>\n",
       "      <td>['The Pennsylvania State University CiteSeerX ...</td>\n",
       "      <td>[]</td>\n",
       "      <td>['J. Körmendy-rácz', 'S. Szabó', 'J. Lörincz',...</td>\n",
       "      <td>['en']</td>\n",
       "      <td>['2009-05-24', '2007-11-19', '1999']</td>\n",
       "      <td>['application/pdf']</td>\n",
       "      <td>['Wittmeyer’s pseudoinverse iterative algorith...</td>\n",
       "      <td>['http://citeseerx.ist.psu.edu/viewdoc/summary...</td>\n",
       "      <td>['http://people.inf.elte.hu/lorincz/Files/publ...</td>\n",
       "      <td>[]</td>\n",
       "      <td>['Springer']</td>\n",
       "      <td>['Winner-Take-All Network Utilising Pseudoinve...</td>\n",
       "    </tr>\n",
       "    <tr>\n",
       "      <th>['Processes']</th>\n",
       "      <td>['text']</td>\n",
       "      <td>['Metadata may be used without restrictions as...</td>\n",
       "      <td>['The Pennsylvania State University CiteSeerX ...</td>\n",
       "      <td>[]</td>\n",
       "      <td>['A. Bondavalli', 'I. Mura', 'S. Chiaradonna',...</td>\n",
       "      <td>['en']</td>\n",
       "      <td>['2009-05-24', '2007-11-19', '2000']</td>\n",
       "      <td>['application/pdf']</td>\n",
       "      <td>['Multiple-Phased Systems, whose operational l...</td>\n",
       "      <td>['http://citeseerx.ist.psu.edu/viewdoc/summary...</td>\n",
       "      <td>['http://bonda.cnuce.cnr.it/Documentation/Pape...</td>\n",
       "      <td>[]</td>\n",
       "      <td>['IEEE Computer Society']</td>\n",
       "      <td>['DEEM: a Tool for the Dependability Modeling ...</td>\n",
       "    </tr>\n",
       "    <tr>\n",
       "      <th>['Function dynamics', 'Iterated map', 'Self-reference', 'Dynamical network']</th>\n",
       "      <td>['text']</td>\n",
       "      <td>['Metadata may be used without restrictions as...</td>\n",
       "      <td>['The Pennsylvania State University CiteSeerX ...</td>\n",
       "      <td>[]</td>\n",
       "      <td>['Naoto Kataoka', 'Kunihiko Kaneko']</td>\n",
       "      <td>['en']</td>\n",
       "      <td>['2009-05-24', '2007-11-19', '2003']</td>\n",
       "      <td>['application/pdf']</td>\n",
       "      <td>['As a first step toward realizing a dynamical...</td>\n",
       "      <td>['http://citeseerx.ist.psu.edu/viewdoc/summary...</td>\n",
       "      <td>['http://chaos.c.u-tokyo.ac.jp/others/kataoka0...</td>\n",
       "      <td>[]</td>\n",
       "      <td>[]</td>\n",
       "      <td>['Dynamical networks in function dynamics']</td>\n",
       "    </tr>\n",
       "    <tr>\n",
       "      <th>[]</th>\n",
       "      <td>['text']</td>\n",
       "      <td>['Metadata may be used without restrictions as...</td>\n",
       "      <td>['The Pennsylvania State University CiteSeerX ...</td>\n",
       "      <td>[]</td>\n",
       "      <td>['Ingolf Ståhl']</td>\n",
       "      <td>['en']</td>\n",
       "      <td>['2009-04-24', '2007-11-19', '2002']</td>\n",
       "      <td>['application/pdf']</td>\n",
       "      <td>['A simulation model is successful if it leads...</td>\n",
       "      <td>['http://citeseerx.ist.psu.edu/viewdoc/summary...</td>\n",
       "      <td>['http://www.informs-cs.org/wsc02papers/073.pdf']</td>\n",
       "      <td>[]</td>\n",
       "      <td>[]</td>\n",
       "      <td>['Simulation  Prototyping']</td>\n",
       "    </tr>\n",
       "    <tr>\n",
       "      <th>[]</th>\n",
       "      <td>['text']</td>\n",
       "      <td>['Metadata may be used without restrictions as...</td>\n",
       "      <td>['The Pennsylvania State University CiteSeerX ...</td>\n",
       "      <td>[]</td>\n",
       "      <td>['Jian Chen', 'Michael C. Fu']</td>\n",
       "      <td>['en']</td>\n",
       "      <td>['2009-05-24', '2007-11-19', '2002']</td>\n",
       "      <td>['application/pdf']</td>\n",
       "      <td>['Hedging of fixed income securities remains o...</td>\n",
       "      <td>['http://citeseerx.ist.psu.edu/viewdoc/summary...</td>\n",
       "      <td>['http://www.informs-cs.org/wsc02papers/218.pdf']</td>\n",
       "      <td>[]</td>\n",
       "      <td>[]</td>\n",
       "      <td>['Hedging beyond duration and convexity']</td>\n",
       "    </tr>\n",
       "  </tbody>\n",
       "</table>\n",
       "</div>"
      ],
      "text/plain": [
       "                                                        type  \\\n",
       "subject                                                        \n",
       "['Correspondence and offprint requests to', 'J....  ['text']   \n",
       "['Processes']                                       ['text']   \n",
       "['Function dynamics', 'Iterated map', 'Self-ref...  ['text']   \n",
       "[]                                                  ['text']   \n",
       "[]                                                  ['text']   \n",
       "\n",
       "                                                                                               rights  \\\n",
       "subject                                                                                                 \n",
       "['Correspondence and offprint requests to', 'J....  ['Metadata may be used without restrictions as...   \n",
       "['Processes']                                       ['Metadata may be used without restrictions as...   \n",
       "['Function dynamics', 'Iterated map', 'Self-ref...  ['Metadata may be used without restrictions as...   \n",
       "[]                                                  ['Metadata may be used without restrictions as...   \n",
       "[]                                                  ['Metadata may be used without restrictions as...   \n",
       "\n",
       "                                                                                          contributor  \\\n",
       "subject                                                                                                 \n",
       "['Correspondence and offprint requests to', 'J....  ['The Pennsylvania State University CiteSeerX ...   \n",
       "['Processes']                                       ['The Pennsylvania State University CiteSeerX ...   \n",
       "['Function dynamics', 'Iterated map', 'Self-ref...  ['The Pennsylvania State University CiteSeerX ...   \n",
       "[]                                                  ['The Pennsylvania State University CiteSeerX ...   \n",
       "[]                                                  ['The Pennsylvania State University CiteSeerX ...   \n",
       "\n",
       "                                                   coverage  \\\n",
       "subject                                                       \n",
       "['Correspondence and offprint requests to', 'J....       []   \n",
       "['Processes']                                            []   \n",
       "['Function dynamics', 'Iterated map', 'Self-ref...       []   \n",
       "[]                                                       []   \n",
       "[]                                                       []   \n",
       "\n",
       "                                                                                              creator  \\\n",
       "subject                                                                                                 \n",
       "['Correspondence and offprint requests to', 'J....  ['J. Körmendy-rácz', 'S. Szabó', 'J. Lörincz',...   \n",
       "['Processes']                                       ['A. Bondavalli', 'I. Mura', 'S. Chiaradonna',...   \n",
       "['Function dynamics', 'Iterated map', 'Self-ref...               ['Naoto Kataoka', 'Kunihiko Kaneko']   \n",
       "[]                                                                                   ['Ingolf Ståhl']   \n",
       "[]                                                                     ['Jian Chen', 'Michael C. Fu']   \n",
       "\n",
       "                                                   language  \\\n",
       "subject                                                       \n",
       "['Correspondence and offprint requests to', 'J....   ['en']   \n",
       "['Processes']                                        ['en']   \n",
       "['Function dynamics', 'Iterated map', 'Self-ref...   ['en']   \n",
       "[]                                                   ['en']   \n",
       "[]                                                   ['en']   \n",
       "\n",
       "                                                                                    date  \\\n",
       "subject                                                                                    \n",
       "['Correspondence and offprint requests to', 'J....  ['2009-05-24', '2007-11-19', '1999']   \n",
       "['Processes']                                       ['2009-05-24', '2007-11-19', '2000']   \n",
       "['Function dynamics', 'Iterated map', 'Self-ref...  ['2009-05-24', '2007-11-19', '2003']   \n",
       "[]                                                  ['2009-04-24', '2007-11-19', '2002']   \n",
       "[]                                                  ['2009-05-24', '2007-11-19', '2002']   \n",
       "\n",
       "                                                                 format  \\\n",
       "subject                                                                   \n",
       "['Correspondence and offprint requests to', 'J....  ['application/pdf']   \n",
       "['Processes']                                       ['application/pdf']   \n",
       "['Function dynamics', 'Iterated map', 'Self-ref...  ['application/pdf']   \n",
       "[]                                                  ['application/pdf']   \n",
       "[]                                                  ['application/pdf']   \n",
       "\n",
       "                                                                                          description  \\\n",
       "subject                                                                                                 \n",
       "['Correspondence and offprint requests to', 'J....  ['Wittmeyer’s pseudoinverse iterative algorith...   \n",
       "['Processes']                                       ['Multiple-Phased Systems, whose operational l...   \n",
       "['Function dynamics', 'Iterated map', 'Self-ref...  ['As a first step toward realizing a dynamical...   \n",
       "[]                                                  ['A simulation model is successful if it leads...   \n",
       "[]                                                  ['Hedging of fixed income securities remains o...   \n",
       "\n",
       "                                                                                           identifier  \\\n",
       "subject                                                                                                 \n",
       "['Correspondence and offprint requests to', 'J....  ['http://citeseerx.ist.psu.edu/viewdoc/summary...   \n",
       "['Processes']                                       ['http://citeseerx.ist.psu.edu/viewdoc/summary...   \n",
       "['Function dynamics', 'Iterated map', 'Self-ref...  ['http://citeseerx.ist.psu.edu/viewdoc/summary...   \n",
       "[]                                                  ['http://citeseerx.ist.psu.edu/viewdoc/summary...   \n",
       "[]                                                  ['http://citeseerx.ist.psu.edu/viewdoc/summary...   \n",
       "\n",
       "                                                                                               source  \\\n",
       "subject                                                                                                 \n",
       "['Correspondence and offprint requests to', 'J....  ['http://people.inf.elte.hu/lorincz/Files/publ...   \n",
       "['Processes']                                       ['http://bonda.cnuce.cnr.it/Documentation/Pape...   \n",
       "['Function dynamics', 'Iterated map', 'Self-ref...  ['http://chaos.c.u-tokyo.ac.jp/others/kataoka0...   \n",
       "[]                                                  ['http://www.informs-cs.org/wsc02papers/073.pdf']   \n",
       "[]                                                  ['http://www.informs-cs.org/wsc02papers/218.pdf']   \n",
       "\n",
       "                                                   relation  \\\n",
       "subject                                                       \n",
       "['Correspondence and offprint requests to', 'J....       []   \n",
       "['Processes']                                            []   \n",
       "['Function dynamics', 'Iterated map', 'Self-ref...       []   \n",
       "[]                                                       []   \n",
       "[]                                                       []   \n",
       "\n",
       "                                                                    publisher  \\\n",
       "subject                                                                         \n",
       "['Correspondence and offprint requests to', 'J....               ['Springer']   \n",
       "['Processes']                                       ['IEEE Computer Society']   \n",
       "['Function dynamics', 'Iterated map', 'Self-ref...                         []   \n",
       "[]                                                                         []   \n",
       "[]                                                                         []   \n",
       "\n",
       "                                                                                                title  \n",
       "subject                                                                                                \n",
       "['Correspondence and offprint requests to', 'J....  ['Winner-Take-All Network Utilising Pseudoinve...  \n",
       "['Processes']                                       ['DEEM: a Tool for the Dependability Modeling ...  \n",
       "['Function dynamics', 'Iterated map', 'Self-ref...        ['Dynamical networks in function dynamics']  \n",
       "[]                                                                        ['Simulation  Prototyping']  \n",
       "[]                                                          ['Hedging beyond duration and convexity']  "
      ]
     },
     "execution_count": 6,
     "metadata": {},
     "output_type": "execute_result"
    }
   ],
   "source": [
    "df.head()"
   ]
  },
  {
   "cell_type": "markdown",
   "metadata": {
    "deletable": true,
    "editable": true
   },
   "source": [
    "Идентификаторы:"
   ]
  },
  {
   "cell_type": "code",
   "execution_count": 159,
   "metadata": {
    "collapsed": false,
    "deletable": true,
    "editable": true
   },
   "outputs": [
    {
     "name": "stdout",
     "output_type": "stream",
     "text": [
      "CPU times: user 4.56 s, sys: 42 ms, total: 4.6 s\n",
      "Wall time: 4.6 s\n"
     ]
    }
   ],
   "source": [
    "%%time\n",
    "\n",
    "doc_id = []\n",
    "\n",
    "prefix = \"http://arxiv.org/abs/\"\n",
    "prefix_len = len(prefix)\n",
    "\n",
    "for ids in df.index:\n",
    "    doc_id.append(\"arxiv_\" + eval(ids)[0][prefix_len:])\n",
    "\n",
    "assert len(df) == len(doc_id)"
   ]
  },
  {
   "cell_type": "markdown",
   "metadata": {
    "deletable": true,
    "editable": true
   },
   "source": [
    "Заголовки:"
   ]
  },
  {
   "cell_type": "code",
   "execution_count": 125,
   "metadata": {
    "collapsed": false,
    "deletable": true,
    "editable": true
   },
   "outputs": [
    {
     "name": "stdout",
     "output_type": "stream",
     "text": [
      "CPU times: user 3.63 s, sys: 44 ms, total: 3.68 s\n",
      "Wall time: 3.68 s\n"
     ]
    }
   ],
   "source": [
    "%%time\n",
    "\n",
    "title = []\n",
    "\n",
    "for titles in df[\"title\"]:\n",
    "    title.append(eval(titles)[0])\n",
    "\n",
    "assert len(df) == len(title)"
   ]
  },
  {
   "cell_type": "markdown",
   "metadata": {
    "deletable": true,
    "editable": true
   },
   "source": [
    "Описания:"
   ]
  },
  {
   "cell_type": "code",
   "execution_count": 139,
   "metadata": {
    "collapsed": false,
    "deletable": true,
    "editable": true
   },
   "outputs": [
    {
     "name": "stdout",
     "output_type": "stream",
     "text": [
      "CPU times: user 7.03 s, sys: 118 ms, total: 7.15 s\n",
      "Wall time: 7.15 s\n"
     ]
    }
   ],
   "source": [
    "%%time\n",
    "\n",
    "description = []\n",
    "\n",
    "for descs in df[\"description\"]:\n",
    "    description.append(eval(descs)[0])\n",
    "\n",
    "assert len(df) == len(description)"
   ]
  },
  {
   "cell_type": "code",
   "execution_count": 140,
   "metadata": {
    "collapsed": false,
    "deletable": true,
    "editable": true
   },
   "outputs": [
    {
     "data": {
      "text/plain": [
       "255111394"
      ]
     },
     "execution_count": 140,
     "metadata": {},
     "output_type": "execute_result"
    }
   ],
   "source": [
    "sum(map(len, description))"
   ]
  },
  {
   "cell_type": "markdown",
   "metadata": {
    "deletable": true,
    "editable": true
   },
   "source": [
    "Даты:"
   ]
  },
  {
   "cell_type": "code",
   "execution_count": 97,
   "metadata": {
    "collapsed": false,
    "deletable": true,
    "editable": true
   },
   "outputs": [
    {
     "name": "stdout",
     "output_type": "stream",
     "text": [
      "CPU times: user 3.65 s, sys: 27 ms, total: 3.67 s\n",
      "Wall time: 3.67 s\n"
     ]
    }
   ],
   "source": [
    "%%time\n",
    "\n",
    "first_date = []\n",
    "last_date = []\n",
    "\n",
    "for dates in df[\"date\"]:\n",
    "    dates = eval(dates)\n",
    "    if len(dates):\n",
    "        first_date.append(dates[0])\n",
    "        last_date.append(dates[-1])\n",
    "    else:\n",
    "        first_date.append(None)\n",
    "        last_date.append(None)\n",
    "\n",
    "assert len(df) == len(first_date) == len(last_date)"
   ]
  },
  {
   "cell_type": "markdown",
   "metadata": {
    "deletable": true,
    "editable": true
   },
   "source": [
    "Категории:"
   ]
  },
  {
   "cell_type": "code",
   "execution_count": 98,
   "metadata": {
    "collapsed": false,
    "deletable": true,
    "editable": true
   },
   "outputs": [
    {
     "name": "stdout",
     "output_type": "stream",
     "text": [
      "CPU times: user 8.95 s, sys: 76 ms, total: 9.03 s\n",
      "Wall time: 9.03 s\n"
     ]
    }
   ],
   "source": [
    "%%time\n",
    "\n",
    "cat0_subjects = []\n",
    "cat1_subjects = []\n",
    "other_subjects = []\n",
    "\n",
    "subject_regex = regex.compile(\"^[a-z\\s-,]+$\")\n",
    "\n",
    "for subjs in df[\"subject\"]:\n",
    "    s0, s1 = set(), set()\n",
    "    for subj in eval(subjs):\n",
    "        subj = subj.lower().strip()\n",
    "        parts = subj.split(\" - \")\n",
    "        if subject_regex.match(subj) and len(parts) <= 2:\n",
    "            s0.add(\"%s\" % parts[0])\n",
    "            if len(parts) == 2:\n",
    "                s1.add(\"%s - %s\" % (parts[0], parts[1]))\n",
    "        else:\n",
    "            other_subjects.append(subj)\n",
    "    cat0_subjects.append(list(s0))\n",
    "    cat1_subjects.append(list(s1))\n",
    "\n",
    "assert len(df) == len(cat0_subjects) == len(cat1_subjects)"
   ]
  },
  {
   "cell_type": "code",
   "execution_count": 76,
   "metadata": {
    "collapsed": false,
    "deletable": true,
    "editable": true
   },
   "outputs": [
    {
     "data": {
      "text/plain": [
       "[('f.2.2', 605),\n",
       " ('f.4.1', 364),\n",
       " ('g.2.2', 350),\n",
       " ('57m25', 307),\n",
       " ('f.1.1', 220),\n",
       " ('g.3', 213),\n",
       " ('05a15', 206),\n",
       " ('60k35', 197),\n",
       " ('g.2.1', 177),\n",
       " ('57m27', 161)]"
      ]
     },
     "execution_count": 76,
     "metadata": {},
     "output_type": "execute_result"
    }
   ],
   "source": [
    "collections.Counter(other_subjects).most_common(10)"
   ]
  },
  {
   "cell_type": "markdown",
   "metadata": {
    "deletable": true,
    "editable": true
   },
   "source": [
    "### Собираем всё вместе"
   ]
  },
  {
   "cell_type": "code",
   "execution_count": 3,
   "metadata": {
    "collapsed": false,
    "deletable": true,
    "editable": true
   },
   "outputs": [
    {
     "name": "stdout",
     "output_type": "stream",
     "text": [
      "CPU times: user 3min 42s, sys: 3.44 s, total: 3min 46s\n",
      "Wall time: 3min 47s\n"
     ]
    }
   ],
   "source": [
    "%%time\n",
    "\n",
    "fieldnames = (\"doc_id\", \"identifiers\", \"cat0_subject\", \"cat1_subject\", \"first_date\", \"last_date\", \"authors\",\n",
    "              \"title\", \"description\")\n",
    "subject_regex = regex.compile(\"^[a-z_\\-,]+$\")\n",
    "prefix = \"http://arxiv.org/abs/\"\n",
    "prefix_len = len(prefix)\n",
    "\n",
    "with open(PATH) as infile, open(\"arxiv_clean.csv\", \"w\") as outfile:\n",
    "    reader = csv.DictReader(infile)\n",
    "    writer = csv.DictWriter(outfile, fieldnames)\n",
    "    writer.writeheader()\n",
    "    for row in reader:\n",
    "        article = {}\n",
    "        article[\"authors\"] = row[\"creator\"]\n",
    "        # Идентификаторы\n",
    "        ids = row[\"identifier\"]\n",
    "        article[\"identifiers\"] = ids\n",
    "        article[\"doc_id\"] = \"arxiv_\" + eval(ids)[0][prefix_len:]\n",
    "        # Категории\n",
    "        s0, s1 = set(), set()\n",
    "        for subj in eval(row[\"subject\"]):\n",
    "            subj = subj.lower().strip().replace(\" \", \"_\")\n",
    "            parts = subj.split(\"_-_\")\n",
    "            if subject_regex.match(subj) and len(parts) <= 2:\n",
    "                s0.add(\"%s\" % parts[0])\n",
    "                if len(parts) == 2:\n",
    "                    s1.add(\"%s_-_%s\" % (parts[0], parts[1]))\n",
    "        article[\"cat0_subject\"] = list(s0)\n",
    "        article[\"cat1_subject\"] = list(s1)\n",
    "        # Даты\n",
    "        dates = eval(row[\"date\"])\n",
    "        if len(dates):\n",
    "            article[\"first_date\"] = dates[0]\n",
    "            article[\"last_date\"] = dates[-1]\n",
    "        # Заголовок и описание\n",
    "        article[\"title\"] = eval(row[\"title\"])[0]\n",
    "        article[\"description\"] = eval(row[\"description\"])[0]\n",
    "        writer.writerow(article)"
   ]
  },
  {
   "cell_type": "markdown",
   "metadata": {
    "deletable": true,
    "editable": true
   },
   "source": [
    "---"
   ]
  }
 ],
 "metadata": {
  "kernelspec": {
   "display_name": "Python 3",
   "language": "python",
   "name": "python3"
  },
  "language_info": {
   "codemirror_mode": {
    "name": "ipython",
    "version": 3
   },
   "file_extension": ".py",
   "mimetype": "text/x-python",
   "name": "python",
   "nbconvert_exporter": "python",
   "pygments_lexer": "ipython3",
   "version": "3.5.3"
  },
  "latex_envs": {
   "bibliofile": "biblio.bib",
   "cite_by": "apalike",
   "current_citInitial": 1,
   "eqLabelWithNumbers": true,
   "eqNumInitial": 0
  }
 },
 "nbformat": 4,
 "nbformat_minor": 2
}
