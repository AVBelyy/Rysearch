{
 "cells": [
  {
   "cell_type": "code",
   "execution_count": 58,
   "metadata": {
    "collapsed": true
   },
   "outputs": [],
   "source": [
    "import sys\n",
    "import csv\n",
    "import unicodedata\n",
    "import numpy as np"
   ]
  },
  {
   "cell_type": "code",
   "execution_count": 59,
   "metadata": {
    "collapsed": true
   },
   "outputs": [],
   "source": [
    "from pymystem3 import Mystem\n",
    "from multiprocessing import Pool\n",
    "from IPython.display import display\n",
    "from ipywidgets import FloatProgress\n",
    "from sklearn.pipeline import Pipeline\n",
    "from parsers.text_utils import DefaultTextProcessor, Lemmatizer"
   ]
  },
  {
   "cell_type": "code",
   "execution_count": 60,
   "metadata": {
    "collapsed": false
   },
   "outputs": [
    {
     "data": {
      "text/plain": [
       "9223372036854775807"
      ]
     },
     "execution_count": 60,
     "metadata": {},
     "output_type": "execute_result"
    }
   ],
   "source": [
    "csv.field_size_limit(sys.maxsize)"
   ]
  },
  {
   "cell_type": "markdown",
   "metadata": {},
   "source": [
    "Разобьём процесс на две части — токенизацию документов (без фильтрации) и, собственно, лемматизацию."
   ]
  },
  {
   "cell_type": "code",
   "execution_count": 87,
   "metadata": {
    "collapsed": false
   },
   "outputs": [
    {
     "name": "stdout",
     "output_type": "stream",
     "text": [
      "CPU times: user 38min 48s, sys: 15.2 s, total: 39min 4s\n",
      "Wall time: 39min 4s\n"
     ]
    }
   ],
   "source": [
    "%%time\n",
    "\n",
    "# Проделаем токенизацию с сохранением промежуточного\n",
    "# состояния в ruwiki.tonekized.csv.tmp\n",
    "\n",
    "tokenizer = DefaultTextProcessor()\n",
    "\n",
    "# 1361758 — предподсчитанное кол-во документов\n",
    "f = FloatProgress(min=0, max=1361758)\n",
    "display(f)\n",
    "\n",
    "unused_char = '\\U00037b84'\n",
    "def strip_accents(s):\n",
    "    s = s.replace(\"й\", unused_char)\n",
    "    return \"\".join((c for c in unicodedata.normalize(\"NFD\", s) if unicodedata.category(c) != \"Mn\")).replace(unused_char, \"й\")\n",
    "\n",
    "with open(\"../datasets/ruwiki/ruwiki.plain.csv\", \"r\") as infile:\n",
    "    with open(\"ruwiki.tonekized.csv.tmp\", \"w\") as outfile:\n",
    "        reader = csv.reader(infile)\n",
    "        writer = csv.writer(outfile)\n",
    "        count = 0\n",
    "        cached_rows = []\n",
    "        for title, text in reader:\n",
    "            text = strip_accents(text)\n",
    "            tokens = tokenizer.fit_transform(text)\n",
    "            cached_rows.append((title, \" \".join(tokens)))\n",
    "            count += 1\n",
    "            if count % 1000 == 0:\n",
    "                writer.writerows(cached_rows)\n",
    "                outfile.flush()\n",
    "                f.value += len(cached_rows)\n",
    "                cached_rows = []\n",
    "        # Запишем оставшиеся строчки\n",
    "        writer.writerows(cached_rows)\n",
    "        f.value += len(cached_rows)"
   ]
  },
  {
   "cell_type": "code",
   "execution_count": 88,
   "metadata": {
    "collapsed": false
   },
   "outputs": [
    {
     "name": "stdout",
     "output_type": "stream",
     "text": [
      "CPU times: user 5min 27s, sys: 1min 47s, total: 7min 14s\n",
      "Wall time: 3h 33min 19s\n"
     ]
    }
   ],
   "source": [
    "%%time\n",
    "\n",
    "# Теперь сделаем лемматизацию всех документов при помощи pymystem3\n",
    "# Распараллеливая процесс на N_PROCS процессоров\n",
    "\n",
    "N_PROCS = 4\n",
    "\n",
    "# 1361758 — предподсчитанное кол-во документов\n",
    "f = FloatProgress(min=0, max=1361758)\n",
    "display(f)\n",
    "\n",
    "m = Mystem()\n",
    "\n",
    "def lemmatize(text):\n",
    "    return \"\".join(m.lemmatize(text)).strip()\n",
    "\n",
    "with open(\"ruwiki.tonekized.csv.tmp\", \"r\") as infile:\n",
    "    with open(\"../datasets/ruwiki/ruwiki.lemmatized.csv\", \"w\") as outfile:\n",
    "        reader = csv.reader(infile)\n",
    "        writer = csv.writer(outfile)\n",
    "        count = 0\n",
    "        cached_titles = []\n",
    "        cached_texts = []\n",
    "        for title, text in reader:\n",
    "            cached_titles.append(title)\n",
    "            cached_texts.append(text)\n",
    "            count += 1\n",
    "            if count % 1000 == 0:\n",
    "                with Pool(N_PROCS) as p:\n",
    "                    lemmatized_texts = p.map(lemmatize, cached_texts)\n",
    "                writer.writerows(zip(cached_titles, lemmatized_texts))\n",
    "                outfile.flush()\n",
    "                f.value += len(cached_titles)\n",
    "                cached_texts = []\n",
    "                cached_titles = []\n",
    "        # Запишем оставшиеся строчки\n",
    "        with Pool(N_PROCS) as p:\n",
    "            lemmatized_texts = p.map(lemmatize, cached_texts)\n",
    "        writer.writerows(zip(cached_titles, lemmatized_texts))\n",
    "        f.value += len(cached_titles)"
   ]
  },
  {
   "cell_type": "markdown",
   "metadata": {},
   "source": [
    "---"
   ]
  }
 ],
 "metadata": {
  "kernelspec": {
   "display_name": "Python 3",
   "language": "python",
   "name": "python3"
  },
  "language_info": {
   "codemirror_mode": {
    "name": "ipython",
    "version": 3
   },
   "file_extension": ".py",
   "mimetype": "text/x-python",
   "name": "python",
   "nbconvert_exporter": "python",
   "pygments_lexer": "ipython3",
   "version": "3.5.2"
  },
  "latex_envs": {
   "bibliofile": "biblio.bib",
   "cite_by": "apalike",
   "current_citInitial": 1,
   "eqLabelWithNumbers": true,
   "eqNumInitial": 0
  }
 },
 "nbformat": 4,
 "nbformat_minor": 0
}
