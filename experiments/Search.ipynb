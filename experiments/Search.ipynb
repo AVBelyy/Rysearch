{
 "cells": [
  {
   "cell_type": "code",
   "execution_count": 2,
   "metadata": {
    "collapsed": false
   },
   "outputs": [],
   "source": [
    "from pymongo import MongoClient"
   ]
  },
  {
   "cell_type": "code",
   "execution_count": 3,
   "metadata": {
    "collapsed": true
   },
   "outputs": [],
   "source": [
    "db = MongoClient()"
   ]
  },
  {
   "cell_type": "code",
   "execution_count": 27,
   "metadata": {
    "collapsed": false
   },
   "outputs": [
    {
     "name": "stdout",
     "output_type": "stream",
     "text": [
      "<class 'dict'>\n"
     ]
    }
   ],
   "source": [
    "for row in db.datasets.postnauka.find().limit(1):\n",
    "    print(type(row))"
   ]
  },
  {
   "cell_type": "code",
   "execution_count": 56,
   "metadata": {
    "collapsed": false
   },
   "outputs": [],
   "source": [
    "row = next(db.datasets.habrahabr.find().limit(1))"
   ]
  },
  {
   "cell_type": "code",
   "execution_count": 58,
   "metadata": {
    "collapsed": false
   },
   "outputs": [
    {
     "data": {
      "text/plain": [
       "dict_keys(['_id', 'modalities', 'title', 'url', 'markdown', 'authors_names'])"
      ]
     },
     "execution_count": 58,
     "metadata": {},
     "output_type": "execute_result"
    }
   ],
   "source": [
    "row.keys()"
   ]
  },
  {
   "cell_type": "code",
   "execution_count": 112,
   "metadata": {
    "collapsed": true
   },
   "outputs": [],
   "source": [
    "db.datasets.postnauka.drop_index(\"markdown_text\")"
   ]
  },
  {
   "cell_type": "code",
   "execution_count": 125,
   "metadata": {
    "collapsed": true
   },
   "outputs": [],
   "source": [
    "db.datasets.postnauka.drop_index(\"title_text\")"
   ]
  },
  {
   "cell_type": "code",
   "execution_count": 126,
   "metadata": {
    "collapsed": false
   },
   "outputs": [
    {
     "data": {
      "text/plain": [
       "'markdown_text'"
      ]
     },
     "execution_count": 126,
     "metadata": {},
     "output_type": "execute_result"
    }
   ],
   "source": [
    "%%time\n",
    "\n",
    "db.datasets.postnauka.create_index([(\"markdown\", \"text\")], default_language='russian')"
   ]
  },
  {
   "cell_type": "code",
   "execution_count": 127,
   "metadata": {
    "collapsed": false
   },
   "outputs": [
    {
     "name": "stdout",
     "output_type": "stream",
     "text": [
      "Математические методы прогнозирования объемов продаж\n"
     ]
    }
   ],
   "source": [
    "for row in db.datasets.postnauka.find({\"authors_names\": {\"$elemMatch\": {\"$eq\": \"Константин Воронцов\"}}}):\n",
    "    print(row[\"title\"])"
   ]
  },
  {
   "cell_type": "code",
   "execution_count": 137,
   "metadata": {
    "collapsed": false
   },
   "outputs": [
    {
     "name": "stdout",
     "output_type": "stream",
     "text": [
      "pn_1709 Анализ данных как область знания 2.062361139347119\n",
      "pn_2537 Анализ данных 2.0473438112134357\n",
      "pn_1887 FAQ: Анализ данных 2.0436088319431223\n",
      "pn_681 Главы | Контроль 2.030854885057471\n",
      "pn_658 Анализ социальных сетей в интернете 2.0223983893293065\n",
      "CPU times: user 8.07 ms, sys: 4.04 ms, total: 12.1 ms\n",
      "Wall time: 69.6 ms\n"
     ]
    }
   ],
   "source": [
    "%%time\n",
    "\n",
    "for row in db.datasets.postnauka.find({'$text': {'$search': 'анализы данных'}},\n",
    "                           { \"score\": { \"$meta\": \"textScore\" }}).limit(5).sort([('score', {'$meta': 'textScore'})]):\n",
    "    print(row[\"_id\"], row[\"title\"], row[\"score\"])"
   ]
  }
 ],
 "metadata": {
  "kernelspec": {
   "display_name": "Python 3",
   "language": "python",
   "name": "python3"
  },
  "language_info": {
   "codemirror_mode": {
    "name": "ipython",
    "version": 3
   },
   "file_extension": ".py",
   "mimetype": "text/x-python",
   "name": "python",
   "nbconvert_exporter": "python",
   "pygments_lexer": "ipython3",
   "version": "3.6.0"
  }
 },
 "nbformat": 4,
 "nbformat_minor": 2
}
