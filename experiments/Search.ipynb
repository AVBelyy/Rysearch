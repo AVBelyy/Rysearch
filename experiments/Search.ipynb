{
 "cells": [
  {
   "cell_type": "code",
   "execution_count": 1,
   "metadata": {
    "collapsed": true,
    "deletable": true,
    "editable": true
   },
   "outputs": [],
   "source": [
    "%load_ext autoreload"
   ]
  },
  {
   "cell_type": "code",
   "execution_count": 2,
   "metadata": {
    "collapsed": true,
    "deletable": true,
    "editable": true
   },
   "outputs": [],
   "source": [
    "%autoreload 2"
   ]
  },
  {
   "cell_type": "code",
   "execution_count": 7,
   "metadata": {
    "collapsed": true,
    "deletable": true,
    "editable": true
   },
   "outputs": [],
   "source": [
    "import warnings\n",
    "warnings.filterwarnings(\"ignore\", category=DeprecationWarning)"
   ]
  },
  {
   "cell_type": "code",
   "execution_count": 4,
   "metadata": {
    "collapsed": false,
    "deletable": true,
    "editable": true
   },
   "outputs": [],
   "source": [
    "from pymongo import MongoClient"
   ]
  },
  {
   "cell_type": "code",
   "execution_count": 5,
   "metadata": {
    "collapsed": true,
    "deletable": true,
    "editable": true
   },
   "outputs": [],
   "source": [
    "db = MongoClient()"
   ]
  },
  {
   "cell_type": "code",
   "execution_count": 5,
   "metadata": {
    "collapsed": false,
    "deletable": true,
    "editable": true
   },
   "outputs": [],
   "source": [
    "row = next(db.datasets.elementy.find().limit(1))"
   ]
  },
  {
   "cell_type": "code",
   "execution_count": 6,
   "metadata": {
    "collapsed": false,
    "deletable": true,
    "editable": true
   },
   "outputs": [
    {
     "data": {
      "text/plain": [
       "dict_keys(['_id', 'markdown', 'title', 'url', 'modalities', 'summary'])"
      ]
     },
     "execution_count": 6,
     "metadata": {},
     "output_type": "execute_result"
    }
   ],
   "source": [
    "row.keys()"
   ]
  },
  {
   "cell_type": "code",
   "execution_count": 153,
   "metadata": {
    "collapsed": true,
    "deletable": true,
    "editable": true
   },
   "outputs": [
    {
     "ename": "OperationFailure",
     "evalue": "index not found with name [markdown_text]",
     "output_type": "error",
     "traceback": [
      "\u001b[0;31m--------------------------------------------------------\u001b[0m",
      "\u001b[0;31mOperationFailure\u001b[0m       Traceback (most recent call last)",
      "\u001b[0;32m<ipython-input-153-d711c49089b9>\u001b[0m in \u001b[0;36m<module>\u001b[0;34m()\u001b[0m\n\u001b[0;32m----> 1\u001b[0;31m \u001b[0mdb\u001b[0m\u001b[0;34m.\u001b[0m\u001b[0mdatasets\u001b[0m\u001b[0;34m.\u001b[0m\u001b[0mhabrahabr\u001b[0m\u001b[0;34m.\u001b[0m\u001b[0mdrop_index\u001b[0m\u001b[0;34m(\u001b[0m\u001b[0;34m\"markdown_text\"\u001b[0m\u001b[0;34m)\u001b[0m\u001b[0;34m\u001b[0m\u001b[0m\n\u001b[0m",
      "\u001b[0;32m/Users/aksholokhov/.anaconda3/lib/python3.6/site-packages/pymongo/collection.py\u001b[0m in \u001b[0;36mdrop_index\u001b[0;34m(self, index_or_name)\u001b[0m\n\u001b[1;32m   1629\u001b[0m                           \u001b[0mallowable_errors\u001b[0m\u001b[0;34m=\u001b[0m\u001b[0;34m[\u001b[0m\u001b[0;34m\"ns not found\"\u001b[0m\u001b[0;34m]\u001b[0m\u001b[0;34m,\u001b[0m\u001b[0;34m\u001b[0m\u001b[0m\n\u001b[1;32m   1630\u001b[0m                           \u001b[0mwrite_concern\u001b[0m\u001b[0;34m=\u001b[0m\u001b[0mself\u001b[0m\u001b[0;34m.\u001b[0m\u001b[0mwrite_concern\u001b[0m\u001b[0;34m,\u001b[0m\u001b[0;34m\u001b[0m\u001b[0m\n\u001b[0;32m-> 1631\u001b[0;31m                           parse_write_concern_error=True)\n\u001b[0m\u001b[1;32m   1632\u001b[0m \u001b[0;34m\u001b[0m\u001b[0m\n\u001b[1;32m   1633\u001b[0m     \u001b[0;32mdef\u001b[0m \u001b[0mreindex\u001b[0m\u001b[0;34m(\u001b[0m\u001b[0mself\u001b[0m\u001b[0;34m)\u001b[0m\u001b[0;34m:\u001b[0m\u001b[0;34m\u001b[0m\u001b[0m\n",
      "\u001b[0;32m/Users/aksholokhov/.anaconda3/lib/python3.6/site-packages/pymongo/collection.py\u001b[0m in \u001b[0;36m_command\u001b[0;34m(self, sock_info, command, slave_ok, read_preference, codec_options, check, allowable_errors, read_concern, write_concern, parse_write_concern_error, collation)\u001b[0m\n\u001b[1;32m    230\u001b[0m             \u001b[0mwrite_concern\u001b[0m\u001b[0;34m=\u001b[0m\u001b[0mwrite_concern\u001b[0m\u001b[0;34m,\u001b[0m\u001b[0;34m\u001b[0m\u001b[0m\n\u001b[1;32m    231\u001b[0m             \u001b[0mparse_write_concern_error\u001b[0m\u001b[0;34m=\u001b[0m\u001b[0mparse_write_concern_error\u001b[0m\u001b[0;34m,\u001b[0m\u001b[0;34m\u001b[0m\u001b[0m\n\u001b[0;32m--> 232\u001b[0;31m             collation=collation)\n\u001b[0m\u001b[1;32m    233\u001b[0m \u001b[0;34m\u001b[0m\u001b[0m\n\u001b[1;32m    234\u001b[0m     \u001b[0;32mdef\u001b[0m \u001b[0m__create\u001b[0m\u001b[0;34m(\u001b[0m\u001b[0mself\u001b[0m\u001b[0;34m,\u001b[0m \u001b[0moptions\u001b[0m\u001b[0;34m,\u001b[0m \u001b[0mcollation\u001b[0m\u001b[0;34m)\u001b[0m\u001b[0;34m:\u001b[0m\u001b[0;34m\u001b[0m\u001b[0m\n",
      "\u001b[0;32m/Users/aksholokhov/.anaconda3/lib/python3.6/site-packages/pymongo/pool.py\u001b[0m in \u001b[0;36mcommand\u001b[0;34m(self, dbname, spec, slave_ok, read_preference, codec_options, check, allowable_errors, check_keys, read_concern, write_concern, parse_write_concern_error, collation)\u001b[0m\n\u001b[1;32m    417\u001b[0m                            \u001b[0mread_concern\u001b[0m\u001b[0;34m,\u001b[0m\u001b[0;34m\u001b[0m\u001b[0m\n\u001b[1;32m    418\u001b[0m                            \u001b[0mparse_write_concern_error\u001b[0m\u001b[0;34m=\u001b[0m\u001b[0mparse_write_concern_error\u001b[0m\u001b[0;34m,\u001b[0m\u001b[0;34m\u001b[0m\u001b[0m\n\u001b[0;32m--> 419\u001b[0;31m                            collation=collation)\n\u001b[0m\u001b[1;32m    420\u001b[0m         \u001b[0;32mexcept\u001b[0m \u001b[0mOperationFailure\u001b[0m\u001b[0;34m:\u001b[0m\u001b[0;34m\u001b[0m\u001b[0m\n\u001b[1;32m    421\u001b[0m             \u001b[0;32mraise\u001b[0m\u001b[0;34m\u001b[0m\u001b[0m\n",
      "\u001b[0;32m/Users/aksholokhov/.anaconda3/lib/python3.6/site-packages/pymongo/network.py\u001b[0m in \u001b[0;36mcommand\u001b[0;34m(sock, dbname, spec, slave_ok, is_mongos, read_preference, codec_options, check, allowable_errors, address, check_keys, listeners, max_bson_size, read_concern, parse_write_concern_error, collation)\u001b[0m\n\u001b[1;32m    114\u001b[0m             helpers._check_command_response(\n\u001b[1;32m    115\u001b[0m                 \u001b[0mresponse_doc\u001b[0m\u001b[0;34m,\u001b[0m \u001b[0;32mNone\u001b[0m\u001b[0;34m,\u001b[0m \u001b[0mallowable_errors\u001b[0m\u001b[0;34m,\u001b[0m\u001b[0;34m\u001b[0m\u001b[0m\n\u001b[0;32m--> 116\u001b[0;31m                 parse_write_concern_error=parse_write_concern_error)\n\u001b[0m\u001b[1;32m    117\u001b[0m     \u001b[0;32mexcept\u001b[0m \u001b[0mException\u001b[0m \u001b[0;32mas\u001b[0m \u001b[0mexc\u001b[0m\u001b[0;34m:\u001b[0m\u001b[0;34m\u001b[0m\u001b[0m\n\u001b[1;32m    118\u001b[0m         \u001b[0;32mif\u001b[0m \u001b[0mpublish\u001b[0m\u001b[0;34m:\u001b[0m\u001b[0;34m\u001b[0m\u001b[0m\n",
      "\u001b[0;32m/Users/aksholokhov/.anaconda3/lib/python3.6/site-packages/pymongo/helpers.py\u001b[0m in \u001b[0;36m_check_command_response\u001b[0;34m(response, msg, allowable_errors, parse_write_concern_error)\u001b[0m\n\u001b[1;32m    208\u001b[0m \u001b[0;34m\u001b[0m\u001b[0m\n\u001b[1;32m    209\u001b[0m             \u001b[0mmsg\u001b[0m \u001b[0;34m=\u001b[0m \u001b[0mmsg\u001b[0m \u001b[0;32mor\u001b[0m \u001b[0;34m\"%s\"\u001b[0m\u001b[0;34m\u001b[0m\u001b[0m\n\u001b[0;32m--> 210\u001b[0;31m             \u001b[0;32mraise\u001b[0m \u001b[0mOperationFailure\u001b[0m\u001b[0;34m(\u001b[0m\u001b[0mmsg\u001b[0m \u001b[0;34m%\u001b[0m \u001b[0merrmsg\u001b[0m\u001b[0;34m,\u001b[0m \u001b[0mcode\u001b[0m\u001b[0;34m,\u001b[0m \u001b[0mresponse\u001b[0m\u001b[0;34m)\u001b[0m\u001b[0;34m\u001b[0m\u001b[0m\n\u001b[0m\u001b[1;32m    211\u001b[0m \u001b[0;34m\u001b[0m\u001b[0m\n\u001b[1;32m    212\u001b[0m \u001b[0;34m\u001b[0m\u001b[0m\n",
      "\u001b[0;31mOperationFailure\u001b[0m: index not found with name [markdown_text]"
     ]
    }
   ],
   "source": [
    "db.datasets.habrahabr.drop_index(\"markdown_text\")"
   ]
  },
  {
   "cell_type": "code",
   "execution_count": 155,
   "metadata": {
    "collapsed": false,
    "deletable": true,
    "editable": true
   },
   "outputs": [],
   "source": [
    "db.datasets.postnauka.drop_index(\"markdown_text\")"
   ]
  },
  {
   "cell_type": "code",
   "execution_count": 156,
   "metadata": {
    "collapsed": false,
    "deletable": true,
    "editable": true
   },
   "outputs": [
    {
     "name": "stdout",
     "output_type": "stream",
     "text": [
      "CPU times: user 3.24 ms, sys: 5.88 ms, total: 9.11 ms\n",
      "Wall time: 8.54 s\n"
     ]
    },
    {
     "data": {
      "text/plain": [
       "'markdown_text'"
      ]
     },
     "execution_count": 156,
     "metadata": {},
     "output_type": "execute_result"
    }
   ],
   "source": [
    "%%time\n",
    "\n",
    "db.datasets.postnauka.create_index([(\"markdown\", \"text\")], default_language='russian')"
   ]
  },
  {
   "cell_type": "code",
   "execution_count": 157,
   "metadata": {
    "collapsed": false,
    "deletable": true,
    "editable": true
   },
   "outputs": [
    {
     "name": "stdout",
     "output_type": "stream",
     "text": [
      "CPU times: user 52.5 ms, sys: 41.3 ms, total: 93.8 ms\n",
      "Wall time: 4min 14s\n"
     ]
    },
    {
     "data": {
      "text/plain": [
       "'markdown_text'"
      ]
     },
     "execution_count": 157,
     "metadata": {},
     "output_type": "execute_result"
    }
   ],
   "source": [
    "%%time\n",
    "\n",
    "db.datasets.habrahabr.create_index([(\"markdown\", \"text\")], default_language='russian')"
   ]
  },
  {
   "cell_type": "code",
   "execution_count": 127,
   "metadata": {
    "collapsed": false,
    "deletable": true,
    "editable": true
   },
   "outputs": [
    {
     "name": "stdout",
     "output_type": "stream",
     "text": [
      "Математические методы прогнозирования объемов продаж\n"
     ]
    }
   ],
   "source": [
    "for row in db.datasets.postnauka.find({\"authors_names\": {\"$elemMatch\": {\"$eq\": \"Константин Воронцов\"}}}):\n",
    "    print(row)"
   ]
  },
  {
   "cell_type": "code",
   "execution_count": 137,
   "metadata": {
    "collapsed": false,
    "deletable": true,
    "editable": true
   },
   "outputs": [
    {
     "name": "stdout",
     "output_type": "stream",
     "text": [
      "pn_1709 Анализ данных как область знания 2.062361139347119\n",
      "pn_2537 Анализ данных 2.0473438112134357\n",
      "pn_1887 FAQ: Анализ данных 2.0436088319431223\n",
      "pn_681 Главы | Контроль 2.030854885057471\n",
      "pn_658 Анализ социальных сетей в интернете 2.0223983893293065\n",
      "CPU times: user 8.07 ms, sys: 4.04 ms, total: 12.1 ms\n",
      "Wall time: 69.6 ms\n"
     ]
    }
   ],
   "source": [
    "%%time\n",
    "\n",
    "for row in db.datasets.postnauka.find({'$text': {'$search': 'анализы данных'}},\n",
    "                           { \"score\": { \"$meta\": \"textScore\" }}).sort([('score', {'$meta': 'textScore'})]).limit(5):\n",
    "    print(row[\"_id\"], row[\"title\"], row[\"score\"])"
   ]
  },
  {
   "cell_type": "code",
   "execution_count": 148,
   "metadata": {
    "collapsed": false,
    "deletable": true,
    "editable": true
   },
   "outputs": [
    {
     "data": {
      "text/plain": [
       "'habrahabr'"
      ]
     },
     "execution_count": 148,
     "metadata": {},
     "output_type": "execute_result"
    }
   ],
   "source": [
    "db.datasets.habrahabr.name"
   ]
  },
  {
   "cell_type": "code",
   "execution_count": 160,
   "metadata": {
    "collapsed": true,
    "deletable": true,
    "editable": true
   },
   "outputs": [],
   "source": [
    "results = db.datasets.postnauka.find({'$text': {'$search': 'анализы данных'}},\n",
    "                           { \"score\": { \"$meta\": \"textScore\" }}) \\\n",
    "            .limit(5) \\\n",
    "            .sort([('score', {'$meta': 'textScore'})])"
   ]
  },
  {
   "cell_type": "code",
   "execution_count": 159,
   "metadata": {
    "collapsed": false,
    "deletable": true,
    "editable": true
   },
   "outputs": [],
   "source": [
    "for collection in [db.datasets[col] for col in [\"habrahabr\", \"postnauka\"]]:\n",
    "    if not (\"markdown_text\" in collection.index_information().keys()):\n",
    "        collection.create_index([(\"markdown\", \"text\")], default_language='russian')\n",
    "        print(\"%s\"%collection.name)"
   ]
  },
  {
   "cell_type": "code",
   "execution_count": 71,
   "metadata": {
    "collapsed": false,
    "deletable": true,
    "editable": true
   },
   "outputs": [
    {
     "name": "stdout",
     "output_type": "stream",
     "text": [
      "done\n",
      "CPU times: user 663 ms, sys: 2.3 s, total: 2.96 s\n",
      "Wall time: 14.3 s\n"
     ]
    }
   ],
   "source": [
    "%%time\n",
    "\n",
    "if not (\"markdown_text\" in db.model.all_docs.index_information().keys()):\n",
    "    db.model.all_docs.create_index([(\"markdown\", \"text\")], default_language='russian')\n",
    "    print(\"done\")"
   ]
  },
  {
   "cell_type": "code",
   "execution_count": 8,
   "metadata": {
    "collapsed": false,
    "deletable": true,
    "editable": true
   },
   "outputs": [],
   "source": [
    "from server.artm_lib import ArtmDataSource, ArtmBridge, ArtmModel"
   ]
  },
  {
   "cell_type": "code",
   "execution_count": null,
   "metadata": {
    "collapsed": true,
    "deletable": true,
    "editable": true
   },
   "outputs": [],
   "source": [
    "ads = ArtmDataSource()"
   ]
  },
  {
   "cell_type": "code",
   "execution_count": null,
   "metadata": {
    "collapsed": true,
    "deletable": true,
    "editable": true
   },
   "outputs": [],
   "source": [
    "model = ArtmModel(\"../server/hartm\")"
   ]
  },
  {
   "cell_type": "code",
   "execution_count": 101,
   "metadata": {
    "collapsed": false,
    "deletable": true,
    "editable": true
   },
   "outputs": [
    {
     "name": "stdout",
     "output_type": "stream",
     "text": [
      "CPU times: user 156 ms, sys: 66.1 ms, total: 223 ms\n",
      "Wall time: 221 ms\n"
     ]
    }
   ],
   "source": [
    "%%time\n",
    "\n",
    "res = ads.search_query_in_models_docs(query = \"биология\", limit=100)\n",
    "model.get_topics_by_docs_ids(res)"
   ]
  },
  {
   "cell_type": "code",
   "execution_count": 12,
   "metadata": {
    "collapsed": false,
    "deletable": true,
    "editable": true
   },
   "outputs": [
    {
     "name": "stderr",
     "output_type": "stream",
     "text": [
      "/Users/aksholokhov/Local Docs/repos/rysearch/experiments/server/artm_lib.py:79: DeprecationWarning: invalid escape sequence \\d\n",
      "  if regex.match(\"^topic_\\d+$\", tid):\n"
     ]
    }
   ],
   "source": [
    "theta, thresholds, topics, tid_lid = model.get_topics_by_doc_id(\"azaza\")"
   ]
  },
  {
   "cell_type": "code",
   "execution_count": 16,
   "metadata": {
    "collapsed": false,
    "deletable": true,
    "editable": true
   },
   "outputs": [],
   "source": [
    "topics_for_docs = []\n",
    "\n",
    "for doc in res:\n",
    "    if doc[\"doc_id\"] not in thresholds.index:\n",
    "        continue\n",
    "    topics_for_doc = {}\n",
    "    comparsion = theta[doc[\"doc_id\"]] > thresholds[doc[\"doc_id\"]]\n",
    "    topics_for_doc[\"doc_id\"] = doc[\"doc_id\"]\n",
    "    last_level_topics = list(comparsion[comparsion == True].index)\n",
    "    levels_count = tid_lid[last_level_topics[0]][0] + 1\n",
    "    topics_for_doc[\"level_%d\"%(levels_count-1)] = last_level_topics  \n",
    "    for lid in range(1, levels_count)[::-1]:\n",
    "        current_level = topics_for_doc[\"level_%d\"%(lid)]\n",
    "        higher_level = []\n",
    "        for topic in current_level:\n",
    "            higher_level += topics[topic][\"parents\"]\n",
    "        topics_for_doc[\"level_%d\"%(lid-1)] = higher_level\n",
    "    topics_for_docs.append(topics_for_doc)"
   ]
  },
  {
   "cell_type": "code",
   "execution_count": 152,
   "metadata": {
    "collapsed": false,
    "deletable": true,
    "editable": true
   },
   "outputs": [],
   "source": [
    "res = bridge.data_source.search_query_in_models_docs(\"машинное обучение\")\n",
    "\n",
    "theta = bridge.model.theta\n",
    "doc_theta = bridge.model._doc_theta\n",
    "thresholds = bridge.model._doc_thresholds\n",
    "topics = bridge.model.topics\n",
    "tid_lid = bridge.model._to_lid_tid_map\n",
    "\n",
    "\n",
    "import pandas as pd \n",
    "import numpy as np\n",
    "\n",
    "lowest_level_counter = pd.Series(np.zeros(len(doc_theta.index)), index = doc_theta.index)\n",
    "\n",
    "for doc in res:\n",
    "    if doc[\"doc_id\"] not in thresholds.index:\n",
    "        continue\n",
    "    topics_for_doc = {}\n",
    "    lowest_level_counter += (doc_theta[doc[\"doc_id\"]] > thresholds[doc[\"doc_id\"]]).map(lambda x: 1 if x else 0)\n",
    "\n",
    "levels_count = tid_lid[lowest_level_counter.index[0]][0] + 1\n",
    "    \n",
    "answer = pd.Series(np.zeros(len(theta.index)), index = theta.index)\n",
    "answer[lowest_level_counter.index] = lowest_level_counter\n",
    "\n",
    "for lid in range(0, levels_count-1)[::-1]:\n",
    "    curr_level_topics = list(filter(lambda x: x.startswith(\"level_%d_t\"%(lid)), answer.index))\n",
    "    for topic in curr_level_topics:\n",
    "        for child in topics[topic][\"children\"]:\n",
    "            answer[topic] += answer[child]\n",
    "\n",
    "for lid in range(0, levels_count)[::-1]:\n",
    "    curr_level_topics = list(filter(lambda x: x.startswith(\"level_%d_t\"%(lid)), answer.index))\n",
    "    answer[curr_level_topics] /= sum(answer[curr_level_topics])\n",
    "\n",
    "dict(answer)"
   ]
  },
  {
   "cell_type": "code",
   "execution_count": 153,
   "metadata": {
    "collapsed": false,
    "deletable": true,
    "editable": true
   },
   "outputs": [
    {
     "data": {
      "text/plain": [
       "{'level_0_background_0': 0.0,\n",
       " 'level_0_topic_0': 0.0,\n",
       " 'level_0_topic_1': 0.0,\n",
       " 'level_0_topic_10': 0.0,\n",
       " 'level_0_topic_11': 0.0,\n",
       " 'level_0_topic_12': 0.0,\n",
       " 'level_0_topic_13': 0.0,\n",
       " 'level_0_topic_14': 0.0,\n",
       " 'level_0_topic_15': 0.16666666666666666,\n",
       " 'level_0_topic_16': 0.0,\n",
       " 'level_0_topic_17': 0.0,\n",
       " 'level_0_topic_18': 0.66666666666666663,\n",
       " 'level_0_topic_2': 0.0,\n",
       " 'level_0_topic_3': 0.0,\n",
       " 'level_0_topic_4': 0.16666666666666666,\n",
       " 'level_0_topic_5': 0.0,\n",
       " 'level_0_topic_6': 0.0,\n",
       " 'level_0_topic_7': 0.0,\n",
       " 'level_0_topic_8': 0.0,\n",
       " 'level_0_topic_9': 0.0,\n",
       " 'level_1_topic_0': 0.0,\n",
       " 'level_1_topic_1': 0.0,\n",
       " 'level_1_topic_10': 0.0,\n",
       " 'level_1_topic_11': 0.0,\n",
       " 'level_1_topic_12': 0.0,\n",
       " 'level_1_topic_13': 0.0,\n",
       " 'level_1_topic_14': 0.0,\n",
       " 'level_1_topic_15': 0.0,\n",
       " 'level_1_topic_16': 0.0,\n",
       " 'level_1_topic_17': 0.0,\n",
       " 'level_1_topic_18': 0.0,\n",
       " 'level_1_topic_19': 0.0,\n",
       " 'level_1_topic_2': 0.0,\n",
       " 'level_1_topic_20': 0.0,\n",
       " 'level_1_topic_21': 0.0,\n",
       " 'level_1_topic_22': 0.0,\n",
       " 'level_1_topic_23': 0.1875,\n",
       " 'level_1_topic_24': 0.375,\n",
       " 'level_1_topic_25': 0.0,\n",
       " 'level_1_topic_26': 0.0,\n",
       " 'level_1_topic_27': 0.0,\n",
       " 'level_1_topic_28': 0.0,\n",
       " 'level_1_topic_29': 0.0,\n",
       " 'level_1_topic_3': 0.0,\n",
       " 'level_1_topic_30': 0.0,\n",
       " 'level_1_topic_31': 0.0,\n",
       " 'level_1_topic_32': 0.0,\n",
       " 'level_1_topic_33': 0.0,\n",
       " 'level_1_topic_34': 0.0,\n",
       " 'level_1_topic_35': 0.0,\n",
       " 'level_1_topic_36': 0.0,\n",
       " 'level_1_topic_37': 0.0,\n",
       " 'level_1_topic_38': 0.0625,\n",
       " 'level_1_topic_39': 0.0,\n",
       " 'level_1_topic_4': 0.0,\n",
       " 'level_1_topic_40': 0.0,\n",
       " 'level_1_topic_41': 0.0,\n",
       " 'level_1_topic_42': 0.0,\n",
       " 'level_1_topic_43': 0.0625,\n",
       " 'level_1_topic_44': 0.0,\n",
       " 'level_1_topic_45': 0.0,\n",
       " 'level_1_topic_46': 0.0,\n",
       " 'level_1_topic_47': 0.0,\n",
       " 'level_1_topic_48': 0.0,\n",
       " 'level_1_topic_49': 0.0,\n",
       " 'level_1_topic_5': 0.0,\n",
       " 'level_1_topic_50': 0.0,\n",
       " 'level_1_topic_51': 0.0,\n",
       " 'level_1_topic_52': 0.0625,\n",
       " 'level_1_topic_53': 0.0,\n",
       " 'level_1_topic_54': 0.0,\n",
       " 'level_1_topic_55': 0.0,\n",
       " 'level_1_topic_56': 0.0,\n",
       " 'level_1_topic_57': 0.0,\n",
       " 'level_1_topic_58': 0.0,\n",
       " 'level_1_topic_59': 0.0,\n",
       " 'level_1_topic_6': 0.0,\n",
       " 'level_1_topic_7': 0.0,\n",
       " 'level_1_topic_8': 0.25,\n",
       " 'level_1_topic_9': 0.0}"
      ]
     },
     "execution_count": 153,
     "metadata": {},
     "output_type": "execute_result"
    }
   ],
   "source": []
  },
  {
   "cell_type": "code",
   "execution_count": 135,
   "metadata": {
    "collapsed": false,
    "deletable": true,
    "editable": true
   },
   "outputs": [
    {
     "data": {
      "text/plain": [
       "level_1_topic_0     0.0\n",
       "level_1_topic_1     0.0\n",
       "level_1_topic_2     0.0\n",
       "level_1_topic_3     0.0\n",
       "level_1_topic_4     0.0\n",
       "level_1_topic_5     0.0\n",
       "level_1_topic_6     0.0\n",
       "level_1_topic_7     0.0\n",
       "level_1_topic_8     4.0\n",
       "level_1_topic_9     0.0\n",
       "level_1_topic_10    0.0\n",
       "level_1_topic_11    0.0\n",
       "level_1_topic_12    0.0\n",
       "level_1_topic_13    0.0\n",
       "level_1_topic_14    0.0\n",
       "level_1_topic_15    0.0\n",
       "level_1_topic_16    0.0\n",
       "level_1_topic_17    0.0\n",
       "level_1_topic_18    0.0\n",
       "level_1_topic_19    0.0\n",
       "level_1_topic_20    0.0\n",
       "level_1_topic_21    0.0\n",
       "level_1_topic_22    0.0\n",
       "level_1_topic_23    3.0\n",
       "level_1_topic_24    6.0\n",
       "level_1_topic_25    0.0\n",
       "level_1_topic_26    0.0\n",
       "level_1_topic_27    0.0\n",
       "level_1_topic_28    0.0\n",
       "level_1_topic_29    0.0\n",
       "level_1_topic_30    0.0\n",
       "level_1_topic_31    0.0\n",
       "level_1_topic_32    0.0\n",
       "level_1_topic_33    0.0\n",
       "level_1_topic_34    0.0\n",
       "level_1_topic_35    0.0\n",
       "level_1_topic_36    0.0\n",
       "level_1_topic_37    0.0\n",
       "level_1_topic_38    1.0\n",
       "level_1_topic_39    0.0\n",
       "level_1_topic_40    0.0\n",
       "level_1_topic_41    0.0\n",
       "level_1_topic_42    0.0\n",
       "level_1_topic_43    1.0\n",
       "level_1_topic_44    0.0\n",
       "level_1_topic_45    0.0\n",
       "level_1_topic_46    0.0\n",
       "level_1_topic_47    0.0\n",
       "level_1_topic_48    0.0\n",
       "level_1_topic_49    0.0\n",
       "level_1_topic_50    0.0\n",
       "level_1_topic_51    0.0\n",
       "level_1_topic_52    1.0\n",
       "level_1_topic_53    0.0\n",
       "level_1_topic_54    0.0\n",
       "level_1_topic_55    0.0\n",
       "level_1_topic_56    0.0\n",
       "level_1_topic_57    0.0\n",
       "level_1_topic_58    0.0\n",
       "level_1_topic_59    0.0\n",
       "dtype: float64"
      ]
     },
     "execution_count": 135,
     "metadata": {},
     "output_type": "execute_result"
    }
   ],
   "source": [
    "lowest_level_counter"
   ]
  },
  {
   "cell_type": "code",
   "execution_count": 18,
   "metadata": {
    "collapsed": true,
    "deletable": true,
    "editable": true
   },
   "outputs": [],
   "source": [
    "for doc in topics_for_docs:\n",
    "    level_0_topics = []\n",
    "    for topic in doc[\"level_1_topics\"]:\n",
    "        level_0_topics += topics[topic][\"parents\"]\n",
    "    doc[\"level_0_topics\"] = level_0_topics"
   ]
  },
  {
   "cell_type": "code",
   "execution_count": 24,
   "metadata": {
    "collapsed": false,
    "deletable": true,
    "editable": true
   },
   "outputs": [
    {
     "data": {
      "text/plain": [
       "{'children': ['level_1_topic_3'],\n",
       " 'level_id': 0,\n",
       " 'parents': [],\n",
       " 'top_words': ['культура', 'литература', 'культурология'],\n",
       " 'weight': 361}"
      ]
     },
     "execution_count": 24,
     "metadata": {},
     "output_type": "execute_result"
    }
   ],
   "source": [
    "topics[\"level_0_topic_3\"]"
   ]
  },
  {
   "cell_type": "code",
   "execution_count": 10,
   "metadata": {
    "collapsed": false,
    "deletable": true,
    "editable": true
   },
   "outputs": [
    {
     "name": "stdout",
     "output_type": "stream",
     "text": [
      "CPU times: user 1min 50s, sys: 2.98 s, total: 1min 53s\n",
      "Wall time: 1min 50s\n"
     ]
    }
   ],
   "source": [
    "%%time\n",
    "\n",
    "bridge = ArtmBridge(\"../server/hartm\")"
   ]
  },
  {
   "cell_type": "code",
   "execution_count": 11,
   "metadata": {
    "collapsed": false,
    "deletable": true,
    "editable": true
   },
   "outputs": [
    {
     "name": "stdout",
     "output_type": "stream",
     "text": [
      "CPU times: user 242 ms, sys: 41 ms, total: 283 ms\n",
      "Wall time: 1.45 s\n"
     ]
    },
    {
     "data": {
      "text/plain": [
       "({'level_0_background_0': [],\n",
       "  'level_0_topic_0': ['pn_2522',\n",
       "   'habr_82529',\n",
       "   'habr_6853',\n",
       "   'habr_32325',\n",
       "   'pn_1709'],\n",
       "  'level_0_topic_1': ['pn_658',\n",
       "   'habr_115945',\n",
       "   'elem_433077',\n",
       "   'pn_1709',\n",
       "   'habr_19611',\n",
       "   'habr_125392',\n",
       "   'pn_1607'],\n",
       "  'level_0_topic_10': ['pn_2460',\n",
       "   'habr_19718',\n",
       "   'habr_88857',\n",
       "   'habr_103194',\n",
       "   'habr_14266',\n",
       "   'pn_2982',\n",
       "   'pn_1918',\n",
       "   'habr_128858',\n",
       "   'elem_433077',\n",
       "   'habr_120469',\n",
       "   'habr_26049'],\n",
       "  'level_0_topic_11': ['pn_1918', 'elem_431690', 'habr_122489', 'elem_432663'],\n",
       "  'level_0_topic_12': ['pn_658',\n",
       "   'habr_117106',\n",
       "   'pn_390',\n",
       "   'pn_1586',\n",
       "   'habr_103194',\n",
       "   'pn_2491'],\n",
       "  'level_0_topic_13': ['pn_2399', 'elem_433030'],\n",
       "  'level_0_topic_14': ['habr_25149',\n",
       "   'habr_103194',\n",
       "   'pn_2287',\n",
       "   'habr_111915',\n",
       "   'pn_77',\n",
       "   'elem_432663'],\n",
       "  'level_0_topic_15': ['elem_433239',\n",
       "   'habr_119819',\n",
       "   'habr_101394',\n",
       "   'pn_390',\n",
       "   'pn_1804',\n",
       "   'habr_16228',\n",
       "   'habr_120469',\n",
       "   'habr_19611'],\n",
       "  'level_0_topic_16': ['pn_390', 'habr_106547'],\n",
       "  'level_0_topic_17': ['habr_103194'],\n",
       "  'level_0_topic_18': ['elem_431690',\n",
       "   'elem_432663',\n",
       "   'habr_103194',\n",
       "   'elem_432918'],\n",
       "  'level_0_topic_19': ['habr_82529', 'pn_390', 'elem_432663', 'pn_2537'],\n",
       "  'level_0_topic_2': ['pn_1895', 'pn_1586', 'pn_1708', 'pn_2290', 'pn_2344'],\n",
       "  'level_0_topic_3': ['pn_14', 'elem_432507'],\n",
       "  'level_0_topic_4': ['pn_1128', 'elem_433496', 'pn_1472'],\n",
       "  'level_0_topic_5': ['elem_433250',\n",
       "   'pn_14',\n",
       "   'pn_1586',\n",
       "   'pn_1895',\n",
       "   'elem_433496',\n",
       "   'habr_103194',\n",
       "   'pn_2537',\n",
       "   'elem_432663',\n",
       "   'pn_2290'],\n",
       "  'level_0_topic_6': ['elem_432227',\n",
       "   'pn_3369',\n",
       "   'pn_1208',\n",
       "   'elem_431607',\n",
       "   'pn_2147',\n",
       "   'elem_431806',\n",
       "   'pn_2460',\n",
       "   'pn_1871',\n",
       "   'habr_35968',\n",
       "   'habr_26879',\n",
       "   'elem_431508',\n",
       "   'habr_16228',\n",
       "   'pn_1883',\n",
       "   'elem_431448',\n",
       "   'habr_26049',\n",
       "   'elem_431280',\n",
       "   'elem_433058',\n",
       "   'elem_432303'],\n",
       "  'level_0_topic_7': ['elem_431748',\n",
       "   'pn_1871',\n",
       "   'pn_2923',\n",
       "   'elem_431508',\n",
       "   'pn_2363',\n",
       "   'elem_433030',\n",
       "   'habr_97947',\n",
       "   'habr_37505',\n",
       "   'pn_3369',\n",
       "   'elem_431448',\n",
       "   'elem_431280',\n",
       "   'elem_433058'],\n",
       "  'level_0_topic_8': ['pn_2460',\n",
       "   'habr_19718',\n",
       "   'habr_121783',\n",
       "   'habr_88857',\n",
       "   'habr_103194',\n",
       "   'habr_106547',\n",
       "   'habr_14266',\n",
       "   'pn_2982',\n",
       "   'habr_128858',\n",
       "   'elem_433077',\n",
       "   'habr_120469',\n",
       "   'habr_26049'],\n",
       "  'level_0_topic_9': ['habr_37908',\n",
       "   'habr_19133',\n",
       "   'elem_431690',\n",
       "   'habr_91304',\n",
       "   'pn_1051',\n",
       "   'habr_4101',\n",
       "   'pn_2345',\n",
       "   'habr_115945',\n",
       "   'habr_95095',\n",
       "   'habr_68232',\n",
       "   'habr_16228',\n",
       "   'habr_113874',\n",
       "   'habr_42123',\n",
       "   'habr_97947',\n",
       "   'pn_1918',\n",
       "   'habr_118180',\n",
       "   'habr_114510',\n",
       "   'elem_432663',\n",
       "   'habr_117106',\n",
       "   'habr_121783',\n",
       "   'habr_35183',\n",
       "   'habr_116978',\n",
       "   'habr_32325',\n",
       "   'pn_3336',\n",
       "   'habr_37247',\n",
       "   'pn_2290',\n",
       "   'pn_2523',\n",
       "   'pn_2816',\n",
       "   'habr_35968',\n",
       "   'habr_115258',\n",
       "   'habr_106547',\n",
       "   'habr_122911',\n",
       "   'habr_106796',\n",
       "   'pn_4',\n",
       "   'pn_515',\n",
       "   'pn_681',\n",
       "   'pn_1887',\n",
       "   'elem_433058'],\n",
       "  'level_1_background_0': [],\n",
       "  'level_1_topic_0': ['elem_431748',\n",
       "   'pn_1871',\n",
       "   'pn_2923',\n",
       "   'elem_431508',\n",
       "   'pn_2363',\n",
       "   'elem_433030',\n",
       "   'habr_97947',\n",
       "   'habr_37505',\n",
       "   'pn_3369',\n",
       "   'elem_431280',\n",
       "   'elem_433058'],\n",
       "  'level_1_topic_1': ['elem_431806',\n",
       "   'pn_1871',\n",
       "   'elem_432227',\n",
       "   'pn_1208',\n",
       "   'pn_2147',\n",
       "   'habr_16228',\n",
       "   'pn_1883',\n",
       "   'pn_3369',\n",
       "   'elem_431607',\n",
       "   'elem_431448',\n",
       "   'habr_26049',\n",
       "   'elem_431280',\n",
       "   'elem_432303'],\n",
       "  'level_1_topic_10': ['habr_97947', 'elem_433058', 'pn_3369'],\n",
       "  'level_1_topic_11': ['pn_2290'],\n",
       "  'level_1_topic_12': ['pn_2522',\n",
       "   'habr_82529',\n",
       "   'pn_1709',\n",
       "   'habr_6853',\n",
       "   'habr_32325'],\n",
       "  'level_1_topic_13': ['habr_103194', 'elem_432663'],\n",
       "  'level_1_topic_14': ['pn_2460',\n",
       "   'habr_88857',\n",
       "   'habr_103194',\n",
       "   'habr_14266',\n",
       "   'habr_128858',\n",
       "   'habr_120469'],\n",
       "  'level_1_topic_15': ['pn_2344'],\n",
       "  'level_1_topic_16': ['habr_103194'],\n",
       "  'level_1_topic_17': ['elem_433030'],\n",
       "  'level_1_topic_18': ['elem_431806',\n",
       "   'pn_2460',\n",
       "   'habr_35968',\n",
       "   'elem_432227',\n",
       "   'pn_1883',\n",
       "   'elem_431448',\n",
       "   'elem_432303'],\n",
       "  'level_1_topic_19': ['pn_1804'],\n",
       "  'level_1_topic_2': ['habr_115258', 'elem_433030'],\n",
       "  'level_1_topic_20': ['pn_2460',\n",
       "   'habr_106547',\n",
       "   'habr_14266',\n",
       "   'pn_2982',\n",
       "   'habr_128858',\n",
       "   'habr_26049'],\n",
       "  'level_1_topic_21': ['pn_2399', 'elem_433030'],\n",
       "  'level_1_topic_22': ['elem_431806',\n",
       "   'pn_1871',\n",
       "   'elem_431607',\n",
       "   'habr_16228',\n",
       "   'pn_1208',\n",
       "   'elem_431280'],\n",
       "  'level_1_topic_23': ['habr_37908',\n",
       "   'habr_19133',\n",
       "   'elem_431690',\n",
       "   'habr_91304',\n",
       "   'pn_1051',\n",
       "   'habr_4101',\n",
       "   'pn_2345',\n",
       "   'habr_115945',\n",
       "   'habr_95095',\n",
       "   'habr_68232',\n",
       "   'habr_16228',\n",
       "   'habr_113874',\n",
       "   'habr_42123',\n",
       "   'habr_97947',\n",
       "   'pn_1918',\n",
       "   'habr_118180',\n",
       "   'habr_114510',\n",
       "   'elem_432663',\n",
       "   'habr_117106',\n",
       "   'habr_121783',\n",
       "   'habr_35183',\n",
       "   'habr_116978',\n",
       "   'habr_32325',\n",
       "   'pn_3336',\n",
       "   'habr_37247',\n",
       "   'pn_2290',\n",
       "   'pn_2523',\n",
       "   'pn_2816',\n",
       "   'habr_35968',\n",
       "   'habr_115258',\n",
       "   'habr_106547',\n",
       "   'habr_122911',\n",
       "   'habr_106796',\n",
       "   'pn_4',\n",
       "   'pn_515',\n",
       "   'pn_681',\n",
       "   'pn_1887',\n",
       "   'elem_433058'],\n",
       "  'level_1_topic_24': ['pn_1918', 'elem_431690', 'habr_122489', 'elem_432663'],\n",
       "  'level_1_topic_25': ['elem_431806',\n",
       "   'pn_1208',\n",
       "   'pn_1883',\n",
       "   'elem_432303',\n",
       "   'elem_431448'],\n",
       "  'level_1_topic_26': ['pn_390', 'pn_2537'],\n",
       "  'level_1_topic_27': ['habr_25149',\n",
       "   'habr_103194',\n",
       "   'pn_2287',\n",
       "   'habr_111915',\n",
       "   'pn_77',\n",
       "   'elem_432663'],\n",
       "  'level_1_topic_28': ['pn_390'],\n",
       "  'level_1_topic_29': ['pn_1708', 'pn_2290', 'pn_2344', 'pn_1586', 'pn_1895'],\n",
       "  'level_1_topic_3': [],\n",
       "  'level_1_topic_30': ['elem_432663'],\n",
       "  'level_1_topic_31': ['pn_1586', 'pn_2491'],\n",
       "  'level_1_topic_32': ['pn_2344'],\n",
       "  'level_1_topic_33': ['habr_115945',\n",
       "   'habr_125392',\n",
       "   'pn_658',\n",
       "   'elem_433077',\n",
       "   'pn_1709',\n",
       "   'habr_19611',\n",
       "   'pn_1607'],\n",
       "  'level_1_topic_34': ['pn_2147', 'pn_3369', 'pn_1208'],\n",
       "  'level_1_topic_35': ['elem_431690',\n",
       "   'elem_432663',\n",
       "   'habr_103194',\n",
       "   'elem_432918'],\n",
       "  'level_1_topic_36': ['pn_390', 'habr_106547'],\n",
       "  'level_1_topic_37': ['pn_658', 'habr_117106', 'pn_390'],\n",
       "  'level_1_topic_38': ['pn_1918'],\n",
       "  'level_1_topic_39': [],\n",
       "  'level_1_topic_4': ['elem_431806',\n",
       "   'elem_431607',\n",
       "   'habr_16228',\n",
       "   'pn_1208',\n",
       "   'elem_431280',\n",
       "   'elem_432303'],\n",
       "  'level_1_topic_40': ['elem_432507'],\n",
       "  'level_1_topic_41': ['habr_103194',\n",
       "   'elem_432663',\n",
       "   'pn_77',\n",
       "   'habr_111915',\n",
       "   'pn_2287'],\n",
       "  'level_1_topic_42': ['pn_1128', 'elem_433496', 'pn_1472'],\n",
       "  'level_1_topic_43': ['pn_2460',\n",
       "   'habr_19718',\n",
       "   'habr_88857',\n",
       "   'habr_103194',\n",
       "   'pn_2982',\n",
       "   'habr_128858',\n",
       "   'elem_433077',\n",
       "   'habr_120469',\n",
       "   'habr_26049'],\n",
       "  'level_1_topic_44': ['pn_14', 'elem_432507'],\n",
       "  'level_1_topic_45': ['habr_19718', 'elem_433077'],\n",
       "  'level_1_topic_46': ['pn_2399', 'elem_433030'],\n",
       "  'level_1_topic_47': ['elem_433250', 'elem_433496', 'pn_2537'],\n",
       "  'level_1_topic_48': ['habr_121783',\n",
       "   'habr_103194',\n",
       "   'habr_19718',\n",
       "   'habr_14266',\n",
       "   'elem_433077'],\n",
       "  'level_1_topic_49': ['habr_14266'],\n",
       "  'level_1_topic_5': ['pn_2290'],\n",
       "  'level_1_topic_50': ['pn_390', 'habr_19611', 'habr_16228'],\n",
       "  'level_1_topic_51': ['elem_431448', 'elem_431508', 'elem_433058'],\n",
       "  'level_1_topic_52': ['habr_21833', 'elem_432663', 'pn_2460'],\n",
       "  'level_1_topic_53': ['elem_433250', 'pn_2290', 'pn_1586', 'pn_1895'],\n",
       "  'level_1_topic_54': ['habr_35183',\n",
       "   'habr_103194',\n",
       "   'pn_2586',\n",
       "   'pn_2460',\n",
       "   'habr_21833'],\n",
       "  'level_1_topic_55': [],\n",
       "  'level_1_topic_56': ['pn_2522', 'habr_82529', 'pn_1709', 'habr_32325'],\n",
       "  'level_1_topic_57': ['elem_433250',\n",
       "   'pn_14',\n",
       "   'pn_2290',\n",
       "   'pn_1586',\n",
       "   'pn_1895'],\n",
       "  'level_1_topic_58': ['habr_120469',\n",
       "   'elem_433239',\n",
       "   'pn_1804',\n",
       "   'habr_119819',\n",
       "   'habr_101394'],\n",
       "  'level_1_topic_59': [],\n",
       "  'level_1_topic_6': ['habr_82529', 'pn_390', 'elem_432663', 'pn_2537'],\n",
       "  'level_1_topic_7': ['elem_431806',\n",
       "   'habr_26879',\n",
       "   'habr_16228',\n",
       "   'pn_1883',\n",
       "   'pn_1208',\n",
       "   'elem_432303'],\n",
       "  'level_1_topic_8': ['habr_103194', 'pn_390', 'pn_2491'],\n",
       "  'level_1_topic_9': []},\n",
       " {'level_0_background_0': 0.0,\n",
       "  'level_0_topic_0': 0.039130434782608699,\n",
       "  'level_0_topic_1': 0.030434782608695653,\n",
       "  'level_0_topic_10': 0.047826086956521741,\n",
       "  'level_0_topic_11': 0.017391304347826087,\n",
       "  'level_0_topic_12': 0.034782608695652174,\n",
       "  'level_0_topic_13': 0.021739130434782608,\n",
       "  'level_0_topic_14': 0.047826086956521741,\n",
       "  'level_0_topic_15': 0.039130434782608699,\n",
       "  'level_0_topic_16': 0.013043478260869565,\n",
       "  'level_0_topic_17': 0.0043478260869565218,\n",
       "  'level_0_topic_18': 0.017391304347826087,\n",
       "  'level_0_topic_19': 0.026086956521739129,\n",
       "  'level_0_topic_2': 0.039130434782608699,\n",
       "  'level_0_topic_3': 0.013043478260869565,\n",
       "  'level_0_topic_4': 0.013043478260869565,\n",
       "  'level_0_topic_5': 0.060869565217391307,\n",
       "  'level_0_topic_6': 0.21304347826086956,\n",
       "  'level_0_topic_7': 0.073913043478260873,\n",
       "  'level_0_topic_8': 0.082608695652173908,\n",
       "  'level_0_topic_9': 0.16521739130434782,\n",
       "  'level_1_background_0': 0.0,\n",
       "  'level_1_topic_0': 0.046218487394957986,\n",
       "  'level_1_topic_1': 0.054621848739495799,\n",
       "  'level_1_topic_10': 0.012605042016806723,\n",
       "  'level_1_topic_11': 0.0042016806722689074,\n",
       "  'level_1_topic_12': 0.02100840336134454,\n",
       "  'level_1_topic_13': 0.0084033613445378148,\n",
       "  'level_1_topic_14': 0.025210084033613446,\n",
       "  'level_1_topic_15': 0.0042016806722689074,\n",
       "  'level_1_topic_16': 0.0042016806722689074,\n",
       "  'level_1_topic_17': 0.0042016806722689074,\n",
       "  'level_1_topic_18': 0.029411764705882353,\n",
       "  'level_1_topic_19': 0.0042016806722689074,\n",
       "  'level_1_topic_2': 0.0084033613445378148,\n",
       "  'level_1_topic_20': 0.025210084033613446,\n",
       "  'level_1_topic_21': 0.0084033613445378148,\n",
       "  'level_1_topic_22': 0.025210084033613446,\n",
       "  'level_1_topic_23': 0.15966386554621848,\n",
       "  'level_1_topic_24': 0.01680672268907563,\n",
       "  'level_1_topic_25': 0.02100840336134454,\n",
       "  'level_1_topic_26': 0.0084033613445378148,\n",
       "  'level_1_topic_27': 0.025210084033613446,\n",
       "  'level_1_topic_28': 0.0042016806722689074,\n",
       "  'level_1_topic_29': 0.02100840336134454,\n",
       "  'level_1_topic_3': 0.0,\n",
       "  'level_1_topic_30': 0.0042016806722689074,\n",
       "  'level_1_topic_31': 0.0084033613445378148,\n",
       "  'level_1_topic_32': 0.0042016806722689074,\n",
       "  'level_1_topic_33': 0.029411764705882353,\n",
       "  'level_1_topic_34': 0.012605042016806723,\n",
       "  'level_1_topic_35': 0.01680672268907563,\n",
       "  'level_1_topic_36': 0.0084033613445378148,\n",
       "  'level_1_topic_37': 0.012605042016806723,\n",
       "  'level_1_topic_38': 0.0042016806722689074,\n",
       "  'level_1_topic_39': 0.0,\n",
       "  'level_1_topic_4': 0.025210084033613446,\n",
       "  'level_1_topic_40': 0.0042016806722689074,\n",
       "  'level_1_topic_41': 0.02100840336134454,\n",
       "  'level_1_topic_42': 0.012605042016806723,\n",
       "  'level_1_topic_43': 0.037815126050420166,\n",
       "  'level_1_topic_44': 0.0084033613445378148,\n",
       "  'level_1_topic_45': 0.0084033613445378148,\n",
       "  'level_1_topic_46': 0.0084033613445378148,\n",
       "  'level_1_topic_47': 0.012605042016806723,\n",
       "  'level_1_topic_48': 0.02100840336134454,\n",
       "  'level_1_topic_49': 0.0042016806722689074,\n",
       "  'level_1_topic_5': 0.0042016806722689074,\n",
       "  'level_1_topic_50': 0.012605042016806723,\n",
       "  'level_1_topic_51': 0.012605042016806723,\n",
       "  'level_1_topic_52': 0.012605042016806723,\n",
       "  'level_1_topic_53': 0.01680672268907563,\n",
       "  'level_1_topic_54': 0.02100840336134454,\n",
       "  'level_1_topic_55': 0.0,\n",
       "  'level_1_topic_56': 0.01680672268907563,\n",
       "  'level_1_topic_57': 0.02100840336134454,\n",
       "  'level_1_topic_58': 0.02100840336134454,\n",
       "  'level_1_topic_59': 0.0,\n",
       "  'level_1_topic_6': 0.01680672268907563,\n",
       "  'level_1_topic_7': 0.025210084033613446,\n",
       "  'level_1_topic_8': 0.012605042016806723,\n",
       "  'level_1_topic_9': 0.0})"
      ]
     },
     "execution_count": 11,
     "metadata": {},
     "output_type": "execute_result"
    }
   ],
   "source": [
    "%%time\n",
    "bridge.search_documents(\"анализ данных\", limit=100)"
   ]
  },
  {
   "cell_type": "markdown",
   "metadata": {
    "deletable": true,
    "editable": true
   },
   "source": [
    "## Мержинг коллекций "
   ]
  },
  {
   "cell_type": "code",
   "execution_count": 11,
   "metadata": {
    "collapsed": false,
    "deletable": true,
    "editable": true
   },
   "outputs": [
    {
     "name": "stdout",
     "output_type": "stream",
     "text": [
      "CPU times: user 41.1 s, sys: 3.33 s, total: 44.4 s\n",
      "Wall time: 1min 7s\n"
     ]
    }
   ],
   "source": [
    "%%time\n",
    "\n",
    "all_docs_ids = set(bridge._model._doc_theta.columns)\n",
    "\n",
    "for collection in db.datasets.collection_names():\n",
    "    for doc in db.datasets[collection].find():\n",
    "        if doc[\"_id\"] in all_docs_ids:\n",
    "            db.model.all_docs.insert_one(doc)"
   ]
  },
  {
   "cell_type": "code",
   "execution_count": 12,
   "metadata": {
    "collapsed": false,
    "deletable": true,
    "editable": true
   },
   "outputs": [
    {
     "name": "stdout",
     "output_type": "stream",
     "text": [
      "CPU times: user 513 ms, sys: 411 ms, total: 924 ms\n",
      "Wall time: 21.3 s\n"
     ]
    },
    {
     "data": {
      "text/plain": [
       "'markdown_text'"
      ]
     },
     "execution_count": 12,
     "metadata": {},
     "output_type": "execute_result"
    }
   ],
   "source": [
    "%%time\n",
    "\n",
    "db.model.all_docs.create_index([(\"markdown\", \"text\")], default_language=\"russian\")"
   ]
  },
  {
   "cell_type": "code",
   "execution_count": 13,
   "metadata": {
    "collapsed": false,
    "deletable": true,
    "editable": true
   },
   "outputs": [
    {
     "data": {
      "text/plain": [
       "5188"
      ]
     },
     "execution_count": 13,
     "metadata": {},
     "output_type": "execute_result"
    }
   ],
   "source": [
    "db.model.all_docs.count()"
   ]
  },
  {
   "cell_type": "markdown",
   "metadata": {
    "deletable": true,
    "editable": true
   },
   "source": [
    "---"
   ]
  }
 ],
 "metadata": {
  "kernelspec": {
   "display_name": "Python 3",
   "language": "python",
   "name": "python3"
  },
  "language_info": {
   "codemirror_mode": {
    "name": "ipython",
    "version": 3
   },
   "file_extension": ".py",
   "mimetype": "text/x-python",
   "name": "python",
   "nbconvert_exporter": "python",
   "pygments_lexer": "ipython3",
   "version": "3.5.3"
  },
  "latex_envs": {
   "bibliofile": "biblio.bib",
   "cite_by": "apalike",
   "current_citInitial": 1,
   "eqLabelWithNumbers": true,
   "eqNumInitial": 0
  }
 },
 "nbformat": 4,
 "nbformat_minor": 2
}
