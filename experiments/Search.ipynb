{
 "cells": [
  {
   "cell_type": "code",
   "execution_count": 2,
   "metadata": {
    "collapsed": true,
    "deletable": true,
    "editable": true
   },
   "outputs": [],
   "source": [
    "%load_ext autoreload"
   ]
  },
  {
   "cell_type": "code",
   "execution_count": 3,
   "metadata": {
    "collapsed": true,
    "deletable": true,
    "editable": true
   },
   "outputs": [],
   "source": [
    "%autoreload 2"
   ]
  },
  {
   "cell_type": "code",
   "execution_count": 4,
   "metadata": {
    "collapsed": true,
    "deletable": true,
    "editable": true
   },
   "outputs": [],
   "source": [
    "import warnings\n",
    "warnings.filterwarnings(\"ignore\", category=DeprecationWarning)"
   ]
  },
  {
   "cell_type": "code",
   "execution_count": 36,
   "metadata": {
    "collapsed": false,
    "deletable": true,
    "editable": true
   },
   "outputs": [],
   "source": [
    "from pymongo import MongoClient\n",
    "from tqdm import tqdm"
   ]
  },
  {
   "cell_type": "code",
   "execution_count": 6,
   "metadata": {
    "collapsed": true,
    "deletable": true,
    "editable": true
   },
   "outputs": [],
   "source": [
    "db = MongoClient()"
   ]
  },
  {
   "cell_type": "code",
   "execution_count": 7,
   "metadata": {
    "collapsed": false,
    "deletable": true,
    "editable": true
   },
   "outputs": [],
   "source": [
    "row = next(db.datasets.elementy.find().limit(1))"
   ]
  },
  {
   "cell_type": "code",
   "execution_count": 8,
   "metadata": {
    "collapsed": false,
    "deletable": true,
    "editable": true
   },
   "outputs": [
    {
     "data": {
      "text/plain": [
       "dict_keys(['_id', 'markdown', 'modalities', 'url', 'summary', 'title'])"
      ]
     },
     "execution_count": 8,
     "metadata": {},
     "output_type": "execute_result"
    }
   ],
   "source": [
    "row.keys()"
   ]
  },
  {
   "cell_type": "code",
   "execution_count": null,
   "metadata": {
    "deletable": true,
    "editable": true
   },
   "outputs": [],
   "source": [
    "db.datasets.habrahabr.drop_index(\"markdown_text\")"
   ]
  },
  {
   "cell_type": "code",
   "execution_count": null,
   "metadata": {
    "deletable": true,
    "editable": true
   },
   "outputs": [],
   "source": [
    "db.datasets.postnauka.drop_index(\"markdown_text\")"
   ]
  },
  {
   "cell_type": "code",
   "execution_count": 21,
   "metadata": {
    "collapsed": false,
    "deletable": true,
    "editable": true
   },
   "outputs": [
    {
     "name": "stdout",
     "output_type": "stream",
     "text": [
      "CPU times: user 1.73 ms, sys: 1.24 ms, total: 2.97 ms\n",
      "Wall time: 2.74 ms\n"
     ]
    }
   ],
   "source": [
    "%%time\n",
    "\n",
    "for collection_name in (\"postnauka\", \"habrahabr\", \"elementy\"):\n",
    "    db.datasets[collection_name].create_index([(\"markdown\", \"text\")], default_language=\"russian\")"
   ]
  },
  {
   "cell_type": "code",
   "execution_count": 22,
   "metadata": {
    "collapsed": false,
    "deletable": true,
    "editable": true
   },
   "outputs": [
    {
     "name": "stdout",
     "output_type": "stream",
     "text": [
      "Математические методы прогнозирования объемов продаж\n"
     ]
    }
   ],
   "source": [
    "for row in db.datasets.postnauka.find({\"authors_names\": {\"$elemMatch\": {\"$eq\": \"Константин Воронцов\"}}}):\n",
    "    print(row[\"title\"])"
   ]
  },
  {
   "cell_type": "code",
   "execution_count": 23,
   "metadata": {
    "collapsed": false,
    "deletable": true,
    "editable": true
   },
   "outputs": [
    {
     "name": "stdout",
     "output_type": "stream",
     "text": [
      "pn_1709 Анализ данных как область знания 2.062361139347119\n",
      "pn_2537 Анализ данных 2.0473438112134357\n",
      "pn_1887 FAQ: Анализ данных 2.0436088319431223\n",
      "pn_681 Главы | Контроль 2.030854885057471\n",
      "pn_658 Анализ социальных сетей в интернете 2.0223983893293065\n",
      "CPU times: user 4.43 ms, sys: 1.52 ms, total: 5.94 ms\n",
      "Wall time: 89.8 ms\n"
     ]
    }
   ],
   "source": [
    "%%time\n",
    "\n",
    "for row in db.datasets.postnauka.find({'$text': {'$search': 'анализы данных'}},\n",
    "                           { \"score\": { \"$meta\": \"textScore\" }}).sort([('score', {'$meta': 'textScore'})]).limit(5):\n",
    "    print(row[\"_id\"], row[\"title\"], row[\"score\"])"
   ]
  },
  {
   "cell_type": "code",
   "execution_count": 71,
   "metadata": {
    "collapsed": false,
    "deletable": true,
    "editable": true
   },
   "outputs": [
    {
     "name": "stdout",
     "output_type": "stream",
     "text": [
      "done\n",
      "CPU times: user 663 ms, sys: 2.3 s, total: 2.96 s\n",
      "Wall time: 14.3 s\n"
     ]
    }
   ],
   "source": [
    "%%time\n",
    "\n",
    "if not (\"markdown_text\" in db.model.all_docs.index_information().keys()):\n",
    "    db.model.all_docs.create_index([(\"markdown\", \"text\")], default_language='russian')\n",
    "    print(\"done\")"
   ]
  },
  {
   "cell_type": "code",
   "execution_count": 25,
   "metadata": {
    "collapsed": false,
    "deletable": true,
    "editable": true
   },
   "outputs": [],
   "source": [
    "from server.artm_lib import ArtmDataSource, ArtmBridge, ArtmModel"
   ]
  },
  {
   "cell_type": "code",
   "execution_count": null,
   "metadata": {
    "collapsed": true,
    "deletable": true,
    "editable": true
   },
   "outputs": [],
   "source": [
    "ads = ArtmDataSource()"
   ]
  },
  {
   "cell_type": "code",
   "execution_count": null,
   "metadata": {
    "collapsed": true,
    "deletable": true,
    "editable": true
   },
   "outputs": [],
   "source": [
    "model = ArtmModel(\"../server/hartm\")"
   ]
  },
  {
   "cell_type": "code",
   "execution_count": 101,
   "metadata": {
    "collapsed": false,
    "deletable": true,
    "editable": true
   },
   "outputs": [
    {
     "name": "stdout",
     "output_type": "stream",
     "text": [
      "CPU times: user 156 ms, sys: 66.1 ms, total: 223 ms\n",
      "Wall time: 221 ms\n"
     ]
    }
   ],
   "source": [
    "%%time\n",
    "\n",
    "res = ads.search_query_in_models_docs(query = \"биология\", limit=100)\n",
    "model.get_topics_by_docs_ids(res)"
   ]
  },
  {
   "cell_type": "code",
   "execution_count": 12,
   "metadata": {
    "collapsed": false,
    "deletable": true,
    "editable": true
   },
   "outputs": [
    {
     "name": "stderr",
     "output_type": "stream",
     "text": [
      "/Users/aksholokhov/Local Docs/repos/rysearch/experiments/server/artm_lib.py:79: DeprecationWarning: invalid escape sequence \\d\n",
      "  if regex.match(\"^topic_\\d+$\", tid):\n"
     ]
    }
   ],
   "source": [
    "theta, thresholds, topics, tid_lid = model.get_topics_by_doc_id(\"azaza\")"
   ]
  },
  {
   "cell_type": "code",
   "execution_count": 16,
   "metadata": {
    "collapsed": false,
    "deletable": true,
    "editable": true
   },
   "outputs": [],
   "source": [
    "topics_for_docs = []\n",
    "\n",
    "for doc in res:\n",
    "    if doc[\"doc_id\"] not in thresholds.index:\n",
    "        continue\n",
    "    topics_for_doc = {}\n",
    "    comparsion = theta[doc[\"doc_id\"]] > thresholds[doc[\"doc_id\"]]\n",
    "    topics_for_doc[\"doc_id\"] = doc[\"doc_id\"]\n",
    "    last_level_topics = list(comparsion[comparsion == True].index)\n",
    "    levels_count = tid_lid[last_level_topics[0]][0] + 1\n",
    "    topics_for_doc[\"level_%d\"%(levels_count-1)] = last_level_topics  \n",
    "    for lid in range(1, levels_count)[::-1]:\n",
    "        current_level = topics_for_doc[\"level_%d\"%(lid)]\n",
    "        higher_level = []\n",
    "        for topic in current_level:\n",
    "            higher_level += topics[topic][\"parents\"]\n",
    "        topics_for_doc[\"level_%d\"%(lid-1)] = higher_level\n",
    "    topics_for_docs.append(topics_for_doc)"
   ]
  },
  {
   "cell_type": "code",
   "execution_count": 152,
   "metadata": {
    "collapsed": false,
    "deletable": true,
    "editable": true
   },
   "outputs": [],
   "source": [
    "res = bridge.data_source.search_query_in_models_docs(\"машинное обучение\")\n",
    "\n",
    "theta = bridge.model.theta\n",
    "doc_theta = bridge.model._doc_theta\n",
    "thresholds = bridge.model._doc_thresholds\n",
    "topics = bridge.model.topics\n",
    "tid_lid = bridge.model._to_lid_tid_map\n",
    "\n",
    "\n",
    "import pandas as pd \n",
    "import numpy as np\n",
    "\n",
    "lowest_level_counter = pd.Series(np.zeros(len(doc_theta.index)), index = doc_theta.index)\n",
    "\n",
    "for doc in res:\n",
    "    if doc[\"doc_id\"] not in thresholds.index:\n",
    "        continue\n",
    "    topics_for_doc = {}\n",
    "    lowest_level_counter += (doc_theta[doc[\"doc_id\"]] > thresholds[doc[\"doc_id\"]]).map(lambda x: 1 if x else 0)\n",
    "\n",
    "levels_count = tid_lid[lowest_level_counter.index[0]][0] + 1\n",
    "    \n",
    "answer = pd.Series(np.zeros(len(theta.index)), index = theta.index)\n",
    "answer[lowest_level_counter.index] = lowest_level_counter\n",
    "\n",
    "for lid in range(0, levels_count-1)[::-1]:\n",
    "    curr_level_topics = list(filter(lambda x: x.startswith(\"level_%d_t\"%(lid)), answer.index))\n",
    "    for topic in curr_level_topics:\n",
    "        for child in topics[topic][\"children\"]:\n",
    "            answer[topic] += answer[child]\n",
    "\n",
    "for lid in range(0, levels_count)[::-1]:\n",
    "    curr_level_topics = list(filter(lambda x: x.startswith(\"level_%d_t\"%(lid)), answer.index))\n",
    "    answer[curr_level_topics] /= sum(answer[curr_level_topics])\n",
    "\n",
    "dict(answer)"
   ]
  },
  {
   "cell_type": "code",
   "execution_count": 18,
   "metadata": {
    "collapsed": true,
    "deletable": true,
    "editable": true
   },
   "outputs": [],
   "source": [
    "for doc in topics_for_docs:\n",
    "    level_0_topics = []\n",
    "    for topic in doc[\"level_1_topics\"]:\n",
    "        level_0_topics += topics[topic][\"parents\"]\n",
    "    doc[\"level_0_topics\"] = level_0_topics"
   ]
  },
  {
   "cell_type": "code",
   "execution_count": 24,
   "metadata": {
    "collapsed": false,
    "deletable": true,
    "editable": true
   },
   "outputs": [
    {
     "data": {
      "text/plain": [
       "{'children': ['level_1_topic_3'],\n",
       " 'level_id': 0,\n",
       " 'parents': [],\n",
       " 'top_words': ['культура', 'литература', 'культурология'],\n",
       " 'weight': 361}"
      ]
     },
     "execution_count": 24,
     "metadata": {},
     "output_type": "execute_result"
    }
   ],
   "source": [
    "topics[\"level_0_topic_3\"]"
   ]
  },
  {
   "cell_type": "markdown",
   "metadata": {
    "deletable": true,
    "editable": true
   },
   "source": [
    "## Мержинг коллекций "
   ]
  },
  {
   "cell_type": "code",
   "execution_count": 26,
   "metadata": {},
   "outputs": [
    {
     "name": "stdout",
     "output_type": "stream",
     "text": [
      "CPU times: user 7.56 s, sys: 633 ms, total: 8.19 s\n",
      "Wall time: 8.75 s\n"
     ]
    }
   ],
   "source": [
    "%%time\n",
    "\n",
    "bridge = ArtmBridge(\"../server/hartm\")"
   ]
  },
  {
   "cell_type": "code",
   "execution_count": 38,
   "metadata": {
    "collapsed": false,
    "deletable": true,
    "editable": true
   },
   "outputs": [
    {
     "name": "stderr",
     "output_type": "stream",
     "text": [
      "2017it [00:02, 951.00it/s]\n",
      "94785it [00:28, 3312.63it/s]\n",
      "2976it [00:04, 643.45it/s]"
     ]
    },
    {
     "name": "stdout",
     "output_type": "stream",
     "text": [
      "CPU times: user 22 s, sys: 3.12 s, total: 25.1 s\n",
      "Wall time: 35.4 s\n"
     ]
    },
    {
     "name": "stderr",
     "output_type": "stream",
     "text": [
      "\n"
     ]
    }
   ],
   "source": [
    "%%time\n",
    "\n",
    "all_docs_ids = set(bridge._model._doc_theta.columns)\n",
    "\n",
    "for collection in db.datasets.list_collection_names():\n",
    "    for doc in tqdm(db.datasets[collection].find()):\n",
    "        if doc[\"_id\"] in all_docs_ids:\n",
    "            db.model.all_docs.insert_one(doc)"
   ]
  },
  {
   "cell_type": "code",
   "execution_count": 40,
   "metadata": {
    "collapsed": false,
    "deletable": true,
    "editable": true
   },
   "outputs": [
    {
     "name": "stdout",
     "output_type": "stream",
     "text": [
      "CPU times: user 367 ms, sys: 460 ms, total: 827 ms\n",
      "Wall time: 15.9 s\n"
     ]
    },
    {
     "data": {
      "text/plain": [
       "'markdown_text'"
      ]
     },
     "execution_count": 40,
     "metadata": {},
     "output_type": "execute_result"
    }
   ],
   "source": [
    "%%time\n",
    "\n",
    "db.model.all_docs.create_index([(\"markdown\", \"text\")], default_language=\"russian\")"
   ]
  },
  {
   "cell_type": "code",
   "execution_count": 45,
   "metadata": {
    "collapsed": false,
    "deletable": true,
    "editable": true
   },
   "outputs": [
    {
     "data": {
      "text/plain": [
       "5188"
      ]
     },
     "execution_count": 45,
     "metadata": {},
     "output_type": "execute_result"
    }
   ],
   "source": [
    "db.model.all_docs.count_documents({})"
   ]
  },
  {
   "cell_type": "markdown",
   "metadata": {
    "deletable": true,
    "editable": true
   },
   "source": [
    "---"
   ]
  }
 ],
 "metadata": {
  "kernelspec": {
   "display_name": "Python 3",
   "language": "python",
   "name": "python3"
  },
  "language_info": {
   "codemirror_mode": {
    "name": "ipython",
    "version": 3
   },
   "file_extension": ".py",
   "mimetype": "text/x-python",
   "name": "python",
   "nbconvert_exporter": "python",
   "pygments_lexer": "ipython3",
   "version": "3.6.8"
  },
  "latex_envs": {
   "bibliofile": "biblio.bib",
   "cite_by": "apalike",
   "current_citInitial": 1,
   "eqLabelWithNumbers": true,
   "eqNumInitial": 0
  }
 },
 "nbformat": 4,
 "nbformat_minor": 2
}
