{
 "cells": [
  {
   "cell_type": "code",
   "execution_count": 1,
   "metadata": {
    "collapsed": true,
    "deletable": true,
    "editable": true
   },
   "outputs": [],
   "source": [
    "%load_ext autoreload"
   ]
  },
  {
   "cell_type": "code",
   "execution_count": 2,
   "metadata": {
    "collapsed": true,
    "deletable": true,
    "editable": true
   },
   "outputs": [],
   "source": [
    "%autoreload 2"
   ]
  },
  {
   "cell_type": "code",
   "execution_count": 8,
   "metadata": {
    "collapsed": true
   },
   "outputs": [],
   "source": [
    "import warnings\n",
    "warnings.filterwarnings(\"ignore\", category=DeprecationWarning)"
   ]
  },
  {
   "cell_type": "code",
   "execution_count": 3,
   "metadata": {
    "collapsed": false,
    "deletable": true,
    "editable": true
   },
   "outputs": [],
   "source": [
    "from pymongo import MongoClient"
   ]
  },
  {
   "cell_type": "code",
   "execution_count": 4,
   "metadata": {
    "collapsed": true,
    "deletable": true,
    "editable": true
   },
   "outputs": [],
   "source": [
    "db = MongoClient()"
   ]
  },
  {
   "cell_type": "code",
   "execution_count": 5,
   "metadata": {
    "collapsed": false,
    "deletable": true,
    "editable": true
   },
   "outputs": [],
   "source": [
    "row = next(db.datasets.elementy.find().limit(1))"
   ]
  },
  {
   "cell_type": "code",
   "execution_count": 6,
   "metadata": {
    "collapsed": false,
    "deletable": true,
    "editable": true
   },
   "outputs": [
    {
     "data": {
      "text/plain": [
       "dict_keys(['_id', 'markdown', 'title', 'url', 'modalities', 'summary'])"
      ]
     },
     "execution_count": 6,
     "metadata": {},
     "output_type": "execute_result"
    }
   ],
   "source": [
    "row.keys()"
   ]
  },
  {
   "cell_type": "code",
   "execution_count": 153,
   "metadata": {
    "collapsed": true,
    "deletable": true,
    "editable": true
   },
   "outputs": [
    {
     "ename": "OperationFailure",
     "evalue": "index not found with name [markdown_text]",
     "output_type": "error",
     "traceback": [
      "\u001b[0;31m--------------------------------------------------------\u001b[0m",
      "\u001b[0;31mOperationFailure\u001b[0m       Traceback (most recent call last)",
      "\u001b[0;32m<ipython-input-153-d711c49089b9>\u001b[0m in \u001b[0;36m<module>\u001b[0;34m()\u001b[0m\n\u001b[0;32m----> 1\u001b[0;31m \u001b[0mdb\u001b[0m\u001b[0;34m.\u001b[0m\u001b[0mdatasets\u001b[0m\u001b[0;34m.\u001b[0m\u001b[0mhabrahabr\u001b[0m\u001b[0;34m.\u001b[0m\u001b[0mdrop_index\u001b[0m\u001b[0;34m(\u001b[0m\u001b[0;34m\"markdown_text\"\u001b[0m\u001b[0;34m)\u001b[0m\u001b[0;34m\u001b[0m\u001b[0m\n\u001b[0m",
      "\u001b[0;32m/Users/aksholokhov/.anaconda3/lib/python3.6/site-packages/pymongo/collection.py\u001b[0m in \u001b[0;36mdrop_index\u001b[0;34m(self, index_or_name)\u001b[0m\n\u001b[1;32m   1629\u001b[0m                           \u001b[0mallowable_errors\u001b[0m\u001b[0;34m=\u001b[0m\u001b[0;34m[\u001b[0m\u001b[0;34m\"ns not found\"\u001b[0m\u001b[0;34m]\u001b[0m\u001b[0;34m,\u001b[0m\u001b[0;34m\u001b[0m\u001b[0m\n\u001b[1;32m   1630\u001b[0m                           \u001b[0mwrite_concern\u001b[0m\u001b[0;34m=\u001b[0m\u001b[0mself\u001b[0m\u001b[0;34m.\u001b[0m\u001b[0mwrite_concern\u001b[0m\u001b[0;34m,\u001b[0m\u001b[0;34m\u001b[0m\u001b[0m\n\u001b[0;32m-> 1631\u001b[0;31m                           parse_write_concern_error=True)\n\u001b[0m\u001b[1;32m   1632\u001b[0m \u001b[0;34m\u001b[0m\u001b[0m\n\u001b[1;32m   1633\u001b[0m     \u001b[0;32mdef\u001b[0m \u001b[0mreindex\u001b[0m\u001b[0;34m(\u001b[0m\u001b[0mself\u001b[0m\u001b[0;34m)\u001b[0m\u001b[0;34m:\u001b[0m\u001b[0;34m\u001b[0m\u001b[0m\n",
      "\u001b[0;32m/Users/aksholokhov/.anaconda3/lib/python3.6/site-packages/pymongo/collection.py\u001b[0m in \u001b[0;36m_command\u001b[0;34m(self, sock_info, command, slave_ok, read_preference, codec_options, check, allowable_errors, read_concern, write_concern, parse_write_concern_error, collation)\u001b[0m\n\u001b[1;32m    230\u001b[0m             \u001b[0mwrite_concern\u001b[0m\u001b[0;34m=\u001b[0m\u001b[0mwrite_concern\u001b[0m\u001b[0;34m,\u001b[0m\u001b[0;34m\u001b[0m\u001b[0m\n\u001b[1;32m    231\u001b[0m             \u001b[0mparse_write_concern_error\u001b[0m\u001b[0;34m=\u001b[0m\u001b[0mparse_write_concern_error\u001b[0m\u001b[0;34m,\u001b[0m\u001b[0;34m\u001b[0m\u001b[0m\n\u001b[0;32m--> 232\u001b[0;31m             collation=collation)\n\u001b[0m\u001b[1;32m    233\u001b[0m \u001b[0;34m\u001b[0m\u001b[0m\n\u001b[1;32m    234\u001b[0m     \u001b[0;32mdef\u001b[0m \u001b[0m__create\u001b[0m\u001b[0;34m(\u001b[0m\u001b[0mself\u001b[0m\u001b[0;34m,\u001b[0m \u001b[0moptions\u001b[0m\u001b[0;34m,\u001b[0m \u001b[0mcollation\u001b[0m\u001b[0;34m)\u001b[0m\u001b[0;34m:\u001b[0m\u001b[0;34m\u001b[0m\u001b[0m\n",
      "\u001b[0;32m/Users/aksholokhov/.anaconda3/lib/python3.6/site-packages/pymongo/pool.py\u001b[0m in \u001b[0;36mcommand\u001b[0;34m(self, dbname, spec, slave_ok, read_preference, codec_options, check, allowable_errors, check_keys, read_concern, write_concern, parse_write_concern_error, collation)\u001b[0m\n\u001b[1;32m    417\u001b[0m                            \u001b[0mread_concern\u001b[0m\u001b[0;34m,\u001b[0m\u001b[0;34m\u001b[0m\u001b[0m\n\u001b[1;32m    418\u001b[0m                            \u001b[0mparse_write_concern_error\u001b[0m\u001b[0;34m=\u001b[0m\u001b[0mparse_write_concern_error\u001b[0m\u001b[0;34m,\u001b[0m\u001b[0;34m\u001b[0m\u001b[0m\n\u001b[0;32m--> 419\u001b[0;31m                            collation=collation)\n\u001b[0m\u001b[1;32m    420\u001b[0m         \u001b[0;32mexcept\u001b[0m \u001b[0mOperationFailure\u001b[0m\u001b[0;34m:\u001b[0m\u001b[0;34m\u001b[0m\u001b[0m\n\u001b[1;32m    421\u001b[0m             \u001b[0;32mraise\u001b[0m\u001b[0;34m\u001b[0m\u001b[0m\n",
      "\u001b[0;32m/Users/aksholokhov/.anaconda3/lib/python3.6/site-packages/pymongo/network.py\u001b[0m in \u001b[0;36mcommand\u001b[0;34m(sock, dbname, spec, slave_ok, is_mongos, read_preference, codec_options, check, allowable_errors, address, check_keys, listeners, max_bson_size, read_concern, parse_write_concern_error, collation)\u001b[0m\n\u001b[1;32m    114\u001b[0m             helpers._check_command_response(\n\u001b[1;32m    115\u001b[0m                 \u001b[0mresponse_doc\u001b[0m\u001b[0;34m,\u001b[0m \u001b[0;32mNone\u001b[0m\u001b[0;34m,\u001b[0m \u001b[0mallowable_errors\u001b[0m\u001b[0;34m,\u001b[0m\u001b[0;34m\u001b[0m\u001b[0m\n\u001b[0;32m--> 116\u001b[0;31m                 parse_write_concern_error=parse_write_concern_error)\n\u001b[0m\u001b[1;32m    117\u001b[0m     \u001b[0;32mexcept\u001b[0m \u001b[0mException\u001b[0m \u001b[0;32mas\u001b[0m \u001b[0mexc\u001b[0m\u001b[0;34m:\u001b[0m\u001b[0;34m\u001b[0m\u001b[0m\n\u001b[1;32m    118\u001b[0m         \u001b[0;32mif\u001b[0m \u001b[0mpublish\u001b[0m\u001b[0;34m:\u001b[0m\u001b[0;34m\u001b[0m\u001b[0m\n",
      "\u001b[0;32m/Users/aksholokhov/.anaconda3/lib/python3.6/site-packages/pymongo/helpers.py\u001b[0m in \u001b[0;36m_check_command_response\u001b[0;34m(response, msg, allowable_errors, parse_write_concern_error)\u001b[0m\n\u001b[1;32m    208\u001b[0m \u001b[0;34m\u001b[0m\u001b[0m\n\u001b[1;32m    209\u001b[0m             \u001b[0mmsg\u001b[0m \u001b[0;34m=\u001b[0m \u001b[0mmsg\u001b[0m \u001b[0;32mor\u001b[0m \u001b[0;34m\"%s\"\u001b[0m\u001b[0;34m\u001b[0m\u001b[0m\n\u001b[0;32m--> 210\u001b[0;31m             \u001b[0;32mraise\u001b[0m \u001b[0mOperationFailure\u001b[0m\u001b[0;34m(\u001b[0m\u001b[0mmsg\u001b[0m \u001b[0;34m%\u001b[0m \u001b[0merrmsg\u001b[0m\u001b[0;34m,\u001b[0m \u001b[0mcode\u001b[0m\u001b[0;34m,\u001b[0m \u001b[0mresponse\u001b[0m\u001b[0;34m)\u001b[0m\u001b[0;34m\u001b[0m\u001b[0m\n\u001b[0m\u001b[1;32m    211\u001b[0m \u001b[0;34m\u001b[0m\u001b[0m\n\u001b[1;32m    212\u001b[0m \u001b[0;34m\u001b[0m\u001b[0m\n",
      "\u001b[0;31mOperationFailure\u001b[0m: index not found with name [markdown_text]"
     ]
    }
   ],
   "source": [
    "db.datasets.habrahabr.drop_index(\"markdown_text\")"
   ]
  },
  {
   "cell_type": "code",
   "execution_count": 155,
   "metadata": {
    "collapsed": false,
    "deletable": true,
    "editable": true
   },
   "outputs": [],
   "source": [
    "db.datasets.postnauka.drop_index(\"markdown_text\")"
   ]
  },
  {
   "cell_type": "code",
   "execution_count": 156,
   "metadata": {
    "collapsed": false,
    "deletable": true,
    "editable": true
   },
   "outputs": [
    {
     "name": "stdout",
     "output_type": "stream",
     "text": [
      "CPU times: user 3.24 ms, sys: 5.88 ms, total: 9.11 ms\n",
      "Wall time: 8.54 s\n"
     ]
    },
    {
     "data": {
      "text/plain": [
       "'markdown_text'"
      ]
     },
     "execution_count": 156,
     "metadata": {},
     "output_type": "execute_result"
    }
   ],
   "source": [
    "%%time\n",
    "\n",
    "db.datasets.postnauka.create_index([(\"markdown\", \"text\")], default_language='russian')"
   ]
  },
  {
   "cell_type": "code",
   "execution_count": 157,
   "metadata": {
    "collapsed": false,
    "deletable": true,
    "editable": true
   },
   "outputs": [
    {
     "name": "stdout",
     "output_type": "stream",
     "text": [
      "CPU times: user 52.5 ms, sys: 41.3 ms, total: 93.8 ms\n",
      "Wall time: 4min 14s\n"
     ]
    },
    {
     "data": {
      "text/plain": [
       "'markdown_text'"
      ]
     },
     "execution_count": 157,
     "metadata": {},
     "output_type": "execute_result"
    }
   ],
   "source": [
    "%%time\n",
    "\n",
    "db.datasets.habrahabr.create_index([(\"markdown\", \"text\")], default_language='russian')"
   ]
  },
  {
   "cell_type": "code",
   "execution_count": 127,
   "metadata": {
    "collapsed": false,
    "deletable": true,
    "editable": true
   },
   "outputs": [
    {
     "name": "stdout",
     "output_type": "stream",
     "text": [
      "Математические методы прогнозирования объемов продаж\n"
     ]
    }
   ],
   "source": [
    "for row in db.datasets.postnauka.find({\"authors_names\": {\"$elemMatch\": {\"$eq\": \"Константин Воронцов\"}}}):\n",
    "    print(row)"
   ]
  },
  {
   "cell_type": "code",
   "execution_count": 137,
   "metadata": {
    "collapsed": false,
    "deletable": true,
    "editable": true
   },
   "outputs": [
    {
     "name": "stdout",
     "output_type": "stream",
     "text": [
      "pn_1709 Анализ данных как область знания 2.062361139347119\n",
      "pn_2537 Анализ данных 2.0473438112134357\n",
      "pn_1887 FAQ: Анализ данных 2.0436088319431223\n",
      "pn_681 Главы | Контроль 2.030854885057471\n",
      "pn_658 Анализ социальных сетей в интернете 2.0223983893293065\n",
      "CPU times: user 8.07 ms, sys: 4.04 ms, total: 12.1 ms\n",
      "Wall time: 69.6 ms\n"
     ]
    }
   ],
   "source": [
    "%%time\n",
    "\n",
    "for row in db.datasets.postnauka.find({'$text': {'$search': 'анализы данных'}},\n",
    "                           { \"score\": { \"$meta\": \"textScore\" }}).sort([('score', {'$meta': 'textScore'})]).limit(5):\n",
    "    print(row[\"_id\"], row[\"title\"], row[\"score\"])"
   ]
  },
  {
   "cell_type": "code",
   "execution_count": 148,
   "metadata": {
    "collapsed": false,
    "deletable": true,
    "editable": true
   },
   "outputs": [
    {
     "data": {
      "text/plain": [
       "'habrahabr'"
      ]
     },
     "execution_count": 148,
     "metadata": {},
     "output_type": "execute_result"
    }
   ],
   "source": [
    "db.datasets.habrahabr.name"
   ]
  },
  {
   "cell_type": "code",
   "execution_count": 160,
   "metadata": {
    "collapsed": true,
    "deletable": true,
    "editable": true
   },
   "outputs": [],
   "source": [
    "results = db.datasets.postnauka.find({'$text': {'$search': 'анализы данных'}},\n",
    "                           { \"score\": { \"$meta\": \"textScore\" }}) \\\n",
    "            .limit(5) \\\n",
    "            .sort([('score', {'$meta': 'textScore'})])"
   ]
  },
  {
   "cell_type": "code",
   "execution_count": 159,
   "metadata": {
    "collapsed": false,
    "deletable": true,
    "editable": true
   },
   "outputs": [],
   "source": [
    "for collection in [db.datasets[col] for col in [\"habrahabr\", \"postnauka\"]]:\n",
    "    if not (\"markdown_text\" in collection.index_information().keys()):\n",
    "        collection.create_index([(\"markdown\", \"text\")], default_language='russian')\n",
    "        print(\"%s\"%collection.name)"
   ]
  },
  {
   "cell_type": "code",
   "execution_count": 71,
   "metadata": {
    "collapsed": false,
    "deletable": true,
    "editable": true
   },
   "outputs": [
    {
     "name": "stdout",
     "output_type": "stream",
     "text": [
      "done\n",
      "CPU times: user 663 ms, sys: 2.3 s, total: 2.96 s\n",
      "Wall time: 14.3 s\n"
     ]
    }
   ],
   "source": [
    "%%time\n",
    "\n",
    "if not (\"markdown_text\" in db.model.all_docs.index_information().keys()):\n",
    "    db.model.all_docs.create_index([(\"markdown\", \"text\")], default_language='russian')\n",
    "    print(\"done\")"
   ]
  },
  {
   "cell_type": "code",
   "execution_count": 9,
   "metadata": {
    "collapsed": false,
    "deletable": true,
    "editable": true
   },
   "outputs": [],
   "source": [
    "from server.artm_lib import ArtmDataSource, ArtmBridge, ArtmModel"
   ]
  },
  {
   "cell_type": "code",
   "execution_count": null,
   "metadata": {
    "collapsed": true,
    "deletable": true,
    "editable": true
   },
   "outputs": [],
   "source": [
    "ads = ArtmDataSource()"
   ]
  },
  {
   "cell_type": "code",
   "execution_count": null,
   "metadata": {
    "collapsed": true,
    "deletable": true,
    "editable": true
   },
   "outputs": [],
   "source": [
    "model = ArtmModel(\"../server/hartm\")"
   ]
  },
  {
   "cell_type": "code",
   "execution_count": 101,
   "metadata": {
    "collapsed": false,
    "deletable": true,
    "editable": true
   },
   "outputs": [
    {
     "name": "stdout",
     "output_type": "stream",
     "text": [
      "CPU times: user 156 ms, sys: 66.1 ms, total: 223 ms\n",
      "Wall time: 221 ms\n"
     ]
    }
   ],
   "source": [
    "%%time\n",
    "\n",
    "res = ads.search_query_in_models_docs(query = \"биология\", limit=100)\n",
    "model.get_topics_by_docs_ids(res)"
   ]
  },
  {
   "cell_type": "code",
   "execution_count": 12,
   "metadata": {
    "collapsed": false,
    "deletable": true,
    "editable": true
   },
   "outputs": [
    {
     "name": "stderr",
     "output_type": "stream",
     "text": [
      "/Users/aksholokhov/Local Docs/repos/rysearch/experiments/server/artm_lib.py:79: DeprecationWarning: invalid escape sequence \\d\n",
      "  if regex.match(\"^topic_\\d+$\", tid):\n"
     ]
    }
   ],
   "source": [
    "theta, thresholds, topics, tid_lid = model.get_topics_by_doc_id(\"azaza\")"
   ]
  },
  {
   "cell_type": "code",
   "execution_count": 16,
   "metadata": {
    "collapsed": false,
    "deletable": true,
    "editable": true
   },
   "outputs": [],
   "source": [
    "topics_for_docs = []\n",
    "\n",
    "for doc in res:\n",
    "    if doc[\"doc_id\"] not in thresholds.index:\n",
    "        continue\n",
    "    topics_for_doc = {}\n",
    "    comparsion = theta[doc[\"doc_id\"]] > thresholds[doc[\"doc_id\"]]\n",
    "    topics_for_doc[\"doc_id\"] = doc[\"doc_id\"]\n",
    "    last_level_topics = list(comparsion[comparsion == True].index)\n",
    "    levels_count = tid_lid[last_level_topics[0]][0] + 1\n",
    "    topics_for_doc[\"level_%d\"%(levels_count-1)] = last_level_topics  \n",
    "    for lid in range(1, levels_count)[::-1]:\n",
    "        current_level = topics_for_doc[\"level_%d\"%(lid)]\n",
    "        higher_level = []\n",
    "        for topic in current_level:\n",
    "            higher_level += topics[topic][\"parents\"]\n",
    "        topics_for_doc[\"level_%d\"%(lid-1)] = higher_level\n",
    "    topics_for_docs.append(topics_for_doc)"
   ]
  },
  {
   "cell_type": "code",
   "execution_count": 152,
   "metadata": {
    "collapsed": false,
    "deletable": true,
    "editable": true
   },
   "outputs": [],
   "source": [
    "res = bridge.data_source.search_query_in_models_docs(\"машинное обучение\")\n",
    "\n",
    "theta = bridge.model.theta\n",
    "doc_theta = bridge.model._doc_theta\n",
    "thresholds = bridge.model._doc_thresholds\n",
    "topics = bridge.model.topics\n",
    "tid_lid = bridge.model._to_lid_tid_map\n",
    "\n",
    "\n",
    "import pandas as pd \n",
    "import numpy as np\n",
    "\n",
    "lowest_level_counter = pd.Series(np.zeros(len(doc_theta.index)), index = doc_theta.index)\n",
    "\n",
    "for doc in res:\n",
    "    if doc[\"doc_id\"] not in thresholds.index:\n",
    "        continue\n",
    "    topics_for_doc = {}\n",
    "    lowest_level_counter += (doc_theta[doc[\"doc_id\"]] > thresholds[doc[\"doc_id\"]]).map(lambda x: 1 if x else 0)\n",
    "\n",
    "levels_count = tid_lid[lowest_level_counter.index[0]][0] + 1\n",
    "    \n",
    "answer = pd.Series(np.zeros(len(theta.index)), index = theta.index)\n",
    "answer[lowest_level_counter.index] = lowest_level_counter\n",
    "\n",
    "for lid in range(0, levels_count-1)[::-1]:\n",
    "    curr_level_topics = list(filter(lambda x: x.startswith(\"level_%d_t\"%(lid)), answer.index))\n",
    "    for topic in curr_level_topics:\n",
    "        for child in topics[topic][\"children\"]:\n",
    "            answer[topic] += answer[child]\n",
    "\n",
    "for lid in range(0, levels_count)[::-1]:\n",
    "    curr_level_topics = list(filter(lambda x: x.startswith(\"level_%d_t\"%(lid)), answer.index))\n",
    "    answer[curr_level_topics] /= sum(answer[curr_level_topics])\n",
    "\n",
    "dict(answer)"
   ]
  },
  {
   "cell_type": "code",
   "execution_count": 153,
   "metadata": {
    "collapsed": false,
    "deletable": true,
    "editable": true
   },
   "outputs": [
    {
     "data": {
      "text/plain": [
       "{'level_0_background_0': 0.0,\n",
       " 'level_0_topic_0': 0.0,\n",
       " 'level_0_topic_1': 0.0,\n",
       " 'level_0_topic_10': 0.0,\n",
       " 'level_0_topic_11': 0.0,\n",
       " 'level_0_topic_12': 0.0,\n",
       " 'level_0_topic_13': 0.0,\n",
       " 'level_0_topic_14': 0.0,\n",
       " 'level_0_topic_15': 0.16666666666666666,\n",
       " 'level_0_topic_16': 0.0,\n",
       " 'level_0_topic_17': 0.0,\n",
       " 'level_0_topic_18': 0.66666666666666663,\n",
       " 'level_0_topic_2': 0.0,\n",
       " 'level_0_topic_3': 0.0,\n",
       " 'level_0_topic_4': 0.16666666666666666,\n",
       " 'level_0_topic_5': 0.0,\n",
       " 'level_0_topic_6': 0.0,\n",
       " 'level_0_topic_7': 0.0,\n",
       " 'level_0_topic_8': 0.0,\n",
       " 'level_0_topic_9': 0.0,\n",
       " 'level_1_topic_0': 0.0,\n",
       " 'level_1_topic_1': 0.0,\n",
       " 'level_1_topic_10': 0.0,\n",
       " 'level_1_topic_11': 0.0,\n",
       " 'level_1_topic_12': 0.0,\n",
       " 'level_1_topic_13': 0.0,\n",
       " 'level_1_topic_14': 0.0,\n",
       " 'level_1_topic_15': 0.0,\n",
       " 'level_1_topic_16': 0.0,\n",
       " 'level_1_topic_17': 0.0,\n",
       " 'level_1_topic_18': 0.0,\n",
       " 'level_1_topic_19': 0.0,\n",
       " 'level_1_topic_2': 0.0,\n",
       " 'level_1_topic_20': 0.0,\n",
       " 'level_1_topic_21': 0.0,\n",
       " 'level_1_topic_22': 0.0,\n",
       " 'level_1_topic_23': 0.1875,\n",
       " 'level_1_topic_24': 0.375,\n",
       " 'level_1_topic_25': 0.0,\n",
       " 'level_1_topic_26': 0.0,\n",
       " 'level_1_topic_27': 0.0,\n",
       " 'level_1_topic_28': 0.0,\n",
       " 'level_1_topic_29': 0.0,\n",
       " 'level_1_topic_3': 0.0,\n",
       " 'level_1_topic_30': 0.0,\n",
       " 'level_1_topic_31': 0.0,\n",
       " 'level_1_topic_32': 0.0,\n",
       " 'level_1_topic_33': 0.0,\n",
       " 'level_1_topic_34': 0.0,\n",
       " 'level_1_topic_35': 0.0,\n",
       " 'level_1_topic_36': 0.0,\n",
       " 'level_1_topic_37': 0.0,\n",
       " 'level_1_topic_38': 0.0625,\n",
       " 'level_1_topic_39': 0.0,\n",
       " 'level_1_topic_4': 0.0,\n",
       " 'level_1_topic_40': 0.0,\n",
       " 'level_1_topic_41': 0.0,\n",
       " 'level_1_topic_42': 0.0,\n",
       " 'level_1_topic_43': 0.0625,\n",
       " 'level_1_topic_44': 0.0,\n",
       " 'level_1_topic_45': 0.0,\n",
       " 'level_1_topic_46': 0.0,\n",
       " 'level_1_topic_47': 0.0,\n",
       " 'level_1_topic_48': 0.0,\n",
       " 'level_1_topic_49': 0.0,\n",
       " 'level_1_topic_5': 0.0,\n",
       " 'level_1_topic_50': 0.0,\n",
       " 'level_1_topic_51': 0.0,\n",
       " 'level_1_topic_52': 0.0625,\n",
       " 'level_1_topic_53': 0.0,\n",
       " 'level_1_topic_54': 0.0,\n",
       " 'level_1_topic_55': 0.0,\n",
       " 'level_1_topic_56': 0.0,\n",
       " 'level_1_topic_57': 0.0,\n",
       " 'level_1_topic_58': 0.0,\n",
       " 'level_1_topic_59': 0.0,\n",
       " 'level_1_topic_6': 0.0,\n",
       " 'level_1_topic_7': 0.0,\n",
       " 'level_1_topic_8': 0.25,\n",
       " 'level_1_topic_9': 0.0}"
      ]
     },
     "execution_count": 153,
     "metadata": {},
     "output_type": "execute_result"
    }
   ],
   "source": []
  },
  {
   "cell_type": "code",
   "execution_count": 135,
   "metadata": {
    "collapsed": false,
    "deletable": true,
    "editable": true
   },
   "outputs": [
    {
     "data": {
      "text/plain": [
       "level_1_topic_0     0.0\n",
       "level_1_topic_1     0.0\n",
       "level_1_topic_2     0.0\n",
       "level_1_topic_3     0.0\n",
       "level_1_topic_4     0.0\n",
       "level_1_topic_5     0.0\n",
       "level_1_topic_6     0.0\n",
       "level_1_topic_7     0.0\n",
       "level_1_topic_8     4.0\n",
       "level_1_topic_9     0.0\n",
       "level_1_topic_10    0.0\n",
       "level_1_topic_11    0.0\n",
       "level_1_topic_12    0.0\n",
       "level_1_topic_13    0.0\n",
       "level_1_topic_14    0.0\n",
       "level_1_topic_15    0.0\n",
       "level_1_topic_16    0.0\n",
       "level_1_topic_17    0.0\n",
       "level_1_topic_18    0.0\n",
       "level_1_topic_19    0.0\n",
       "level_1_topic_20    0.0\n",
       "level_1_topic_21    0.0\n",
       "level_1_topic_22    0.0\n",
       "level_1_topic_23    3.0\n",
       "level_1_topic_24    6.0\n",
       "level_1_topic_25    0.0\n",
       "level_1_topic_26    0.0\n",
       "level_1_topic_27    0.0\n",
       "level_1_topic_28    0.0\n",
       "level_1_topic_29    0.0\n",
       "level_1_topic_30    0.0\n",
       "level_1_topic_31    0.0\n",
       "level_1_topic_32    0.0\n",
       "level_1_topic_33    0.0\n",
       "level_1_topic_34    0.0\n",
       "level_1_topic_35    0.0\n",
       "level_1_topic_36    0.0\n",
       "level_1_topic_37    0.0\n",
       "level_1_topic_38    1.0\n",
       "level_1_topic_39    0.0\n",
       "level_1_topic_40    0.0\n",
       "level_1_topic_41    0.0\n",
       "level_1_topic_42    0.0\n",
       "level_1_topic_43    1.0\n",
       "level_1_topic_44    0.0\n",
       "level_1_topic_45    0.0\n",
       "level_1_topic_46    0.0\n",
       "level_1_topic_47    0.0\n",
       "level_1_topic_48    0.0\n",
       "level_1_topic_49    0.0\n",
       "level_1_topic_50    0.0\n",
       "level_1_topic_51    0.0\n",
       "level_1_topic_52    1.0\n",
       "level_1_topic_53    0.0\n",
       "level_1_topic_54    0.0\n",
       "level_1_topic_55    0.0\n",
       "level_1_topic_56    0.0\n",
       "level_1_topic_57    0.0\n",
       "level_1_topic_58    0.0\n",
       "level_1_topic_59    0.0\n",
       "dtype: float64"
      ]
     },
     "execution_count": 135,
     "metadata": {},
     "output_type": "execute_result"
    }
   ],
   "source": [
    "lowest_level_counter"
   ]
  },
  {
   "cell_type": "code",
   "execution_count": 18,
   "metadata": {
    "collapsed": true,
    "deletable": true,
    "editable": true
   },
   "outputs": [],
   "source": [
    "for doc in topics_for_docs:\n",
    "    level_0_topics = []\n",
    "    for topic in doc[\"level_1_topics\"]:\n",
    "        level_0_topics += topics[topic][\"parents\"]\n",
    "    doc[\"level_0_topics\"] = level_0_topics"
   ]
  },
  {
   "cell_type": "code",
   "execution_count": 24,
   "metadata": {
    "collapsed": false,
    "deletable": true,
    "editable": true
   },
   "outputs": [
    {
     "data": {
      "text/plain": [
       "{'children': ['level_1_topic_3'],\n",
       " 'level_id': 0,\n",
       " 'parents': [],\n",
       " 'top_words': ['культура', 'литература', 'культурология'],\n",
       " 'weight': 361}"
      ]
     },
     "execution_count": 24,
     "metadata": {},
     "output_type": "execute_result"
    }
   ],
   "source": [
    "topics[\"level_0_topic_3\"]"
   ]
  },
  {
   "cell_type": "code",
   "execution_count": 11,
   "metadata": {
    "collapsed": false,
    "deletable": true,
    "editable": true
   },
   "outputs": [
    {
     "name": "stdout",
     "output_type": "stream",
     "text": [
      "CPU times: user 2min 52s, sys: 8.26 s, total: 3min 1s\n",
      "Wall time: 2min 50s\n"
     ]
    }
   ],
   "source": [
    "%%time\n",
    "\n",
    "bridge = ArtmBridge(\"../server/hartm\")"
   ]
  },
  {
   "cell_type": "code",
   "execution_count": 26,
   "metadata": {
    "collapsed": false,
    "deletable": true,
    "editable": true
   },
   "outputs": [
    {
     "name": "stdout",
     "output_type": "stream",
     "text": [
      "CPU times: user 128 ms, sys: 11 ms, total: 139 ms\n",
      "Wall time: 280 ms\n"
     ]
    },
    {
     "data": {
      "text/plain": [
       "{'level_0_background_0': 0.0,\n",
       " 'level_0_topic_0': 0.012345679012345678,\n",
       " 'level_0_topic_1': 0.12345679012345678,\n",
       " 'level_0_topic_10': 0.080246913580246909,\n",
       " 'level_0_topic_11': 0.018518518518518517,\n",
       " 'level_0_topic_12': 0.10493827160493827,\n",
       " 'level_0_topic_13': 0.055555555555555552,\n",
       " 'level_0_topic_14': 0.0,\n",
       " 'level_0_topic_15': 0.067901234567901231,\n",
       " 'level_0_topic_16': 0.024691358024691357,\n",
       " 'level_0_topic_17': 0.055555555555555552,\n",
       " 'level_0_topic_18': 0.13580246913580246,\n",
       " 'level_0_topic_2': 0.061728395061728392,\n",
       " 'level_0_topic_3': 0.030864197530864196,\n",
       " 'level_0_topic_4': 0.0,\n",
       " 'level_0_topic_5': 0.067901234567901231,\n",
       " 'level_0_topic_6': 0.018518518518518517,\n",
       " 'level_0_topic_7': 0.043209876543209874,\n",
       " 'level_0_topic_8': 0.055555555555555552,\n",
       " 'level_0_topic_9': 0.043209876543209874,\n",
       " 'level_1_topic_0': 0.0,\n",
       " 'level_1_topic_1': 0.035460992907801421,\n",
       " 'level_1_topic_10': 0.046099290780141841,\n",
       " 'level_1_topic_11': 0.0035460992907801418,\n",
       " 'level_1_topic_12': 0.060283687943262408,\n",
       " 'level_1_topic_13': 0.017730496453900711,\n",
       " 'level_1_topic_14': 0.035460992907801421,\n",
       " 'level_1_topic_15': 0.0,\n",
       " 'level_1_topic_16': 0.010638297872340425,\n",
       " 'level_1_topic_17': 0.010638297872340425,\n",
       " 'level_1_topic_18': 0.060283687943262408,\n",
       " 'level_1_topic_19': 0.0,\n",
       " 'level_1_topic_2': 0.021276595744680851,\n",
       " 'level_1_topic_20': 0.014184397163120567,\n",
       " 'level_1_topic_21': 0.0,\n",
       " 'level_1_topic_22': 0.0,\n",
       " 'level_1_topic_23': 0.031914893617021274,\n",
       " 'level_1_topic_24': 0.12411347517730496,\n",
       " 'level_1_topic_25': 0.021276595744680851,\n",
       " 'level_1_topic_26': 0.053191489361702128,\n",
       " 'level_1_topic_27': 0.0,\n",
       " 'level_1_topic_28': 0.0,\n",
       " 'level_1_topic_29': 0.0035460992907801418,\n",
       " 'level_1_topic_3': 0.017730496453900711,\n",
       " 'level_1_topic_30': 0.010638297872340425,\n",
       " 'level_1_topic_31': 0.0035460992907801418,\n",
       " 'level_1_topic_32': 0.0,\n",
       " 'level_1_topic_33': 0.0,\n",
       " 'level_1_topic_34': 0.0,\n",
       " 'level_1_topic_35': 0.0035460992907801418,\n",
       " 'level_1_topic_36': 0.0070921985815602835,\n",
       " 'level_1_topic_37': 0.0,\n",
       " 'level_1_topic_38': 0.0,\n",
       " 'level_1_topic_39': 0.024822695035460994,\n",
       " 'level_1_topic_4': 0.0,\n",
       " 'level_1_topic_40': 0.0,\n",
       " 'level_1_topic_41': 0.0070921985815602835,\n",
       " 'level_1_topic_42': 0.035460992907801421,\n",
       " 'level_1_topic_43': 0.021276595744680851,\n",
       " 'level_1_topic_44': 0.014184397163120567,\n",
       " 'level_1_topic_45': 0.053191489361702128,\n",
       " 'level_1_topic_46': 0.0,\n",
       " 'level_1_topic_47': 0.014184397163120567,\n",
       " 'level_1_topic_48': 0.021276595744680851,\n",
       " 'level_1_topic_49': 0.0,\n",
       " 'level_1_topic_5': 0.0,\n",
       " 'level_1_topic_50': 0.0070921985815602835,\n",
       " 'level_1_topic_51': 0.0,\n",
       " 'level_1_topic_52': 0.035460992907801421,\n",
       " 'level_1_topic_53': 0.0,\n",
       " 'level_1_topic_54': 0.0,\n",
       " 'level_1_topic_55': 0.0035460992907801418,\n",
       " 'level_1_topic_56': 0.0035460992907801418,\n",
       " 'level_1_topic_57': 0.0035460992907801418,\n",
       " 'level_1_topic_58': 0.0035460992907801418,\n",
       " 'level_1_topic_59': 0.021276595744680851,\n",
       " 'level_1_topic_6': 0.0,\n",
       " 'level_1_topic_7': 0.021276595744680851,\n",
       " 'level_1_topic_8': 0.099290780141843976,\n",
       " 'level_1_topic_9': 0.017730496453900711}"
      ]
     },
     "execution_count": 26,
     "metadata": {},
     "output_type": "execute_result"
    }
   ],
   "source": [
    "%%time\n",
    "bridge.search_documents(\"анализ данных\", limit=100)"
   ]
  },
  {
   "cell_type": "markdown",
   "metadata": {
    "deletable": true,
    "editable": true
   },
   "source": [
    "## Мержинг коллекций "
   ]
  },
  {
   "cell_type": "code",
   "execution_count": 13,
   "metadata": {
    "collapsed": false,
    "deletable": true,
    "editable": true
   },
   "outputs": [
    {
     "name": "stdout",
     "output_type": "stream",
     "text": [
      "CPU times: user 35 s, sys: 3.15 s, total: 38.1 s\n",
      "Wall time: 44.9 s\n"
     ]
    }
   ],
   "source": [
    "%%time\n",
    "\n",
    "all_docs_ids = set(bridge._model._doc_theta.columns)\n",
    "\n",
    "for collection in db.datasets.collection_names():\n",
    "    for doc in db.datasets[collection].find():\n",
    "        if doc[\"_id\"] in all_docs_ids:\n",
    "            db.model.all_docs.insert_one(doc)"
   ]
  },
  {
   "cell_type": "code",
   "execution_count": 14,
   "metadata": {
    "collapsed": false,
    "deletable": true,
    "editable": true
   },
   "outputs": [
    {
     "data": {
      "text/plain": [
       "'markdown_text'"
      ]
     },
     "execution_count": 14,
     "metadata": {},
     "output_type": "execute_result"
    }
   ],
   "source": [
    "db.model.all_docs.create_index([(\"markdown\", \"text\")], default_language=\"russian\")"
   ]
  },
  {
   "cell_type": "code",
   "execution_count": 15,
   "metadata": {
    "collapsed": false,
    "deletable": true,
    "editable": true
   },
   "outputs": [
    {
     "data": {
      "text/plain": [
       "6234"
      ]
     },
     "execution_count": 15,
     "metadata": {},
     "output_type": "execute_result"
    }
   ],
   "source": [
    "db.model.all_docs.count()"
   ]
  }
 ],
 "metadata": {
  "kernelspec": {
   "display_name": "Python 3",
   "language": "python",
   "name": "python3"
  },
  "language_info": {
   "codemirror_mode": {
    "name": "ipython",
    "version": 3
   },
   "file_extension": ".py",
   "mimetype": "text/x-python",
   "name": "python",
   "nbconvert_exporter": "python",
   "pygments_lexer": "ipython3",
   "version": "3.5.3"
  },
  "latex_envs": {
   "bibliofile": "biblio.bib",
   "cite_by": "apalike",
   "current_citInitial": 1,
   "eqLabelWithNumbers": true,
   "eqNumInitial": 0
  }
 },
 "nbformat": 4,
 "nbformat_minor": 2
}
