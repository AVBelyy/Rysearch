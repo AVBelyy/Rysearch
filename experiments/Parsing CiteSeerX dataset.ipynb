{
 "cells": [
  {
   "cell_type": "code",
   "execution_count": 1,
   "metadata": {
    "collapsed": false,
    "deletable": true,
    "editable": true
   },
   "outputs": [],
   "source": [
    "import numpy as np\n",
    "import pandas as pd\n",
    "import pymongo\n",
    "import csv"
   ]
  },
  {
   "cell_type": "code",
   "execution_count": 2,
   "metadata": {
    "collapsed": true,
    "deletable": true,
    "editable": true
   },
   "outputs": [],
   "source": [
    "from oaipmh.client import Client\n",
    "from oaipmh.metadata import MetadataRegistry, oai_dc_reader\n",
    "from datetime import datetime"
   ]
  },
  {
   "cell_type": "code",
   "execution_count": 3,
   "metadata": {
    "collapsed": true,
    "deletable": true,
    "editable": true
   },
   "outputs": [],
   "source": [
    "URL = \"http://citeseerx.ist.psu.edu/oai2\""
   ]
  },
  {
   "cell_type": "code",
   "execution_count": 4,
   "metadata": {
    "collapsed": true,
    "deletable": true,
    "editable": true
   },
   "outputs": [],
   "source": [
    "registry = MetadataRegistry()\n",
    "registry.registerReader(\"oai_dc\", oai_dc_reader)\n",
    "client = Client(URL, registry)"
   ]
  },
  {
   "cell_type": "code",
   "execution_count": 6,
   "metadata": {
    "collapsed": false,
    "deletable": true,
    "editable": true
   },
   "outputs": [
    {
     "name": "stdout",
     "output_type": "stream",
     "text": [
      "10000 2017-09-07 01:50:12.935233\n",
      "20000 2017-09-07 01:52:20.175871\n",
      "30000 2017-09-07 01:54:44.778197\n",
      "40000 2017-09-07 01:57:17.121260\n",
      "50000 2017-09-07 01:59:31.504933\n",
      "60000 2017-09-07 02:01:52.685420\n",
      "70000 2017-09-07 02:04:41.364793\n",
      "80000 2017-09-07 02:07:03.701887\n",
      "90000 2017-09-07 02:09:24.721790\n",
      "100000 2017-09-07 02:11:40.046795\n",
      "110000 2017-09-07 02:14:02.892311\n",
      "120000 2017-09-07 02:16:05.501684\n",
      "130000 2017-09-07 02:18:40.039998\n",
      "140000 2017-09-07 02:20:56.074428\n",
      "150000 2017-09-07 02:23:09.056997\n",
      "160000 2017-09-07 02:25:25.731678\n",
      "170000 2017-09-07 02:27:39.045299\n",
      "180000 2017-09-07 02:29:50.492999\n",
      "190000 2017-09-07 02:32:02.603074\n",
      "200000 2017-09-07 02:34:19.811489\n",
      "210000 2017-09-07 02:36:36.398522\n",
      "220000 2017-09-07 02:38:46.128887\n",
      "230000 2017-09-07 02:41:03.397843\n",
      "240000 2017-09-07 02:43:25.421764\n",
      "250000 2017-09-07 02:45:36.351961\n",
      "260000 2017-09-07 02:47:51.889483\n",
      "270000 2017-09-07 02:50:01.066628\n",
      "280000 2017-09-07 02:52:22.202793\n",
      "290000 2017-09-07 02:54:32.084623\n",
      "300000 2017-09-07 02:56:45.747087\n",
      "310000 2017-09-07 02:59:02.607726\n",
      "320000 2017-09-07 03:01:12.753797\n",
      "330000 2017-09-07 03:03:27.971291\n",
      "340000 2017-09-07 03:06:12.838301\n",
      "350000 2017-09-07 03:08:25.119333\n",
      "360000 2017-09-07 03:10:39.364723\n",
      "370000 2017-09-07 03:12:55.256313\n",
      "380000 2017-09-07 03:15:07.335275\n",
      "390000 2017-09-07 03:17:22.967976\n",
      "400000 2017-09-07 03:19:51.891202\n",
      "410000 2017-09-07 03:22:20.293429\n",
      "420000 2017-09-07 03:24:56.585452\n",
      "430000 2017-09-07 03:27:35.906894\n",
      "440000 2017-09-07 03:30:17.090833\n",
      "450000 2017-09-07 03:32:51.122124\n",
      "460000 2017-09-07 03:35:28.322691\n",
      "470000 2017-09-07 03:37:57.491976\n",
      "480000 2017-09-07 03:40:39.663940\n",
      "490000 2017-09-07 03:43:07.766065\n",
      "500000 2017-09-07 03:45:54.986878\n",
      "510000 2017-09-07 03:48:39.792383\n",
      "520000 2017-09-07 03:51:09.919510\n",
      "524999 2017-09-07 03:52:10.450329\n",
      "CPU times: user 5min 44s, sys: 23 s, total: 6min 7s\n",
      "Wall time: 2h 4min 33s\n"
     ]
    }
   ],
   "source": [
    "%%time\n",
    "\n",
    "cnt = 0\n",
    "articles_chunk = []\n",
    "csvfile, csvwriter = None, None\n",
    "it = iter(client.listRecords(metadataPrefix=\"oai_dc\"))\n",
    "\n",
    "while True:\n",
    "    try:\n",
    "        header, metadata, _ = next(it)\n",
    "        article = metadata.getMap()\n",
    "        articles_chunk.append(article)\n",
    "        if cnt % 1000 == 0:\n",
    "            if cnt == 0:\n",
    "                csvzfile = open(\"citeseerx.csv\", \"w\")\n",
    "            else:\n",
    "                csvfile.close()\n",
    "                csvfile = open(\"citeseerx.csv\", \"a\")\n",
    "            csvwriter = csv.DictWriter(csvfile, fieldnames=article.keys())\n",
    "            if cnt == 0:\n",
    "                csvwriter.writeheader()\n",
    "            csvwriter.writerows(articles_chunk)\n",
    "            csvfile.close()\n",
    "            articles_chunk = []\n",
    "        cnt += 1\n",
    "        if cnt % 10000 == 0:\n",
    "            print(cnt, datetime.now())\n",
    "    except StopIteration:\n",
    "        break\n",
    "    except BaseException:\n",
    "        pass\n",
    "\n",
    "if len(articles_chunk):\n",
    "    with open(\"citeseerx.csv\", \"a\") as csvfile:\n",
    "        csvwriter = csv.DictWriter(csvfile, fieldnames=articles_chunk[-1].keys())\n",
    "        csvwriter.writerows(articles_chunk)\n",
    "    cnt += len(articles_chunk)\n",
    "    print(cnt, datetime.now())\n",
    "    articles_chunk = []"
   ]
  },
  {
   "cell_type": "markdown",
   "metadata": {
    "deletable": true,
    "editable": true
   },
   "source": [
    "---"
   ]
  }
 ],
 "metadata": {
  "kernelspec": {
   "display_name": "Python 3",
   "language": "python",
   "name": "python3"
  },
  "language_info": {
   "codemirror_mode": {
    "name": "ipython",
    "version": 3
   },
   "file_extension": ".py",
   "mimetype": "text/x-python",
   "name": "python",
   "nbconvert_exporter": "python",
   "pygments_lexer": "ipython3",
   "version": "3.5.3"
  },
  "latex_envs": {
   "bibliofile": "biblio.bib",
   "cite_by": "apalike",
   "current_citInitial": 1,
   "eqLabelWithNumbers": true,
   "eqNumInitial": 0
  }
 },
 "nbformat": 4,
 "nbformat_minor": 2
}
