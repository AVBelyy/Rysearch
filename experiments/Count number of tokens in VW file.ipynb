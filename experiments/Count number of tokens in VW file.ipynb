{
 "cells": [
  {
   "cell_type": "code",
   "execution_count": 1,
   "metadata": {
    "collapsed": true
   },
   "outputs": [],
   "source": [
    "import pandas as pd"
   ]
  },
  {
   "cell_type": "code",
   "execution_count": 2,
   "metadata": {
    "collapsed": false
   },
   "outputs": [
    {
     "name": "stdout",
     "output_type": "stream",
     "text": [
      "CPU times: user 33.2 s, sys: 271 ms, total: 33.5 s\n",
      "Wall time: 33.4 s\n"
     ]
    }
   ],
   "source": [
    "%%time\n",
    "\n",
    "stats = []\n",
    "\n",
    "for i, doc in enumerate(open(\"../datasets/habrahabr/habrahabr.txt\")):\n",
    "    tokens = doc.split()\n",
    "    doc_id = tokens[0]\n",
    "    modalities = {}\n",
    "    cur_mod = \"\"\n",
    "    for token in tokens[1:]:\n",
    "        if token.startswith(\"|\"):\n",
    "            cur_mod = token[1:]\n",
    "            modalities[cur_mod] = []\n",
    "        else:\n",
    "            modalities[cur_mod].append(token)\n",
    "    stats.append((doc_id, len(modalities[\"text\"]), len(set(modalities[\"text\"])), \\\n",
    "                  len(modalities[\"text_habr\"]), len(set(modalities[\"text_habr\"]))))"
   ]
  },
  {
   "cell_type": "code",
   "execution_count": 3,
   "metadata": {
    "collapsed": false
   },
   "outputs": [],
   "source": [
    "stats_df = pd.DataFrame(stats, columns=[\"doc_id\", \"n_all_common\", \"n_uniq_common\", \"n_all_spec\", \"n_uniq_spec\"])\n",
    "stats_df = stats_df.set_index(\"doc_id\")"
   ]
  },
  {
   "cell_type": "code",
   "execution_count": 4,
   "metadata": {
    "collapsed": false
   },
   "outputs": [],
   "source": [
    "stats_df.to_csv(\"modalities_stats.csv\")"
   ]
  },
  {
   "cell_type": "markdown",
   "metadata": {},
   "source": [
    "---"
   ]
  }
 ],
 "metadata": {
  "kernelspec": {
   "display_name": "Python 3",
   "language": "python",
   "name": "python3"
  },
  "language_info": {
   "codemirror_mode": {
    "name": "ipython",
    "version": 3
   },
   "file_extension": ".py",
   "mimetype": "text/x-python",
   "name": "python",
   "nbconvert_exporter": "python",
   "pygments_lexer": "ipython3",
   "version": "3.5.2"
  },
  "latex_envs": {
   "bibliofile": "biblio.bib",
   "cite_by": "apalike",
   "current_citInitial": 1,
   "eqLabelWithNumbers": true,
   "eqNumInitial": 0
  }
 },
 "nbformat": 4,
 "nbformat_minor": 0
}
