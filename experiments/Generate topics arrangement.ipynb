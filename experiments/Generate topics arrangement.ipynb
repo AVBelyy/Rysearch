{
 "cells": [
  {
   "cell_type": "code",
   "execution_count": 31,
   "metadata": {
    "collapsed": true
   },
   "outputs": [],
   "source": [
    "from numpy import array, min, argmin\n",
    "import scipy as sp\n",
    "import pandas as pd\n",
    "from matplotlib import pyplot as plt\n",
    "import pickle"
   ]
  },
  {
   "cell_type": "code",
   "execution_count": 56,
   "metadata": {
    "collapsed": false
   },
   "outputs": [
    {
     "data": {
      "text/plain": [
       "(19, 19)"
      ]
     },
     "execution_count": 56,
     "metadata": {},
     "output_type": "execute_result"
    }
   ],
   "source": [
    "data = []\n",
    "with open(\"../datasets/topics_distances.dump\", \"rb\") as file:\n",
    "    data = pickle.load(file)\n",
    "    \n",
    "data = array(data)\n",
    "data.shape"
   ]
  },
  {
   "cell_type": "code",
   "execution_count": 57,
   "metadata": {
    "collapsed": false
   },
   "outputs": [],
   "source": [
    "def greedy_solution(data, start_pos):\n",
    "    answer = [start_pos]\n",
    "    cost = 0\n",
    "    prev_pos = start_pos\n",
    "    visited = np.zeros(19)\n",
    "    for i in range(18):\n",
    "        visited[prev_pos] = 1\n",
    "        next_pos = argmin([np.inf if x == 1 else v for (x, v) in zip(visited, data[prev_pos])])\n",
    "        cost += data[prev_pos][next_pos]\n",
    "        answer.append(next_pos)\n",
    "        prev_pos = next_pos\n",
    "    return answer, cost"
   ]
  },
  {
   "cell_type": "code",
   "execution_count": 58,
   "metadata": {
    "collapsed": false
   },
   "outputs": [
    {
     "data": {
      "text/plain": [
       "[5, 13, 11, 2, 8, 4, 0, 3, 16, 10, 1, 17, 18, 9, 14, 12, 7, 6, 15]"
      ]
     },
     "execution_count": 58,
     "metadata": {},
     "output_type": "execute_result"
    }
   ],
   "source": [
    "from operator import itemgetter\n",
    "solution = sorted([greedy_solution(data, i) for i in range(19)], key=itemgetter(1))[0][0]\n",
    "solution"
   ]
  }
 ],
 "metadata": {
  "kernelspec": {
   "display_name": "Python 3",
   "language": "python",
   "name": "python3"
  },
  "language_info": {
   "codemirror_mode": {
    "name": "ipython",
    "version": 3
   },
   "file_extension": ".py",
   "mimetype": "text/x-python",
   "name": "python",
   "nbconvert_exporter": "python",
   "pygments_lexer": "ipython3",
   "version": "3.6.0"
  }
 },
 "nbformat": 4,
 "nbformat_minor": 2
}
