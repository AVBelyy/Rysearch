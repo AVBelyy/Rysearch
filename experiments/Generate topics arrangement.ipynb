{
 "cells": [
  {
   "cell_type": "code",
   "execution_count": 118,
   "metadata": {
    "collapsed": true
   },
   "outputs": [],
   "source": [
    "from numpy import array, min, argmin, linspace\n",
    "import numpy as np\n",
    "import scipy as sp\n",
    "import pandas as pd\n",
    "from matplotlib import pyplot as plt\n",
    "import pickle"
   ]
  },
  {
   "cell_type": "markdown",
   "metadata": {},
   "source": [
    "# 1. Жадный алгоритм размещения тем"
   ]
  },
  {
   "cell_type": "code",
   "execution_count": 28,
   "metadata": {
    "collapsed": false
   },
   "outputs": [
    {
     "data": {
      "text/plain": [
       "(19, 19)"
      ]
     },
     "execution_count": 28,
     "metadata": {},
     "output_type": "execute_result"
    }
   ],
   "source": [
    "data = []\n",
    "with open(\"../datasets/topics_distances.dump\", \"rb\") as file:\n",
    "    data = pickle.load(file)\n",
    "    \n",
    "data = array(data)\n",
    "data.shape"
   ]
  },
  {
   "cell_type": "code",
   "execution_count": 29,
   "metadata": {
    "collapsed": false
   },
   "outputs": [],
   "source": [
    "def greedy_solution(data, start_pos):\n",
    "    answer = [start_pos]\n",
    "    cost = 0\n",
    "    prev_pos = start_pos\n",
    "    visited = np.zeros(19)\n",
    "    for i in range(18):\n",
    "        visited[prev_pos] = 1\n",
    "        next_pos = argmin([np.inf if x == 1 else v for (x, v) in zip(visited, data[prev_pos])])\n",
    "        cost += data[prev_pos][next_pos]\n",
    "        answer.append(next_pos)\n",
    "        prev_pos = next_pos\n",
    "    return answer, cost"
   ]
  },
  {
   "cell_type": "code",
   "execution_count": 30,
   "metadata": {
    "collapsed": false
   },
   "outputs": [
    {
     "data": {
      "text/plain": [
       "[5, 13, 11, 2, 8, 4, 0, 3, 16, 10, 1, 17, 18, 9, 14, 12, 7, 6, 15]"
      ]
     },
     "execution_count": 30,
     "metadata": {},
     "output_type": "execute_result"
    }
   ],
   "source": [
    "from operator import itemgetter\n",
    "solution = sorted([greedy_solution(data, i) for i in range(19)], key=itemgetter(1))[0][0]\n",
    "solution"
   ]
  },
  {
   "cell_type": "markdown",
   "metadata": {},
   "source": [
    "# 2. ????"
   ]
  },
  {
   "cell_type": "markdown",
   "metadata": {},
   "source": [
    "# 3. PROFIT!!!"
   ]
  },
  {
   "cell_type": "markdown",
   "metadata": {},
   "source": [
    "## Docs"
   ]
  },
  {
   "cell_type": "code",
   "execution_count": 31,
   "metadata": {
    "collapsed": true
   },
   "outputs": [],
   "source": [
    "model = []\n",
    "with open(\"../server/hartm.mdl\", \"rb\") as file:\n",
    "    model = pickle.load(file)"
   ]
  },
  {
   "cell_type": "code",
   "execution_count": 63,
   "metadata": {
    "collapsed": false
   },
   "outputs": [
    {
     "data": {
      "text/plain": [
       "dict_keys(['phi_0', 'psi_1', 'phi_1', 'theta'])"
      ]
     },
     "execution_count": 63,
     "metadata": {},
     "output_type": "execute_result"
    }
   ],
   "source": [
    "TOP_N_WORDS = 10\n",
    "phi0 = model[\"phi_0\"]\n",
    "phi0_topic_columns = list(filter(lambda t: t.startswith(\"topic_\"), phi0.columns))\n",
    "phi0 = phi0[phi0_topic_columns]\n",
    "theta = model[\"theta\"]\n",
    "model.keys()"
   ]
  },
  {
   "cell_type": "code",
   "execution_count": 210,
   "metadata": {
    "collapsed": false
   },
   "outputs": [
    {
     "name": "stdout",
     "output_type": "stream",
     "text": [
      "level_0_topic_0 : ['россия' 'история' 'история_россии' 'философия' 'политическая_философия']\n",
      "level_0_topic_1 : ['биология' 'эволюция' 'антропология' 'человек' 'палеонтология']\n",
      "level_0_topic_2 : ['экономика' 'сша' 'квантовые_технологии' 'квантовый_компьютер'\n",
      " 'финансовый_кризис']\n",
      "level_0_topic_3 : ['культура' 'литература' 'массовая_культура' 'культурология' 'философия']\n",
      "level_0_topic_4 : ['история' 'ссср' 'христианство' 'политика' 'религия']\n",
      "level_0_topic_5 : ['астрономия' 'астрофизика' 'космос' 'звезды' 'вселенная']\n",
      "level_0_topic_6 : ['язык' 'лингвистика' 'филология' 'русский_язык' 'право']\n",
      "level_0_topic_7 : ['социология' 'общество' 'социология_повседневности' 'город'\n",
      " 'дюркгейм_эмиль']\n",
      "level_0_topic_8 : ['общество' 'государство' 'россия' 'политология' 'китай']\n",
      "level_0_topic_9 : ['психология' 'технологии' 'искусственный_интеллект' 'интернет'\n",
      " 'когнитивная_психология']\n",
      "level_0_topic_10 : ['медицина' 'биология' 'генетика' 'клетка' 'ген']\n",
      "level_0_topic_11 : ['физика' 'квантовая_физика' 'физика_элементарных_частиц' 'технологии'\n",
      " 'нанотехнологии']\n",
      "level_0_topic_12 : ['наука' 'философия' 'образование' 'история_науки' 'университет']\n",
      "level_0_topic_13 : ['химия' 'космология' 'вселенная' 'материаловедение' 'реликтовое_излучение']\n",
      "level_0_topic_14 : ['образование' 'сша' 'философия' 'школа' 'марс']\n",
      "level_0_topic_15 : ['математика' 'робототехника' 'информационные_технологии' 'робот'\n",
      " 'бозон_хиггса']\n",
      "level_0_topic_16 : ['днк' 'средневековье' 'геном' 'биоинформатика' 'фольклор']\n",
      "level_0_topic_17 : ['биология' 'биотехнологии' 'экология' 'технологии' 'этология']\n",
      "level_0_topic_18 : ['мозг' 'нейробиология' 'нейрон' 'нейрофизиология' 'биология']\n"
     ]
    }
   ],
   "source": [
    "WORDS_TO_CLASSIFICATION_DICT=1000\n",
    "top_tags = zip(theta0.index, phi0.index[phi0.values.argsort(axis=0)[-WORDS_TO_CLASSIFICATION_DICT:][::-1].T])\n",
    "for topic, words in top_tags:\n",
    "    print(topic, \":\", words[:5])"
   ]
  },
  {
   "cell_type": "code",
   "execution_count": 201,
   "metadata": {
    "collapsed": true
   },
   "outputs": [],
   "source": [
    "tech_topics = theta0.index[[5,11,13,15]]\n",
    "hum_topics = theta0.index[[0,3,4,6,8,12]]\n",
    "natural_topics = theta0.index[[1,10,16,17,18]]"
   ]
  },
  {
   "cell_type": "code",
   "execution_count": 195,
   "metadata": {
    "collapsed": false
   },
   "outputs": [],
   "source": [
    "import re\n",
    "theta0 = theta.loc[list(filter(lambda t: re.match(\"level_0_topic_*\", t), theta.index))]\n",
    "\n",
    "theta_tech = theta0.loc[tech_topics, :]\n",
    "theta_hum = theta0.loc[hum_topics, :]\n",
    "theta_natural = theta0.loc[natural_topics, :]"
   ]
  },
  {
   "cell_type": "code",
   "execution_count": 197,
   "metadata": {
    "collapsed": false
   },
   "outputs": [
    {
     "data": {
      "image/png": "[encoded data removed]",
      "text/plain": [
       "<matplotlib.figure.Figure at 0x116d84c88>"
      ]
     },
     "metadata": {},
     "output_type": "display_data"
    }
   ],
   "source": [
    "def docs_num_by_threshold(thresold):\n",
    "    nearest_topic_for_doc = theta0[theta0 > thresold].idxmax().dropna()\n",
    "    tech_docs = [doc for doc in nearest_topic_for_doc.index if nearest_topic_for_doc[doc] in tech_topics]\n",
    "    hum_docs = [doc for doc in nearest_topic_for_doc.index if nearest_topic_for_doc[doc] in hum_topics]\n",
    "    natural_docs = [doc for doc in nearest_topic_for_doc.index if nearest_topic_for_doc[doc] in natural_topics]\n",
    "    return len(tech_docs), len(hym_docs), len(natural_docs)\n",
    "\n",
    "plt.figure(figsize=(8, 8))\n",
    "for pl in array([docs_num_by_threshold(tr) for tr in linspace(0, 1, 10)]).T:\n",
    "    plt.plot(pl)\n",
    "    \n",
    "plt.plot(t[0]+t[1]+t[2])\n",
    "plt.xticks(range(10), linspace(0, 1, 10).round(2))\n",
    "plt.show()"
   ]
  },
  {
   "cell_type": "code",
   "execution_count": 198,
   "metadata": {
    "collapsed": true
   },
   "outputs": [],
   "source": [
    "def docs_by_threshold(thresold):\n",
    "    nearest_topic_for_doc = theta0[theta0 > thresold].idxmax().dropna()\n",
    "    tech_docs = [doc for doc in nearest_topic_for_doc.index if nearest_topic_for_doc[doc] in tech_topics]\n",
    "    hum_docs = [doc for doc in nearest_topic_for_doc.index if nearest_topic_for_doc[doc] in hum_topics]\n",
    "    natural_docs = [doc for doc in nearest_topic_for_doc.index if nearest_topic_for_doc[doc] in natural_topics]\n",
    "    return tech_docs, hym_docs, natural_docs\n",
    "\n",
    "tech_docs, hum_docs, natural_docs = docs_by_threshold(0.65)"
   ]
  },
  {
   "cell_type": "markdown",
   "metadata": {},
   "source": [
    "## WORDS"
   ]
  },
  {
   "cell_type": "code",
   "execution_count": 221,
   "metadata": {
    "collapsed": true
   },
   "outputs": [],
   "source": [
    "tech_words = []\n",
    "hum_words = []\n",
    "natural_words = []\n",
    "\n",
    "WORDS_FROM_TOPIC=300\n",
    "\n",
    "top_tags = zip(theta0.index, phi0.index[phi0.values.argsort(axis=0)[-WORDS_FROM_TOPIC:][::-1].T])\n",
    "for topic, words in top_tags:\n",
    "    if topic in tech_topics:\n",
    "        tech_words.extend(words)\n",
    "    elif topic in hum_topics:\n",
    "        hum_words.extend(words)\n",
    "    elif topic in natural_topics:\n",
    "        natural_words.extend(words)\n",
    "    else:\n",
    "        pass\n",
    "\n",
    "tech_words = set(tech_words)\n",
    "hum_words = set(hum_words)\n",
    "natural_words = set(natural_words)"
   ]
  },
  {
   "cell_type": "code",
   "execution_count": 224,
   "metadata": {
    "collapsed": false
   },
   "outputs": [
    {
     "data": {
      "text/plain": [
       "885"
      ]
     },
     "execution_count": 224,
     "metadata": {},
     "output_type": "execute_result"
    }
   ],
   "source": []
  },
  {
   "cell_type": "code",
   "execution_count": null,
   "metadata": {
    "collapsed": true
   },
   "outputs": [],
   "source": []
  }
 ],
 "metadata": {
  "kernelspec": {
   "display_name": "Python 3",
   "language": "python",
   "name": "python3"
  },
  "language_info": {
   "codemirror_mode": {
    "name": "ipython",
    "version": 3
   },
   "file_extension": ".py",
   "mimetype": "text/x-python",
   "name": "python",
   "nbconvert_exporter": "python",
   "pygments_lexer": "ipython3",
   "version": "3.6.0"
  }
 },
 "nbformat": 4,
 "nbformat_minor": 2
}
