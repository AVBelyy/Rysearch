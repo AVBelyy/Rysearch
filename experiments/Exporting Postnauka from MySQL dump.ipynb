{
 "cells": [
  {
   "cell_type": "code",
   "execution_count": 1,
   "metadata": {
    "collapsed": false
   },
   "outputs": [],
   "source": [
    "import os\n",
    "import collections\n",
    "import pymysql\n",
    "import pymysql.cursors"
   ]
  },
  {
   "cell_type": "code",
   "execution_count": 13,
   "metadata": {
    "collapsed": false
   },
   "outputs": [
    {
     "name": "stdout",
     "output_type": "stream",
     "text": [
      "CPU times: user 96 ms, sys: 0 ns, total: 96 ms\n",
      "Wall time: 1.3 s\n"
     ]
    }
   ],
   "source": [
    "%%time\n",
    "\n",
    "# Дополним посты на ПостНауке именами авторов.\n",
    "\n",
    "conn = pymysql.connect(host=\"localhost\",\n",
    "                       user=\"root\",\n",
    "                       password=\"\",\n",
    "                       db=\"postnauka\",\n",
    "                       charset=\"utf8\",\n",
    "                       cursorclass=pymysql.cursors.DictCursor)\n",
    "\n",
    "authors_names = collections.defaultdict(list)\n",
    "\n",
    "try:\n",
    "    with conn.cursor() as cur:\n",
    "        q = \"\"\"\n",
    "        -- Получить имена авторов\n",
    "        select tr.object_id as post_id, t.term_id as author_id, tt.description as author_name\n",
    "        from pn_term_taxonomy tt\n",
    "        join pn_terms t on (t.term_id = tt.term_id)\n",
    "        join pn_term_relationships tr on (tr.term_taxonomy_id = tt.term_taxonomy_id)\n",
    "        join pn_posts p on (p.id = tr.object_id)\n",
    "        where p.post_type = 'post' and p.post_status = 'publish' and tt.taxonomy = 'author'\n",
    "        order by tr.object_id, t.term_id\n",
    "        \"\"\"\n",
    "        cur.execute(q)\n",
    "        for row in cur:\n",
    "            doc_id = row[\"post_id\"]\n",
    "            author_id = row[\"author_id\"]\n",
    "            author_str = row[\"author_name\"].split()[:-3]\n",
    "            author_name = \" \".join(author_str[:len(author_str) // 2])\n",
    "            authors_names[doc_id].append((author_id, author_name))\n",
    "finally:\n",
    "    conn.close()"
   ]
  },
  {
   "cell_type": "code",
   "execution_count": 21,
   "metadata": {
    "collapsed": false
   },
   "outputs": [
    {
     "name": "stdout",
     "output_type": "stream",
     "text": [
      "CPU times: user 265 ms, sys: 128 ms, total: 393 ms\n",
      "Wall time: 836 ms\n"
     ]
    }
   ],
   "source": [
    "%%time\n",
    "\n",
    "# Дополним существующий датасет именами авторов из MySQL дампа.\n",
    "\n",
    "for doc_id, authors in authors_names.items():\n",
    "    with open(\"../datasets/postnauka/raw_data/meta/%s_meta.txt\" % doc_id, \"a\") as meta_file:\n",
    "        for author_id, author_name in authors:\n",
    "            meta_file.write(\"author_name\\t%d\\t%s\\n\" % (author_id, author_name))"
   ]
  },
  {
   "cell_type": "markdown",
   "metadata": {},
   "source": [
    "---"
   ]
  }
 ],
 "metadata": {
  "kernelspec": {
   "display_name": "Python 3",
   "language": "python",
   "name": "python3"
  },
  "language_info": {
   "codemirror_mode": {
    "name": "ipython",
    "version": 3
   },
   "file_extension": ".py",
   "mimetype": "text/x-python",
   "name": "python",
   "nbconvert_exporter": "python",
   "pygments_lexer": "ipython3",
   "version": "3.5.2"
  },
  "latex_envs": {
   "bibliofile": "biblio.bib",
   "cite_by": "apalike",
   "current_citInitial": 1,
   "eqLabelWithNumbers": true,
   "eqNumInitial": 0
  }
 },
 "nbformat": 4,
 "nbformat_minor": 0
}
