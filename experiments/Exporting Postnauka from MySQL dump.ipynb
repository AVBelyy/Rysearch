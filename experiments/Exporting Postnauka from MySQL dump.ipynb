{
 "cells": [
  {
   "cell_type": "code",
   "execution_count": 1,
   "metadata": {
    "collapsed": false
   },
   "outputs": [],
   "source": [
    "import os\n",
    "import collections\n",
    "import pymysql\n",
    "import pymysql.cursors\n",
    "import pymongo"
   ]
  },
  {
   "cell_type": "code",
   "execution_count": 2,
   "metadata": {
    "collapsed": false
   },
   "outputs": [],
   "source": [
    "id_func = lambda doc_id: \"pn_%d\" % doc_id\n",
    "ids = sorted(map(lambda s: int(s[:-9]), os.listdir(\"../datasets/postnauka/raw_data/meta\")))\n",
    "ids_map = dict(zip(ids, map(id_func, range(1, len(ids) + 1))))"
   ]
  },
  {
   "cell_type": "code",
   "execution_count": 3,
   "metadata": {
    "collapsed": true
   },
   "outputs": [],
   "source": [
    "mongodb = pymongo.MongoClient()"
   ]
  },
  {
   "cell_type": "code",
   "execution_count": 4,
   "metadata": {
    "collapsed": false
   },
   "outputs": [
    {
     "name": "stdout",
     "output_type": "stream",
     "text": [
      "CPU times: user 101 ms, sys: 3 ms, total: 104 ms\n",
      "Wall time: 235 ms\n"
     ]
    }
   ],
   "source": [
    "%%time\n",
    "\n",
    "# Дополним посты на ПостНауке именами авторов.\n",
    "\n",
    "conn = pymysql.connect(host=\"localhost\",\n",
    "                       user=\"root\",\n",
    "                       password=\"\",\n",
    "                       db=\"postnauka\",\n",
    "                       charset=\"utf8\",\n",
    "                       cursorclass=pymysql.cursors.DictCursor)\n",
    "\n",
    "authors_names = collections.defaultdict(list)\n",
    "\n",
    "try:\n",
    "    with conn.cursor() as cur:\n",
    "        q = \"\"\"\n",
    "        -- Получить имена авторов\n",
    "        select tr.object_id as post_id, t.term_id as author_id, tt.description as author_name\n",
    "        from pn_term_taxonomy tt\n",
    "        join pn_terms t on (t.term_id = tt.term_id)\n",
    "        join pn_term_relationships tr on (tr.term_taxonomy_id = tt.term_taxonomy_id)\n",
    "        join pn_posts p on (p.id = tr.object_id)\n",
    "        where p.post_type = 'post' and p.post_status = 'publish' and tt.taxonomy = 'author'\n",
    "        order by tr.object_id, t.term_id\n",
    "        \"\"\"\n",
    "        cur.execute(q)\n",
    "        for row in cur:\n",
    "            doc_id = ids_map[row[\"post_id\"]]\n",
    "            author_str = row[\"author_name\"].split()[:-3]\n",
    "            author_name = \" \".join(author_str[:len(author_str) // 2])\n",
    "            authors_names[doc_id].append(author_name)\n",
    "finally:\n",
    "    conn.close()"
   ]
  },
  {
   "cell_type": "code",
   "execution_count": 5,
   "metadata": {
    "collapsed": false
   },
   "outputs": [
    {
     "name": "stdout",
     "output_type": "stream",
     "text": [
      "CPU times: user 1.03 s, sys: 78 ms, total: 1.1 s\n",
      "Wall time: 2.49 s\n"
     ]
    }
   ],
   "source": [
    "%%time\n",
    "\n",
    "for doc_id, names in authors_names.items():\n",
    "    mongodb[\"datasets\"][\"postnauka\"].update_one({\"_id\": doc_id}, {\"$set\": {\"authors_names\": names}})"
   ]
  },
  {
   "cell_type": "code",
   "execution_count": 6,
   "metadata": {
    "collapsed": false
   },
   "outputs": [
    {
     "name": "stdout",
     "output_type": "stream",
     "text": [
      "CPU times: user 3 ms, sys: 0 ns, total: 3 ms\n",
      "Wall time: 2.26 ms\n"
     ]
    }
   ],
   "source": [
    "%%time\n",
    "\n",
    "# Заполним недостающие значения\n",
    "\n",
    "for doc_id in (ids_map.values() - authors_names.keys()):\n",
    "    mongodb[\"datasets\"][\"postnauka\"].update_one({\"_id\": doc_id}, {\"$set\": {\"authors_names\": []}})"
   ]
  },
  {
   "cell_type": "code",
   "execution_count": 7,
   "metadata": {
    "collapsed": false
   },
   "outputs": [
    {
     "data": {
      "text/plain": [
       "{'pn_2523', 'pn_2751', 'pn_3080', 'pn_3444'}"
      ]
     },
     "execution_count": 7,
     "metadata": {},
     "output_type": "execute_result"
    }
   ],
   "source": [
    "(ids_map.values() - authors_names.keys())"
   ]
  },
  {
   "cell_type": "markdown",
   "metadata": {},
   "source": [
    "---"
   ]
  }
 ],
 "metadata": {
  "kernelspec": {
   "display_name": "Python 3",
   "language": "python",
   "name": "python3"
  },
  "language_info": {
   "codemirror_mode": {
    "name": "ipython",
    "version": 3
   },
   "file_extension": ".py",
   "mimetype": "text/x-python",
   "name": "python",
   "nbconvert_exporter": "python",
   "pygments_lexer": "ipython3",
   "version": "3.5.2"
  },
  "latex_envs": {
   "bibliofile": "biblio.bib",
   "cite_by": "apalike",
   "current_citInitial": 1,
   "eqLabelWithNumbers": true,
   "eqNumInitial": 0
  }
 },
 "nbformat": 4,
 "nbformat_minor": 0
}
