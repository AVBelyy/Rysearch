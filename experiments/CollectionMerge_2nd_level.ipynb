{
 "cells": [
  {
   "cell_type": "markdown",
   "metadata": {
    "deletable": true,
    "editable": true
   },
   "source": [
    "## Эксперимент по вливанию коллекции в тематическую модель"
   ]
  },
  {
   "cell_type": "code",
   "execution_count": 6,
   "metadata": {
    "collapsed": true,
    "deletable": true,
    "editable": true
   },
   "outputs": [],
   "source": [
    "import warnings\n",
    "warnings.filterwarnings(\"ignore\", category=DeprecationWarning)"
   ]
  },
  {
   "cell_type": "code",
   "execution_count": 7,
   "metadata": {
    "collapsed": false,
    "deletable": true,
    "editable": true
   },
   "outputs": [],
   "source": [
    "%matplotlib inline\n",
    "import os\n",
    "import sys\n",
    "import glob\n",
    "import json\n",
    "import shutil\n",
    "import urllib\n",
    "import pickle\n",
    "import pymongo\n",
    "import itertools\n",
    "import collections\n",
    "import numpy as np\n",
    "import pandas as pd\n",
    "import scipy.sparse\n",
    "import matplotlib.pyplot as plt"
   ]
  },
  {
   "cell_type": "code",
   "execution_count": 8,
   "metadata": {
    "collapsed": false,
    "deletable": true,
    "editable": true
   },
   "outputs": [],
   "source": [
    "import artm\n",
    "import hierarchy_utils"
   ]
  },
  {
   "cell_type": "code",
   "execution_count": 9,
   "metadata": {
    "collapsed": false,
    "deletable": true,
    "editable": true
   },
   "outputs": [],
   "source": [
    "db = pymongo.MongoClient()[\"datasets\"]"
   ]
  },
  {
   "cell_type": "code",
   "execution_count": 10,
   "metadata": {
    "collapsed": true,
    "deletable": true,
    "editable": true
   },
   "outputs": [],
   "source": [
    "prefix_to_col_map = {\"pn\": \"postnauka\", \"habr\": \"habrahabr\", \"elem\": \"elementy\"}\n",
    "\n",
    "def get_document(doc_id, with_markdown=False):\n",
    "    fields = {\"_id\": 1, \"title\": 1, \"modalities\": 1}\n",
    "    if with_markdown:\n",
    "        fields[\"markdown\"] = 1\n",
    "    prefix, _ = doc_id.split(\"_\", 1)\n",
    "    col_name = prefix_to_col_map[prefix]\n",
    "    return db[col_name].find_one({\"_id\": doc_id}, fields)"
   ]
  },
  {
   "cell_type": "code",
   "execution_count": 11,
   "metadata": {
    "collapsed": false,
    "deletable": true,
    "editable": true
   },
   "outputs": [
    {
     "name": "stdout",
     "output_type": "stream",
     "text": [
      "2976\n",
      "1603\n",
      "1655\n"
     ]
    }
   ],
   "source": [
    "# Шаг 1 -- получение ранжированного списка документов для доливания\n",
    "\n",
    "reduced_dataset = False\n",
    "shuffled_dataset = False\n",
    "\n",
    "docs_ids = list(map(lambda r: r[\"_id\"], db[\"postnauka\"].find({}, {\"_id\": 1})))\n",
    "\n",
    "D_a = len(docs_ids)\n",
    "print(D_a)\n",
    "\n",
    "for csv_name, thresh in ((\"classifier_output_habr.csv\", 0.95),\n",
    "                         (\"classifier_output_elem.csv\", 0.55)):\n",
    "    clf_output = pd.read_csv(csv_name)\n",
    "    clf_output.columns = [\"id\", \"proba\"]\n",
    "    clf_output = clf_output.set_index(\"id\")[\"proba\"]\n",
    "    clf_output = clf_output[clf_output >= thresh]\n",
    "\n",
    "    clf_output = clf_output.sort_values(ascending=False)\n",
    "\n",
    "    if reduced_dataset:\n",
    "        clf_output = clf_output[:5000]\n",
    "\n",
    "    if shuffled_dataset:\n",
    "        np.random.seed(42)\n",
    "        clf_output = clf_output.sample(frac=1)\n",
    "\n",
    "    docs_ids += list(clf_output.index)\n",
    "\n",
    "    D_b = len(clf_output)\n",
    "    print(D_b)"
   ]
  },
  {
   "cell_type": "markdown",
   "metadata": {
    "deletable": true,
    "editable": true
   },
   "source": [
    "**В `docs_ids` лежит ранжированный список документов, который потом разбивается на батчи (`batches`)**"
   ]
  },
  {
   "cell_type": "code",
   "execution_count": 12,
   "metadata": {
    "collapsed": false,
    "deletable": true,
    "editable": true
   },
   "outputs": [
    {
     "data": {
      "text/plain": [
       "['pn_2',\n",
       " 'pn_3',\n",
       " 'pn_4',\n",
       " 'pn_5',\n",
       " 'pn_6',\n",
       " 'pn_7',\n",
       " 'pn_8',\n",
       " 'pn_9',\n",
       " 'pn_13',\n",
       " 'pn_14']"
      ]
     },
     "execution_count": 12,
     "metadata": {},
     "output_type": "execute_result"
    }
   ],
   "source": [
    "docs_ids[:10]"
   ]
  },
  {
   "cell_type": "markdown",
   "metadata": {
    "deletable": true,
    "editable": true
   },
   "source": [
    "**Дальше разбиваем на батчи. Можно по закону сложного процента:**"
   ]
  },
  {
   "cell_type": "code",
   "execution_count": 11,
   "metadata": {
    "collapsed": false,
    "deletable": true,
    "editable": true
   },
   "outputs": [],
   "source": [
    "# Шаг 2а -- разбиение списка на батчи для итеративного доливания\n",
    "\n",
    "D_a0 = D_a // 10\n",
    "\n",
    "# Будем пользоваться законом сложного процента: размер i-ого батча будет считаться как размер (i-1)-ого батча + p%.\n",
    "# Тогда количество итераций n, необходимых для вливания коллекции размера D_b в коллекцию размера D_a, удовлетворяет:\n",
    "# D_a * (1 + p)^n = D_a + D_b\n",
    "# n = ln((D_a + D_b) / D_a) / ln(1 + p)\n",
    "\n",
    "p = 0.1\n",
    "batches = [docs_ids[:D_a], docs_ids[D_a:D_a + D_a0]]\n",
    "batch_pos = D_a + D_a0\n",
    "\n",
    "while batch_pos < len(docs_ids):\n",
    "    new_batch_size = int((1 + p) * len(batches[-1]))\n",
    "    batch = docs_ids[batch_pos:batch_pos + new_batch_size]\n",
    "    batches.append(batch)\n",
    "    batch_pos += new_batch_size"
   ]
  },
  {
   "cell_type": "markdown",
   "metadata": {
    "deletable": true,
    "editable": true
   },
   "source": [
    "**А можно просто слить всё в один батч:**"
   ]
  },
  {
   "cell_type": "code",
   "execution_count": 12,
   "metadata": {
    "collapsed": true,
    "deletable": true,
    "editable": true
   },
   "outputs": [],
   "source": [
    "# Шаг 2б -- склеивание всей коллекции в один батч\n",
    "\n",
    "batches = [docs_ids]"
   ]
  },
  {
   "cell_type": "markdown",
   "metadata": {
    "deletable": true,
    "editable": true
   },
   "source": [
    "**А можно порезать все батчи, начиная со второго, на куски по 1000 штук:**"
   ]
  },
  {
   "cell_type": "code",
   "execution_count": 13,
   "metadata": {
    "collapsed": true,
    "deletable": true,
    "editable": true
   },
   "outputs": [],
   "source": [
    "batches = [docs_ids[:D_a], docs_ids[D_a:D_a + 1000], docs_ids[D_a + 1000:D_a + 2000],\n",
    "           docs_ids[D_a + 2000:D_a + 3000], docs_ids[D_a + 3000:D_a + 4000], docs_ids[D_a + 4000:D_a + 5000]]"
   ]
  },
  {
   "cell_type": "markdown",
   "metadata": {
    "deletable": true,
    "editable": true
   },
   "source": [
    "**А можно сначала Постнауку, а потом -- всё остальное:**"
   ]
  },
  {
   "cell_type": "code",
   "execution_count": 13,
   "metadata": {
    "collapsed": true,
    "deletable": true,
    "editable": true
   },
   "outputs": [],
   "source": [
    "batches = [docs_ids[:D_a], docs_ids[D_a:]]"
   ]
  },
  {
   "cell_type": "markdown",
   "metadata": {
    "deletable": true,
    "editable": true
   },
   "source": [
    "**А может быть, можно ещё как-то -- тут надо думать.**"
   ]
  },
  {
   "cell_type": "markdown",
   "metadata": {
    "deletable": true,
    "editable": true
   },
   "source": [
    "Размеры батчей:"
   ]
  },
  {
   "cell_type": "code",
   "execution_count": 14,
   "metadata": {
    "collapsed": false,
    "deletable": true,
    "editable": true
   },
   "outputs": [
    {
     "data": {
      "text/plain": [
       "[2976, 3258]"
      ]
     },
     "execution_count": 14,
     "metadata": {},
     "output_type": "execute_result"
    }
   ],
   "source": [
    "list(map(len, batches))"
   ]
  },
  {
   "cell_type": "markdown",
   "metadata": {
    "deletable": true,
    "editable": true
   },
   "source": [
    "Количество и суммарная длина батчей:"
   ]
  },
  {
   "cell_type": "code",
   "execution_count": 15,
   "metadata": {
    "collapsed": false,
    "deletable": true,
    "editable": true
   },
   "outputs": [
    {
     "data": {
      "text/plain": [
       "(2, 6234)"
      ]
     },
     "execution_count": 15,
     "metadata": {},
     "output_type": "execute_result"
    }
   ],
   "source": [
    "len(batches), sum(map(len, batches))"
   ]
  },
  {
   "cell_type": "code",
   "execution_count": 17,
   "metadata": {
    "collapsed": false,
    "deletable": true,
    "editable": true
   },
   "outputs": [
    {
     "name": "stdout",
     "output_type": "stream",
     "text": [
      "CPU times: user 1min 29s, sys: 2.01 s, total: 1min 31s\n",
      "Wall time: 1min 30s\n"
     ]
    }
   ],
   "source": [
    "%%time\n",
    "\n",
    "# Шаг 3 -- подгрузка словаря совстречаемостей (PPMI), подсчитываемого отдельного\n",
    "\n",
    "artm_cooc_path = \"merged_cooc_df_gt20.txt\"\n",
    "\n",
    "word_count = []\n",
    "row, col, data = [], [], []\n",
    "with open(artm_cooc_path) as cooc_f:\n",
    "    for line in cooc_f:\n",
    "        tokens = list(map(int, line.split()))\n",
    "        if len(tokens) == 1:\n",
    "            word_count.append(tokens[0])\n",
    "        elif len(tokens) == 3:\n",
    "            u, v, n_uv = tokens\n",
    "            p_uv = n_uv / word_count[v]\n",
    "            p_vu = n_uv / word_count[u]\n",
    "            row.append(u); col.append(v); data.append(p_uv)\n",
    "            row.append(v); col.append(u); data.append(p_vu)\n",
    "\n",
    "w = h = len(word_count)\n",
    "cooc_matrix = scipy.sparse.csr_matrix((data, (row, col)), shape=(w, h), dtype=np.float32)\n",
    "\n",
    "del row, col, data"
   ]
  },
  {
   "cell_type": "code",
   "execution_count": 18,
   "metadata": {
    "collapsed": false,
    "deletable": true,
    "editable": true
   },
   "outputs": [
    {
     "data": {
      "text/plain": [
       "<231640x231640 sparse matrix of type '<class 'numpy.float32'>'\n",
       "\twith 38931218 stored elements in Compressed Sparse Row format>"
      ]
     },
     "execution_count": 18,
     "metadata": {},
     "output_type": "execute_result"
    }
   ],
   "source": [
    "cooc_matrix"
   ]
  },
  {
   "cell_type": "code",
   "execution_count": 16,
   "metadata": {
    "collapsed": true,
    "deletable": true,
    "editable": true
   },
   "outputs": [],
   "source": [
    "# Параметры ARTM модели\n",
    "\n",
    "# Общий random seed\n",
    "artm_seed = 37\n",
    "\n",
    "# Названия тем\n",
    "# TODO: скрытые константы\n",
    "norm_topic_names = [\"topic_%d\" % i for i in range(0, 19)]\n",
    "background_names = [\"background_%d\" % i for i in range(0, 1)]\n",
    "topic_names0 = norm_topic_names + background_names\n",
    "\n",
    "# Регуляризаторы\n",
    "regularizers_list0 = []\n",
    "regularizers_list0.append(artm.DecorrelatorPhiRegularizer(name=\"DecorrPhiReg\",\n",
    "                                                          topic_names=norm_topic_names,\n",
    "                                                          tau=100000))\n",
    "regularizers_list0.append(artm.SmoothSparseThetaRegularizer(name=\"SPPhiTagRegBackground\",\n",
    "                                                           topic_names=background_names,\n",
    "                                                           tau=100))\n",
    "\n",
    "# Веса всех модальностей\n",
    "class_ids0 = {\"text\": 1.0, \"flat_tag\": 300.0, \"text_habr\": 1.0, \"flat_tag_habr\": 1.0}\n",
    "class_ids1 = {\"text\": 1.0, \"flat_tag\": 1.0,   \"text_habr\": 1.0, \"flat_tag_habr\": 1.0}"
   ]
  },
  {
   "cell_type": "code",
   "execution_count": 17,
   "metadata": {
    "collapsed": true,
    "deletable": true,
    "editable": true
   },
   "outputs": [],
   "source": [
    "# Параметры алгоритма CollectionMerge\n",
    "\n",
    "modalities_to_use = [\"flat_tag\", \"text\"]\n",
    "vw_path = \"batch_vw.txt\"\n",
    "artm_ppmi_path = \"merged_ppmi.txt\"\n",
    "artm_vocab_path = \"merged_vocab.txt\"\n",
    "artm_batch_path = \"merged_batches/\"\n",
    "tmp_artm_batch_path = \"./\""
   ]
  },
  {
   "cell_type": "code",
   "execution_count": 18,
   "metadata": {
    "collapsed": false,
    "deletable": true,
    "editable": true
   },
   "outputs": [],
   "source": [
    "def build_level1(topics_cnt, level0, prev_phi, dictionary, batch_vectorizer, scores_list):\n",
    "    # Названия тем\n",
    "    topic_names1 = [\"topic_%d\" % i for i in range(topics_cnt)]\n",
    "\n",
    "    # Список регуляризаторов\n",
    "    regularizers_list1 = []\n",
    "    regularizers_list1.append(artm.DecorrelatorPhiRegularizer(name=\"DecorrPhiReg1\",\n",
    "                              topic_names=topic_names1, tau=50000))\n",
    "\n",
    "    # Создадим ARTM модель (второй уровень)\n",
    "    level1 = hierarchy_utils.ARTM_Level(level0, phi_batch_weight=10.0**3, \n",
    "                                        topic_names=topic_names1,\n",
    "                                        class_ids=class_ids1,\n",
    "                                        regularizers=regularizers_list1,\n",
    "                                        scores=scores_list,\n",
    "                                        num_document_passes=1,\n",
    "                                        cache_theta=True, theta_columns_naming=\"title\",\n",
    "                                        seed=artm_seed)\n",
    "    level1.initialize(dictionary=dictionary)\n",
    "\n",
    "    # Инициализиуем матрицу Фи значениями с предыдущей итерации\n",
    "    if prev_phi is not None:\n",
    "        _, phi_ref = level1.master.attach_model(level1.model_pwt)\n",
    "        print(prev_phi.shape, phi_ref.shape)\n",
    "        for i, j in itertools.product(*map(range, prev_phi.shape)):\n",
    "            phi_ref[i, j] = prev_phi[i, j]\n",
    "\n",
    "    # Обучим модель второго уровня\n",
    "    # TODO: подобрать количество итераций\n",
    "    level1.fit_offline(batch_vectorizer, num_collection_passes=5)\n",
    "\n",
    "    # Итеративное разреживание детей тем 0 уровня\n",
    "    threshold = 0.05\n",
    "    psi1 = level1.get_psi()\n",
    "    for tau in np.arange(0.1, 0.6, 0.1):\n",
    "        child_topics = []\n",
    "        for t in range(len(level0.topic_names)):\n",
    "            child_topics.append([])\n",
    "            for s, topic_name1 in enumerate(level1.topic_names):\n",
    "                if psi1.values[s, t] > threshold:\n",
    "                    child_topics[t].append(topic_name1)\n",
    "        # Разреживание детей каждой темы 0 уровня между собой\n",
    "        for i in range(len(level0.topic_names)):\n",
    "            topics_list = child_topics[i]\n",
    "            level1.regularizers.add(artm.SmoothSparseThetaRegularizer(\n",
    "                                    name=\"SPThetaReg_%d\" % i,\n",
    "                                    topic_names=topics_list, \n",
    "                                    tau=-tau * len(topics_list) ** 3), overwrite=True)\n",
    "        # Дообучим модель второго уровня\n",
    "        # TODO: подобрать количество итераций\n",
    "        level1.fit_offline(batch_vectorizer, num_collection_passes=1)\n",
    "\n",
    "    return level1"
   ]
  },
  {
   "cell_type": "markdown",
   "metadata": {
    "deletable": true,
    "editable": true
   },
   "source": [
    "**Собственно, алгоритм итеративного обучения CollectionMerge:**"
   ]
  },
  {
   "cell_type": "code",
   "execution_count": 19,
   "metadata": {
    "collapsed": false,
    "deletable": true,
    "editable": true
   },
   "outputs": [
    {
     "name": "stdout",
     "output_type": "stream",
     "text": [
      "New vocab size: 44995\n",
      "CPU times: user 3.29 s, sys: 140 ms, total: 3.43 s\n",
      "Wall time: 3.73 s\n"
     ]
    }
   ],
   "source": [
    "%%time\n",
    "\n",
    "max_batch_size = max(map(len, batches))\n",
    "\n",
    "vocab_map = {}\n",
    "prev_phi0 = None\n",
    "prev_phi1 = None\n",
    "\n",
    "docs_length = 0\n",
    "word_count = {}\n",
    "pair_count = {}\n",
    "\n",
    "all_chars = list(map(chr, range(ord('a'), ord('z') + 1)))\n",
    "artm_batch_names_iter = itertools.product(*([all_chars] * 6))\n",
    "batch_names = [\"\".join(next(artm_batch_names_iter)) for i in range(len(batches))]\n",
    "\n",
    "t2 = 60\n",
    "\n",
    "psis = []\n",
    "levels = []\n",
    "\n",
    "# Удалим содержимое директории с ARTM батчами\n",
    "for fname in glob.glob(artm_batch_path + \"/*\"):\n",
    "    os.remove(fname)\n",
    "\n",
    "# Создадим файлы с ARTM vocabulary\n",
    "open(artm_vocab_path, \"w\").close()\n",
    "\n",
    "for iter_no, (batch_name, batch) in enumerate(zip(batch_names, batches)):\n",
    "    prev_vocab_size = len(vocab_map)\n",
    "    batch_vocab = []\n",
    "    batch_n_d = collections.defaultdict(int)\n",
    "    batch_n_wd = collections.defaultdict(int)\n",
    "\n",
    "    # Запишем документы и словарь из батча в файлы\n",
    "    with open(vw_path, \"w\") as vw_f, open(artm_vocab_path, \"a\") as vocab_f:\n",
    "        for i_d, doc in enumerate(map(get_document, batch)):\n",
    "            doc_id = doc[\"_id\"]\n",
    "            modalities_str = []\n",
    "            for mod_name in modalities_to_use:\n",
    "                mod = doc[\"modalities\"].get(mod_name, [])\n",
    "                mods = []\n",
    "                for token in mod:\n",
    "                    token = token.replace(\" \", \"_\")\n",
    "                    vocab_entry = (token, mod_name)\n",
    "                    if iter_no == 0 or (iter_no > 0 and vocab_entry in vocab_map):\n",
    "                        mods.append(token)\n",
    "                    if vocab_entry not in vocab_map and iter_no == 0:\n",
    "                        vocab_map[vocab_entry] = len(vocab_map)\n",
    "                        batch_vocab.append(vocab_entry)\n",
    "                    #i_w = vocab_map[vocab_entry]\n",
    "                    #batch_n_wd[i_w, i_d] += 1\n",
    "                modalities_str.append(\"|%s %s\" % (mod_name, \" \".join(mods)))\n",
    "                #for token in set(mod):\n",
    "                #    token = token.replace(\" \", \"_\")\n",
    "                #    i_w = vocab_map[token, mod_name]\n",
    "                #    batch_n_d[i_w] += 1\n",
    "            vw_f.write(\"%s %s\\n\" % (doc_id, \" \".join(modalities_str)))\n",
    "        for vocab_entry in batch_vocab:\n",
    "            vocab_f.write(\"%s %s\\n\" % vocab_entry)\n",
    "    \n",
    "    print(\"New vocab size:\", len(batch_vocab))\n",
    "    break\n",
    "    \n",
    "    # Создадим матрицу P(w_old|d_new)\n",
    "    \"\"\"\n",
    "    row, col, data = [], [], []\n",
    "    for (i_w, i_d), n_wd in batch_n_wd.items():\n",
    "        if i_w < prev_vocab_size:\n",
    "            p_wd = n_wd / batch_n_d[i_w]\n",
    "            row.append(i_w)\n",
    "            col.append(i_d)\n",
    "            data.append(p_wd)\n",
    "    w = prev_vocab_size\n",
    "    h = len(batch)\n",
    "    batch_p_wd_old = scipy.sparse.csr_matrix((data, (row, col)), shape=(w, h), dtype=np.float32)\n",
    "    \n",
    "    # Создадим матрицу P(w_new|d_new)\n",
    "    row, col, data = [], [], []\n",
    "    for (i_w, i_d), n_wd in batch_n_wd.items():\n",
    "        if i_w >= prev_vocab_size:\n",
    "            p_wd = n_wd / batch_n_d[i_w]\n",
    "            row.append(i_w - prev_vocab_size)\n",
    "            col.append(i_d)\n",
    "            data.append(p_wd)\n",
    "    w = len(batch_vocab)\n",
    "    h = len(batch)\n",
    "    batch_p_wd_new = scipy.sparse.csr_matrix((data, (row, col)), shape=(w, h), dtype=np.float32)\n",
    "    \"\"\"\n",
    "\n",
    "    # Создадим ARTM батч по нашему батчу\n",
    "    tmp_batch_vectorizer = artm.BatchVectorizer(data_format=\"vowpal_wabbit\", data_path=vw_path,\n",
    "                                                batch_size=max_batch_size, target_folder=tmp_artm_batch_path,\n",
    "                                                gather_dictionary=False)\n",
    "    # Хак: переименуем ARTM батч во временное имя,\n",
    "    # чтобы не мешать созданию других ARTM батчей\n",
    "    os.rename(\"%s/aaaaaa.batch\" % tmp_artm_batch_path,\n",
    "              \"%s/%s.batch\"     % (artm_batch_path, batch_name))\n",
    "\n",
    "    # Создадим ARTM модель (первый уровень)\n",
    "    dictionary = artm.Dictionary(\"dictionary\")\n",
    "    dictionary.gather(artm_batch_path, vocab_file_path=artm_vocab_path,\n",
    "                      cooc_file_path=artm_ppmi_path, symmetric_cooc_values=True)\n",
    "\n",
    "    # Метрики качества\n",
    "    scores_list = []\n",
    "    scores_list.append(artm.PerplexityScore(name=\"PerplexityScore\", class_ids=[\"text\"]))\n",
    "    scores_list.append(artm.TopTokensScore(name=\"Top50Tokens\", class_id=\"text\", num_tokens=50,\n",
    "                                           dictionary=dictionary))\n",
    "    scores_list.append(artm.TopTokensScore(name=\"Top10Tags\", class_id=\"flat_tag\", num_tokens=10,\n",
    "                                           dictionary=dictionary))\n",
    "\n",
    "    level0 = artm.ARTM(topic_names=topic_names0, class_ids=class_ids0,\n",
    "                       regularizers=regularizers_list0, scores=scores_list,\n",
    "                       cache_theta=True, theta_columns_naming=\"title\",\n",
    "                       seed=artm_seed)\n",
    "    level0.initialize(dictionary=dictionary)\n",
    "    \n",
    "    # Загрузим созданные на данный момент ARTM батчи\n",
    "    #data_paths = list(map(lambda i: \"%s/%d\" % (artm_batch_path, i), range(iter_no + 1)))\n",
    "    #data_weights = list((1 - p) ** np.arange(iter_no + 1))\n",
    "    batch_vectorizer = artm.BatchVectorizer(data_format=\"batches\", data_path=artm_batch_path,\n",
    "                                            gather_dictionary=False)\n",
    "    \n",
    "    # Инициализиуем матрицу Фи значениями с предыдущей итерации\n",
    "    if prev_phi0 is not None:\n",
    "        # Инициализируем верхнюю часть Фи матрицей Фи с предыдущей итерации\n",
    "        _, phi_ref = level0.master.attach_model(level0.model_pwt)\n",
    "        print(prev_phi0.shape, phi_ref.shape)\n",
    "        for i, j in itertools.product(*map(range, prev_phi0.shape)):\n",
    "            phi_ref[i, j] = prev_phi0[i, j]\n",
    "\n",
    "        # Инициализируем нижнюю часть Фи различными оценками\n",
    "        ff_score = 0.0\n",
    "        if False:\n",
    "            start_token_id = prev_phi0.shape[0]\n",
    "            end_token_id = phi_ref.shape[0]\n",
    "\n",
    "            for token_id in range(start_token_id, end_token_id):\n",
    "                token_cooc_row = cooc_matrix[token_id]\n",
    "                data, col = token_cooc_row.data, token_cooc_row.nonzero()[1]\n",
    "\n",
    "                if len(data) > 0:\n",
    "                    length = np.argmin(col < start_token_id)\n",
    "\n",
    "                    pvt = prev_phi0[col[:length]]\n",
    "                    pwv = data[:length]\n",
    "                    pwt = pwv.dot(pvt)\n",
    "\n",
    "                    # Посчитаем метрику качества инициализции\n",
    "                    pvd_new = batch_p_wd_new[token_id - start_token_id]\n",
    "                    pvd_old = batch_p_wd_old[col[:length]]\n",
    "                    cf_score = pvd_new.toarray() - pvd_old.T.dot(pwv)\n",
    "                    ff_score += np.linalg.norm(cf_score)\n",
    "\n",
    "                    for j in range(prev_phi0.shape[1]):\n",
    "                        phi_ref[token_id, j] = pwt[j]\n",
    "                else:\n",
    "                    pvd_new = batch_p_wd_new[token_id - start_token_id]\n",
    "                    cf_score = pvd_new.toarray()\n",
    "                    ff_score += np.linalg.norm(cf_score)\n",
    "        #print(\"Level 0 FF score: %.6f\" % ff_score)\n",
    "\n",
    "    # Обучим модель первого уровня\n",
    "    # TODO: подобрать количество итераций\n",
    "    level0.fit_offline(batch_vectorizer, num_collection_passes=10)\n",
    "    print(\"Level 0 perplexity: %.6f\" % level0.score_tracker[\"PerplexityScore\"].last_value)\n",
    "    print(\"Level 0 coherence: %.6f\" % level0.score_tracker[\"Top50Tokens\"].last_average_coherence)\n",
    "    print(\"Iteration %d, level 0 built\" % iter_no)\n",
    "\n",
    "    # Построим модель второго уровня\n",
    "    #max_coherence = 0\n",
    "    #max_t2 = cur_t2\n",
    "    #for t2 in range(cur_t2 - 4, cur_t2 + 12, 2):\n",
    "    level1 = build_level1(t2, level0, prev_phi1, dictionary, batch_vectorizer, scores_list)\n",
    "    print(\"Level 1 perplexity: %.6f\" % level1.score_tracker[\"PerplexityScore\"].last_value)\n",
    "    print(\"Level 1 coherence: %.6f\" % level1.score_tracker[\"Top50Tokens\"].last_average_coherence)\n",
    "    print(\"Iteration %d, level 1 built\" % iter_no)\n",
    "    #if t2 == 19 * 3:\n",
    "    #    t2 += 10\n",
    "\n",
    "    # Сохраним матрицы Фи первого и второго уровня с текущей итерации\n",
    "    prev_phi0 = level0.get_phi().values\n",
    "    prev_phi1 = level1.get_phi().values\n",
    "\n",
    "    # Сохраним уровни для истории\n",
    "    levels.append((level0, level1))\n",
    "    #hier = hierarchy_utils.hARTM(class_ids=class_ids0, regularizers=regularizers_list0, scores=scores_list,\n",
    "    #                         cache_theta=True, seed=artm_seed)\n",
    "    #hier._levels.append(level0)\n",
    "    #hier._levels.append(level1)\n",
    "    #hiers.append(hier)"
   ]
  },
  {
   "cell_type": "markdown",
   "metadata": {
    "deletable": true,
    "editable": true
   },
   "source": [
    "**Получившиеся темы первого уровня:**"
   ]
  },
  {
   "cell_type": "code",
   "execution_count": 23,
   "metadata": {
    "collapsed": false,
    "deletable": true,
    "editable": true
   },
   "outputs": [
    {
     "data": {
      "text/plain": [
       "[('background_0', 'биология технологии микробиология'),\n",
       " ('topic_0', 'философия история_россии история'),\n",
       " ('topic_1', 'эволюция антропология биология'),\n",
       " ('topic_10', 'медицина биология генетика'),\n",
       " ('topic_11', 'физика физика_элементарных_частиц квантовая_физика'),\n",
       " ('topic_12', 'история_науки наука образование'),\n",
       " ('topic_13', 'химия люди_науки космология'),\n",
       " ('topic_14', 'общество образование наука_и_общество'),\n",
       " ('topic_15', 'математика информационные_технологии информатика'),\n",
       " ('topic_16', 'средневековье история мифология'),\n",
       " ('topic_17', 'экология зоология биология'),\n",
       " ('topic_18', 'мозг нейробиология искусственный_интеллект'),\n",
       " ('topic_2', 'экономика география стартап'),\n",
       " ('topic_3', 'культура литература культурология'),\n",
       " ('topic_4', 'история политика ссср'),\n",
       " ('topic_5', 'астрономия астрофизика космос'),\n",
       " ('topic_6', 'лингвистика язык право'),\n",
       " ('topic_7', 'социология социология_повседневности дюркгейм_эмиль'),\n",
       " ('topic_8', 'россия государство сша'),\n",
       " ('topic_9', 'психология интернет когнитивная_психология')]"
      ]
     },
     "execution_count": 23,
     "metadata": {},
     "output_type": "execute_result"
    }
   ],
   "source": [
    "sorted([(k, \" \".join(v[:3])) for k, v in levels[-1][0].score_tracker[\"Top10Tags\"].last_tokens.items()])"
   ]
  },
  {
   "cell_type": "markdown",
   "metadata": {
    "deletable": true,
    "editable": true
   },
   "source": [
    "**Получившиеся темы второго уровня:**"
   ]
  },
  {
   "cell_type": "code",
   "execution_count": 25,
   "metadata": {
    "collapsed": false,
    "deletable": true,
    "editable": true
   },
   "outputs": [
    {
     "data": {
      "text/plain": [
       "[('topic_0', 'политическая_философия история_философии история_россии'),\n",
       " ('topic_1', 'генетика ген биология'),\n",
       " ('topic_10', 'генетика геном белки'),\n",
       " ('topic_11', 'физика физика_элементарных_частиц квантовая_физика'),\n",
       " ('topic_12', 'история_науки наука гендер'),\n",
       " ('topic_13', 'вселенная гравитационные_волны рентгеновское_излучение'),\n",
       " ('topic_14', 'антропология человек происхождение_человека'),\n",
       " ('topic_15', 'технологии юзабилити работа'),\n",
       " ('topic_16', 'история религиоведение фольклор'),\n",
       " ('topic_17', 'филология культурология массовая_культура'),\n",
       " ('topic_18', 'поведение_животных нобелевская_премия зоопсихология'),\n",
       " ('topic_19', 'микробиология биотехнологии микробы'),\n",
       " ('topic_2', 'стартапы информационная_безопасность авторское_право'),\n",
       " ('topic_20', 'человек биология антропогенез'),\n",
       " ('topic_21', 'история_россии история кавказ'),\n",
       " ('topic_22', 'биология молекулярная_биология наука_в_россии'),\n",
       " ('topic_23', 'искусственный_интеллект нейробиология эмоции'),\n",
       " ('topic_24', 'история востоковедение первая_мировая_война'),\n",
       " ('topic_25', 'технологии микробиология биотехнологии'),\n",
       " ('topic_26', 'биология молекулярная_биология наука_в_россии'),\n",
       " ('topic_27', 'земля астрономия звезды'),\n",
       " ('topic_28', 'технологии микробиология молекулярная_биология'),\n",
       " ('topic_29', 'физика атом квантовые_технологии'),\n",
       " ('topic_3', 'культурология массовая_культура литературоведение'),\n",
       " ('topic_30', 'идентичность миграция финансовый_рынок'),\n",
       " ('topic_31', 'социология социология_повседневности вебер_макс'),\n",
       " ('topic_32', 'физика физика_элементарных_частиц квантовая_механика'),\n",
       " ('topic_33', 'технологии наука_в_россии биология'),\n",
       " ('topic_34', 'микробиология биотехнологии бактерии'),\n",
       " ('topic_35', 'физика физика_элементарных_частиц стандартная_модель'),\n",
       " ('topic_36', 'филология лингвистика язык'),\n",
       " ('topic_37', 'наука социология_науки академическая_среда'),\n",
       " ('topic_38',\n",
       "  'управление_проектами_и_командой индуцированные_плюрипотентные_стволовые_клетки психология_масс'),\n",
       " ('topic_39', 'филология корпусная_лингвистика когнитивная_лингвистика'),\n",
       " ('topic_4', 'биология микробиология молекулярная_биология'),\n",
       " ('topic_40', 'социология латур_брюно игры'),\n",
       " ('topic_41', 'история_науки наука гендер'),\n",
       " ('topic_42', 'когнитивная_психология социальные_сети суперкомпьютеры'),\n",
       " ('topic_43', 'нейробиология искусственный_интеллект нейрофизиология'),\n",
       " ('topic_44', 'химия люди_науки космология'),\n",
       " ('topic_45', 'биология человек физическая_антропология'),\n",
       " ('topic_46', 'история либерализм история_россии'),\n",
       " ('topic_47', 'астрономия звезды вселенная'),\n",
       " ('topic_48', 'история новое_время хайнлайн'),\n",
       " ('topic_49', 'история вторая_мировая_война сталин_иосиф'),\n",
       " ('topic_5', 'физика квантовая_физика физика_элементарных_частиц'),\n",
       " ('topic_50', 'язык лингвистика русский_язык'),\n",
       " ('topic_51', 'биология вирусы алгоритмы'),\n",
       " ('topic_52',\n",
       "  'наука_и_общество немецкая_классическая_философия социальная_психология'),\n",
       " ('topic_53', 'люди_науки химия нанотехнологии'),\n",
       " ('topic_54', 'физика элементарная_частица магнитное_поле'),\n",
       " ('topic_55', 'фольклор история фольклористика'),\n",
       " ('topic_56', 'информационные_технологии робототехника управление_проектами'),\n",
       " ('topic_57', 'астрономия звезды черные_дыры'),\n",
       " ('topic_58', 'лингвистика язык русский_язык'),\n",
       " ('topic_59', 'биология ген генетика'),\n",
       " ('topic_6', 'язык лингвистика русский_язык'),\n",
       " ('topic_7', 'социология социология_повседневности дюркгейм_эмиль'),\n",
       " ('topic_8', 'история история_россии кавказ'),\n",
       " ('topic_9', 'социология социология_пространства вирусология')]"
      ]
     },
     "execution_count": 25,
     "metadata": {},
     "output_type": "execute_result"
    }
   ],
   "source": [
    "sorted([(k, \" \".join(v[:3])) for k, v in levels[-1][1].score_tracker[\"Top10Tags\"].last_tokens.items()])"
   ]
  },
  {
   "cell_type": "code",
   "execution_count": 20,
   "metadata": {
    "collapsed": false,
    "deletable": true,
    "editable": true
   },
   "outputs": [],
   "source": [
    "#for level_id, level in enumerate(levels):\n",
    "#    level.save(\"article_models/new_random_small_batches_%d.model\" % level_id)"
   ]
  },
  {
   "cell_type": "markdown",
   "metadata": {
    "deletable": true,
    "editable": true
   },
   "source": [
    "---"
   ]
  },
  {
   "cell_type": "code",
   "execution_count": 19,
   "metadata": {
    "collapsed": false,
    "deletable": true,
    "editable": true
   },
   "outputs": [],
   "source": [
    "#hiers[-1].save(\"hartm\")\n",
    "#\n",
    "#extra_info = {\n",
    "#    \"class_ids\": class_ids0,\n",
    "#    \"theta\": hiers[-1].get_theta(),\n",
    "#}\n",
    "#\n",
    "#pickle.dump(extra_info, open(\"hartm/extra_info.dump\", \"wb\"))"
   ]
  },
  {
   "cell_type": "markdown",
   "metadata": {
    "deletable": true,
    "editable": true
   },
   "source": [
    "---"
   ]
  },
  {
   "cell_type": "markdown",
   "metadata": {
    "deletable": true,
    "editable": true
   },
   "source": [
    "**Какие-то статистики (в том числе и из старой Машиной тетрадки), которые можно позапускать без гарантии успеха:**"
   ]
  },
  {
   "cell_type": "markdown",
   "metadata": {
    "deletable": true,
    "editable": true
   },
   "source": [
    "### Proposed algorithm"
   ]
  },
  {
   "cell_type": "markdown",
   "metadata": {
    "deletable": true,
    "editable": true
   },
   "source": [
    "### Baseline"
   ]
  },
  {
   "cell_type": "code",
   "execution_count": 41,
   "metadata": {
    "collapsed": false,
    "deletable": true,
    "editable": true
   },
   "outputs": [],
   "source": [
    "phi0 = levels[0].get_phi()"
   ]
  },
  {
   "cell_type": "code",
   "execution_count": 27,
   "metadata": {
    "collapsed": false,
    "deletable": true,
    "editable": true
   },
   "outputs": [
    {
     "data": {
      "text/plain": [
       "9.509999226365466"
      ]
     },
     "execution_count": 27,
     "metadata": {},
     "output_type": "execute_result"
    }
   ],
   "source": [
    "np.mean((phi0 > 0).sum(axis=1))"
   ]
  },
  {
   "cell_type": "code",
   "execution_count": 26,
   "metadata": {
    "collapsed": false,
    "deletable": true,
    "editable": true
   },
   "outputs": [
    {
     "data": {
      "text/plain": [
       "8.0"
      ]
     },
     "execution_count": 26,
     "metadata": {},
     "output_type": "execute_result"
    }
   ],
   "source": [
    "np.median((phi0 > 0).sum(axis=1))"
   ]
  },
  {
   "cell_type": "code",
   "execution_count": 28,
   "metadata": {
    "collapsed": false,
    "deletable": true,
    "editable": true
   },
   "outputs": [
    {
     "data": {
      "text/plain": [
       "[('background_0', 'проект работать компания'),\n",
       " ('topic_0', 'россия русский политический'),\n",
       " ('topic_1', 'клетка организм ген'),\n",
       " ('topic_10', 'дизайн экран страница'),\n",
       " ('topic_11', 'частица двигатель полет'),\n",
       " ('topic_12', 'файл код объект'),\n",
       " ('topic_13', 'материал энергия температура'),\n",
       " ('topic_14', 'компания студент проект'),\n",
       " ('topic_15', 'алгоритм значение число'),\n",
       " ('topic_16', 'посылка биткоин днк'),\n",
       " ('topic_17', 'сервер данные пользователь'),\n",
       " ('topic_18', 'мозг память технология'),\n",
       " ('topic_2', 'устройство камера датчик'),\n",
       " ('topic_3', 'напряжение фильм сигнал'),\n",
       " ('topic_4', 'нейрон сеть интеллект'),\n",
       " ('topic_5', 'звезда планета земля'),\n",
       " ('topic_6', 'право закон договор'),\n",
       " ('topic_7', 'код символ строка'),\n",
       " ('topic_8', 'компания рынок страна'),\n",
       " ('topic_9', 'задача ребенок часто')]"
      ]
     },
     "execution_count": 28,
     "metadata": {},
     "output_type": "execute_result"
    }
   ],
   "source": [
    "sorted([(k, \" \".join(v[:3])) for k, v in levels[0].score_tracker[\"Top50Tokens\"].last_tokens.items()])"
   ]
  },
  {
   "cell_type": "code",
   "execution_count": 29,
   "metadata": {
    "collapsed": false,
    "deletable": true,
    "editable": true
   },
   "outputs": [
    {
     "data": {
      "text/plain": [
       "[('background_0', 'интернет реклама авторское_право'),\n",
       " ('topic_0', 'история россия философия'),\n",
       " ('topic_1', 'биология медицина эволюция'),\n",
       " ('topic_10', 'дизайн архитектура творчество'),\n",
       " ('topic_11', 'физика китай физика_элементарных_частиц'),\n",
       " ('topic_12', 'социальные_сети наука электроника'),\n",
       " ('topic_13', 'химия биотехнологии нанотехнологии'),\n",
       " ('topic_14', 'образование сша марс'),\n",
       " ('topic_15', 'математика информационные_технологии статистика'),\n",
       " ('topic_16', 'днк геном средневековье'),\n",
       " ('topic_17', 'информационная_безопасность экология английский_язык'),\n",
       " ('topic_18', 'технологии мозг память'),\n",
       " ('topic_2', 'экономика география лазер'),\n",
       " ('topic_3', 'культура литература кино'),\n",
       " ('topic_4', 'искусственный_интеллект политика ссср'),\n",
       " ('topic_5', 'астрономия астрофизика космос'),\n",
       " ('topic_6', 'язык лингвистика право'),\n",
       " ('topic_7', 'социология клетка микробиология'),\n",
       " ('topic_8', 'общество государство социология'),\n",
       " ('topic_9', 'психология мышление когнитивная_психология')]"
      ]
     },
     "execution_count": 29,
     "metadata": {},
     "output_type": "execute_result"
    }
   ],
   "source": [
    "sorted([(k, \" \".join(v[:3])) for k, v in levels[-1].score_tracker[\"Top10Tags\"].last_tokens.items()])"
   ]
  },
  {
   "cell_type": "markdown",
   "metadata": {
    "deletable": true,
    "editable": true
   },
   "source": [
    "---"
   ]
  },
  {
   "cell_type": "code",
   "execution_count": 329,
   "metadata": {
    "collapsed": false,
    "deletable": true,
    "editable": true
   },
   "outputs": [],
   "source": [
    "level0, level1 = levels[-1]\n",
    "psi1 = level1.get_psi()\n",
    "\n",
    "tokens0 = level0.score_tracker[\"Top10Tags\"].last_tokens\n",
    "tokens1 = level1.score_tracker[\"Top50Tokens\"].last_tokens\n",
    "threshold = 0.03"
   ]
  },
  {
   "cell_type": "code",
   "execution_count": 332,
   "metadata": {
    "collapsed": false,
    "deletable": true,
    "editable": true
   },
   "outputs": [
    {
     "name": "stdout",
     "output_type": "stream",
     "text": [
      "\u001b[1;31m PARENT:  topic_0: россия философия история_россии история политическая_философия история_философии античность археология древняя_греция аристотель  \u001b[0m\n",
      "    topic_0: россия археология античность русь платон этика мораль аристотель тирания смерть \n",
      "    topic_5: россия философия аристотель платон власть этнография религия археология землетрясение тирания \n",
      "    topic_50: философия россия рим античность аристотель археология сократ этика платон смерть \n",
      "    topic_54: философия россия античность аристотель сократ русь медиевистика этнография ксенофонт геология \n",
      "    topic_66: философия россия платон античность археология медиевистика смерть геология аристотель сейсмология \n",
      "\u001b[1;31m PARENT:  topic_1: эволюция биология антропология человек палеонтология антропогенез физиология иммунитет происхождение_человека дарвин_чарльз  \u001b[0m\n",
      "    topic_14: эволюция палеонтология физиология иммунитет неврология геология стресс иммунология чтение этнография \n",
      "    topic_30: общество государство европа япония россия этнос рынок гражданство политология национализм \n",
      "    topic_45: геология сон эволюция группа находить жить изменение часто результат появляться \n",
      "\u001b[1;31m PARENT:  topic_2: экономика сша география информационная_безопасность квантовые_технологии финансовый_кризис коррупция квантовый_компьютер экономическое_неравенство экономическое_развитие  \u001b[0m\n",
      "    topic_2: экономика сша география индия полиция капитал квант датчик медитация эрратив \n",
      "    topic_23: сша экономика промышленность индия уровень модель информация температура питание использовать \n",
      "    topic_60: сша экономика интернет устройство питание реклама антарктида цена плата индия \n",
      "\u001b[1;31m PARENT:  topic_3: культура литература массовая_культура культурология кино филология искусство литературоведение философия кинематограф  \u001b[0m\n",
      "    topic_3: культура литература искусство кинематограф ритуал авангард философия поэзия микроэлектроника сирия \n",
      "    topic_17: экология культура этология зоология логика африка философия модернизация литература оружие \n",
      "    topic_21: религия культура математика философия число значение точка представление литература пример \n",
      "    topic_36: культура философия текст речь русский город произведение право форма литература \n",
      "    topic_61: культура кино литература философия искусство хирургия поэзия ритуал психоанализ авангард \n",
      "\u001b[1;31m PARENT:  topic_4: история политика ссср христианство германия религия политология востоковедение франция ислам  \u001b[0m\n",
      "    topic_4: работать давать уровень задача проект информация момент компания многий цель \n",
      "    topic_5: россия философия аристотель платон власть этнография религия археология землетрясение тирания \n",
      "    topic_8: религия цивилизация франция политика ссср автор христианство война писать конец \n",
      "    topic_24: политика германия ссср религия христианство франция театр демократия война византия \n",
      "    topic_31: интернет сторона реклама закон возможность давать ситуация место событие собственный \n",
      "    topic_48: христианство ссср германия политика русь цивилизация политология франция война историография \n",
      "    topic_49: политика ссср христианство религия политология германия ислам франция демократия историография \n",
      "\u001b[1;31m PARENT:  topic_5: астрономия астрофизика космос звезды вселенная галактика земля черные_дыры солнечная_система солнце  \u001b[0m\n",
      "    topic_25: астрофизика космос планета телескоп гравитация луна галактика солнце марс геология \n",
      "    topic_47: астрофизика космос галактика солнце марс планета гравитация атмосфера юпитер телескоп \n",
      "\u001b[1;31m PARENT:  topic_6: язык лингвистика право русский_язык филология город юриспруденция урбанистика архитектура грамматика  \u001b[0m\n",
      "    topic_6: право город архитектура грамматика москва глобализация словарь диалект фонетика диалектология \n",
      "    topic_19: право город речь закон грамматика семантика суд интернет фонетика работать \n",
      "    topic_36: культура философия текст речь русский город произведение право форма литература \n",
      "    topic_58: речь право архитектура коммуникация семантика город грамматика языкознание москва диалект \n",
      "    topic_62: право город коммуникация речь архитектура праязык грамматика москва синтаксис лексика \n",
      "\u001b[1;31m PARENT:  topic_7: социология социология_повседневности белки вирус дюркгейм_эмиль вебер_макс гоффман_эрвинг теория_фреймов гмо социология_пространства  \u001b[0m\n",
      "    topic_7: вирус сообщество мода фрейм метаболизм демография класс адаптация этикет элита \n",
      "    topic_9: социальный отношение группа класс анализ часто вещь понятие пример представлять \n",
      "    topic_31: интернет сторона реклама закон возможность давать ситуация место событие собственный \n",
      "    topic_37: образование медиа университет мотивация школа мезоамерика детство майя мексика библиотека \n",
      "    topic_40: интернет использовать приложение код музыка версия разработчик страница данные данный \n",
      "\u001b[1;31m PARENT:  topic_8: общество государство россия европа идентичность гендер англия рынок нация япония  \u001b[0m\n",
      "    topic_30: общество государство европа япония россия этнос рынок гражданство политология национализм \n",
      "    topic_38: общество государство россия европа англия рынок нация политология национализм энергия \n",
      "\u001b[1;31m PARENT:  topic_9: психология искусственный_интеллект когнитивная_психология мышление магнитное_поле интеллект сверхпроводимость сознание личность кибернетика  \u001b[0m\n",
      "    topic_42: мышление внимание личность задача игра модель зрение решение психология результат \n",
      "    topic_56: психология интеллект сверхпроводимость сознание внимание личность кибернетика психика зрение сколково \n",
      "\u001b[1;31m PARENT:  topic_10: медицина генетика биология клетка дизайн ген днк биомедицина онкология белки  \u001b[0m\n",
      "    topic_10: медицина клетка дизайн биомедицина днк мутация рак биохимия биофизика фармакология \n",
      "    topic_35: кварк днк медицина дизайн оптика свет электрон биофизика лазер симметрия \n",
      "    topic_59: медицина клетка днк дизайн биофизика биомедицина рнк великобритания мутация боль \n",
      "\u001b[1;31m PARENT:  topic_11: физика физика_элементарных_частиц квантовая_физика кварк элементарная_частица квантовая_механика стандартная_модель большой_адронный_коллайдер бозон_хиггса атом  \u001b[0m\n",
      "    topic_11: симметрия оптика кварк лазер электрон свет коллайдер протон гравитация адрон \n",
      "    topic_15: частица математика статистика информатика робот геометрия механика материя значение точка \n",
      "    topic_29: симметрия электрон свет поле модель результат кварк оптика позволять частица \n",
      "    topic_32: кварк электрон коллайдер протон суперсимметрия симметрия фотоника свет лазер частица \n",
      "    topic_35: кварк днк медицина дизайн оптика свет электрон биофизика лазер симметрия \n",
      "    topic_65: интернет проект реклама компания информация закон работать данный момент пользователь \n",
      "\u001b[1;31m PARENT:  topic_12: социальные_сети наука электроника история_науки украина криптография марксизм социология_науки социология_права философия_науки  \u001b[0m\n",
      "    topic_12: электроника украина криптография марксизм файл энергетика океан код данные функция \n",
      "    topic_26: данные использовать пользователь создавать статья позволять использование информация сеть часть \n",
      "    topic_63: использовать данные пользователь проект приложение создавать страница работать код элемент \n",
      "\u001b[1;31m PARENT:  topic_13: химия материаловедение космология нанотехнологии вселенная реликтовое_излучение темная_материя молекула кристалл космическая_инфляция  \u001b[0m\n",
      "    topic_13: структура гравитация белок материал интернет задача использовать результат данный различный \n",
      "    topic_23: сша экономика промышленность индия уровень модель информация температура питание использовать \n",
      "    topic_44: материаловедение кристалл кристаллография углерод микроскопия гравитация катализ спектроскопия фтор графит \n",
      "    topic_53: белок материал интернет гравитация проект микроскоп закон давать момент пользователь \n",
      "    topic_63: использовать данные пользователь проект приложение создавать страница работать код элемент \n",
      "\u001b[1;31m PARENT:  topic_14: образование университет медиа школа мотивация детство майя дети мезоамерика аспирантура  \u001b[0m\n",
      "    topic_1: образование школа университет работать компания проект медиа развитие давать детство \n",
      "    topic_27: образование школа университет мотивация медиа майя детство егэ аспирантура музей \n",
      "    topic_37: образование медиа университет мотивация школа мезоамерика детство майя мексика библиотека \n",
      "\u001b[1;31m PARENT:  topic_15: математика информационные_технологии робототехника информатика статистика технологии computer_science робот машинное_обучение геометрия  \u001b[0m\n",
      "    topic_15: частица математика статистика информатика робот геометрия механика материя значение точка \n",
      "    topic_21: религия культура математика философия число значение точка представление литература пример \n",
      "    topic_51: математика информатика статистика робот геометрия творчество алгебра алгоритм число точка \n",
      "    topic_57: математика память число статистика решение функция значение данные количество информация \n",
      "\u001b[1;31m PARENT:  topic_16: геном средневековье днк китай мифология фольклор биоинформатика молекулярная_биология миф власть  \u001b[0m\n",
      "    topic_16: днк средневековье китай миф биоинформатика геномика испания письменность сказка рнк \n",
      "    topic_55: мифология средневековье китай власть биоинформатика днк миф геномика рнк папство \n",
      "\u001b[1;31m PARENT:  topic_17: экология этология биология зоология поведение_животных африка нобелевская_премия зоопсихология мышление логика  \u001b[0m\n",
      "    topic_17: экология культура этология зоология логика африка философия модернизация литература оружие \n",
      "    topic_18: экология этология африка зоология логика мышление оружие эпистемология агрессия экосистема \n",
      "    topic_42: мышление внимание личность задача игра модель зрение решение психология результат \n",
      "\u001b[1;31m PARENT:  topic_18: мозг нейробиология нейрон память нейрофизиология нейропсихология принятие_решений нейронные_сети теория_принятия_решений климат  \u001b[0m\n",
      "    topic_43: мозг нейрон память нейропсихология климат сон сознание нейронаука свобода арктика \n",
      "    topic_57: математика память число статистика решение функция значение данные количество информация \n",
      "\u001b[1;31m PARENT:  background_0: биология технологии интернет микробиология космонавтика биотехнологии бактерии реклама авторское_право микробы  \u001b[0m\n",
      "    topic_20: интернет работать проект реклама музыка закон решение пользователь давать вид \n",
      "    topic_22: интернет компания реклама хотеть луна хороший часть возможность место закон \n",
      "    topic_28: интернет компания музыка хороший клиент закон реклама возможность деньги результат \n",
      "    topic_33: интернет музыка компания реклама клиент пользователь информация программа данный использовать \n",
      "    topic_34: интернет пользователь музыка проект разработчик статья страница бизнес реклама игра \n",
      "    topic_39: проект реклама интернет возможность хороший хотеть работать решать пользователь писать \n",
      "    topic_46: реклама работать закон момент хороший общий пользователь давать возможность писать \n",
      "    topic_52: реклама компания рынок решение хотеть деньги закон программа музыка хороший \n",
      "    topic_64: интернет реклама работать сервис компания возможность питание музыка клиент gps \n",
      "\n",
      " edges:  79\n",
      "66 topics have parents\n"
     ]
    }
   ],
   "source": [
    "child_topics = []\n",
    "output = ''\n",
    "related = 0\n",
    "for t, topic_name in enumerate(level0.topic_names):\n",
    "    child_topics.append([])\n",
    "    output += topic_name + ': '\n",
    "    for word in tokens0[topic_name][:10]:    \n",
    "        output += word + ' '\n",
    "    print(\"\\x1b[1;31m PARENT: \", output, '\\x1b[0m')\n",
    "    output=''\n",
    "    for s, topic_name1 in enumerate(level1.topic_names):\n",
    "        if (psi1.values[s, t] > threshold):\n",
    "            child_topics[t].append(topic_name1)\n",
    "            related += 1\n",
    "            output += \"    \"+ topic_name1 + ': '\n",
    "            for word in tokens1[topic_name1][:10]:    \n",
    "                output += word + ' '\n",
    "            print (output)\n",
    "            output =''\n",
    "print(\"\\n edges: \", related)\n",
    "\n",
    "related_topics = 0\n",
    "for row in (psi1.values>threshold):\n",
    "    if (sum(row) != 0):\n",
    "        related_topics += 1\n",
    "\n",
    "print(related_topics,\"topics have parents\")    "
   ]
  },
  {
   "cell_type": "code",
   "execution_count": 335,
   "metadata": {
    "collapsed": false,
    "deletable": true,
    "editable": true
   },
   "outputs": [
    {
     "name": "stdout",
     "output_type": "stream",
     "text": [
      "\u001b[1;31m PARENT:  topic_0: россия философия история_россии история политическая_философия история_философии античность археология древняя_греция аристотель  \u001b[0m\n",
      "    topic_0: россия археология античность русь платон этика мораль аристотель тирания смерть \n",
      "    topic_5: россия философия аристотель платон власть этнография религия археология землетрясение тирания \n",
      "    topic_50: философия россия рим античность аристотель археология сократ этика платон смерть \n",
      "    topic_54: философия россия античность аристотель сократ русь медиевистика этнография ксенофонт геология \n",
      "    topic_66: философия россия платон античность археология медиевистика смерть геология аристотель сейсмология \n",
      "\u001b[1;31m PARENT:  topic_1: эволюция биология антропология человек палеонтология антропогенез физиология иммунитет происхождение_человека дарвин_чарльз  \u001b[0m\n",
      "    topic_14: эволюция палеонтология физиология иммунитет неврология геология стресс иммунология чтение этнография \n",
      "    topic_30: общество государство европа япония россия этнос рынок гражданство политология национализм \n",
      "    topic_45: геология сон эволюция группа находить жить изменение часто результат появляться \n",
      "\u001b[1;31m PARENT:  topic_2: экономика сша география информационная_безопасность квантовые_технологии финансовый_кризис коррупция квантовый_компьютер экономическое_неравенство экономическое_развитие  \u001b[0m\n",
      "    topic_2: экономика сша география индия полиция капитал квант датчик медитация эрратив \n",
      "    topic_23: сша экономика промышленность индия уровень модель информация температура питание использовать \n",
      "    topic_60: сша экономика интернет устройство питание реклама антарктида цена плата индия \n",
      "\u001b[1;31m PARENT:  topic_3: культура литература массовая_культура культурология кино филология искусство литературоведение философия кинематограф  \u001b[0m\n",
      "    topic_3: культура литература искусство кинематограф ритуал авангард философия поэзия микроэлектроника сирия \n",
      "    topic_17: экология культура этология зоология логика африка философия модернизация литература оружие \n",
      "    topic_21: религия культура математика философия число значение точка представление литература пример \n",
      "    topic_36: культура философия текст речь русский город произведение право форма литература \n",
      "    topic_61: культура кино литература философия искусство хирургия поэзия ритуал психоанализ авангард \n",
      "\u001b[1;31m PARENT:  topic_4: история политика ссср христианство германия религия политология востоковедение франция ислам  \u001b[0m\n",
      "    topic_4: работать давать уровень задача проект информация момент компания многий цель \n",
      "    topic_5: россия философия аристотель платон власть этнография религия археология землетрясение тирания \n",
      "    topic_8: религия цивилизация франция политика ссср автор христианство война писать конец \n",
      "    topic_24: политика германия ссср религия христианство франция театр демократия война византия \n",
      "    topic_31: интернет сторона реклама закон возможность давать ситуация место событие собственный \n",
      "    topic_48: христианство ссср германия политика русь цивилизация политология франция война историография \n",
      "    topic_49: политика ссср христианство религия политология германия ислам франция демократия историография \n",
      "\u001b[1;31m PARENT:  topic_5: астрономия астрофизика космос звезды вселенная галактика земля черные_дыры солнечная_система солнце  \u001b[0m\n",
      "    topic_25: астрофизика космос планета телескоп гравитация луна галактика солнце марс геология \n",
      "    topic_47: астрофизика космос галактика солнце марс планета гравитация атмосфера юпитер телескоп \n",
      "\u001b[1;31m PARENT:  topic_6: язык лингвистика право русский_язык филология город юриспруденция урбанистика архитектура грамматика  \u001b[0m\n",
      "    topic_6: право город архитектура грамматика москва глобализация словарь диалект фонетика диалектология \n",
      "    topic_19: право город речь закон грамматика семантика суд интернет фонетика работать \n",
      "    topic_36: культура философия текст речь русский город произведение право форма литература \n",
      "    topic_58: речь право архитектура коммуникация семантика город грамматика языкознание москва диалект \n",
      "    topic_62: право город коммуникация речь архитектура праязык грамматика москва синтаксис лексика \n",
      "\u001b[1;31m PARENT:  topic_7: социология социология_повседневности белки вирус дюркгейм_эмиль вебер_макс гоффман_эрвинг теория_фреймов гмо социология_пространства  \u001b[0m\n",
      "    topic_7: вирус сообщество мода фрейм метаболизм демография класс адаптация этикет элита \n",
      "    topic_9: социальный отношение группа класс анализ часто вещь понятие пример представлять \n",
      "    topic_31: интернет сторона реклама закон возможность давать ситуация место событие собственный \n",
      "    topic_37: образование медиа университет мотивация школа мезоамерика детство майя мексика библиотека \n",
      "    topic_40: интернет использовать приложение код музыка версия разработчик страница данные данный \n",
      "\u001b[1;31m PARENT:  topic_8: общество государство россия европа идентичность гендер англия рынок нация япония  \u001b[0m\n",
      "    topic_30: общество государство европа япония россия этнос рынок гражданство политология национализм \n",
      "    topic_38: общество государство россия европа англия рынок нация политология национализм энергия \n",
      "\u001b[1;31m PARENT:  topic_9: психология искусственный_интеллект когнитивная_психология мышление магнитное_поле интеллект сверхпроводимость сознание личность кибернетика  \u001b[0m\n",
      "    topic_42: мышление внимание личность задача игра модель зрение решение психология результат \n",
      "    topic_56: психология интеллект сверхпроводимость сознание внимание личность кибернетика психика зрение сколково \n",
      "\u001b[1;31m PARENT:  topic_10: медицина генетика биология клетка дизайн ген днк биомедицина онкология белки  \u001b[0m\n",
      "    topic_10: медицина клетка дизайн биомедицина днк мутация рак биохимия биофизика фармакология \n",
      "    topic_35: кварк днк медицина дизайн оптика свет электрон биофизика лазер симметрия \n",
      "    topic_59: медицина клетка днк дизайн биофизика биомедицина рнк великобритания мутация боль \n",
      "\u001b[1;31m PARENT:  topic_11: физика физика_элементарных_частиц квантовая_физика кварк элементарная_частица квантовая_механика стандартная_модель большой_адронный_коллайдер бозон_хиггса атом  \u001b[0m\n",
      "    topic_11: симметрия оптика кварк лазер электрон свет коллайдер протон гравитация адрон \n",
      "    topic_15: частица математика статистика информатика робот геометрия механика материя значение точка \n",
      "    topic_29: симметрия электрон свет поле модель результат кварк оптика позволять частица \n",
      "    topic_32: кварк электрон коллайдер протон суперсимметрия симметрия фотоника свет лазер частица \n",
      "    topic_35: кварк днк медицина дизайн оптика свет электрон биофизика лазер симметрия \n",
      "    topic_65: интернет проект реклама компания информация закон работать данный момент пользователь \n",
      "\u001b[1;31m PARENT:  topic_12: социальные_сети наука электроника история_науки украина криптография марксизм социология_науки социология_права философия_науки  \u001b[0m\n",
      "    topic_12: электроника украина криптография марксизм файл энергетика океан код данные функция \n",
      "    topic_26: данные использовать пользователь создавать статья позволять использование информация сеть часть \n",
      "    topic_63: использовать данные пользователь проект приложение создавать страница работать код элемент \n",
      "\u001b[1;31m PARENT:  topic_13: химия материаловедение космология нанотехнологии вселенная реликтовое_излучение темная_материя молекула кристалл космическая_инфляция  \u001b[0m\n",
      "    topic_13: структура гравитация белок материал интернет задача использовать результат данный различный \n",
      "    topic_23: сша экономика промышленность индия уровень модель информация температура питание использовать \n",
      "    topic_44: материаловедение кристалл кристаллография углерод микроскопия гравитация катализ спектроскопия фтор графит \n",
      "    topic_53: белок материал интернет гравитация проект микроскоп закон давать момент пользователь \n",
      "    topic_63: использовать данные пользователь проект приложение создавать страница работать код элемент \n",
      "\u001b[1;31m PARENT:  topic_14: образование университет медиа школа мотивация детство майя дети мезоамерика аспирантура  \u001b[0m\n",
      "    topic_1: образование школа университет работать компания проект медиа развитие давать детство \n",
      "    topic_27: образование школа университет мотивация медиа майя детство егэ аспирантура музей \n",
      "    topic_37: образование медиа университет мотивация школа мезоамерика детство майя мексика библиотека \n",
      "\u001b[1;31m PARENT:  topic_15: математика информационные_технологии робототехника информатика статистика технологии computer_science робот машинное_обучение геометрия  \u001b[0m\n",
      "    topic_15: частица математика статистика информатика робот геометрия механика материя значение точка \n",
      "    topic_21: религия культура математика философия число значение точка представление литература пример \n",
      "    topic_51: математика информатика статистика робот геометрия творчество алгебра алгоритм число точка \n",
      "    topic_57: математика память число статистика решение функция значение данные количество информация \n",
      "\u001b[1;31m PARENT:  topic_16: геном средневековье днк китай мифология фольклор биоинформатика молекулярная_биология миф власть  \u001b[0m\n",
      "    topic_16: днк средневековье китай миф биоинформатика геномика испания письменность сказка рнк \n",
      "    topic_55: мифология средневековье китай власть биоинформатика днк миф геномика рнк папство \n",
      "\u001b[1;31m PARENT:  topic_17: экология этология биология зоология поведение_животных африка нобелевская_премия зоопсихология мышление логика  \u001b[0m\n",
      "    topic_17: экология культура этология зоология логика африка философия модернизация литература оружие \n",
      "    topic_18: экология этология африка зоология логика мышление оружие эпистемология агрессия экосистема \n",
      "    topic_42: мышление внимание личность задача игра модель зрение решение психология результат \n",
      "\u001b[1;31m PARENT:  topic_18: мозг нейробиология нейрон память нейрофизиология нейропсихология принятие_решений нейронные_сети теория_принятия_решений климат  \u001b[0m\n",
      "    topic_43: мозг нейрон память нейропсихология климат сон сознание нейронаука свобода арктика \n",
      "    topic_57: математика память число статистика решение функция значение данные количество информация \n",
      "\u001b[1;31m PARENT:  background_0: биология технологии интернет микробиология космонавтика биотехнологии бактерии реклама авторское_право микробы  \u001b[0m\n",
      "    topic_20: интернет работать проект реклама музыка закон решение пользователь давать вид \n",
      "    topic_22: интернет компания реклама хотеть луна хороший часть возможность место закон \n",
      "    topic_28: интернет компания музыка хороший клиент закон реклама возможность деньги результат \n",
      "    topic_33: интернет музыка компания реклама клиент пользователь информация программа данный использовать \n",
      "    topic_34: интернет пользователь музыка проект разработчик статья страница бизнес реклама игра \n",
      "    topic_39: проект реклама интернет возможность хороший хотеть работать решать пользователь писать \n",
      "    topic_46: реклама работать закон момент хороший общий пользователь давать возможность писать \n",
      "    topic_52: реклама компания рынок решение хотеть деньги закон программа музыка хороший \n",
      "    topic_64: интернет реклама работать сервис компания возможность питание музыка клиент gps \n",
      "\n",
      " edges:  79\n",
      "66 topics have parents\n"
     ]
    }
   ],
   "source": [
    "child_topics = []\n",
    "output = ''\n",
    "related = 0\n",
    "for t, topic_name in enumerate(level0.topic_names):\n",
    "    child_topics.append([])\n",
    "    output += topic_name + ': '\n",
    "    for word in tokens0[topic_name][:10]:    \n",
    "        output += word + ' '\n",
    "    print(\"\\x1b[1;31m PARENT: \", output, '\\x1b[0m')\n",
    "    output=''\n",
    "    for s, topic_name1 in enumerate(level1.topic_names):\n",
    "        if (psi1.values[s, t] > threshold):\n",
    "            child_topics[t].append(topic_name1)\n",
    "            related += 1\n",
    "            output += \"    \"+ topic_name1 + ': '\n",
    "            for word in tokens1[topic_name1][:10]:    \n",
    "                output += word + ' '\n",
    "            print (output)\n",
    "            output =''\n",
    "print(\"\\n edges: \", related)\n",
    "\n",
    "related_topics = 0\n",
    "for row in (psi1.values>threshold):\n",
    "    if (sum(row) != 0):\n",
    "        related_topics += 1\n",
    "\n",
    "print(related_topics,\"topics have parents\")    "
   ]
  },
  {
   "cell_type": "markdown",
   "metadata": {
    "deletable": true,
    "editable": true
   },
   "source": [
    "### Модель Постнауки"
   ]
  },
  {
   "cell_type": "code",
   "execution_count": 19,
   "metadata": {
    "collapsed": false,
    "deletable": true,
    "editable": true
   },
   "outputs": [
    {
     "data": {
      "text/plain": [
       "[4963.209150427969,\n",
       " 4808.3937992762585,\n",
       " 4711.4371450207145,\n",
       " 4646.651873869753,\n",
       " 4600.3827374075645]"
      ]
     },
     "execution_count": 19,
     "metadata": {},
     "output_type": "execute_result"
    }
   ],
   "source": [
    "level0.score_tracker[\"PerplexityScore\"].value[-5:]"
   ]
  },
  {
   "cell_type": "code",
   "execution_count": 19,
   "metadata": {
    "collapsed": false,
    "deletable": true,
    "editable": true
   },
   "outputs": [
    {
     "data": {
      "text/plain": [
       "[3685.78738631352,\n",
       " 3051.851748745416,\n",
       " 2521.292074881631,\n",
       " 2167.2430489298386,\n",
       " 1962.906177565747]"
      ]
     },
     "execution_count": 19,
     "metadata": {},
     "output_type": "execute_result"
    }
   ],
   "source": [
    "level1.score_tracker[\"PerplexityScore\"].value[-5:]"
   ]
  },
  {
   "cell_type": "code",
   "execution_count": 20,
   "metadata": {
    "collapsed": false,
    "deletable": true,
    "editable": true
   },
   "outputs": [
    {
     "name": "stdout",
     "output_type": "stream",
     "text": [
      "topic_16: культура традиция христианский миф греческий текст христианство фольклор восток бог\n",
      "topic_17: литература роман старение литературный текст русский писатель поэт мутация произведение\n",
      "topic_12: социальный социология философия фильм отношение политический общество смысл пространство объект\n",
      "topic_8: ребенок общество женщина политический мужчина группа социальный низкий вес семья\n",
      "topic_4: клетка заболевание болезнь пациент препарат лечение врач вирус медицина организм\n",
      "topic_6: страна экономический экономика государство политика политический решение рынок государственный банк\n",
      "topic_10: материал свет квантовый магнитный технология использовать структура температура атом поле\n",
      "topic_2: русский словарь речь текст языковой лингвист глагол значение ребенок предложение\n",
      "topic_15: мозг нейрон память интеллект информация клетка нервный робот нейронный активность\n",
      "topic_13: право россия власть русский церковь революция король закон российский политический\n",
      "topic_7: галактика вселенная звезда дыра излучение черный темный материя объект энергия\n",
      "topic_5: звезда планета земля солнце масса солнечный объект космический поверхность вещество\n",
      "topic_18: культура университет образование школа научный советский культурный общество знание студент\n",
      "topic_0: война китай япония китайский сон сталин нация страна национальный империя\n",
      "topic_11: политический государство германия исторический война общество власть историк немецкий народ\n",
      "background_0: клетка работать ученый появляться ген результат задача развитие возникать количество\n",
      "topic_1: частица энергия физика кварк квантовый взаимодействие поле атом электрон модель\n",
      "topic_9: город пространство сеть городской данные место здание центр социальный архитектура\n",
      "topic_14: вид растение остров земля микроорганизм вода организм животное бактерия жить\n",
      "topic_3: поведение психология самец задача ребенок музей самка группа животное внимание\n"
     ]
    }
   ],
   "source": [
    "print(\"\\n\".join([k + \": \" + \" \".join(v) for k, v in level0.score_tracker[\"Top10Tokens\"].last_tokens.items()]))"
   ]
  },
  {
   "cell_type": "code",
   "execution_count": 21,
   "metadata": {
    "collapsed": false,
    "deletable": true,
    "editable": true
   },
   "outputs": [
    {
     "name": "stdout",
     "output_type": "stream",
     "text": [
      "topic_16: клетка эволюция использовать состояние информация позволять организм область применение уровень\n",
      "topic_32: днк ссср математика клетка информатика рнк интернет эволюция ученый заниматься\n",
      "topic_17: литература этнография старение поэзия мутация белок праздник смерть обряд апоптоз\n",
      "topic_20: микробиология экология эволюция палеонтология земля антропология геология неандерталец homo ирландия\n",
      "topic_55: физика химия механика частица кристалл электрон атом суперсимметрия молекула симметрия\n",
      "topic_7: модель структура молекула физика использовать связь область пространство точка свойство\n",
      "topic_50: физика химия частица коллайдер атом кварк энергия механика кристаллография протон\n",
      "topic_38: днк решение сторона ссср отношение страна развитие социальный класс математика\n",
      "topic_61: интернет пример коммуникация значение днк русский число место давать математика\n",
      "topic_41: астрофизика галактика материя космология космос солнце телескоп марс земля дыра\n",
      "topic_21: интернет часть идти область создавать днк представлять работать мало часто\n",
      "topic_28: речь европа земля часть значение народ семантика caption религия северный\n",
      "topic_3: эволюция ссср математика клетка информатика секвенирование биоинформатика днк рнк молекула\n",
      "topic_1: философия социология кинематограф марксизм социальный миграция идентичность кино фрейм эпистемология\n",
      "topic_57: астрофизика планета гравитация земля космос звезда солнце галактика топология юпитер\n",
      "topic_9: социология философия идентичность социальный личность кино пространство миграция мода класс\n",
      "topic_19: математика клетка биоинформатика днк эволюция ссср информатика геномика интернет рнк\n",
      "topic_65: медицина рим иммунитет вирус кардиология болезнь климат неврология океан иммунология\n",
      "topic_23: социология философия кино идентичность миграция этика микросоциология фрейм фильм отношение\n",
      "topic_53: россия право средневековье русь революция франция украина христианство судопроизводство церковь\n",
      "topic_37: христианство россия право эволюция революция средневековье вирус клетка империя биофизика\n",
      "topic_39: россия внимание психология математика днк революция средневековье решение зрение ссср\n",
      "topic_58: лингвистика грамматика археология кавказ словарь фонетика диалект языкознание праязык лексика\n",
      "topic_51: религия европа глобализация принятие терроризм историография великобритания ислам африка инквизиция\n",
      "topic_66: интернет молекула физика математика описывать давать принцип пример возникать простой\n",
      "topic_63: вещь сторона второй действие идея отношение англия ссср ситуация иной\n",
      "topic_36: экономика государство политика рынок политология страна идеология промышленность инфляция экономический\n",
      "topic_43: общество сша аристотель платон медиа детство сократ гмо феминизм ребенок\n",
      "topic_62: физика химия энергия симметрия германия закон протон кварк масса частица\n",
      "topic_46: клетка ссср эволюция память днк математика область возникать позволять определенный\n",
      "topic_31: речь лингвистика интернет русский форма часто многий диалект коммуникация кавказ\n",
      "topic_49: эволюция математика результат вид идти находиться днк молекула довольно интересный\n",
      "topic_34: культура образование школа университет власть мораль кино марксизм феноменология антропология\n",
      "topic_42: днк клетка математика геномика рнк секвенирование ссср англия биофизика биоинформатика\n",
      "topic_40: микробиология экология эволюция антропология геология кислород палеонтология вид группа растение\n",
      "topic_18: россия право христианство средневековье русь политический власть церковь франция полиция\n",
      "topic_26: европа религия африка ислам майя историография египет мезоамерика библиотека музыка\n",
      "topic_59: психология мышление этология зоология внимание стресс психика психоанализ психотерапия музей\n",
      "topic_6: война испания культура цивилизация культурный социальный италия объект биохимия представление\n",
      "topic_10: культура образование университет власть ссср исторический культурный студент математика школа\n",
      "topic_54: город география архитектура коммуникация москва криптография сообщество сеть арктика сейсмология\n",
      "topic_64: антропология микробиология экология геология homo культура палеоботаника абиогенез образование животное\n",
      "topic_35: интернет речь русский значение вид видеть писать дискурс категория место\n",
      "topic_5: экономика политика государство политология рынок демократия инфляция промышленность экономический идеология\n",
      "topic_44: клетка результат научный закон ссср создавать возникать принцип область основа\n",
      "topic_56: математика клетка интересный количество хороший возникать данные эволюция представлять днк\n",
      "topic_11: экономика государство россия идеология политика политология экономический страна идентичность национальность\n",
      "topic_47: социология философия кино кинематограф отношение понятие марксизм политический миграция микросоциология\n",
      "topic_15: мозг память интеллект нейрон нейропсихология робототехника сознание робот синапс кибернетика\n",
      "topic_14: психология психиатрия внимание зрение задача математика животное мышление ссср вид\n",
      "topic_52: культура образование школа научный власть результат знание зрение хороший поскольку\n",
      "topic_29: биомедицина материаловедение физика оптика электрон электроника сверхпроводимость лазер микроскопия нанофотоника\n",
      "topic_8: мифология греция фольклор христианство миф фольклористика письменность античность византия кавказ\n",
      "topic_4: клетка днк биофизика ссср медицина вирус математика молекула работать уровень\n",
      "topic_45: ссср математика эволюция молекула возникать рнк достаточно метод различный рассказывать\n",
      "topic_13: право россия революция франция закон русь имя мобильность король церковь\n",
      "topic_2: культура образование университет власть алгебра антропология школа диктатура интеллигенция статистика\n",
      "topic_60: россия право средневековье франция русь христианство егэ династия суд диссертация\n",
      "topic_25: астрофизика искусство галактика космология театр инфляция авангард телескоп радиоастрономия квазар\n",
      "topic_33: литература ритуал старение белок логика мутация обряд смерть праздник флора\n",
      "topic_30: математика днк россия средневековье эволюция сторона научный клетка ссср идея\n",
      "topic_22: война китай нация физиология национализм япония сон фармакология нейтрон конкиста\n",
      "topic_0: германия религия война европа ссср терроризм историография днк глобализация клетка\n",
      "topic_12: война античность биохимия цивилизация китай япония миф фольклор греция испания\n",
      "topic_24: литература белок этнос мутация логика этнография поэзия старение ритуал смерть\n",
      "topic_27: христианство свет биомедицина фольклор миф материаловедение фольклористика мифология оптика микроскоп\n",
      "topic_48: космос гравитация солнце земля геометрия атмосфера планета звезда астрофизика венера\n"
     ]
    }
   ],
   "source": [
    "print(\"\\n\".join([k + \": \" + \" \".join(v) for k, v in level1.score_tracker[\"Top10Tokens\"].last_tokens.items()]))"
   ]
  },
  {
   "cell_type": "code",
   "execution_count": 22,
   "metadata": {
    "collapsed": false,
    "deletable": true,
    "editable": true
   },
   "outputs": [
    {
     "data": {
      "text/plain": [
       "0.9023335576057434"
      ]
     },
     "execution_count": 22,
     "metadata": {},
     "output_type": "execute_result"
    }
   ],
   "source": [
    "level0.score_tracker[\"Top10Tokens\"].last_average_coherence"
   ]
  },
  {
   "cell_type": "code",
   "execution_count": 23,
   "metadata": {
    "collapsed": false,
    "deletable": true,
    "editable": true
   },
   "outputs": [
    {
     "data": {
      "text/plain": [
       "0.9078970551490784"
      ]
     },
     "execution_count": 23,
     "metadata": {},
     "output_type": "execute_result"
    }
   ],
   "source": [
    "level1.score_tracker[\"Top10Tokens\"].last_average_coherence"
   ]
  },
  {
   "cell_type": "markdown",
   "metadata": {
    "deletable": true,
    "editable": true
   },
   "source": [
    "### Предлагаемый алгоритм"
   ]
  },
  {
   "cell_type": "code",
   "execution_count": 19,
   "metadata": {
    "collapsed": false,
    "deletable": true,
    "editable": true
   },
   "outputs": [
    {
     "data": {
      "text/plain": [
       "[4836.956410790245,\n",
       " 4782.862418550982,\n",
       " 4740.216295517623,\n",
       " 4706.340675376192,\n",
       " 4678.839394335528]"
      ]
     },
     "execution_count": 19,
     "metadata": {},
     "output_type": "execute_result"
    }
   ],
   "source": [
    "level0.score_tracker[\"PerplexityScore\"].value[-5:]"
   ]
  },
  {
   "cell_type": "code",
   "execution_count": 20,
   "metadata": {
    "collapsed": false,
    "deletable": true,
    "editable": true
   },
   "outputs": [
    {
     "data": {
      "text/plain": [
       "[6467.428530078471,\n",
       " 5829.809875738739,\n",
       " 4962.698695392981,\n",
       " 4185.622408561892,\n",
       " 3668.0637924598036]"
      ]
     },
     "execution_count": 20,
     "metadata": {},
     "output_type": "execute_result"
    }
   ],
   "source": [
    "level1.score_tracker[\"PerplexityScore\"].value[-5:]"
   ]
  },
  {
   "cell_type": "code",
   "execution_count": 21,
   "metadata": {
    "collapsed": false,
    "deletable": true,
    "editable": true
   },
   "outputs": [
    {
     "name": "stdout",
     "output_type": "stream",
     "text": [
      "background_0: работать проект использовать задача информация давать возможность хороший статья решение\n",
      "topic_5: звезда планета земля космический солнце орбита солнечный спутник полет масса\n",
      "topic_15: память мозг нейрон робот модель функция процессор контроллер интеллект значение\n",
      "topic_1: частица число квантовый поле энергия точка физика свойство атом взаимодействие\n",
      "topic_10: устройство датчик камера материал питание сигнал напряжение технология корпус экран\n",
      "topic_6: компания деньги бизнес рынок цена страна клиент услуга банк товар\n",
      "topic_18: образование научный университет школа студент культура ученый знание курс заниматься\n",
      "topic_7: вселенная галактика изображение черный дыра объект звезда излучение материя темный\n",
      "topic_2: русский текст словарь речь символ буква значение английский звук языковой\n",
      "topic_12: социальный политический фильм философия отношение пространство общество социология понятие смысл\n",
      "topic_17: игра игрок персонаж герой играть литература роман бэббидж писатель рука\n",
      "topic_13: право закон россия власть суд российский политический русский государство революция\n",
      "topic_11: музыка германия политический государство город война общество страна партия власть\n",
      "topic_14: вид ген эволюция растение организм вода земля днк животное биологический\n",
      "topic_9: приложение файл пользователь сервер данные код использовать интерфейс запрос объект\n",
      "topic_4: клетка ген белок организм заболевание болезнь пациент молекула днк type\n",
      "topic_8: пользователь социальный реклама блог интернет контент сеть ресурс ребенок аудитория\n",
      "topic_3: поведение ребенок задача психология группа решение внимание эмоция мышление способность\n",
      "topic_0: война китай китайский страна сон япония мировой город японский сталин\n",
      "topic_16: культура традиция миф христианский греческий бог текст древний восток христианство\n"
     ]
    }
   ],
   "source": [
    "print(\"\\n\".join([k + \": \" + \" \".join(v) for k, v in level0.score_tracker[\"Top10Tokens\"].last_tokens.items()]))"
   ]
  },
  {
   "cell_type": "code",
   "execution_count": 22,
   "metadata": {
    "collapsed": false,
    "deletable": true,
    "editable": true
   },
   "outputs": [
    {
     "name": "stdout",
     "output_type": "stream",
     "text": [
      "topic_34: культура образование школа университет статистика студент власть знание егэ ученый\n",
      "topic_11: государство экономика россия компания бизнес интернет проект ситуация деньги идея\n",
      "topic_15: мозг память интеллект нейрон робототехника робот сознание нейропсихология синапс кибернетика\n",
      "topic_72: космос гравитация земля астрофизика психология космонавтика солнце марс звезда луна\n",
      "topic_35: интернет вид днк место видеть находить ссср данный появляться работать\n",
      "topic_36: экономика государство политика рынок политология бизнес деньги компания страна капитал\n",
      "topic_57: приложение сервер город криптография файл архитектура география пользователь запрос версия\n",
      "topic_9: социология идентичность философия миграция пространство объект кино личность город социальный\n",
      "topic_17: литература игра старение мутация этнография поэзия игрок спорт белок логика\n",
      "topic_25: инфляция интернет проект информация основной возможность использовать давать продукт днк\n",
      "topic_59: психология мышление этология мотивация принятие зоология стресс внимание психика творчество\n",
      "topic_41: космос астрофизика солнце земля планета космонавтика гравитация марс луна орбита\n",
      "topic_47: социология философия кино кинематограф идентичность марксизм микросоциология фильм миграция политический\n",
      "topic_33: днк клетка математика позволять момент задача часть нужный решение вид\n",
      "topic_43: общество сша пользователь война китай контент ребенок национализм группа детство\n",
      "topic_4: клетка днк работать результат использовать задача проект достаточно технология ссср\n",
      "topic_24: китай война япония нация сон этнос физиология национализм сколково испания\n",
      "topic_74: математика днк россия ссср конец оставаться находить война создавать христианство\n",
      "topic_54: город география архитектура файл данные пользователь интерфейс код пароль браузер\n",
      "topic_8: использовать клетка днк данные использоваться данный работать код значение различный\n",
      "topic_51: проект задача код возможность данные использовать интернет данный работать решение\n",
      "topic_50: физика химия частица атом коллайдер энергия механика кварк кристалл углерод\n",
      "topic_19: интернет математика проект работать хороший статья решение количество задача давать\n",
      "topic_6: клетка метод объект биомедицина медицина форма результат днк приводить помощь\n",
      "topic_21: интернет компания проект работать использовать часть создавать мало идти сеть\n",
      "topic_45: физика математика число молекула ссср алгоритм работать достаточно точка находить\n",
      "topic_27: свет материаловедение оптика устройство электроника экран корпус датчик материал напряжение\n",
      "topic_60: математика хороший хотеть давать часть писать общий решать сторона написать\n",
      "topic_62: физика химия закон симметрия электрон кварк энергия частица квантовый число\n",
      "topic_29: электроника материаловедение сверхпроводимость устройство оптика камера микроэлектроника микроскопия режим сигнал\n",
      "topic_66: математика интернет простой пример давать проект позволять метод днк точка\n",
      "topic_65: медицина клетка болезнь рим иммунитет океан климат кардиология неврология организм\n",
      "topic_20: эволюция антропология микробиология экология палеонтология земля планета геология homo неандерталец\n",
      "topic_37: медицина биомедицина вирус рим биофизика иммунитет океан клетка климат кардиология\n",
      "topic_14: религия европа германия африка музыка ислам великобритания глобализация историография египет\n",
      "topic_53: россия право средневековье франция русь революция власть украина суд медиевистика\n",
      "topic_12: общество сша дизайн реклама медиа платон аристотель детство блог социальный\n",
      "topic_48: закон число точка математика молекула количество энергия часть момент задача\n",
      "topic_30: математика хотеть использовать днк работать пользователь идея задача правило давать\n",
      "topic_0: европа война германия религия музыка майя историография африка библиотека ислам\n",
      "topic_55: физика закон химия механика лазер поле кристалл свет частица электрон\n",
      "topic_58: лингвистика грамматика речь археология словарь русский диалект фонетика кавказ языкознание\n",
      "topic_70: христианство мифология фольклор миф греция античность фольклористика письменность кавказ скандинавия\n",
      "topic_73: второй находиться сторона решение планета давать достаточно момент количество ребенок\n",
      "topic_1: социология философия идентичность кинематограф социальный марксизм кино этика фрейм мобильность\n",
      "topic_7: физика химия поле число свойство точка структура модель состояние объект\n",
      "topic_68: право часть хотеть второй идея россия автор статья давать работать\n",
      "topic_18: материал технология идея хороший высокий второй источник работать порядок отношение\n",
      "topic_5: астрофизика материя театр галактика космология телескоп инфляция искусство квазар черный\n",
      "topic_64: культура образование статистика школа курс заниматься знание студент учиться чтение\n",
      "topic_23: компания экономика политика социология философия рынок демократия кино политология цена\n",
      "topic_67: интернет использовать днк работать математика данные статья ссср создавать возможность\n",
      "topic_71: экономика политика рынок государство политология демократия цена деньги компания стоимость\n",
      "topic_26: россия право христианство средневековье политический суд революция инквизиция украина власть\n",
      "topic_39: россия компания государство англия государственный революция право франция решение лицо\n",
      "topic_61: интернет днк пример данный давать математика решение следующий результат позволять\n",
      "topic_38: отношение сторона действие решение социальный давать смысл второй часто ситуация\n",
      "topic_32: интернет днк ссср математика писать работать часть задача решение написать\n",
      "topic_13: интернет ссср идея давать работать второй результат математика хороший решение\n",
      "topic_22: данные функция код город информация приложение интерфейс использование позволять элемент\n",
      "topic_56: данные математика интернет возможность использовать информация использование работать данный технология\n",
      "topic_69: математика использовать задача ссср работать проект количество информация хороший пример\n",
      "topic_75: галактика астрофизика искусство космология материя изображение авангард черный оружие радиоастрономия\n",
      "topic_42: интернет днк работать информация возможность статья создавать продукт разработка хотеть\n",
      "topic_31: речь использовать данные тип позволять объект коммуникация текст значение метод\n",
      "topic_10: математика работать проект ссср интересный решение хотеть второй идея создавать\n",
      "topic_2: культура образование университет власть научный статистика алгебра школа ученый диктатура\n",
      "topic_46: клетка использовать часть задача возможность позволять операция данные простой изменение\n",
      "topic_3: проект работать ссср интернет результат давать возможность россия появляться часть\n",
      "topic_49: математика проект задача пользователь использовать давать результат статья программа хороший\n",
      "topic_52: культура результат заниматься хороший образование научный ученый тема интересный знание\n",
      "topic_40: проект часть днк место пользователь использовать возможность интернет решение вид\n",
      "topic_44: интернет результат возможность простой работать вид создавать проект нужный программа\n",
      "topic_28: эволюция антропология экология геология микробиология вид homo животное палеонтология речь\n",
      "topic_63: религия музыка германия европа мезоамерика глобализация империя африка страна идеология\n",
      "topic_16: клетка медицина биомедицина использовать данные позволять информация уровень часть молекула\n"
     ]
    }
   ],
   "source": [
    "print(\"\\n\".join([k + \": \" + \" \".join(v) for k, v in level1.score_tracker[\"Top10Tokens\"].last_tokens.items()]))"
   ]
  },
  {
   "cell_type": "code",
   "execution_count": 23,
   "metadata": {
    "collapsed": false,
    "deletable": true,
    "editable": true
   },
   "outputs": [
    {
     "data": {
      "text/plain": [
       "0.9543054699897766"
      ]
     },
     "execution_count": 23,
     "metadata": {},
     "output_type": "execute_result"
    }
   ],
   "source": [
    "level0.score_tracker[\"Top10Tokens\"].last_average_coherence"
   ]
  },
  {
   "cell_type": "code",
   "execution_count": 24,
   "metadata": {
    "collapsed": false,
    "deletable": true,
    "editable": true
   },
   "outputs": [
    {
     "data": {
      "text/plain": [
       "0.8893764615058899"
      ]
     },
     "execution_count": 24,
     "metadata": {},
     "output_type": "execute_result"
    }
   ],
   "source": [
    "level1.score_tracker[\"Top10Tokens\"].last_average_coherence"
   ]
  },
  {
   "cell_type": "code",
   "execution_count": 25,
   "metadata": {
    "collapsed": false,
    "deletable": true,
    "editable": true
   },
   "outputs": [
    {
     "name": "stdout",
     "output_type": "stream",
     "text": [
      "CPU times: user 3.44 s, sys: 323 ms, total: 3.77 s\n",
      "Wall time: 4.39 s\n"
     ]
    }
   ],
   "source": [
    "%%time\n",
    "\n",
    "docs_lengths = {}\n",
    "\n",
    "for doc in map(get_document, docs_ids):\n",
    "    docs_lengths[doc[\"_id\"]] = len(doc[\"modalities\"][\"text\"])"
   ]
  },
  {
   "cell_type": "code",
   "execution_count": 26,
   "metadata": {
    "collapsed": false,
    "deletable": true,
    "editable": true
   },
   "outputs": [
    {
     "data": {
      "image/png": "[encoded data removed]",
      "text/plain": [
       "<matplotlib.figure.Figure at 0x7f122b38f6d8>"
      ]
     },
     "metadata": {},
     "output_type": "display_data"
    }
   ],
   "source": [
    "theta0 = level0.get_theta()\n",
    "\n",
    "docs_lengths_series = pd.Series(docs_lengths)\n",
    "pn_docs_ids = list(filter(lambda doc_id: doc_id.startswith(\"pn_\"), docs_ids))\n",
    "n_pn_topics = theta0[pn_docs_ids].dot(docs_lengths_series.loc[pn_docs_ids])\n",
    "n_topics = theta0.dot(docs_lengths_series)\n",
    "n_topics /= n_topics.sum()\n",
    "\n",
    "plt.figure(figsize=(12, 8))\n",
    "plt.scatter(n_topics[:-1], n_pn_topics[:-1])\n",
    "plt.xlabel(\"$p(t)$\")\n",
    "plt.ylabel(\"$n_t^{ПН}$\")\n",
    "#plt.xlim([0, 0.02])\n",
    "#plt.ylim([0, 25000])\n",
    "plt.show()"
   ]
  },
  {
   "cell_type": "code",
   "execution_count": 27,
   "metadata": {
    "collapsed": false,
    "deletable": true,
    "editable": true
   },
   "outputs": [
    {
     "data": {
      "image/png": "[encoded data removed]",
      "text/plain": [
       "<matplotlib.figure.Figure at 0x7f122b319908>"
      ]
     },
     "metadata": {},
     "output_type": "display_data"
    }
   ],
   "source": [
    "theta1 = level1.get_theta()\n",
    "\n",
    "docs_lengths_series = pd.Series(docs_lengths)\n",
    "pn_docs_ids = list(filter(lambda doc_id: doc_id.startswith(\"pn_\"), docs_ids))\n",
    "n_pn_topics = theta1[pn_docs_ids].dot(docs_lengths_series.loc[pn_docs_ids])\n",
    "n_topics = theta1.dot(docs_lengths_series)\n",
    "n_topics /= n_topics.sum()\n",
    "\n",
    "plt.figure(figsize=(12, 8))\n",
    "plt.scatter(n_topics, n_pn_topics)\n",
    "plt.xlabel(\"$p(t)$\")\n",
    "plt.ylabel(\"$n_t^{ПН}$\")\n",
    "#plt.xlim([0, 0.02])\n",
    "#plt.ylim([0, 25000])\n",
    "plt.show()"
   ]
  },
  {
   "cell_type": "markdown",
   "metadata": {
    "deletable": true,
    "editable": true
   },
   "source": [
    "### Базовый алгоритм"
   ]
  },
  {
   "cell_type": "code",
   "execution_count": 20,
   "metadata": {
    "collapsed": false,
    "deletable": true,
    "editable": true
   },
   "outputs": [
    {
     "data": {
      "text/plain": [
       "[4963.209150427969,\n",
       " 4808.3937992762585,\n",
       " 4711.4371450207145,\n",
       " 4646.651873869753,\n",
       " 4600.3827374075645]"
      ]
     },
     "execution_count": 20,
     "metadata": {},
     "output_type": "execute_result"
    }
   ],
   "source": [
    "level0.score_tracker[\"PerplexityScore\"].value[-5:]"
   ]
  },
  {
   "cell_type": "code",
   "execution_count": 21,
   "metadata": {
    "collapsed": false,
    "deletable": true,
    "editable": true
   },
   "outputs": [
    {
     "data": {
      "text/plain": [
       "[6624.167808136472,\n",
       " 6134.6832006310515,\n",
       " 5386.398648030325,\n",
       " 4617.887055931921,\n",
       " 4067.6294210970304]"
      ]
     },
     "execution_count": 21,
     "metadata": {},
     "output_type": "execute_result"
    }
   ],
   "source": [
    "level1.score_tracker[\"PerplexityScore\"].value[-5:]"
   ]
  },
  {
   "cell_type": "code",
   "execution_count": 22,
   "metadata": {
    "collapsed": false,
    "deletable": true,
    "editable": true
   },
   "outputs": [
    {
     "name": "stdout",
     "output_type": "stream",
     "text": [
      "topic_10: волна частота свет материал квантовый магнитный ток сигнал двигатель использовать\n",
      "topic_1: частица энергия физика квантовый взаимодействие поле кварк пространство свойство атом\n",
      "topic_4: клетка заболевание болезнь пациент препарат лечение врач организм мозг медицина\n",
      "topic_14: клетка ген организм белок растение вид вода днк молекула эволюция\n",
      "topic_12: социальный политический общество фильм отношение философия социология пространство право смысл\n",
      "topic_7: звезда галактика вселенная дыра черный объект масса излучение телескоп энергия\n",
      "topic_6: игра страна рынок игрок экономический экономика деньги компания цена банк\n",
      "topic_3: ребенок поведение психология задача внимание группа мышление эмоция способность животное\n",
      "topic_8: файл код данные приложение использовать сервер пользователь версия запрос создавать\n",
      "background_0: работать проект использовать задача хороший возможность информация давать пользователь решение\n",
      "topic_9: город пространство городской ключ центр место здание данные акция архитектура\n",
      "topic_13: компания право интернет пользователь бизнес деньги сеть услуга реклама сервис\n",
      "topic_5: планета земля устройство датчик питание космический камера корпус плата скорость\n",
      "topic_2: русский текст словарь речь английский языковой буква предложение глагол лингвист\n",
      "topic_11: игра музыка студент приложение звук курс уровень образование обучение игрок\n",
      "topic_16: культура традиция миф греческий христианский вид текст муравей сага фольклор\n",
      "topic_17: ген клетка днк мутация генетический игра организм жить старение рука\n",
      "topic_0: война власть политический страна русский государство исторический россия революция советский\n",
      "topic_15: значение объект функция число алгоритм мозг метод точка память нейрон\n",
      "topic_18: культура научный университет образование школа ученый общество советский социальный знание\n"
     ]
    }
   ],
   "source": [
    "print(\"\\n\".join([k + \": \" + \" \".join(v) for k, v in level0.score_tracker[\"Top10Tokens\"].last_tokens.items()]))"
   ]
  },
  {
   "cell_type": "code",
   "execution_count": 23,
   "metadata": {
    "collapsed": false,
    "deletable": true,
    "editable": true
   },
   "outputs": [
    {
     "name": "stdout",
     "output_type": "stream",
     "text": [
      "topic_10: работать математика использовать приложение проект сша пользователь создавать данные команда\n",
      "topic_55: физика оптика сверхпроводимость свет лазер электрон gps микроскопия нанофотоника космонавтика\n",
      "topic_67: использовать математика работать днк сторона заниматься статья пользователь хотеть находить\n",
      "topic_59: психология мышление принятие внимание личность психика этология физиология поведение творчество\n",
      "topic_22: математика работать элемент данные информация функция позволять число следующий простой\n",
      "topic_72: психология мышление этология зоология физиология внимание стресс психотерапия психоанализ депрессия\n",
      "topic_63: страна государство второй сторона конец россия европа ситуация идея развитие\n",
      "topic_65: медицина климат клетка иммунология рим болезнь иммунитет античность кардиология неврология\n",
      "topic_45: физика эволюция достаточно математика различный работать модель возникать второй находить\n",
      "topic_36: работать устройство математика сторона данные информация решать решение результат позволять\n",
      "topic_53: средневековье китай война европа япония ссср франция религия национализм папство\n",
      "topic_20: космос земля планета марс луна гравитация геометрия метеорит датчик плата\n",
      "topic_75: астрофизика галактика космология искусство материя звезда телескоп черный дыра радиоастрономия\n",
      "topic_38: социология философия общество политика идентичность кино кинематограф политология социальный демократия\n",
      "topic_15: мозг память интеллект нейрон робототехника робот значение алгоритм объект функция\n",
      "topic_54: город география архитектура москва сообщество коммуникация лептон сейсмология геология сеть\n",
      "topic_73: сша код сервер мотивация файл медиа детство данные модуль использовать\n",
      "topic_9: криптография город архитектура москва коммуникация география транспорт пространство сообщество модель\n",
      "topic_64: интернет дизайн право компания проект реклама бизнес пользователь сервис сеть\n",
      "topic_12: дизайн интернет проект работать данные создавать сеть продукт бизнес ресурс\n",
      "topic_68: хотеть хороший часть работать программа статья идея результат второй пользователь\n",
      "topic_28: молекула микробиология антропология эволюция речь экология земля геология биохимия вид\n",
      "topic_50: физика химия частица коллайдер атом кварк энергия германия механика энергетика\n",
      "topic_71: россия экономика государство рынок игра игрок деньги банк топология индия\n",
      "topic_32: писать часть написать форма математика решение работать хороший заниматься последний\n",
      "topic_69: математика использовать биомедицина задача электроника количество работать хороший помощь пример\n",
      "topic_5: астрофизика гравитация материя телескоп результат объект скорость наблюдение звезда газ\n",
      "topic_21: устройство земля использовать часть работать солнце текст идти создавать появляться\n",
      "topic_35: эволюция микробиология вид антропология клетка палеонтология пользователь днк находить работать\n",
      "topic_44: интернет закон возможность право клиент создавать результат проект сеть работать\n",
      "topic_49: математика проект пользователь задача хороший эволюция статья давать результат программа\n",
      "topic_43: сша приложение использовать пример создавать клетка файл математика метод часть\n",
      "topic_29: использовать код сша физика возможность приложение медиа электроника поле простой\n",
      "topic_61: данный пример позволять давать решение пользователь следующий днк результат правило\n",
      "topic_1: ссср религия война средневековье христианство китай франция русь англия европа\n",
      "topic_14: математика задача проект решение работать эволюция часть клетка хороший вид\n",
      "topic_26: европа политический общество средневековье китай христианство событие сторона начало имя\n",
      "topic_52: результат проект хороший часть работать заниматься клетка часто представлять идея\n",
      "topic_48: математика устройство информация часть возможность давать решение момент космонавтика количество\n",
      "topic_27: мифология фольклор миф греция фольклористика христианство письменность античность скандинавия византия\n",
      "topic_6: клетка результат хотеть количество математика проект работать общий вид решать\n",
      "topic_3: эволюция микробиология антропология экология работать проект клетка палеоботаника рнк молекула\n",
      "topic_74: математика днк работать создавать решать находить данный нужный хороший клетка\n",
      "topic_8: файл код сша данные использовать приложение медиа детство запрос гмо\n",
      "topic_16: сша данные приложение использовать файл сервер пользователь мотивация возможность запрос\n",
      "topic_56: математика проект информация данные возможность работать клиент пользователь хороший компания\n",
      "topic_4: медицина рим платон аристотель иммунитет вирус клетка сократ кардиология империя\n",
      "topic_17: литература старение мутация днк белок праздник смерть поэзия обряд фармакология\n",
      "topic_18: общество государство социальный идея отношение политический понятие смысл иной хороший\n",
      "topic_41: солнце космос земля марс гравитация космонавтика атмосфера луна станция диск\n",
      "topic_19: математика проект работать хороший клетка биоинформатика решение задача опыт количество\n",
      "topic_46: число задача часть использовать операция функция элемент значение робот простой\n",
      "topic_57: проект работать давать решение использовать достаточно информация задача пользователь создавать\n",
      "topic_30: россия экономика государство рынок игра капитал класс страна топология экономический\n",
      "topic_47: антропология днк микробиология клетка группа экология жить эволюция рнк результат\n",
      "topic_24: литература логика ритуал днк мутация старение давать рак клетка смерть\n",
      "topic_58: лингвистика речь грамматика кавказ археология словарь русский диалект фонетика языкознание\n",
      "topic_31: использовать данные позволять медиа тип помощь речь создавать использование результат\n",
      "topic_7: физика биомедицина материаловедение электрон поле химия свойство структура пространство симметрия\n",
      "topic_60: математика хотеть давать хороший эволюция пользователь решение антропология часть решать\n",
      "topic_70: христианство клонирование традиция текст мифология миф имя гомер народ сторона\n",
      "topic_39: россия страна компания государство часть решение революция идея начало внимание\n",
      "topic_33: днк клетка математика задача решение позволять место момент нужный мало\n",
      "topic_66: математика проект пользователь компания давать хороший позволять пример интернет клиент\n",
      "topic_23: политика социология философия политология россия общество кино экономика миграция демократия\n",
      "topic_25: инфляция астрофизика искусство галактика объект квазар основной проект звездный пользователь\n",
      "topic_11: образование музыка африка европа игра историография глобализация библиотека мезоамерика терроризм\n",
      "topic_37: антропология микробиология экология эволюция палеонтология геология молекула homo рнк биохимия\n",
      "topic_62: физика материаловедение свет электрон биомедицина химия симметрия электроника оптика энергия\n",
      "topic_2: культура университет школа антропология власть театр ссср ислам этнография марксизм\n",
      "topic_13: право интернет реклама дизайн закон компания революция услуга бизнес космонавтика\n",
      "topic_42: работать пользователь днк информация клетка статья клиент продукт возможность компания\n",
      "topic_34: общество школа культура знание социальный университет власть представление кино общественный\n",
      "topic_40: земля проект космос устройство днк питание часть использовать солнце космический\n",
      "topic_0: германия европа средневековье война религия христианство майя ссср китай страна\n",
      "topic_51: проект задача возможность работать хотеть уровень данный решение достаточно решать\n"
     ]
    }
   ],
   "source": [
    "print(\"\\n\".join([k + \": \" + \" \".join(v) for k, v in level1.score_tracker[\"Top10Tokens\"].last_tokens.items()]))"
   ]
  },
  {
   "cell_type": "code",
   "execution_count": 24,
   "metadata": {
    "collapsed": false,
    "deletable": true,
    "editable": true
   },
   "outputs": [
    {
     "data": {
      "text/plain": [
       "0.9703855514526367"
      ]
     },
     "execution_count": 24,
     "metadata": {},
     "output_type": "execute_result"
    }
   ],
   "source": [
    "level0.score_tracker[\"Top10Tokens\"].last_average_coherence"
   ]
  },
  {
   "cell_type": "code",
   "execution_count": 25,
   "metadata": {
    "collapsed": false,
    "deletable": true,
    "editable": true
   },
   "outputs": [
    {
     "data": {
      "text/plain": [
       "0.879889726638794"
      ]
     },
     "execution_count": 25,
     "metadata": {},
     "output_type": "execute_result"
    }
   ],
   "source": [
    "level1.score_tracker[\"Top10Tokens\"].last_average_coherence"
   ]
  },
  {
   "cell_type": "code",
   "execution_count": 25,
   "metadata": {
    "collapsed": false,
    "deletable": true,
    "editable": true
   },
   "outputs": [
    {
     "name": "stdout",
     "output_type": "stream",
     "text": [
      "CPU times: user 3.11 s, sys: 279 ms, total: 3.39 s\n",
      "Wall time: 3.86 s\n"
     ]
    }
   ],
   "source": [
    "%%time\n",
    "\n",
    "docs_lengths = {}\n",
    "\n",
    "for doc in map(get_document, docs_ids):\n",
    "    docs_lengths[doc[\"_id\"]] = len(doc[\"modalities\"][\"text\"])"
   ]
  },
  {
   "cell_type": "code",
   "execution_count": 26,
   "metadata": {
    "collapsed": false,
    "deletable": true,
    "editable": true
   },
   "outputs": [
    {
     "data": {
      "image/png": "[encoded data removed]",
      "text/plain": [
       "<matplotlib.figure.Figure at 0x7faa1463e940>"
      ]
     },
     "metadata": {},
     "output_type": "display_data"
    }
   ],
   "source": [
    "theta0 = level0.get_theta()\n",
    "\n",
    "docs_lengths_series = pd.Series(docs_lengths)\n",
    "pn_docs_ids = list(filter(lambda doc_id: doc_id.startswith(\"pn_\"), docs_ids))\n",
    "n_pn_topics = theta0[pn_docs_ids].dot(docs_lengths_series.loc[pn_docs_ids])\n",
    "n_topics = theta0.dot(docs_lengths_series)\n",
    "n_topics /= n_topics.sum()\n",
    "\n",
    "plt.figure(figsize=(12, 8))\n",
    "plt.scatter(n_topics[:-1], n_pn_topics[:-1])\n",
    "plt.xlabel(\"$p(t)$\")\n",
    "plt.ylabel(\"$n_t^{ПН}$\")\n",
    "#plt.xlim([0, 0.02])\n",
    "#plt.ylim([0, 25000])\n",
    "plt.show()"
   ]
  },
  {
   "cell_type": "code",
   "execution_count": 27,
   "metadata": {
    "collapsed": false,
    "deletable": true,
    "editable": true
   },
   "outputs": [
    {
     "data": {
      "image/png": "[encoded data removed]",
      "text/plain": [
       "<matplotlib.figure.Figure at 0x7fa9b84bf630>"
      ]
     },
     "metadata": {},
     "output_type": "display_data"
    }
   ],
   "source": [
    "theta1 = level1.get_theta()\n",
    "\n",
    "docs_lengths_series = pd.Series(docs_lengths)\n",
    "pn_docs_ids = list(filter(lambda doc_id: doc_id.startswith(\"pn_\"), docs_ids))\n",
    "n_pn_topics = theta1[pn_docs_ids].dot(docs_lengths_series.loc[pn_docs_ids])\n",
    "n_topics = theta1.dot(docs_lengths_series)\n",
    "n_topics /= n_topics.sum()\n",
    "\n",
    "plt.figure(figsize=(12, 8))\n",
    "plt.scatter(n_topics, n_pn_topics)\n",
    "plt.xlabel(\"$p(t)$\")\n",
    "plt.ylabel(\"$n_t^{ПН}$\")\n",
    "#plt.xlim([0, 0.02])\n",
    "#plt.ylim([0, 25000])\n",
    "plt.show()"
   ]
  },
  {
   "cell_type": "markdown",
   "metadata": {
    "deletable": true,
    "editable": true
   },
   "source": [
    "**NB**: в конце провести эксперимент на перемешанном clf_output -- гипотеза о независимости качества от порядка вливания документов в ТМ."
   ]
  },
  {
   "cell_type": "markdown",
   "metadata": {
    "deletable": true,
    "editable": true
   },
   "source": [
    "---"
   ]
  },
  {
   "cell_type": "markdown",
   "metadata": {
    "deletable": true,
    "editable": true
   },
   "source": [
    "---"
   ]
  }
 ],
 "metadata": {
  "kernelspec": {
   "display_name": "Python 3",
   "language": "python",
   "name": "python3"
  },
  "language_info": {
   "codemirror_mode": {
    "name": "ipython",
    "version": 3
   },
   "file_extension": ".py",
   "mimetype": "text/x-python",
   "name": "python",
   "nbconvert_exporter": "python",
   "pygments_lexer": "ipython3",
   "version": "3.5.3"
  },
  "latex_envs": {
   "bibliofile": "biblio.bib",
   "cite_by": "apalike",
   "current_citInitial": 1,
   "eqLabelWithNumbers": true,
   "eqNumInitial": 0
  }
 },
 "nbformat": 4,
 "nbformat_minor": 2
}
