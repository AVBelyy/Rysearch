{
 "cells": [
  {
   "cell_type": "code",
   "execution_count": 1,
   "metadata": {
    "collapsed": true
   },
   "outputs": [],
   "source": [
    "import sys\n",
    "import csv\n",
    "import unicodedata\n",
    "import numpy as np\n",
    "import pandas as pd"
   ]
  },
  {
   "cell_type": "code",
   "execution_count": 2,
   "metadata": {
    "collapsed": true
   },
   "outputs": [],
   "source": [
    "from pymystem3 import Mystem\n",
    "from collections import Counter\n",
    "from multiprocessing import Pool\n",
    "from IPython.display import display\n",
    "from ipywidgets import FloatProgress\n",
    "from sklearn.pipeline import Pipeline\n",
    "from parsers.text_utils import DefaultTextProcessor, Lemmatizer"
   ]
  },
  {
   "cell_type": "code",
   "execution_count": 4,
   "metadata": {
    "collapsed": false
   },
   "outputs": [
    {
     "data": {
      "text/plain": [
       "9223372036854775807"
      ]
     },
     "execution_count": 4,
     "metadata": {},
     "output_type": "execute_result"
    }
   ],
   "source": [
    "csv.field_size_limit(sys.maxsize)"
   ]
  },
  {
   "cell_type": "markdown",
   "metadata": {},
   "source": [
    "Разобьём процесс на две части — токенизацию документов (без фильтрации) и, собственно, лемматизацию."
   ]
  },
  {
   "cell_type": "code",
   "execution_count": 29,
   "metadata": {
    "collapsed": false
   },
   "outputs": [
    {
     "name": "stdout",
     "output_type": "stream",
     "text": [
      "CPU times: user 40min 14s, sys: 29.9 s, total: 40min 44s\n",
      "Wall time: 40min 44s\n"
     ]
    }
   ],
   "source": [
    "%%time\n",
    "\n",
    "# Проделаем токенизацию с сохранением промежуточного\n",
    "# состояния в ruwiki.tonekized.csv.tmp\n",
    "\n",
    "tokenizer = DefaultTextProcessor()\n",
    "\n",
    "# 1361758 — предподсчитанное кол-во документов\n",
    "f = FloatProgress(min=0, max=1361758)\n",
    "display(f)\n",
    "\n",
    "unused_char = '\\U00037b84'\n",
    "def strip_accents(s):\n",
    "    s = s.replace(\"й\", unused_char)\n",
    "    return \"\".join((c for c in unicodedata.normalize(\"NFD\", s) if unicodedata.category(c) != \"Mn\")).replace(unused_char, \"й\")\n",
    "\n",
    "def remove_underscores(s):\n",
    "    return s.replace(\"_\", \"\")\n",
    "\n",
    "with open(\"../datasets/ruwiki/ruwiki.plain.csv\", \"r\") as infile:\n",
    "    with open(\"ruwiki.tonekized.csv.tmp\", \"w\") as outfile:\n",
    "        reader = csv.reader(infile)\n",
    "        writer = csv.writer(outfile)\n",
    "        count = 0\n",
    "        cached_rows = []\n",
    "        for title, text in reader:\n",
    "            text = strip_accents(text)\n",
    "            text = remove_underscores(text)\n",
    "            tokens = tokenizer.fit_transform(text)\n",
    "            cached_rows.append((title, \" \".join(tokens)))\n",
    "            count += 1\n",
    "            if count % 1000 == 0:\n",
    "                writer.writerows(cached_rows)\n",
    "                outfile.flush()\n",
    "                f.value += len(cached_rows)\n",
    "                cached_rows = []\n",
    "        # Запишем оставшиеся строчки\n",
    "        writer.writerows(cached_rows)\n",
    "        f.value += len(cached_rows)"
   ]
  },
  {
   "cell_type": "code",
   "execution_count": 30,
   "metadata": {
    "collapsed": false
   },
   "outputs": [
    {
     "name": "stdout",
     "output_type": "stream",
     "text": [
      "CPU times: user 5min 17s, sys: 2min 17s, total: 7min 35s\n",
      "Wall time: 3h 13min 15s\n"
     ]
    }
   ],
   "source": [
    "%%time\n",
    "\n",
    "# Теперь сделаем лемматизацию всех документов при помощи pymystem3\n",
    "# Распараллеливая процесс на N_PROCS процессоров\n",
    "\n",
    "N_PROCS = 4\n",
    "\n",
    "# 1361758 — предподсчитанное кол-во документов\n",
    "f = FloatProgress(min=0, max=1361758)\n",
    "display(f)\n",
    "\n",
    "m = Mystem()\n",
    "\n",
    "def lemmatize(text):\n",
    "    return \"\".join(m.lemmatize(text)).strip()\n",
    "\n",
    "with open(\"ruwiki.tonekized.csv.tmp\", \"r\") as infile:\n",
    "    with open(\"../datasets/ruwiki/ruwiki.lemmatized.csv\", \"w\") as outfile:\n",
    "        reader = csv.reader(infile)\n",
    "        writer = csv.writer(outfile)\n",
    "        count = 0\n",
    "        cached_titles = []\n",
    "        cached_texts = []\n",
    "        for title, text in reader:\n",
    "            cached_titles.append(title)\n",
    "            cached_texts.append(text)\n",
    "            count += 1\n",
    "            if count % 1000 == 0:\n",
    "                with Pool(N_PROCS) as p:\n",
    "                    lemmatized_texts = p.map(lemmatize, cached_texts)\n",
    "                writer.writerows(zip(cached_titles, lemmatized_texts))\n",
    "                outfile.flush()\n",
    "                f.value += len(cached_titles)\n",
    "                cached_texts = []\n",
    "                cached_titles = []\n",
    "        # Запишем оставшиеся строчки\n",
    "        with Pool(N_PROCS) as p:\n",
    "            lemmatized_texts = p.map(lemmatize, cached_texts)\n",
    "        writer.writerows(zip(cached_titles, lemmatized_texts))\n",
    "        f.value += len(cached_titles)"
   ]
  },
  {
   "cell_type": "markdown",
   "metadata": {},
   "source": [
    "Посчитаем размер словаря, из которого состоит неотфильтрованная лемматизированная выборка."
   ]
  },
  {
   "cell_type": "code",
   "execution_count": 31,
   "metadata": {
    "collapsed": false
   },
   "outputs": [
    {
     "name": "stdout",
     "output_type": "stream",
     "text": [
      "CPU times: user 31min 53s, sys: 2min 5s, total: 33min 59s\n",
      "Wall time: 31min 53s\n"
     ]
    }
   ],
   "source": [
    "%%time\n",
    "\n",
    "dictionary = Counter()\n",
    "\n",
    "# 1361758 — предподсчитанное кол-во документов\n",
    "f = FloatProgress(min=0, max=1361758)\n",
    "display(f)\n",
    "\n",
    "with open(\"../datasets/ruwiki/ruwiki.lemmatized.csv\", \"r\") as infile:\n",
    "    reader = csv.reader(infile)\n",
    "    for title, text in reader:\n",
    "        tokens = text.split()\n",
    "        dictionary.update(tokens)\n",
    "        f.value += 1"
   ]
  },
  {
   "cell_type": "code",
   "execution_count": 32,
   "metadata": {
    "collapsed": false
   },
   "outputs": [],
   "source": [
    "dict_series = pd.DataFrame.from_dict(dictionary, orient=\"index\")[0]"
   ]
  },
  {
   "cell_type": "code",
   "execution_count": 33,
   "metadata": {
    "collapsed": false
   },
   "outputs": [
    {
     "data": {
      "text/plain": [
       "3924272"
      ]
     },
     "execution_count": 33,
     "metadata": {},
     "output_type": "execute_result"
    }
   ],
   "source": [
    "len(dict_series)"
   ]
  },
  {
   "cell_type": "code",
   "execution_count": 34,
   "metadata": {
    "collapsed": false
   },
   "outputs": [
    {
     "data": {
      "text/plain": [
       "533185"
      ]
     },
     "execution_count": 34,
     "metadata": {},
     "output_type": "execute_result"
    }
   ],
   "source": [
    "(dict_series > 10).value_counts()[True]"
   ]
  },
  {
   "cell_type": "markdown",
   "metadata": {},
   "source": [
    "Будем считать, что лемма должна встретиться более 10 раз в коллекции, чтобы мы положили её в словарь. Это сократит размер словаря в 8 раз от первоначального объёма."
   ]
  },
  {
   "cell_type": "markdown",
   "metadata": {},
   "source": [
    "Посмотрим на топ-50 слов:"
   ]
  },
  {
   "cell_type": "code",
   "execution_count": 35,
   "metadata": {
    "collapsed": false
   },
   "outputs": [
    {
     "data": {
      "text/plain": [
       "Index(['в', 'и', 'год', 'на', 'с', 'быть', 'по', 'из', 'он', 'который', 'а',\n",
       "       'к', 'не', 'что', 'от', 'для', 'за', '1', 'как', 'этот', 'свой', '2',\n",
       "       'также', 'до', 'первый', 'время', 'о', 'его', 'после', 'они', '3',\n",
       "       'район', 'один', 'то', 'становиться', 'при', 'г', 'город', '5',\n",
       "       'примечание', 'ссылка', 'человек', 'м', 'тот', 'область', 'во', 'это',\n",
       "       'она', 'весь', 'но'],\n",
       "      dtype='object')"
      ]
     },
     "execution_count": 35,
     "metadata": {},
     "output_type": "execute_result"
    }
   ],
   "source": [
    "top50_words = dict_series.sort_values(ascending=False)[:50].index\n",
    "top50_words"
   ]
  },
  {
   "cell_type": "markdown",
   "metadata": {},
   "source": [
    "Слов, которые могли бы иметь выраженную тематику, здесь почти нет, зато довольно много мусорных и общих слов. Будем выбрасывать слова, входящие в этот список, из документов."
   ]
  },
  {
   "cell_type": "markdown",
   "metadata": {},
   "source": [
    "Также будем фильтровать слова по стоп-словарю."
   ]
  },
  {
   "cell_type": "code",
   "execution_count": 36,
   "metadata": {
    "collapsed": true
   },
   "outputs": [],
   "source": [
    "stop_words = set(map(str.strip, open(\"../datasets/ruwiki/stopwords.txt\").readlines()))"
   ]
  },
  {
   "cell_type": "code",
   "execution_count": 37,
   "metadata": {
    "collapsed": false
   },
   "outputs": [
    {
     "name": "stdout",
     "output_type": "stream",
     "text": [
      "CPU times: user 43min 12s, sys: 2min 23s, total: 45min 35s\n",
      "Wall time: 43min 6s\n"
     ]
    }
   ],
   "source": [
    "%%time\n",
    "\n",
    "common_words = dict_series[dict_series > 10].index\n",
    "\n",
    "# 1361758 — предподсчитанное кол-во документов\n",
    "f = FloatProgress(min=0, max=1361758)\n",
    "display(f)\n",
    "\n",
    "def accept_word(w):\n",
    "    return w not in stop_words and w not in top50_words and w in common_words\n",
    "\n",
    "with open(\"../datasets/ruwiki/ruwiki.lemmatized.csv\", \"r\") as infile:\n",
    "    with open(\"../datasets/ruwiki/ruwiki.filtered.csv\", \"w\") as outfile:\n",
    "        reader = csv.reader(infile)\n",
    "        writer = csv.writer(outfile)\n",
    "        for title, text in reader:\n",
    "            tokens = text.split()\n",
    "            writer.writerow((title, \" \".join(filter(accept_word, tokens))))\n",
    "            f.value += 1"
   ]
  },
  {
   "cell_type": "markdown",
   "metadata": {},
   "source": [
    "Наконец, превратим коллекцию с отфильтрованным словарём в файл UCI Bag-of-words."
   ]
  },
  {
   "cell_type": "markdown",
   "metadata": {},
   "source": [
    "Для начала построим словарь по отфильтрованной коллекции."
   ]
  },
  {
   "cell_type": "code",
   "execution_count": 38,
   "metadata": {
    "collapsed": false
   },
   "outputs": [
    {
     "name": "stdout",
     "output_type": "stream",
     "text": [
      "CPU times: user 29min 24s, sys: 2min 3s, total: 31min 27s\n",
      "Wall time: 29min 25s\n"
     ]
    }
   ],
   "source": [
    "%%time\n",
    "\n",
    "dictionary = set()\n",
    "bow_length = 0\n",
    "\n",
    "# 1361758 — предподсчитанное кол-во документов\n",
    "f = FloatProgress(min=0, max=1361758)\n",
    "display(f)\n",
    "\n",
    "with open(\"../datasets/ruwiki/ruwiki.filtered.csv\", \"r\") as infile:\n",
    "    reader = csv.reader(infile)\n",
    "    for title, text in reader:\n",
    "        tokens = set(text.split())\n",
    "        dictionary.update(tokens)\n",
    "        bow_length += len(tokens)\n",
    "        f.value += 1"
   ]
  },
  {
   "cell_type": "code",
   "execution_count": 39,
   "metadata": {
    "collapsed": false
   },
   "outputs": [
    {
     "data": {
      "text/plain": [
       "532345"
      ]
     },
     "execution_count": 39,
     "metadata": {},
     "output_type": "execute_result"
    }
   ],
   "source": [
    "len(dictionary)"
   ]
  },
  {
   "cell_type": "code",
   "execution_count": 40,
   "metadata": {
    "collapsed": false
   },
   "outputs": [
    {
     "data": {
      "text/plain": [
       "185333372"
      ]
     },
     "execution_count": 40,
     "metadata": {},
     "output_type": "execute_result"
    }
   ],
   "source": [
    "bow_length"
   ]
  },
  {
   "cell_type": "markdown",
   "metadata": {},
   "source": [
    "Запишем словарь в файл и переконвертируем документы."
   ]
  },
  {
   "cell_type": "code",
   "execution_count": 41,
   "metadata": {
    "collapsed": true
   },
   "outputs": [],
   "source": [
    "dict_mapping = dict(zip(dictionary, range(len(dictionary))))\n",
    "dict_ordering = sorted(zip(range(len(dictionary)), dictionary))"
   ]
  },
  {
   "cell_type": "code",
   "execution_count": 42,
   "metadata": {
    "collapsed": false
   },
   "outputs": [
    {
     "name": "stdout",
     "output_type": "stream",
     "text": [
      "CPU times: user 382 ms, sys: 11 ms, total: 393 ms\n",
      "Wall time: 393 ms\n"
     ]
    }
   ],
   "source": [
    "%%time\n",
    "\n",
    "with open(\"../datasets/ruwiki/vocab.ruwiki.csv\", \"w\") as dictfile:\n",
    "    for _, word in dict_ordering:\n",
    "        dictfile.write(\"%s text\\n\" % word)"
   ]
  },
  {
   "cell_type": "code",
   "execution_count": 47,
   "metadata": {
    "collapsed": false
   },
   "outputs": [
    {
     "name": "stdout",
     "output_type": "stream",
     "text": [
      "CPU times: user 35min 31s, sys: 2min 22s, total: 37min 53s\n",
      "Wall time: 35min 38s\n"
     ]
    }
   ],
   "source": [
    "%%time\n",
    "\n",
    "# 1361758 — предподсчитанное кол-во документов\n",
    "doc_count = 1361758\n",
    "f = FloatProgress(min=0, max=doc_count)\n",
    "display(f)\n",
    "\n",
    "with open(\"../datasets/ruwiki/docword.ruwiki.csv\", \"w\") as docwordfile:\n",
    "    docwordfile.write(\"%d\\n%d\\n%d\\n\" % (len(dictionary), doc_count, bow_length))\n",
    "    with open(\"../datasets/ruwiki/ruwiki.filtered.csv\", \"r\") as infile:\n",
    "        reader = csv.reader(infile)\n",
    "        for docID, (title, text) in enumerate(reader):\n",
    "            for word, count in Counter(text.split()).items():\n",
    "                docwordfile.write(\"%d %d %d\\n\" % (docID + 1, dict_mapping[word], count))\n",
    "            f.value += 1"
   ]
  },
  {
   "cell_type": "markdown",
   "metadata": {},
   "source": [
    "---"
   ]
  }
 ],
 "metadata": {
  "kernelspec": {
   "display_name": "Python 3",
   "language": "python",
   "name": "python3"
  },
  "language_info": {
   "codemirror_mode": {
    "name": "ipython",
    "version": 3
   },
   "file_extension": ".py",
   "mimetype": "text/x-python",
   "name": "python",
   "nbconvert_exporter": "python",
   "pygments_lexer": "ipython3",
   "version": "3.5.2"
  },
  "latex_envs": {
   "bibliofile": "biblio.bib",
   "cite_by": "apalike",
   "current_citInitial": 1,
   "eqLabelWithNumbers": true,
   "eqNumInitial": 0
  }
 },
 "nbformat": 4,
 "nbformat_minor": 0
}
